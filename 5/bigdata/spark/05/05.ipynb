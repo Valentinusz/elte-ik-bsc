{
 "cells": [
  {
   "cell_type": "markdown",
   "id": "ba95b11b-4df7-4c12-b2e7-1bf0f41129a0",
   "metadata": {},
   "source": [
    "# Spark\n",
    "\n",
    "Hadoop Mapreduce nem elég rugalmas nem teszi lehetővé több map és több reduce egymás utáni futtatását. Magas szintű könyvtár klaszteren kersztüli adatfeldolgozáshoz. Több nyelven is elérhető: scala, python, java. "
   ]
  },
  {
   "cell_type": "code",
   "execution_count": 2,
   "id": "7e404383-b453-4f23-9480-daffffe7c520",
   "metadata": {
    "ExecuteTime": {
     "end_time": "2023-11-15T21:42:49.556464300Z",
     "start_time": "2023-11-15T21:42:45.705548100Z"
    }
   },
   "outputs": [],
   "source": [
    "from pyspark import SparkConf, SparkContext \n",
    "\n",
    "conf = SparkConf() \n",
    "sc = SparkContext(conf=conf)"
   ]
  },
  {
   "cell_type": "markdown",
   "source": [
    "A következő kódrészlettel ellenőrizhető sikerült-e a Spark telepítése."
   ],
   "metadata": {
    "collapsed": false
   },
   "id": "9ac00c0ac541b22"
  },
  {
   "cell_type": "code",
   "execution_count": 3,
   "id": "ac782b5a-1abc-4b9c-9501-d893fd22c213",
   "metadata": {
    "ExecuteTime": {
     "end_time": "2023-11-15T21:42:57.010010200Z",
     "start_time": "2023-11-15T21:42:55.389463400Z"
    }
   },
   "outputs": [
    {
     "name": "stdout",
     "output_type": "stream",
     "text": [
      "Működik a Spark\n"
     ]
    }
   ],
   "source": [
    "x = \"MWűGkyösdwinko Qau fSJpDaTrykv!w\"\n",
    "\n",
    "rdd = sc.parallelize([x[i:i+2] for i in range(0, len(x)-2, 2)], 2)\n",
    "res = rdd.map(lambda item: item[0]).collect()\n",
    "\n",
    "print(\"\".join(res))"
   ]
  },
  {
   "cell_type": "markdown",
   "source": [
    "A spark alapját az RDD nevű adatszerkezet képezi. Ez egy egyszerű interfészen át teszi lehetővé az adatok elosztott feldolgozását."
   ],
   "metadata": {
    "collapsed": false
   },
   "id": "a1caa0b502bfb6e1"
  },
  {
   "cell_type": "markdown",
   "source": [
    "RDD-t létrehozhatunk például meglévő Python szekvenciákból (pl. lista):"
   ],
   "metadata": {
    "collapsed": false
   },
   "id": "955b218a4a8e4f07"
  },
  {
   "cell_type": "code",
   "execution_count": 4,
   "id": "80338db2-9704-4290-8ef4-5e5f8ae0f460",
   "metadata": {
    "ExecuteTime": {
     "end_time": "2023-11-15T21:46:51.800246800Z",
     "start_time": "2023-11-15T21:46:51.769455500Z"
    }
   },
   "outputs": [
    {
     "data": {
      "text/plain": "ParallelCollectionRDD[2] at readRDDFromFile at PythonRDD.scala:289"
     },
     "execution_count": 4,
     "metadata": {},
     "output_type": "execute_result"
    }
   ],
   "source": [
    "rdd = sc.parallelize([1, 2, 4, 6, 7, 2, 4, 6, 5], 3)\n",
    "\n",
    "rdd"
   ]
  },
  {
   "cell_type": "markdown",
   "source": [
    "Az RDD a klaszter több részén elosztva kerül tárolásra és feldolgozára. Az adatok egy olyan csoportját melyek biztosan azonos gépen vannak partíciónak nevezünk."
   ],
   "metadata": {
    "collapsed": false
   },
   "id": "1a511b48079fe2f1"
  },
  {
   "cell_type": "code",
   "execution_count": null,
   "outputs": [],
   "source": [
    "rdd.getNumPartitions() # partíciók számának lekérése"
   ],
   "metadata": {
    "collapsed": false
   },
   "id": "5f2e64fc8dd2780d"
  },
  {
   "cell_type": "markdown",
   "source": [
    "Az RDD adatai újraoszthatók."
   ],
   "metadata": {
    "collapsed": false
   },
   "id": "817aafd5b63c4754"
  },
  {
   "cell_type": "code",
   "execution_count": 5,
   "id": "a5cb5e8a-09d6-456b-bccd-0f4d6eb37dc1",
   "metadata": {
    "ExecuteTime": {
     "end_time": "2023-11-15T21:48:52.061444100Z",
     "start_time": "2023-11-15T21:48:52.004659Z"
    }
   },
   "outputs": [
    {
     "data": {
      "text/plain": "5"
     },
     "execution_count": 5,
     "metadata": {},
     "output_type": "execute_result"
    }
   ],
   "source": [
    "rdd2 = rdd.repartition(5)\n",
    "rdd2.getNumPartitions()"
   ]
  },
  {
   "cell_type": "markdown",
   "source": [
    "Az RDD műveteit két csoportba soroljuk:\n",
    "- transzformáció: új RDD-t adnak vissza\n",
    "- akció: valami nem RDD jellegű adatot adnak vissza "
   ],
   "metadata": {
    "collapsed": false
   },
   "id": "5d99a9a000268c04"
  },
  {
   "cell_type": "code",
   "execution_count": 6,
   "id": "00c2d7db-2bfa-4b33-b61a-d0f8d8e377d5",
   "metadata": {
    "ExecuteTime": {
     "end_time": "2023-11-15T21:53:41.487115Z",
     "start_time": "2023-11-15T21:53:41.435116200Z"
    }
   },
   "outputs": [
    {
     "data": {
      "text/plain": "[1, 2, 4, 6, 7, 2, 4, 6, 5]"
     },
     "execution_count": 6,
     "metadata": {},
     "output_type": "execute_result"
    }
   ],
   "source": [
    "rdd.collect() # adatok összegyűjtése (akció)"
   ]
  },
  {
   "cell_type": "code",
   "execution_count": 7,
   "id": "eaaca4bb-fe02-4bcd-a3a3-01551c6bd88b",
   "metadata": {
    "ExecuteTime": {
     "end_time": "2023-11-15T21:53:43.850242Z",
     "start_time": "2023-11-15T21:53:42.140653700Z"
    }
   },
   "outputs": [
    {
     "data": {
      "text/plain": "9"
     },
     "execution_count": 7,
     "metadata": {},
     "output_type": "execute_result"
    }
   ],
   "source": [
    "rdd.count() # adatok megszámlálása (akció)"
   ]
  },
  {
   "cell_type": "code",
   "execution_count": 8,
   "id": "d556362b-97a7-4234-8028-e1c885acace9",
   "metadata": {
    "ExecuteTime": {
     "end_time": "2023-11-15T21:53:48.832013500Z",
     "start_time": "2023-11-15T21:53:47.586731Z"
    }
   },
   "outputs": [
    {
     "data": {
      "text/plain": "[1, 2, 4, 6, 7]"
     },
     "execution_count": 8,
     "metadata": {},
     "output_type": "execute_result"
    }
   ],
   "source": [
    "rdd.take(5) # első n elem összegyűjtése (akció)"
   ]
  },
  {
   "cell_type": "code",
   "execution_count": 9,
   "id": "a766d354-4fb9-45e3-99b0-f376aed9f028",
   "metadata": {
    "ExecuteTime": {
     "end_time": "2023-11-15T21:57:36.209777800Z",
     "start_time": "2023-11-15T21:57:34.606396300Z"
    }
   },
   "outputs": [
    {
     "data": {
      "text/plain": "24"
     },
     "execution_count": 9,
     "metadata": {},
     "output_type": "execute_result"
    }
   ],
   "source": [
    "rdd.filter(lambda number: number % 2 == 0)\\\n",
    "    .reduce(lambda acc, curr: acc + curr)\n",
    "\n",
    "# filter szűrés (transzformáció)\n",
    "# reduce hajtogatás (akció)"
   ]
  },
  {
   "cell_type": "code",
   "execution_count": 10,
   "id": "1109ae48-23b9-4bb1-a014-3c9b18ae9adf",
   "metadata": {
    "ExecuteTime": {
     "end_time": "2023-11-15T22:05:06.459917300Z",
     "start_time": "2023-11-15T22:05:06.355690700Z"
    }
   },
   "outputs": [],
   "source": [
    "text = sc.textFile('alkotmany.txt') # fájlbeolvasás"
   ]
  },
  {
   "cell_type": "code",
   "execution_count": 11,
   "id": "9d542b9c-839e-4fe2-a237-1b07eb7743df",
   "metadata": {
    "ExecuteTime": {
     "end_time": "2023-11-15T22:05:07.010676900Z",
     "start_time": "2023-11-15T22:05:07.006459400Z"
    }
   },
   "outputs": [
    {
     "data": {
      "text/plain": "alkotmany.txt MapPartitionsRDD[13] at textFile at NativeMethodAccessorImpl.java:0"
     },
     "execution_count": 11,
     "metadata": {},
     "output_type": "execute_result"
    }
   ],
   "source": [
    "text"
   ]
  },
  {
   "cell_type": "code",
   "execution_count": 12,
   "id": "06a80219-8e18-4e53-94ee-37d31c69af7a",
   "metadata": {
    "ExecuteTime": {
     "end_time": "2023-11-15T22:05:09.296530500Z",
     "start_time": "2023-11-15T22:05:08.540519Z"
    }
   },
   "outputs": [
    {
     "data": {
      "text/plain": "['Mi, a magyar nemzet tagjai, az új évezred kezdetén, felelősséggel minden magyarért, kinyilvánítjuk az alábbiakat:',\n 'Büszkék vagyunk arra, hogy Szent István királyunk ezer évvel ezelőtt szilárd alapokra helyezte a magyar államot, és hazánkat a keresztény Európa részévé tette.']"
     },
     "execution_count": 12,
     "metadata": {},
     "output_type": "execute_result"
    }
   ],
   "source": [
    "text.take(2)"
   ]
  },
  {
   "cell_type": "markdown",
   "source": [
    "Grep:"
   ],
   "metadata": {
    "collapsed": false
   },
   "id": "cb6db4abd4f8cad"
  },
  {
   "cell_type": "code",
   "execution_count": 13,
   "id": "ef97696f-5bdb-48df-8f04-580de4618ea9",
   "metadata": {
    "ExecuteTime": {
     "end_time": "2023-11-15T22:05:17.833472400Z",
     "start_time": "2023-11-15T22:05:16.698618600Z"
    }
   },
   "outputs": [
    {
     "data": {
      "text/plain": "['Mi, a magyar nemzet tagjai, az új évezred kezdetén, felelősséggel minden magyarért, kinyilvánítjuk az alábbiakat:',\n 'Büszkék vagyunk arra, hogy Szent István királyunk ezer évvel ezelőtt szilárd alapokra helyezte a magyar államot, és hazánkat a keresztény Európa részévé tette.',\n 'Büszkék vagyunk a magyar emberek nagyszerű szellemi alkotásaira.',\n 'Ígérjük, hogy megőrizzük az elmúlt évszázad viharaiban részekre szakadt nemzetünk szellemi és lelki egységét. Kinyilvánítjuk, hogy a velünk élő nemzetiségek a magyar politikai közösség részei és államalkotó tényezők.',\n 'Vállaljuk, hogy örökségünket, egyedülálló nyelvünket, a magyar kultúrát, a magyarországi nemzetiségek nyelvét és kultúráját, a Kárpát-medence természet adta és ember alkotta értékeit ápoljuk és megóvjuk. Felelősséget viselünk utódainkért, ezért anyagi, szellemi és természeti erőforrásaink gondos használatával védelmezzük az utánunk jövő nemzedékek életfeltételeit.',\n 'Nem ismerjük el történeti alkotmányunk idegen megszállások miatt bekövetkezett felfüggesztését. Tagadjuk a magyar nemzet és polgárai ellen a nemzetiszocialista és a kommunista diktatúra uralma alatt elkövetett embertelen bűnök elévülését.',\n 'Alaptörvényünk jogrendünk alapja, szövetség a múlt, a jelen és a jövő magyarjai között. Élő keret, amely kifejezi a nemzet akaratát, azt a formát, amelyben élni szeretnénk.']"
     },
     "execution_count": 13,
     "metadata": {},
     "output_type": "execute_result"
    }
   ],
   "source": [
    "search_for = 'magyar'\n",
    "text.filter(lambda line: search_for in line).collect()"
   ]
  },
  {
   "cell_type": "markdown",
   "source": [
    "Wordcount:"
   ],
   "metadata": {
    "collapsed": false
   },
   "id": "7cd6f457b08aba4f"
  },
  {
   "cell_type": "code",
   "execution_count": 34,
   "id": "6142410d-ff07-4d00-bf14-2a1f37e971b6",
   "metadata": {},
   "outputs": [
    {
     "data": {
      "text/plain": [
       "['Mi,', 'a']"
      ]
     },
     "execution_count": 34,
     "metadata": {},
     "output_type": "execute_result"
    }
   ],
   "source": [
    "text.flatMap(lambda line: line.split(\" \")).take(2) # flatMap (transzformáció) egy tömböt visszaadó függvényt vár, az össze futtatás tömbjeinek uniójából fog állni a visszaadott RDD"
   ]
  },
  {
   "cell_type": "markdown",
   "source": [
    "A `reduceByKey()` kulcs érték párokból `tuple[K, V]` álló RDD-t vár. Redukciót végez a megadott `V->V` függvény alapján. Egy redukcióban csak azonos kulcsú párok szerepelnek. Egy új RDD-t ad vissza, amiben az összesített kulcs érték párok szerepelnek. Lényegében a MapReduce."
   ],
   "metadata": {
    "collapsed": false
   },
   "id": "f5df70078cb2da79"
  },
  {
   "cell_type": "code",
   "execution_count": 39,
   "id": "3e2b28e2-5e62-466b-80f9-7ddada28a466",
   "metadata": {},
   "outputs": [
    {
     "data": {
      "text/plain": [
       "[('a', 41),\n",
       " ('és', 24),\n",
       " ('az', 19),\n",
       " ('hogy', 17),\n",
       " ('valljuk,', 8),\n",
       " ('magyar', 6),\n",
       " ('nemzet', 5),\n",
       " ('szellemi', 4),\n",
       " ('büszkék', 4),\n",
       " ('vagyunk', 4)]"
      ]
     },
     "execution_count": 39,
     "metadata": {},
     "output_type": "execute_result"
    }
   ],
   "source": [
    "text.flatMap(lambda line: line.split(\" \"))\\\n",
    ".map(lambda word: (word.replace(''), 1))\\\n",
    ".reduceByKey(lambda count, current: count + current)\\\n",
    ".sortBy(lambda t: t[1], ascending=False)\\\n",
    ".take(10)"
   ]
  },
  {
   "cell_type": "markdown",
   "source": [
    "A `sortBy()` egy `T` típusú elemeket tartalmazó RDD-t rendez. A megadott `T->S` függvény alapján. Ez a függvény adja meg hogy az összehasonlításnál minden rekord milyen értékkel szerepeljen."
   ],
   "metadata": {
    "collapsed": false
   },
   "id": "e6c7e622fab19973"
  }
 ],
 "metadata": {
  "kernelspec": {
   "display_name": "Python 3 (ipykernel)",
   "language": "python",
   "name": "python3"
  },
  "language_info": {
   "codemirror_mode": {
    "name": "ipython",
    "version": 3
   },
   "file_extension": ".py",
   "mimetype": "text/x-python",
   "name": "python",
   "nbconvert_exporter": "python",
   "pygments_lexer": "ipython3",
   "version": "3.11.5"
  }
 },
 "nbformat": 4,
 "nbformat_minor": 5
}
