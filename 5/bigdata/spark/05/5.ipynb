{
 "cells": [
  {
   "cell_type": "markdown",
   "id": "ba95b11b-4df7-4c12-b2e7-1bf0f41129a0",
   "metadata": {},
   "source": [
    "# Spark\n",
    "\n",
    "Hadoop Mapreduce nem elég rugalmas, túl sok kódot kell írni. Spark egy magasabb szintű megoldás az eloszott adatfeldolgozáshoz."
   ]
  },
  {
   "cell_type": "markdown",
   "source": [
    "A spark legalapabb adatmanipuláló eszköze az RDD (Resilient Distributed Dataset)."
   ],
   "metadata": {
    "collapsed": false
   },
   "id": "435968ffc15028c2"
  },
  {
   "cell_type": "markdown",
   "source": [
    "Ha az RDD API-t akarjuk használni programunknak először egy konfigurációs és egy kontextus objektumot kell létrehoznia."
   ],
   "metadata": {
    "collapsed": false
   },
   "id": "a6c8bad67f75d6f7"
  },
  {
   "cell_type": "code",
   "execution_count": 1,
   "id": "7e404383-b453-4f23-9480-daffffe7c520",
   "metadata": {
    "ExecuteTime": {
     "end_time": "2023-11-05T10:55:43.989741700Z",
     "start_time": "2023-11-05T10:55:38.905900800Z"
    }
   },
   "outputs": [],
   "source": [
    "from pyspark import SparkConf, SparkContext \n",
    "\n",
    "conf = SparkConf() \n",
    "sc = SparkContext(conf=conf)"
   ]
  },
  {
   "cell_type": "markdown",
   "source": [
    "Az alábbi kódrészelettel ellenőrizhető, működik-e a spark."
   ],
   "metadata": {
    "collapsed": false
   },
   "id": "da9fee31017fd943"
  },
  {
   "cell_type": "code",
   "execution_count": 2,
   "id": "ac782b5a-1abc-4b9c-9501-d893fd22c213",
   "metadata": {
    "ExecuteTime": {
     "end_time": "2023-11-03T11:29:21.448244600Z",
     "start_time": "2023-11-03T11:29:19.373874400Z"
    }
   },
   "outputs": [
    {
     "name": "stdout",
     "output_type": "stream",
     "text": [
      "Működik a Spark\n"
     ]
    }
   ],
   "source": [
    "x = \"MWűGkyösdwinko Qau fSJpDaTrykv!w\"\n",
    "\n",
    "rdd = sc.parallelize([x[i:i+2] for i in range(0, len(x)-2, 2)], 2)\n",
    "res = rdd.map(lambda item: item[0]).collect()\n",
    "\n",
    "print(\"\".join(res))"
   ]
  },
  {
   "cell_type": "markdown",
   "source": [
    "RDD-t több módon is létre tudunk hozni. Péládul meglévő adatból.\n",
    "\n",
    "Egy RDD a klaszter több számítógépén elosztva kerül végrehajtásra, amiket partícióknak nevezünk."
   ],
   "metadata": {
    "collapsed": false
   },
   "id": "5cf172cfce6d9124"
  },
  {
   "cell_type": "code",
   "execution_count": 3,
   "id": "80338db2-9704-4290-8ef4-5e5f8ae0f460",
   "metadata": {
    "ExecuteTime": {
     "end_time": "2023-10-18T21:13:31.805358200Z",
     "start_time": "2023-10-18T21:13:31.679398100Z"
    }
   },
   "outputs": [
    {
     "name": "stdout",
     "output_type": "stream",
     "text": [
      "[1, 2, 4, 6, 7, 2, 4, 6, 5]\n",
      "ParallelCollectionRDD[2] at readRDDFromFile at PythonRDD.scala:289\n",
      "3\n"
     ]
    }
   ],
   "source": [
    "numbers = [1, 2, 4, 6, 7, 2, 4, 6, 5]\n",
    "\n",
    "rdd = sc.parallelize(numbers, 3)\n",
    "\n",
    "print(numbers)\n",
    "print(rdd)\n",
    "print(rdd.getNumPartitions()) # partíciók száma"
   ]
  },
  {
   "cell_type": "markdown",
   "source": [
    "Ez a kódrészlet a numbers listából egy RDD-t készít, amit a klaszteren három gépen oszt el. Az RDD-t akár újra is tudjuk osztani"
   ],
   "metadata": {
    "collapsed": false
   },
   "id": "58b2c43600e9d7c5"
  },
  {
   "cell_type": "code",
   "execution_count": 3,
   "id": "a5cb5e8a-09d6-456b-bccd-0f4d6eb37dc1",
   "metadata": {
    "ExecuteTime": {
     "end_time": "2023-11-03T11:31:14.827010900Z",
     "start_time": "2023-11-03T11:31:14.740473800Z"
    }
   },
   "outputs": [
    {
     "data": {
      "text/plain": "5"
     },
     "execution_count": 3,
     "metadata": {},
     "output_type": "execute_result"
    }
   ],
   "source": [
    "rdd2 = rdd.repartition(5)\n",
    "rdd2.getNumPartitions()"
   ]
  },
  {
   "cell_type": "markdown",
   "source": [
    "## Műveletek\n",
    "Az RDD-ken kétféle műveletet végezhetünk. A transzformációk valamilyen logika mentén egy új RDD-t hoznak létre. Az akciók pedig az RDD-ből valameilyen konrét adatot hoznak létre. Az RDD-n meghívott műveletlánc akkor értékelődik ki amikor akciót hívunk."
   ],
   "metadata": {
    "collapsed": false
   },
   "id": "683b850ad86b9608"
  },
  {
   "cell_type": "markdown",
   "source": [
    "### Akciók\n",
    "Fontos akciók a következők:"
   ],
   "metadata": {
    "collapsed": false
   },
   "id": "6492b2fdfaeb4f8a"
  },
  {
   "cell_type": "code",
   "execution_count": 18,
   "id": "00c2d7db-2bfa-4b33-b61a-d0f8d8e377d5",
   "metadata": {
    "ExecuteTime": {
     "end_time": "2023-10-18T20:50:04.462863100Z",
     "start_time": "2023-10-18T20:50:04.313931600Z"
    }
   },
   "outputs": [
    {
     "data": {
      "text/plain": "['MW',\n 'űG',\n 'ky',\n 'ös',\n 'dw',\n 'in',\n 'ko',\n ' Q',\n 'au',\n ' f',\n 'SJ',\n 'pD',\n 'aT',\n 'ry',\n 'kv']"
     },
     "execution_count": 18,
     "metadata": {},
     "output_type": "execute_result"
    }
   ],
   "source": [
    "rdd.collect() # adatok összegyűjtése"
   ]
  },
  {
   "cell_type": "code",
   "execution_count": 5,
   "id": "eaaca4bb-fe02-4bcd-a3a3-01551c6bd88b",
   "metadata": {
    "ExecuteTime": {
     "end_time": "2023-10-18T21:13:42.333811600Z",
     "start_time": "2023-10-18T21:13:39.005518700Z"
    }
   },
   "outputs": [
    {
     "data": {
      "text/plain": "9"
     },
     "execution_count": 5,
     "metadata": {},
     "output_type": "execute_result"
    }
   ],
   "source": [
    "rdd.count() # adatok megszámlálása"
   ]
  },
  {
   "cell_type": "code",
   "execution_count": 6,
   "id": "d556362b-97a7-4234-8028-e1c885acace9",
   "metadata": {
    "ExecuteTime": {
     "end_time": "2023-10-18T21:13:48.420717700Z",
     "start_time": "2023-10-18T21:13:45.711106800Z"
    }
   },
   "outputs": [
    {
     "data": {
      "text/plain": "[1, 2, 4, 6, 7]"
     },
     "execution_count": 6,
     "metadata": {},
     "output_type": "execute_result"
    }
   ],
   "source": [
    "rdd.take(5) # első n elem összegyűjtése "
   ]
  },
  {
   "cell_type": "code",
   "execution_count": 7,
   "id": "d25b1976-65aa-48ee-a927-b8c0d0ec9e42",
   "metadata": {
    "ExecuteTime": {
     "end_time": "2023-10-18T21:13:50.043309900Z",
     "start_time": "2023-10-18T21:13:49.932989400Z"
    }
   },
   "outputs": [],
   "source": [
    "numbers3 = sc.parallelize(range(5), 3)"
   ]
  },
  {
   "cell_type": "markdown",
   "source": [
    "A legfontosabb transzformációk a következők a filter, map, reduce"
   ],
   "metadata": {
    "collapsed": false
   },
   "id": "66519479e7c4f627"
  },
  {
   "cell_type": "code",
   "execution_count": 8,
   "id": "97c5dafd-04ac-46be-a4f5-f13b4afd8ca9",
   "metadata": {
    "ExecuteTime": {
     "end_time": "2023-10-18T21:14:00.417689400Z",
     "start_time": "2023-10-18T21:13:56.899880800Z"
    }
   },
   "outputs": [
    {
     "data": {
      "text/plain": "[0, 1, 2, 3, 4]"
     },
     "execution_count": 8,
     "metadata": {},
     "output_type": "execute_result"
    }
   ],
   "source": [
    "numbers3.take(10)"
   ]
  },
  {
   "cell_type": "code",
   "execution_count": 17,
   "id": "3aa4627e-2b35-4d62-bd61-076265040268",
   "metadata": {},
   "outputs": [
    {
     "data": {
      "text/plain": [
       "16"
      ]
     },
     "execution_count": 17,
     "metadata": {},
     "output_type": "execute_result"
    }
   ],
   "source": [
    "numbers3.getNumPartitions()"
   ]
  },
  {
   "cell_type": "code",
   "execution_count": null,
   "id": "163a8bf2-2106-4d76-b100-e05752a49604",
   "metadata": {},
   "outputs": [],
   "source": [
    "# narrow transformation -> nem jön létre új partíció\n",
    "# transzformáció lusta kiértékelésű, akció mohó"
   ]
  },
  {
   "cell_type": "code",
   "execution_count": 26,
   "id": "a766d354-4fb9-45e3-99b0-f376aed9f028",
   "metadata": {},
   "outputs": [
    {
     "data": {
      "text/plain": [
       "249500"
      ]
     },
     "execution_count": 26,
     "metadata": {},
     "output_type": "execute_result"
    }
   ],
   "source": [
    "numbers3.filter(lambda number: number % 2 == 0).reduce(lambda acc, curr: acc + curr)"
   ]
  },
  {
   "cell_type": "code",
   "execution_count": 4,
   "id": "1109ae48-23b9-4bb1-a014-3c9b18ae9adf",
   "metadata": {
    "ExecuteTime": {
     "end_time": "2023-11-03T12:07:51.612027Z",
     "start_time": "2023-11-03T12:07:51.462676100Z"
    }
   },
   "outputs": [],
   "source": [
    "text = sc.textFile('alkotmany.txt')"
   ]
  },
  {
   "cell_type": "code",
   "execution_count": 5,
   "id": "9d542b9c-839e-4fe2-a237-1b07eb7743df",
   "metadata": {
    "ExecuteTime": {
     "end_time": "2023-11-03T12:07:52.583718500Z",
     "start_time": "2023-11-03T12:07:52.577666400Z"
    }
   },
   "outputs": [
    {
     "data": {
      "text/plain": "alkotmany.txt MapPartitionsRDD[8] at textFile at NativeMethodAccessorImpl.java:0"
     },
     "execution_count": 5,
     "metadata": {},
     "output_type": "execute_result"
    }
   ],
   "source": [
    "text"
   ]
  },
  {
   "cell_type": "code",
   "execution_count": 6,
   "id": "06a80219-8e18-4e53-94ee-37d31c69af7a",
   "metadata": {
    "ExecuteTime": {
     "end_time": "2023-11-03T12:07:55.273630700Z",
     "start_time": "2023-11-03T12:07:54.417304100Z"
    }
   },
   "outputs": [
    {
     "data": {
      "text/plain": "['Mi, a magyar nemzet tagjai, az új évezred kezdetén, felelősséggel minden magyarért, kinyilvánítjuk az alábbiakat:',\n 'Büszkék vagyunk arra, hogy Szent István királyunk ezer évvel ezelőtt szilárd alapokra helyezte a magyar államot, és hazánkat a keresztény Európa részévé tette.']"
     },
     "execution_count": 6,
     "metadata": {},
     "output_type": "execute_result"
    }
   ],
   "source": [
    "text.take(2)"
   ]
  },
  {
   "cell_type": "code",
   "execution_count": 7,
   "id": "ef97696f-5bdb-48df-8f04-580de4618ea9",
   "metadata": {
    "ExecuteTime": {
     "end_time": "2023-11-03T12:07:58.935647600Z",
     "start_time": "2023-11-03T12:07:57.611473700Z"
    }
   },
   "outputs": [
    {
     "data": {
      "text/plain": "['Mi, a magyar nemzet tagjai, az új évezred kezdetén, felelősséggel minden magyarért, kinyilvánítjuk az alábbiakat:',\n 'Büszkék vagyunk arra, hogy Szent István királyunk ezer évvel ezelőtt szilárd alapokra helyezte a magyar államot, és hazánkat a keresztény Európa részévé tette.',\n 'Büszkék vagyunk a magyar emberek nagyszerű szellemi alkotásaira.',\n 'Ígérjük, hogy megőrizzük az elmúlt évszázad viharaiban részekre szakadt nemzetünk szellemi és lelki egységét. Kinyilvánítjuk, hogy a velünk élő nemzetiségek a magyar politikai közösség részei és államalkotó tényezők.',\n 'Vállaljuk, hogy örökségünket, egyedülálló nyelvünket, a magyar kultúrát, a magyarországi nemzetiségek nyelvét és kultúráját, a Kárpát-medence természet adta és ember alkotta értékeit ápoljuk és megóvjuk. Felelősséget viselünk utódainkért, ezért anyagi, szellemi és természeti erőforrásaink gondos használatával védelmezzük az utánunk jövő nemzedékek életfeltételeit.',\n 'Nem ismerjük el történeti alkotmányunk idegen megszállások miatt bekövetkezett felfüggesztését. Tagadjuk a magyar nemzet és polgárai ellen a nemzetiszocialista és a kommunista diktatúra uralma alatt elkövetett embertelen bűnök elévülését.',\n 'Alaptörvényünk jogrendünk alapja, szövetség a múlt, a jelen és a jövő magyarjai között. Élő keret, amely kifejezi a nemzet akaratát, azt a formát, amelyben élni szeretnénk.']"
     },
     "execution_count": 7,
     "metadata": {},
     "output_type": "execute_result"
    }
   ],
   "source": [
    "search_for = 'magyar'\n",
    "text.filter(lambda line: search_for in line).collect()"
   ]
  },
  {
   "cell_type": "code",
   "execution_count": 34,
   "id": "6142410d-ff07-4d00-bf14-2a1f37e971b6",
   "metadata": {},
   "outputs": [
    {
     "data": {
      "text/plain": [
       "['Mi,', 'a']"
      ]
     },
     "execution_count": 34,
     "metadata": {},
     "output_type": "execute_result"
    }
   ],
   "source": [
    "text.flatMap(lambda line: line.split(\" \")).take(2)"
   ]
  },
  {
   "cell_type": "markdown",
   "source": [
    "A `reduceByKey` az azonos kulcsú rekordokat redukálja."
   ],
   "metadata": {
    "collapsed": false
   },
   "id": "746a288f1ac25ace"
  },
  {
   "cell_type": "code",
   "execution_count": 39,
   "id": "3e2b28e2-5e62-466b-80f9-7ddada28a466",
   "metadata": {},
   "outputs": [
    {
     "data": {
      "text/plain": [
       "[('a', 41),\n",
       " ('és', 24),\n",
       " ('az', 19),\n",
       " ('hogy', 17),\n",
       " ('valljuk,', 8),\n",
       " ('magyar', 6),\n",
       " ('nemzet', 5),\n",
       " ('szellemi', 4),\n",
       " ('büszkék', 4),\n",
       " ('vagyunk', 4)]"
      ]
     },
     "execution_count": 39,
     "metadata": {},
     "output_type": "execute_result"
    }
   ],
   "source": [
    "text.flatMap(lambda line: line.split(\" \"))\\\n",
    ".map(lambda word: (word.replace(''), 1))\\\n",
    ".reduceByKey(lambda count, current: count + current)\\\n",
    ".sortBy(lambda t: t[1], False)\\\n",
    ".take(10)"
   ]
  }
 ],
 "metadata": {
  "kernelspec": {
   "display_name": "Python 3 (ipykernel)",
   "language": "python",
   "name": "python3"
  },
  "language_info": {
   "codemirror_mode": {
    "name": "ipython",
    "version": 3
   },
   "file_extension": ".py",
   "mimetype": "text/x-python",
   "name": "python",
   "nbconvert_exporter": "python",
   "pygments_lexer": "ipython3",
   "version": "3.11.5"
  }
 },
 "nbformat": 4,
 "nbformat_minor": 5
}
