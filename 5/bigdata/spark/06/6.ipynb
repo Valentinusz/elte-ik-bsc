{
 "cells": [
  {
   "cell_type": "markdown",
   "source": [
    "# 6. gyakorlat"
   ],
   "metadata": {
    "collapsed": false
   },
   "id": "19ab5dfb8d405880"
  },
  {
   "cell_type": "code",
   "execution_count": 1,
   "id": "initial_id",
   "metadata": {
    "collapsed": true,
    "ExecuteTime": {
     "end_time": "2023-11-16T13:45:19.487619700Z",
     "start_time": "2023-11-16T13:45:16.518626200Z"
    }
   },
   "outputs": [],
   "source": [
    "from pyspark import SparkConf, SparkContext \n",
    "\n",
    "conf = SparkConf() \n",
    "sc = SparkContext(conf=conf)"
   ]
  },
  {
   "cell_type": "code",
   "execution_count": 2,
   "outputs": [],
   "source": [
    "text = sc.textFile('alkotmany.txt')"
   ],
   "metadata": {
    "collapsed": false,
    "ExecuteTime": {
     "end_time": "2023-11-16T13:45:20.653782400Z",
     "start_time": "2023-11-16T13:45:20.247141200Z"
    }
   },
   "id": "7dc8c2830b0369bc"
  },
  {
   "cell_type": "markdown",
   "source": [
    "## 0. feladat\n",
    "\n",
    "WordCount kicsit másképp: `groupByKey` egy szekvenciába összegyűjti az azonos kulcsú elemeket. `mapValues` függvény úgy alakítja át az RDD-t, hogy a kulcsokat változatlanul hagyja, csak az értékeken végez átalakítást."
   ],
   "metadata": {
    "collapsed": false
   },
   "id": "3ae7e04636aabac8"
  },
  {
   "cell_type": "code",
   "execution_count": 13,
   "outputs": [
    {
     "data": {
      "text/plain": "[('a', 41), ('és', 24), ('az', 19), ('hogy', 17), ('valljuk', 9)]"
     },
     "execution_count": 13,
     "metadata": {},
     "output_type": "execute_result"
    }
   ],
   "source": [
    "text\\\n",
    "    .flatMap(lambda l: l.lower().replace(':',\"\").replace(\",\",\"\").replace(\".\", \"\").replace(\"!\",\"\").split(\" \"))\\\n",
    "    .map(lambda w: (w.lower(), 1))\\\n",
    "    .groupByKey()\\\n",
    "    .mapValues(sum)\\\n",
    "    .sortBy(lambda t: t[1], False)\\\n",
    "    .take(5)"
   ],
   "metadata": {
    "collapsed": false,
    "ExecuteTime": {
     "end_time": "2023-11-16T14:07:46.736205700Z",
     "start_time": "2023-11-16T14:07:41.966129Z"
    }
   },
   "id": "39df843dcf853b97"
  },
  {
   "cell_type": "markdown",
   "source": [
    "# 1. Milyen hosszú a leghosszabb szó?"
   ],
   "metadata": {
    "collapsed": false
   },
   "id": "4e7c54632d6d93da"
  },
  {
   "cell_type": "markdown",
   "source": [
    "Fold olyan minta a reduce csak kezdőértékét is vár (reducenál ez automatikusan a legelső elem)"
   ],
   "metadata": {
    "collapsed": false
   },
   "id": "3b5aa334ad01815f"
  },
  {
   "cell_type": "code",
   "execution_count": 14,
   "outputs": [
    {
     "data": {
      "text/plain": "18"
     },
     "execution_count": 14,
     "metadata": {},
     "output_type": "execute_result"
    }
   ],
   "source": [
    "text\\\n",
    "    .flatMap(lambda line: line.lower().replace(':',\"\").replace(\",\",\"\").replace(\".\", \"\").replace(\"!\",\"\").split(\" \"))\\\n",
    "    .map(lambda word: len(word))\\\n",
    "    .fold(0, max)"
   ],
   "metadata": {
    "collapsed": false,
    "ExecuteTime": {
     "end_time": "2023-11-16T14:13:44.518638700Z",
     "start_time": "2023-11-16T14:13:43.446009800Z"
    }
   },
   "id": "abd5cadeff7f2e1e"
  },
  {
   "cell_type": "markdown",
   "source": [
    "Egy kicsit ügyesebben (`key` paraméter adja meg az maximumkiválasztásnál az adott érték milyen kulccsal szerepeljen):"
   ],
   "metadata": {
    "collapsed": false
   },
   "id": "161f8fdbfcb4241c"
  },
  {
   "cell_type": "code",
   "execution_count": 15,
   "outputs": [
    {
     "data": {
      "text/plain": "18"
     },
     "execution_count": 15,
     "metadata": {},
     "output_type": "execute_result"
    }
   ],
   "source": [
    "len(text\\\n",
    "    .flatMap(lambda line: line.lower().replace(':',\"\").replace(\",\",\"\").replace(\".\", \"\").replace(\"!\",\"\").split(\" \"))\\\n",
    "    .max(key=lambda word: len(word)))"
   ],
   "metadata": {
    "collapsed": false,
    "ExecuteTime": {
     "end_time": "2023-11-16T14:13:47.150262400Z",
     "start_time": "2023-11-16T14:13:46.106272800Z"
    }
   },
   "id": "bb7023088f518f50"
  },
  {
   "cell_type": "markdown",
   "source": [
    "Lehetséges megoldás még, hogy rendezzük az RDD-t és vesszük az első elemét."
   ],
   "metadata": {
    "collapsed": false
   },
   "id": "3d74458873e486d0"
  },
  {
   "cell_type": "markdown",
   "source": [
    "## 2. Melyik a leghosszabb szó és milyen hosszú?"
   ],
   "metadata": {
    "collapsed": false
   },
   "id": "3eed912233ecbd0a"
  },
  {
   "cell_type": "code",
   "execution_count": 17,
   "outputs": [
    {
     "data": {
      "text/plain": "('nemzetiszocialista', 18)"
     },
     "execution_count": 17,
     "metadata": {},
     "output_type": "execute_result"
    }
   ],
   "source": [
    "text\\\n",
    "    .flatMap(lambda line: line.lower().replace(':',\"\").replace(\",\",\"\").replace(\".\", \"\").replace(\"!\",\"\").split(\" \"))\\\n",
    "    .map(lambda word: (word, len(word)))\\\n",
    "    .max(key=lambda word: word[1])"
   ],
   "metadata": {
    "collapsed": false,
    "ExecuteTime": {
     "end_time": "2023-11-16T14:21:30.292315300Z",
     "start_time": "2023-11-16T14:21:29.147506500Z"
    }
   },
   "id": "c4375f494f1c6861"
  },
  {
   "cell_type": "markdown",
   "source": [
    "Nem muszáj mindent rdd-n belül megoldani."
   ],
   "metadata": {
    "collapsed": false
   },
   "id": "356ae24fa105ef48"
  },
  {
   "cell_type": "code",
   "execution_count": 18,
   "outputs": [
    {
     "name": "stdout",
     "output_type": "stream",
     "text": [
      "nemzetiszocialista 18\n"
     ]
    }
   ],
   "source": [
    "maxlength = text\\\n",
    "    .flatMap(lambda line: line.lower().replace(':',\"\").replace(\",\",\"\").replace(\".\", \"\").replace(\"!\",\"\").split(\" \"))\\\n",
    "    .max(key=lambda word: len(word))\n",
    "\n",
    "print(maxlength, len(maxlength))"
   ],
   "metadata": {
    "collapsed": false,
    "ExecuteTime": {
     "end_time": "2023-11-16T14:22:11.216534500Z",
     "start_time": "2023-11-16T14:22:10.127347Z"
    }
   },
   "id": "2d7cc61322e680b5"
  },
  {
   "cell_type": "markdown",
   "source": [
    "## 3. WordMean"
   ],
   "metadata": {
    "collapsed": false
   },
   "id": "e43270a24a623093"
  },
  {
   "cell_type": "code",
   "execution_count": 29,
   "outputs": [
    {
     "data": {
      "text/plain": "6.974947807933194"
     },
     "execution_count": 29,
     "metadata": {},
     "output_type": "execute_result"
    }
   ],
   "source": [
    "text\\\n",
    "    .flatMap(lambda line: line.split(\" \"))\\\n",
    "    .map(lambda word: len(word))\\\n",
    "    .mean()"
   ],
   "metadata": {
    "collapsed": false,
    "ExecuteTime": {
     "end_time": "2023-11-16T14:47:43.807773700Z",
     "start_time": "2023-11-16T14:47:42.683946800Z"
    }
   },
   "id": "56a4c928c0658429"
  },
  {
   "cell_type": "markdown",
   "source": [
    "## 4. Adjuk meg kezdőbetűnként a leghosszabb szó hosszát"
   ],
   "metadata": {
    "collapsed": false
   },
   "id": "612d299b7316fc27"
  },
  {
   "cell_type": "markdown",
   "source": [
    "Minden szóhoz egy párt rendelünk ami a szó első szava és a szó hossza. Minden különböző kulcs esetén kiválasztjuk a maximális értékét. Majd rendezzük kulcs szerint (str lexikografikus rendezést eredményez)."
   ],
   "metadata": {
    "collapsed": false
   },
   "id": "bc496ec7b934ccfd"
  },
  {
   "cell_type": "code",
   "execution_count": 27,
   "outputs": [
    {
     "data": {
      "text/plain": "[('t', 17),\n ('ú', 2),\n ('b', 13),\n ('o', 12),\n ('g', 12),\n ('í', 7),\n ('l', 14),\n ('p', 9),\n ('j', 10),\n ('c', 6),\n ('ü', 8),\n ('d', 12),\n ('z', 8),\n ('m', 15),\n ('a', 15),\n ('n', 18),\n ('é', 16),\n ('k', 14),\n ('f', 16),\n ('v', 12),\n ('h', 14),\n ('s', 15),\n ('i', 8),\n ('e', 17),\n ('á', 11),\n ('r', 12),\n ('ő', 8),\n ('ö', 17),\n ('u', 11),\n ('1', 7)]"
     },
     "execution_count": 27,
     "metadata": {},
     "output_type": "execute_result"
    }
   ],
   "source": [
    "text.flatMap(lambda line: line.lower().replace(':',\"\").replace(\",\",\"\").replace(\".\", \"\").replace(\"!\",\"\").split(\" \"))\\\n",
    "    .map(lambda word: (word[0], len(word)))\\\n",
    "    .reduceByKey(max)\\\n",
    "    .sortByKey(keyfunc=str)\\\n",
    "    .collect()"
   ],
   "metadata": {
    "collapsed": false,
    "ExecuteTime": {
     "end_time": "2023-11-16T14:35:46.908052Z",
     "start_time": "2023-11-16T14:35:44.796020900Z"
    }
   },
   "id": "3a23ab4ae63c27fe"
  },
  {
   "cell_type": "markdown",
   "source": [
    "## 5. Pí becslés"
   ],
   "metadata": {
    "collapsed": false
   },
   "id": "7aa448304fd7edfd"
  },
  {
   "cell_type": "code",
   "execution_count": 33,
   "outputs": [
    {
     "data": {
      "text/plain": "3.140492"
     },
     "execution_count": 33,
     "metadata": {},
     "output_type": "execute_result"
    }
   ],
   "source": [
    "from random import random\n",
    "\n",
    "num_of_points = 1000000\n",
    "\n",
    "points = sc\\\n",
    "    .parallelize([1 for i in range(num_of_points)])\\\n",
    "    .filter(lambda _: (random() ** 2 + random() ** 2) < 1)\n",
    "\n",
    "4 * points.count() / num_of_points"
   ],
   "metadata": {
    "collapsed": false,
    "ExecuteTime": {
     "end_time": "2023-11-16T14:52:05.643848700Z",
     "start_time": "2023-11-16T14:51:57.456753600Z"
    }
   },
   "id": "f5535c4bcd9427a9"
  },
  {
   "cell_type": "markdown",
   "source": [
    "# 6. feladat maxTemp"
   ],
   "metadata": {
    "collapsed": false
   },
   "id": "aad515eb4a0a742f"
  },
  {
   "cell_type": "code",
   "execution_count": 34,
   "outputs": [
    {
     "data": {
      "text/plain": "[('20200914', ('1700', '30.651459')),\n ('20200915', ('1600', '32.06146')),\n ('20200916', ('1600', '31.431458')),\n ('20200917', ('1500', '30.111458')),\n ('20200918', ('1600', '22.861458')),\n ('20200919', ('1600', '23.311459')),\n ('20200920', ('1700', '25.321459')),\n ('20200922', ('1600', '27.831459')),\n ('20200923', ('1400', '27.131458')),\n ('20200924', ('1500', '26.421457')),\n ('20200926', ('0000', '17.621458')),\n ('20200927', ('1500', '18.401459')),\n ('20200921', ('1300', '27.171457')),\n ('20200925', ('1800', '22.981459')),\n ('20200928', ('1500', '19.731459'))]"
     },
     "execution_count": 34,
     "metadata": {},
     "output_type": "execute_result"
    }
   ],
   "source": [
    "data = sc.textFile(\"tempBudapestMeteoBlue.csv\")\\\n",
    "    .map(lambda t: t.split(\",\"))\\\n",
    "    .filter(lambda l: l[0].startswith('2020'))\\\n",
    "    .map(lambda t: (t[0].split(\"T\"), t[1]))\\\n",
    "    .map(lambda t: (t[0][0], (t[0][1], t[1])))\\\n",
    "    .reduceByKey(lambda a, b: a if float(a[1]) > float(b[1]) else b)\n",
    "\n",
    "data.collect()"
   ],
   "metadata": {
    "collapsed": false,
    "ExecuteTime": {
     "end_time": "2023-11-16T14:56:44.008453700Z",
     "start_time": "2023-11-16T14:56:41.777081700Z"
    }
   },
   "id": "21bc7711093cdb37"
  },
  {
   "cell_type": "markdown",
   "source": [
    "## Accumulator\n",
    "Hadoop counter-jéhez hasonló, olyan változó, amit csak növelni lehet, és azt is csak asszociatív műveletekkel. Az `accumulator` értéke automatikusan szinkronizálásra kerül az RDD kiértékelését követően. `Foreach` általános bejárás, egyetlen paramétere egy `T->None`-ba képező függvény."
   ],
   "metadata": {
    "collapsed": false
   },
   "id": "b7b49ad0cf9d913"
  },
  {
   "cell_type": "code",
   "execution_count": 35,
   "outputs": [
    {
     "name": "stdout",
     "output_type": "stream",
     "text": [
      "12\n"
     ]
    }
   ],
   "source": [
    "w_count = sc.accumulator(0)\n",
    "\n",
    "def count_word(s):\n",
    "    if 'MAGYAR' in s.upper(): \n",
    "        w_count.add(1) # add accumulator növelése\n",
    "\n",
    "text\\\n",
    "    .flatMap(lambda x : x.split(\" \"))\\\n",
    "    .foreach(count_word)\n",
    "\n",
    "print(w_count)"
   ],
   "metadata": {
    "collapsed": false,
    "ExecuteTime": {
     "end_time": "2023-11-16T15:00:28.731346700Z",
     "start_time": "2023-11-16T15:00:27.487219700Z"
    }
   },
   "id": "dd1526c16a3cc3f0"
  },
  {
   "cell_type": "markdown",
   "source": [
    "## Broadcast\n",
    "Egy read-only érték, amelyet minden gépen el tudunk érni."
   ],
   "metadata": {
    "collapsed": false
   },
   "id": "ac68adc166226b06"
  },
  {
   "cell_type": "code",
   "execution_count": 37,
   "outputs": [
    {
     "name": "stdout",
     "output_type": "stream",
     "text": [
      "12\n"
     ]
    }
   ],
   "source": [
    "w_count = sc.accumulator(0)\n",
    "search_for = sc.broadcast(['MAGYAR'])\n",
    "\n",
    "def count_word2(s):\n",
    "    if search_for.value[0] in s.upper(): # value broadcast változó értéke\n",
    "        w_count.add(1)\n",
    "\n",
    "text\\\n",
    "    .flatMap(lambda x : x.split(\" \"))\\\n",
    "    .foreach(count_word2)\n",
    "\n",
    "print(w_count)"
   ],
   "metadata": {
    "collapsed": false,
    "ExecuteTime": {
     "end_time": "2023-11-16T15:08:08.106755500Z",
     "start_time": "2023-11-16T15:08:07.009755100Z"
    }
   },
   "id": "951e28bdf2d112c5"
  },
  {
   "cell_type": "markdown",
   "source": [
    "## Maxtemp2\n",
    "\n",
    "Oldjuk meg a MaxTemp feladatot úgy, hogy közben összeszámoljuk hány nap volt magasabb a hőmérséklet 30 foknál."
   ],
   "metadata": {
    "collapsed": false
   },
   "id": "b57aeb9a16008849"
  },
  {
   "cell_type": "code",
   "execution_count": 38,
   "outputs": [
    {
     "name": "stdout",
     "output_type": "stream",
     "text": [
      "[('20200914', ('1700', '30.651459')), ('20200915', ('1600', '32.06146')), ('20200916', ('1600', '31.431458')), ('20200917', ('1500', '30.111458')), ('20200918', ('1600', '22.861458')), ('20200919', ('1600', '23.311459')), ('20200920', ('1700', '25.321459')), ('20200922', ('1600', '27.831459')), ('20200923', ('1400', '27.131458')), ('20200924', ('1500', '26.421457')), ('20200926', ('0000', '17.621458')), ('20200927', ('1500', '18.401459')), ('20200921', ('1300', '27.171457')), ('20200925', ('1800', '22.981459')), ('20200928', ('1500', '19.731459'))]\n",
      "4\n"
     ]
    }
   ],
   "source": [
    "over_count = sc.accumulator(0)\n",
    "\n",
    "def add_and_increment(t):\n",
    "    if float(t[1][1]) > 30:\n",
    "        over_count.add(1)\n",
    "    return t\n",
    "\n",
    "data = sc.textFile(\"tempBudapestMeteoBlue.csv\")\\\n",
    "    .map(lambda t: t.split(\",\"))\\\n",
    "    .filter(lambda l: l[0].startswith('2020'))\\\n",
    "    .map(lambda t: (t[0].split(\"T\"), t[1]))\\\n",
    "    .map(lambda t: (t[0][0], (t[0][1], t[1])))\\\n",
    "    .reduceByKey(lambda a,b: a if float(a[1]) > float(b[1]) else b)\\\n",
    "    .map(add_and_increment)\n",
    "\n",
    "print(data.collect())\n",
    "print(over_count.value)"
   ],
   "metadata": {
    "collapsed": false,
    "ExecuteTime": {
     "end_time": "2023-11-16T15:10:10.783565200Z",
     "start_time": "2023-11-16T15:10:08.632843700Z"
    }
   },
   "id": "37e04db112857f82"
  },
  {
   "cell_type": "code",
   "execution_count": null,
   "outputs": [],
   "source": [],
   "metadata": {
    "collapsed": false
   },
   "id": "4a8c0754f09f1712"
  }
 ],
 "metadata": {
  "kernelspec": {
   "display_name": "Python 3",
   "language": "python",
   "name": "python3"
  },
  "language_info": {
   "codemirror_mode": {
    "name": "ipython",
    "version": 2
   },
   "file_extension": ".py",
   "mimetype": "text/x-python",
   "name": "python",
   "nbconvert_exporter": "python",
   "pygments_lexer": "ipython2",
   "version": "2.7.6"
  }
 },
 "nbformat": 4,
 "nbformat_minor": 5
}
