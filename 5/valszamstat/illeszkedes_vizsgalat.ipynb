{
 "cells": [
  {
   "cell_type": "markdown",
   "metadata": {},
   "source": [
    "# Diszkrét illeszkedésvizsgálat\n",
    "(discrate goodness of fit test)"
   ]
  },
  {
   "cell_type": "code",
   "execution_count": 126,
   "id": "634e56463d76533b",
   "metadata": {
    "ExecuteTime": {
     "end_time": "2023-11-28T21:51:57.448395100Z",
     "start_time": "2023-11-28T21:51:57.386895900Z"
    },
    "collapsed": false
   },
   "outputs": [],
   "source": [
    "import numpy as np\n",
    "from scipy.stats import chi2, binom\n",
    "import matplotlib.pyplot as plt\n",
    "from IPython.display import display, Math"
   ]
  },
  {
   "cell_type": "code",
   "execution_count": 127,
   "id": "initial_id",
   "metadata": {
    "ExecuteTime": {
     "end_time": "2023-11-28T21:51:57.459394700Z",
     "start_time": "2023-11-28T21:51:57.390894700Z"
    },
    "collapsed": true
   },
   "outputs": [
    {
     "data": {
      "text/plain": [
       "300"
      ]
     },
     "execution_count": 127,
     "metadata": {},
     "output_type": "execute_result"
    }
   ],
   "source": [
    "amounts_of_scrap = [0, 1, 2, 3, 4] # osztályok\n",
    "r = len(amounts_of_scrap) # osztályok száma\n",
    "amount_of_scrap_frequencies = [80, 113, 77, 27, 3] # gyakoriságok\n",
    "n = sum(amount_of_scrap_frequencies) # gyakoriságok összege\n",
    "n"
   ]
  },
  {
   "cell_type": "code",
   "execution_count": 128,
   "id": "94b402a6292902de",
   "metadata": {
    "ExecuteTime": {
     "end_time": "2023-11-28T21:51:57.459394700Z",
     "start_time": "2023-11-28T21:51:57.394535800Z"
    },
    "collapsed": false
   },
   "outputs": [
    {
     "data": {
      "text/plain": [
       "0.3"
      ]
     },
     "execution_count": 128,
     "metadata": {},
     "output_type": "execute_result"
    }
   ],
   "source": [
    "bin_n = 4 # a binomiális eloszlás n paramétere\n",
    "\n",
    "p_known = False \n",
    "\n",
    "bin_p = 0.25 # a binomiális eloszlás p paramétere\n",
    "if (not p_known):\n",
    "    # ml becslés p-re\n",
    "    bin_p = (sum([amounts_of_scrap[i] * amount_of_scrap_frequencies[i] for i in range(r)]) / n) / bin_n\n",
    "\n",
    "bin_p"
   ]
  },
  {
   "cell_type": "code",
   "execution_count": 129,
   "id": "55ec2270bbefca0c",
   "metadata": {
    "ExecuteTime": {
     "end_time": "2023-11-28T22:19:02.144102300Z",
     "start_time": "2023-11-28T22:19:02.106337800Z"
    },
    "collapsed": false
   },
   "outputs": [
    {
     "data": {
      "text/plain": [
       "[0.24010000000000004, 0.41159999999999997, 0.26460000000000006, 0.0756, 0.0081]"
      ]
     },
     "execution_count": 129,
     "metadata": {},
     "output_type": "execute_result"
    }
   ],
   "source": [
    "probabilities = [binom.pmf(i, bin_n, bin_p) for i in range(0, r)] # valószínűségek\n",
    "probabilities"
   ]
  },
  {
   "cell_type": "code",
   "execution_count": 130,
   "id": "3ea9f25e34c3ceae",
   "metadata": {
    "ExecuteTime": {
     "end_time": "2023-11-28T21:51:57.496743200Z",
     "start_time": "2023-11-28T21:51:57.404126300Z"
    },
    "collapsed": false
   },
   "outputs": [
    {
     "data": {
      "text/plain": [
       "[72.03000000000002,\n",
       " 123.47999999999999,\n",
       " 79.38000000000002,\n",
       " 22.68,\n",
       " 2.4299999999999997]"
      ]
     },
     "execution_count": 130,
     "metadata": {},
     "output_type": "execute_result"
    }
   ],
   "source": [
    "theoretical_frequencies = [probability * n for probability in probabilities] # elméleti gyakoriságok\n",
    "theoretical_frequencies"
   ]
  },
  {
   "cell_type": "markdown",
   "metadata": {},
   "source": [
    "A próbastatisztika értéke:"
   ]
  },
  {
   "cell_type": "code",
   "execution_count": 131,
   "id": "1ae2c8164a4b03ae",
   "metadata": {
    "ExecuteTime": {
     "end_time": "2023-11-28T22:22:26.127005800Z",
     "start_time": "2023-11-28T22:22:26.120291Z"
    },
    "collapsed": false
   },
   "outputs": [
    {
     "data": {
      "text/latex": [
       "$\\displaystyle \\frac{ \\left( 80 - 72.03 \\right)^2 }{72.03} + \\frac{ \\left( 113 - 123.48 \\right)^2 }{123.48} + \\frac{ \\left( 77 - 79.38 \\right)^2 }{79.38} + \\frac{ \\left( 27 - 22.68 \\right)^2 }{22.68} + \\frac{ \\left( 3 - 2.43 \\right)^2 }{2.43}=2.7992451704793746$"
      ],
      "text/plain": [
       "<IPython.core.display.Math object>"
      ]
     },
     "metadata": {},
     "output_type": "display_data"
    }
   ],
   "source": [
    "eq = ''\n",
    "test_statistic_result = 0\n",
    "for i in range(r):\n",
    "    eq += rf'\\frac{{ \\left( {round(amount_of_scrap_frequencies[i], 4)} - {round(theoretical_frequencies[i], 4)} \\right)^2 }}{{{round(theoretical_frequencies[i], 4)}}} + '\n",
    "    test_statistic_result += (amount_of_scrap_frequencies[i] - theoretical_frequencies[i])**2 / theoretical_frequencies[i]\n",
    "    \n",
    "eq = eq.strip(' +')\n",
    "eq += f\"={test_statistic_result}\"\n",
    "\n",
    "display(Math(r'' + eq))"
   ]
  },
  {
   "cell_type": "markdown",
   "metadata": {},
   "source": [
    "Szignifikanciaszint:"
   ]
  },
  {
   "cell_type": "code",
   "execution_count": 132,
   "id": "f9779f5992af5ee6",
   "metadata": {
    "ExecuteTime": {
     "end_time": "2023-11-28T21:51:57.516741800Z",
     "start_time": "2023-11-28T21:51:57.412866700Z"
    },
    "collapsed": false
   },
   "outputs": [],
   "source": [
    "alpha = 0.05"
   ]
  },
  {
   "cell_type": "markdown",
   "metadata": {},
   "source": [
    "A próbastatisztika $\\chi^2$ eloszlást követ, melynek paramétere:"
   ]
  },
  {
   "cell_type": "code",
   "execution_count": 133,
   "metadata": {},
   "outputs": [
    {
     "data": {
      "text/plain": [
       "3"
      ]
     },
     "execution_count": 133,
     "metadata": {},
     "output_type": "execute_result"
    }
   ],
   "source": [
    "if (p_known):\n",
    "    chi_distribution_param = r-1\n",
    "else:\n",
    "    chi_distribution_param = r-2\n",
    "chi_distribution_param"
   ]
  },
  {
   "cell_type": "markdown",
   "metadata": {},
   "source": [
    "A kritikus tartomány kezdete:"
   ]
  },
  {
   "cell_type": "code",
   "execution_count": 134,
   "metadata": {},
   "outputs": [
    {
     "data": {
      "text/plain": [
       "7.814727903251179"
      ]
     },
     "execution_count": 134,
     "metadata": {},
     "output_type": "execute_result"
    }
   ],
   "source": [
    "critical_start = chi2.ppf(1 - alpha, df=chi_distribution_param)\n",
    "critical_start"
   ]
  },
  {
   "cell_type": "code",
   "execution_count": 135,
   "id": "463a4e207273f568",
   "metadata": {
    "ExecuteTime": {
     "end_time": "2023-11-28T21:51:57.557970400Z",
     "start_time": "2023-11-28T21:51:57.422394700Z"
    },
    "collapsed": false
   },
   "outputs": [
    {
     "data": {
      "text/plain": [
       "<matplotlib.collections.PolyCollection at 0x1a225b4c210>"
      ]
     },
     "execution_count": 135,
     "metadata": {},
     "output_type": "execute_result"
    },
    {
     "data": {
      "image/png": "[encoded data removed]",
      "text/plain": [
       "<Figure size 640x480 with 1 Axes>"
      ]
     },
     "metadata": {},
     "output_type": "display_data"
    }
   ],
   "source": [
    "fig, ax = plt.subplots(1, 1)\n",
    "\n",
    "distribution = chi2(df=chi_distribution_param)\n",
    "\n",
    "x = np.linspace(0, 25, 100)\n",
    "x2 = np.linspace(critical_start, 25, 100)\n",
    "ax.plot(x, chi2.pdf(x, df=chi_distribution_param), 'g--', lw=2, alpha=0.8, label='chi2 pdf')\n",
    "ax.plot(critical_start, distribution.pdf(critical_start), 'bo')\n",
    "ax.plot(test_statistic_result, distribution.pdf(test_statistic_result), 'ro')\n",
    "ax.fill_between(x2, y1=0, y2=chi2.pdf(x2, df=chi_distribution_param), color='r')"
   ]
  },
  {
   "cell_type": "code",
   "execution_count": 136,
   "metadata": {},
   "outputs": [
    {
     "data": {
      "text/plain": [
       "'Mivel a próbastatisztika értéke az konfidenciaintervallumba esik ezért elfogadjuk a nullhipotézist.'"
      ]
     },
     "metadata": {},
     "output_type": "display_data"
    }
   ],
   "source": [
    "if (test_statistic_result < critical_start):\n",
    "    display('Mivel a próbastatisztika értéke az konfidenciaintervallumba esik ezért elfogadjuk a nullhipotézist.')\n",
    "else:\n",
    "    display('Mivel a próbastatisztika értéke a kritikus tartományba esik a nullhipotézist elutasítjuk.')"
   ]
  }
 ],
 "metadata": {
  "kernelspec": {
   "display_name": "Python 3",
   "language": "python",
   "name": "python3"
  },
  "language_info": {
   "codemirror_mode": {
    "name": "ipython",
    "version": 3
   },
   "file_extension": ".py",
   "mimetype": "text/x-python",
   "name": "python",
   "nbconvert_exporter": "python",
   "pygments_lexer": "ipython3",
   "version": "3.11.6"
  }
 },
 "nbformat": 4,
 "nbformat_minor": 5
}
