{
 "cells": [
  {
   "cell_type": "markdown",
   "source": [
    "# RDD feladatok"
   ],
   "metadata": {
    "collapsed": false
   },
   "id": "e1d58d888ece6290"
  },
  {
   "cell_type": "code",
   "execution_count": 2,
   "id": "initial_id",
   "metadata": {
    "collapsed": true,
    "ExecuteTime": {
     "end_time": "2023-11-15T13:13:47.740194700Z",
     "start_time": "2023-11-15T13:13:44.389821700Z"
    }
   },
   "outputs": [],
   "source": [
    "from pyspark import SparkConf, SparkContext\n",
    "\n",
    "conf = SparkConf()\n",
    "sc = SparkContext(conf=conf)"
   ]
  },
  {
   "cell_type": "markdown",
   "source": [
    "## 1. feladat\n",
    "\n",
    "A vasarlasok.txt egy kiskereskedelmi áruházban megvásárolt termékeket tartalmazzák. Minden sor\n",
    "egy vásárló kosarában lévő termékeket sorolja fel, vesszővel elválasztva. Határozd meg azt a három\n",
    "terméket, amelyekből a legtöbbet vásárolták és add meg hányat. Figyelj oda arra, hogy az\n",
    "adathalmazban kis és nagy betűk is előfordulhatnak. Azaz előfordulhat a \"rizs\" és a \"Rizs\" termék is.\n",
    "Ezeket azonos termékeknek kell tekintened.\n",
    "\n",
    "Egy lehetséges kimenet: ('rizs', 120), ('narancs', 34), ('hal', 32)"
   ],
   "metadata": {
    "collapsed": false
   },
   "id": "172cee93550185f7"
  },
  {
   "cell_type": "code",
   "execution_count": 21,
   "outputs": [
    {
     "data": {
      "text/plain": "['tej,Kenyer,csoki',\n 'csoki,tonhal,rizs,turo',\n 'teszta,kenyer,vaj',\n 'cukor,kenyer,rizs,teszta,parizsi',\n 'hagyma,uborka,teszta']"
     },
     "execution_count": 21,
     "metadata": {},
     "output_type": "execute_result"
    }
   ],
   "source": [
    "products_rdd = sc.textFile('vasarlasok.txt')\n",
    "products_rdd.take(5)"
   ],
   "metadata": {
    "collapsed": false,
    "ExecuteTime": {
     "end_time": "2023-11-15T13:32:02.630841700Z",
     "start_time": "2023-11-15T13:32:02.016875200Z"
    }
   },
   "id": "4e9a02d8585c7db0"
  },
  {
   "cell_type": "code",
   "execution_count": 16,
   "outputs": [],
   "source": [
    "from operator import add"
   ],
   "metadata": {
    "collapsed": false,
    "ExecuteTime": {
     "end_time": "2023-11-15T13:25:59.572186700Z",
     "start_time": "2023-11-15T13:25:59.531671800Z"
    }
   },
   "id": "7a10f84fb739d4c5"
  },
  {
   "cell_type": "code",
   "execution_count": 22,
   "outputs": [
    {
     "data": {
      "text/plain": "[('kenyer', 108), ('cukor', 68), ('tej', 64)]"
     },
     "execution_count": 22,
     "metadata": {},
     "output_type": "execute_result"
    }
   ],
   "source": [
    "products_rdd\\\n",
    "    .flatMap(lambda line: line.lower().split(','))\\\n",
    "    .map(lambda product: (product, 1))\\\n",
    "    .reduceByKey(add)\\\n",
    "    .sortBy(lambda entry: entry[1], ascending=False)\\\n",
    "    .take(3)"
   ],
   "metadata": {
    "collapsed": false,
    "ExecuteTime": {
     "end_time": "2023-11-15T13:32:10.085458900Z",
     "start_time": "2023-11-15T13:32:05.224080100Z"
    }
   },
   "id": "1e5c3cee4a61e47c"
  },
  {
   "cell_type": "markdown",
   "source": [
    "## 2. feladat\n",
    "Az online_retail_data.csv egy webáruház eladásait tartalmazza. Határozd meg, hogy melyik terméket\n",
    "melyik termékkel vásárolják gyakran együtt Franciaországban (`France`). Azaz melyek a leggyakrabban\n",
    "előforduló termékpárok. Add meg a párok előfordulásának a számát és a 3 legtöbbször előfordulót ad\n",
    "vissza.\n",
    "\n",
    "Egy lehetséges kimenet: [(('POSTAGE', 'RABBIT NIGHT LIGHT'), 130), (('POSTAGE', 'RED TOADSTOOL LED NIGHT LIGHT'), 124), (('PLASTERS IN TIN CIRCUS PARADE ', 'POSTAGE'), 116)]"
   ],
   "metadata": {
    "collapsed": false
   },
   "id": "1f8cb6e8422ae8f7"
  },
  {
   "cell_type": "code",
   "execution_count": 23,
   "outputs": [
    {
     "data": {
      "text/plain": "['InvoiceNo,StockCode,Description,Quantity,InvoiceDate,UnitPrice,CustomerID,Country',\n '536365,85123A,WHITE HANGING HEART T-LIGHT HOLDER,6,01/12/2010 8:26,2.55,17850,United Kingdom',\n '536365,71053,WHITE METAL LANTERN,6,01/12/2010 8:26,3.39,17850,United Kingdom',\n '536365,84406B,CREAM CUPID HEARTS COAT HANGER,8,01/12/2010 8:26,2.75,17850,United Kingdom',\n '536365,84029G,KNITTED UNION FLAG HOT WATER BOTTLE,6,01/12/2010 8:26,3.39,17850,United Kingdom']"
     },
     "execution_count": 23,
     "metadata": {},
     "output_type": "execute_result"
    }
   ],
   "source": [
    "retail_rdd = sc.textFile('online_retail_data.csv')\n",
    "retail_rdd.take(5)"
   ],
   "metadata": {
    "collapsed": false,
    "ExecuteTime": {
     "end_time": "2023-11-15T13:33:15.338926200Z",
     "start_time": "2023-11-15T13:33:14.686683900Z"
    }
   },
   "id": "6f1dd6aa22e8bac1"
  },
  {
   "cell_type": "code",
   "execution_count": 45,
   "outputs": [
    {
     "data": {
      "text/plain": "[(('POSTAGE', 'RABBIT NIGHT LIGHT'), 130),\n (('POSTAGE', 'RED TOADSTOOL LED NIGHT LIGHT'), 124),\n (('POSTAGE', 'ROUND SNACK BOXES SET OF4 WOODLAND '), 116)]"
     },
     "execution_count": 45,
     "metadata": {},
     "output_type": "execute_result"
    }
   ],
   "source": [
    "# sortból kiszedjük a rendelés számát (0), a terméket(2) és az országot (-1)\n",
    "def split_line(line):\n",
    "    split = line.split(',')\n",
    "    return split[0], split[2], split[-1]\n",
    "\n",
    "# termékek egy listájából előállítjuk az összes lehetséges kombinációt ahol 2 különböző termék van\n",
    "def make_pairs(entry):\n",
    "    products = set(entry[1])\n",
    "    return [(tuple(sorted((a, b))), 1) for a in products for b in products if a != b]\n",
    "    \n",
    "retail_rdd\\\n",
    "    .map(split_line)\\\n",
    "    .filter(lambda entry: entry[0] != 'InvoiceNo' and entry[-1] == 'France')\\\n",
    "    .map(lambda entry: (entry[0], entry[1]))\\\n",
    "    .groupByKey()\\\n",
    "    .flatMap(make_pairs)\\\n",
    "    .reduceByKey(add)\\\n",
    "    .takeOrdered(3, key=lambda entry: -entry[1])"
   ],
   "metadata": {
    "collapsed": false,
    "ExecuteTime": {
     "end_time": "2023-11-15T14:09:06.677297800Z",
     "start_time": "2023-11-15T14:09:02.765774600Z"
    }
   },
   "id": "c5ab1736aebb0509"
  }
 ],
 "metadata": {
  "kernelspec": {
   "display_name": "Python 3",
   "language": "python",
   "name": "python3"
  },
  "language_info": {
   "codemirror_mode": {
    "name": "ipython",
    "version": 2
   },
   "file_extension": ".py",
   "mimetype": "text/x-python",
   "name": "python",
   "nbconvert_exporter": "python",
   "pygments_lexer": "ipython2",
   "version": "2.7.6"
  }
 },
 "nbformat": 4,
 "nbformat_minor": 5
}
