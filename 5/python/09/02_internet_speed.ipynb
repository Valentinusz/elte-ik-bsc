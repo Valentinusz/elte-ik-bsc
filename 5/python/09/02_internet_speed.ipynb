{
 "cells": [
  {
   "cell_type": "markdown",
   "metadata": {},
   "source": [
    "#  9/2 - Internet sebesség vizualizáció"
   ]
  },
  {
   "cell_type": "markdown",
   "source": [
    "## Beolvasás"
   ],
   "metadata": {
    "collapsed": false
   }
  },
  {
   "cell_type": "markdown",
   "metadata": {},
   "source": [
    "Olvasd be a `./data/rpi_data_compact.csv` fájlt egy Pandas dataframe-be and és írd ki az első három sorát."
   ]
  },
  {
   "cell_type": "code",
   "execution_count": 11,
   "metadata": {
    "collapsed": true,
    "ExecuteTime": {
     "end_time": "2023-11-17T18:18:18.035510300Z",
     "start_time": "2023-11-17T18:18:18.026509800Z"
    }
   },
   "outputs": [],
   "source": [
    "import pandas as pd\n",
    "import numpy as np"
   ]
  },
  {
   "cell_type": "code",
   "execution_count": 12,
   "metadata": {
    "collapsed": true,
    "ExecuteTime": {
     "end_time": "2023-11-17T18:18:18.705375500Z",
     "start_time": "2023-11-17T18:18:18.673436500Z"
    }
   },
   "outputs": [],
   "source": [
    "df = pd.read_csv('data/rpi_data_compact.csv')"
   ]
  },
  {
   "cell_type": "code",
   "execution_count": 13,
   "outputs": [
    {
     "data": {
      "text/plain": "   Unnamed: 0 Ping (ms) Download (Mbit/s)  Upload (Mbit/s)        Date  \\\n0           0    26.992             91.80            14.31  2016-11-24   \n1           1    24.532             88.19            14.12  2016-11-24   \n2           2    20.225             59.86            14.11  2016-11-24   \n\n       Time  \n0  13:36:25  \n1  13:36:55  \n2  13:37:25  ",
      "text/html": "<div>\n<style scoped>\n    .dataframe tbody tr th:only-of-type {\n        vertical-align: middle;\n    }\n\n    .dataframe tbody tr th {\n        vertical-align: top;\n    }\n\n    .dataframe thead th {\n        text-align: right;\n    }\n</style>\n<table border=\"1\" class=\"dataframe\">\n  <thead>\n    <tr style=\"text-align: right;\">\n      <th></th>\n      <th>Unnamed: 0</th>\n      <th>Ping (ms)</th>\n      <th>Download (Mbit/s)</th>\n      <th>Upload (Mbit/s)</th>\n      <th>Date</th>\n      <th>Time</th>\n    </tr>\n  </thead>\n  <tbody>\n    <tr>\n      <th>0</th>\n      <td>0</td>\n      <td>26.992</td>\n      <td>91.80</td>\n      <td>14.31</td>\n      <td>2016-11-24</td>\n      <td>13:36:25</td>\n    </tr>\n    <tr>\n      <th>1</th>\n      <td>1</td>\n      <td>24.532</td>\n      <td>88.19</td>\n      <td>14.12</td>\n      <td>2016-11-24</td>\n      <td>13:36:55</td>\n    </tr>\n    <tr>\n      <th>2</th>\n      <td>2</td>\n      <td>20.225</td>\n      <td>59.86</td>\n      <td>14.11</td>\n      <td>2016-11-24</td>\n      <td>13:37:25</td>\n    </tr>\n  </tbody>\n</table>\n</div>"
     },
     "execution_count": 13,
     "metadata": {},
     "output_type": "execute_result"
    }
   ],
   "source": [
    "df.head(3)"
   ],
   "metadata": {
    "collapsed": false,
    "ExecuteTime": {
     "end_time": "2023-11-17T18:18:19.338425900Z",
     "start_time": "2023-11-17T18:18:19.330351Z"
    }
   }
  },
  {
   "cell_type": "markdown",
   "metadata": {},
   "source": [
    "## Adat megtisztítása\n",
    "\n",
    "Szűrjük ki a felesleges oszlopokat!"
   ]
  },
  {
   "cell_type": "code",
   "execution_count": 14,
   "metadata": {
    "collapsed": true,
    "ExecuteTime": {
     "end_time": "2023-11-17T18:18:20.795952600Z",
     "start_time": "2023-11-17T18:18:20.755726800Z"
    }
   },
   "outputs": [
    {
     "data": {
      "text/plain": "  Ping (ms) Download (Mbit/s)  Upload (Mbit/s)        Date      Time\n0    26.992             91.80            14.31  2016-11-24  13:36:25\n1    24.532             88.19            14.12  2016-11-24  13:36:55\n2    20.225             59.86            14.11  2016-11-24  13:37:25",
      "text/html": "<div>\n<style scoped>\n    .dataframe tbody tr th:only-of-type {\n        vertical-align: middle;\n    }\n\n    .dataframe tbody tr th {\n        vertical-align: top;\n    }\n\n    .dataframe thead th {\n        text-align: right;\n    }\n</style>\n<table border=\"1\" class=\"dataframe\">\n  <thead>\n    <tr style=\"text-align: right;\">\n      <th></th>\n      <th>Ping (ms)</th>\n      <th>Download (Mbit/s)</th>\n      <th>Upload (Mbit/s)</th>\n      <th>Date</th>\n      <th>Time</th>\n    </tr>\n  </thead>\n  <tbody>\n    <tr>\n      <th>0</th>\n      <td>26.992</td>\n      <td>91.80</td>\n      <td>14.31</td>\n      <td>2016-11-24</td>\n      <td>13:36:25</td>\n    </tr>\n    <tr>\n      <th>1</th>\n      <td>24.532</td>\n      <td>88.19</td>\n      <td>14.12</td>\n      <td>2016-11-24</td>\n      <td>13:36:55</td>\n    </tr>\n    <tr>\n      <th>2</th>\n      <td>20.225</td>\n      <td>59.86</td>\n      <td>14.11</td>\n      <td>2016-11-24</td>\n      <td>13:37:25</td>\n    </tr>\n  </tbody>\n</table>\n</div>"
     },
     "execution_count": 14,
     "metadata": {},
     "output_type": "execute_result"
    }
   ],
   "source": [
    "df = df.drop(columns=['Unnamed: 0'])\n",
    "df.head(3)"
   ]
  },
  {
   "cell_type": "markdown",
   "metadata": {},
   "source": [
    "Gyakran előfordul, hogy adathalmazunkból bizonyos értékek hiányoznak. Ezért fontos kiszűrni az ilyen értékeket. \n",
    "\n",
    "Az `dataframe` `isNull()` metódusa egy olyan `dataframe`-et ad vissza, mely `bool` oszlopokból áll, ahol egy érték pontosan akkor `True`, ha az eredeti dataframe azonos koordinátájú cellájában nem szerepelt érték."
   ]
  },
  {
   "cell_type": "code",
   "execution_count": 15,
   "metadata": {
    "collapsed": true,
    "ExecuteTime": {
     "end_time": "2023-11-17T18:18:21.746089800Z",
     "start_time": "2023-11-17T18:18:21.702298300Z"
    }
   },
   "outputs": [
    {
     "data": {
      "text/plain": "   Ping (ms)  Download (Mbit/s)  Upload (Mbit/s)   Date   Time\n0      False              False            False  False  False\n1      False              False            False  False  False\n2      False              False            False  False  False\n3      False              False            False  False  False\n4      False              False            False  False  False",
      "text/html": "<div>\n<style scoped>\n    .dataframe tbody tr th:only-of-type {\n        vertical-align: middle;\n    }\n\n    .dataframe tbody tr th {\n        vertical-align: top;\n    }\n\n    .dataframe thead th {\n        text-align: right;\n    }\n</style>\n<table border=\"1\" class=\"dataframe\">\n  <thead>\n    <tr style=\"text-align: right;\">\n      <th></th>\n      <th>Ping (ms)</th>\n      <th>Download (Mbit/s)</th>\n      <th>Upload (Mbit/s)</th>\n      <th>Date</th>\n      <th>Time</th>\n    </tr>\n  </thead>\n  <tbody>\n    <tr>\n      <th>0</th>\n      <td>False</td>\n      <td>False</td>\n      <td>False</td>\n      <td>False</td>\n      <td>False</td>\n    </tr>\n    <tr>\n      <th>1</th>\n      <td>False</td>\n      <td>False</td>\n      <td>False</td>\n      <td>False</td>\n      <td>False</td>\n    </tr>\n    <tr>\n      <th>2</th>\n      <td>False</td>\n      <td>False</td>\n      <td>False</td>\n      <td>False</td>\n      <td>False</td>\n    </tr>\n    <tr>\n      <th>3</th>\n      <td>False</td>\n      <td>False</td>\n      <td>False</td>\n      <td>False</td>\n      <td>False</td>\n    </tr>\n    <tr>\n      <th>4</th>\n      <td>False</td>\n      <td>False</td>\n      <td>False</td>\n      <td>False</td>\n      <td>False</td>\n    </tr>\n  </tbody>\n</table>\n</div>"
     },
     "execution_count": 15,
     "metadata": {},
     "output_type": "execute_result"
    }
   ],
   "source": [
    "is_null_df = df.isnull()\n",
    "is_null_df.head()"
   ]
  },
  {
   "cell_type": "markdown",
   "source": [
    "A `sum()` függvény oszloponkénti összegzést végez. Egy `Series` (lényegében egy egyoszlopos dataframe) objektumot ad vissza, melynek elemei az adott oszlopok összeget tartalmazza. (`True = 1`, `False = 0`)."
   ],
   "metadata": {
    "collapsed": false
   }
  },
  {
   "cell_type": "code",
   "execution_count": 16,
   "metadata": {
    "collapsed": true,
    "ExecuteTime": {
     "end_time": "2023-11-17T18:18:22.785740200Z",
     "start_time": "2023-11-17T18:18:22.777754900Z"
    }
   },
   "outputs": [
    {
     "name": "stdout",
     "output_type": "stream",
     "text": [
      "<class 'pandas.core.series.Series'>\n"
     ]
    },
    {
     "data": {
      "text/plain": "Ping (ms)            1\nDownload (Mbit/s)    1\nUpload (Mbit/s)      7\nDate                 7\nTime                 7\ndtype: int64"
     },
     "execution_count": 16,
     "metadata": {},
     "output_type": "execute_result"
    }
   ],
   "source": [
    "nulls_per_column = is_null_df.sum()\n",
    "print(type(nulls_per_column))\n",
    "nulls_per_column.head()"
   ]
  },
  {
   "cell_type": "code",
   "execution_count": 17,
   "metadata": {
    "collapsed": true,
    "ExecuteTime": {
     "end_time": "2023-11-17T18:18:23.747811700Z",
     "start_time": "2023-11-17T18:18:23.710762600Z"
    }
   },
   "outputs": [
    {
     "data": {
      "text/plain": "23"
     },
     "execution_count": 17,
     "metadata": {},
     "output_type": "execute_result"
    }
   ],
   "source": [
    "nulls_per_column.sum()"
   ]
  },
  {
   "cell_type": "markdown",
   "source": [
    "Határozzuk meg az értékek hány százaléka hiányzik! Használjuk a `numpy.round()` függvényt!"
   ],
   "metadata": {
    "collapsed": false
   }
  },
  {
   "cell_type": "code",
   "execution_count": 18,
   "metadata": {
    "collapsed": true,
    "ExecuteTime": {
     "end_time": "2023-11-17T18:18:25.329449200Z",
     "start_time": "2023-11-17T18:18:25.265847200Z"
    }
   },
   "outputs": [
    {
     "name": "stdout",
     "output_type": "stream",
     "text": [
      "0.6765%\n"
     ]
    }
   ],
   "source": [
    "total = float(len(df) * len(df.columns))\n",
    "null = df.isnull().sum().sum()\n",
    "\n",
    "null_percentage = np.round((null / total) * 100, decimals = 4)\n",
    "print(f'{null_percentage}%')"
   ]
  },
  {
   "cell_type": "markdown",
   "source": [
    "A `dropna` metódus segítségével eltüntethetjük az üres értékeket tartalmazó sorokat."
   ],
   "metadata": {
    "collapsed": false
   }
  },
  {
   "cell_type": "code",
   "execution_count": 19,
   "metadata": {
    "collapsed": true,
    "ExecuteTime": {
     "end_time": "2023-11-17T19:42:16.493870400Z",
     "start_time": "2023-11-17T19:42:16.468046600Z"
    }
   },
   "outputs": [
    {
     "name": "stdout",
     "output_type": "stream",
     "text": [
      "680\n",
      "673\n"
     ]
    }
   ],
   "source": [
    "print(len(df))\n",
    "df = df.dropna()\n",
    "print(len(df))"
   ]
  },
  {
   "cell_type": "markdown",
   "source": [
    "(Megjegyzés: ez eltér a korábban látott 23-tól mert előfordul olyan hogy több null is van egy sorban.)"
   ],
   "metadata": {
    "collapsed": false
   }
  },
  {
   "cell_type": "markdown",
   "metadata": {},
   "source": [
    "### Adatok formátuma\n",
    "\n",
    "A pandas nem mindig tudja megfelelő módon kikövetkeztetni az oszlopok típusait:"
   ]
  },
  {
   "cell_type": "code",
   "execution_count": 20,
   "metadata": {
    "collapsed": true,
    "ExecuteTime": {
     "end_time": "2023-11-17T19:44:39.744519500Z",
     "start_time": "2023-11-17T19:44:39.714728Z"
    }
   },
   "outputs": [
    {
     "data": {
      "text/plain": "Ping (ms)             object\nDownload (Mbit/s)     object\nUpload (Mbit/s)      float64\nDate                  object\nTime                  object\ndtype: object"
     },
     "execution_count": 20,
     "metadata": {},
     "output_type": "execute_result"
    }
   ],
   "source": [
    "df.dtypes"
   ]
  },
  {
   "cell_type": "markdown",
   "metadata": {},
   "source": [
    "Persze mi tudjuk, hogy `ping` és `download` oszlopok is lebegőpontos számok, valamilyen oknál fogva mégsem tudta kikövetkezetni automatikusan.\n",
    "\n",
    "A típuskonverzió több módon is elvégezhető:\n",
    "- Ha csak konverziót akarunk végezni ezt a `to_*` jellegű metódusokkal tudjuk megtenni.\n",
    "- Ha komplexebb logika alapján akarunk konverziót végezni azt az `apply` függvénnyel tehetjük meg"
   ]
  },
  {
   "cell_type": "code",
   "execution_count": 21,
   "metadata": {
    "collapsed": true,
    "ExecuteTime": {
     "end_time": "2023-11-17T19:49:51.379127300Z",
     "start_time": "2023-11-17T19:49:51.349305900Z"
    }
   },
   "outputs": [
    {
     "data": {
      "text/plain": "Ping (ms)            float64\nDownload (Mbit/s)    float64\nUpload (Mbit/s)      float64\nDate                  object\nTime                  object\ndtype: object"
     },
     "execution_count": 21,
     "metadata": {},
     "output_type": "execute_result"
    }
   ],
   "source": [
    "df['Ping (ms)'] = pd.to_numeric(df['Ping (ms)'])\n",
    "df['Download (Mbit/s)'] = df['Download (Mbit/s)'].apply(pd.to_numeric)\n",
    "# metódusreferencia a pd.to_numeric függvényre\n",
    "\n",
    "df.dtypes"
   ]
  },
  {
   "cell_type": "markdown",
   "metadata": {},
   "source": [
    "A dataframe oszlopainak sorrendje megváltoztatható a `reindex` metódussal."
   ]
  },
  {
   "cell_type": "code",
   "execution_count": 22,
   "metadata": {
    "collapsed": true,
    "ExecuteTime": {
     "end_time": "2023-11-17T19:53:22.544967Z",
     "start_time": "2023-11-17T19:53:22.499008200Z"
    }
   },
   "outputs": [
    {
     "data": {
      "text/plain": "         Date      Time  Ping (ms)  Download (Mbit/s)  Upload (Mbit/s)\n0  2016-11-24  13:36:25     26.992              91.80            14.31\n1  2016-11-24  13:36:55     24.532              88.19            14.12\n2  2016-11-24  13:37:25     20.225              59.86            14.11\n3  2016-11-24  13:37:57     19.332              91.81            14.22\n4  2016-11-24  13:38:27     22.494              92.05            14.08",
      "text/html": "<div>\n<style scoped>\n    .dataframe tbody tr th:only-of-type {\n        vertical-align: middle;\n    }\n\n    .dataframe tbody tr th {\n        vertical-align: top;\n    }\n\n    .dataframe thead th {\n        text-align: right;\n    }\n</style>\n<table border=\"1\" class=\"dataframe\">\n  <thead>\n    <tr style=\"text-align: right;\">\n      <th></th>\n      <th>Date</th>\n      <th>Time</th>\n      <th>Ping (ms)</th>\n      <th>Download (Mbit/s)</th>\n      <th>Upload (Mbit/s)</th>\n    </tr>\n  </thead>\n  <tbody>\n    <tr>\n      <th>0</th>\n      <td>2016-11-24</td>\n      <td>13:36:25</td>\n      <td>26.992</td>\n      <td>91.80</td>\n      <td>14.31</td>\n    </tr>\n    <tr>\n      <th>1</th>\n      <td>2016-11-24</td>\n      <td>13:36:55</td>\n      <td>24.532</td>\n      <td>88.19</td>\n      <td>14.12</td>\n    </tr>\n    <tr>\n      <th>2</th>\n      <td>2016-11-24</td>\n      <td>13:37:25</td>\n      <td>20.225</td>\n      <td>59.86</td>\n      <td>14.11</td>\n    </tr>\n    <tr>\n      <th>3</th>\n      <td>2016-11-24</td>\n      <td>13:37:57</td>\n      <td>19.332</td>\n      <td>91.81</td>\n      <td>14.22</td>\n    </tr>\n    <tr>\n      <th>4</th>\n      <td>2016-11-24</td>\n      <td>13:38:27</td>\n      <td>22.494</td>\n      <td>92.05</td>\n      <td>14.08</td>\n    </tr>\n  </tbody>\n</table>\n</div>"
     },
     "execution_count": 22,
     "metadata": {},
     "output_type": "execute_result"
    }
   ],
   "source": [
    "df = df.reindex(columns = ['Date', 'Time', 'Ping (ms)','Download (Mbit/s)','Upload (Mbit/s)'])\n",
    "df.head()"
   ]
  },
  {
   "cell_type": "markdown",
   "metadata": {},
   "source": [
    "A megtisztított adatokat a következő módon menthetjük ki egy CSV fájlba:"
   ]
  },
  {
   "cell_type": "code",
   "execution_count": 25,
   "metadata": {
    "collapsed": true,
    "ExecuteTime": {
     "end_time": "2023-11-17T19:55:53.025710Z",
     "start_time": "2023-11-17T19:55:52.989948700Z"
    }
   },
   "outputs": [],
   "source": [
    "df.to_csv('./rpi_data_processed.csv', index=False) # sor index szerepljen-e a CSV fájlban"
   ]
  },
  {
   "cell_type": "markdown",
   "metadata": {},
   "source": [
    "## Statisztikák"
   ]
  },
  {
   "cell_type": "markdown",
   "metadata": {},
   "source": [
    "Ezek a `mean()` and `std()` metódusokkal adhatóak meg (hasonlóan a `sum()`-hoz ezek is `Series`-t adnak vissza). A `numeric_only=True` esetén csak a számként értelmezhető oszlopok esetén számolja ki a statisztikát.\n",
    "\n",
    "### Átlag  "
   ]
  },
  {
   "cell_type": "code",
   "execution_count": 28,
   "metadata": {
    "collapsed": true,
    "ExecuteTime": {
     "end_time": "2023-11-17T20:01:27.786587200Z",
     "start_time": "2023-11-17T20:01:27.758675900Z"
    }
   },
   "outputs": [
    {
     "data": {
      "text/plain": "Ping (ms)            21.115452\nDownload (Mbit/s)    90.449212\nUpload (Mbit/s)      13.697608\ndtype: float64"
     },
     "execution_count": 28,
     "metadata": {},
     "output_type": "execute_result"
    }
   ],
   "source": [
    "df.mean(numeric_only=True) # átlag "
   ]
  },
  {
   "cell_type": "markdown",
   "source": [
    "### Szórás"
   ],
   "metadata": {
    "collapsed": false
   }
  },
  {
   "cell_type": "code",
   "execution_count": 27,
   "outputs": [
    {
     "data": {
      "text/plain": "Ping (ms)            5.161225\nDownload (Mbit/s)    3.465647\nUpload (Mbit/s)      1.080471\ndtype: float64"
     },
     "execution_count": 27,
     "metadata": {},
     "output_type": "execute_result"
    }
   ],
   "source": [
    "df.std(numeric_only=True) # szórás"
   ],
   "metadata": {
    "collapsed": false,
    "ExecuteTime": {
     "end_time": "2023-11-17T20:01:11.825947500Z",
     "start_time": "2023-11-17T20:01:11.768165500Z"
    }
   }
  },
  {
   "cell_type": "markdown",
   "metadata": {},
   "source": [
    "### Min"
   ]
  },
  {
   "cell_type": "code",
   "execution_count": 29,
   "metadata": {
    "collapsed": true,
    "ExecuteTime": {
     "end_time": "2023-11-17T20:04:17.792253500Z",
     "start_time": "2023-11-17T20:04:17.753313Z"
    }
   },
   "outputs": [
    {
     "data": {
      "text/plain": "Date                 2016-11-24\nTime                   13:36:25\nPing (ms)                16.167\nDownload (Mbit/s)         58.48\nUpload (Mbit/s)            6.21\ndtype: object"
     },
     "execution_count": 29,
     "metadata": {},
     "output_type": "execute_result"
    }
   ],
   "source": [
    "df.min()"
   ]
  },
  {
   "cell_type": "markdown",
   "source": [
    "### Max"
   ],
   "metadata": {
    "collapsed": false
   }
  },
  {
   "cell_type": "code",
   "execution_count": 30,
   "outputs": [
    {
     "data": {
      "text/plain": "Date                 2016-11-24\nTime                   19:18:16\nPing (ms)                76.528\nDownload (Mbit/s)         92.87\nUpload (Mbit/s)           14.55\ndtype: object"
     },
     "execution_count": 30,
     "metadata": {},
     "output_type": "execute_result"
    }
   ],
   "source": [
    "df.max()"
   ],
   "metadata": {
    "collapsed": false,
    "ExecuteTime": {
     "end_time": "2023-11-17T20:04:21.434181700Z",
     "start_time": "2023-11-17T20:04:21.394111800Z"
    }
   }
  },
  {
   "cell_type": "markdown",
   "metadata": {},
   "source": [
    "### `describe`\n",
    "A `describe` metódus egy dataframe-et ad vissza melynek oszlopai az eredeti dataframe oszlopai sorai pedig az adott statisztikák."
   ]
  },
  {
   "cell_type": "code",
   "execution_count": 31,
   "metadata": {
    "collapsed": true,
    "ExecuteTime": {
     "end_time": "2023-11-17T20:05:32.626636500Z",
     "start_time": "2023-11-17T20:05:32.582130800Z"
    }
   },
   "outputs": [
    {
     "data": {
      "text/plain": "        Ping (ms)  Download (Mbit/s)  Upload (Mbit/s)\ncount  673.000000         673.000000       673.000000\nmean    21.115452          90.449212        13.697608\nstd      5.161225           3.465647         1.080471\nmin     16.167000          58.480000         6.210000\n25%     19.115000          90.220000        13.640000\n50%     20.322000          91.560000        13.980000\n75%     21.843000          92.070000        14.180000\nmax     76.528000          92.870000        14.550000",
      "text/html": "<div>\n<style scoped>\n    .dataframe tbody tr th:only-of-type {\n        vertical-align: middle;\n    }\n\n    .dataframe tbody tr th {\n        vertical-align: top;\n    }\n\n    .dataframe thead th {\n        text-align: right;\n    }\n</style>\n<table border=\"1\" class=\"dataframe\">\n  <thead>\n    <tr style=\"text-align: right;\">\n      <th></th>\n      <th>Ping (ms)</th>\n      <th>Download (Mbit/s)</th>\n      <th>Upload (Mbit/s)</th>\n    </tr>\n  </thead>\n  <tbody>\n    <tr>\n      <th>count</th>\n      <td>673.000000</td>\n      <td>673.000000</td>\n      <td>673.000000</td>\n    </tr>\n    <tr>\n      <th>mean</th>\n      <td>21.115452</td>\n      <td>90.449212</td>\n      <td>13.697608</td>\n    </tr>\n    <tr>\n      <th>std</th>\n      <td>5.161225</td>\n      <td>3.465647</td>\n      <td>1.080471</td>\n    </tr>\n    <tr>\n      <th>min</th>\n      <td>16.167000</td>\n      <td>58.480000</td>\n      <td>6.210000</td>\n    </tr>\n    <tr>\n      <th>25%</th>\n      <td>19.115000</td>\n      <td>90.220000</td>\n      <td>13.640000</td>\n    </tr>\n    <tr>\n      <th>50%</th>\n      <td>20.322000</td>\n      <td>91.560000</td>\n      <td>13.980000</td>\n    </tr>\n    <tr>\n      <th>75%</th>\n      <td>21.843000</td>\n      <td>92.070000</td>\n      <td>14.180000</td>\n    </tr>\n    <tr>\n      <th>max</th>\n      <td>76.528000</td>\n      <td>92.870000</td>\n      <td>14.550000</td>\n    </tr>\n  </tbody>\n</table>\n</div>"
     },
     "execution_count": 31,
     "metadata": {},
     "output_type": "execute_result"
    }
   ],
   "source": [
    "df.describe()"
   ]
  },
  {
   "cell_type": "markdown",
   "metadata": {},
   "source": [
    "### `argmin`, `argmax`, `iloc`."
   ]
  },
  {
   "cell_type": "markdown",
   "metadata": {},
   "source": [
    "`argmin` and `argmax` metódusok, az adott szélső érték érték indexét adják vissza."
   ]
  },
  {
   "cell_type": "code",
   "execution_count": 38,
   "metadata": {
    "collapsed": true,
    "ExecuteTime": {
     "end_time": "2023-11-17T20:25:29.899126Z",
     "start_time": "2023-11-17T20:25:29.864487500Z"
    }
   },
   "outputs": [],
   "source": [
    "min_ping_idx = df['Ping (ms)'].argmin()\n",
    "max_ping_idx = df['Ping (ms)'].argmax()\n",
    "\n",
    "min_download_idx = df['Download (Mbit/s)'].argmin()\n",
    "max_download_idx = df['Download (Mbit/s)'].argmax()\n",
    "\n",
    "min_upload_idx = df['Upload (Mbit/s)'].argmin()\n",
    "max_upload_idx = df['Upload (Mbit/s)'].argmax()"
   ]
  },
  {
   "cell_type": "markdown",
   "metadata": {},
   "source": [
    "A dataframe adott indexű sora `iloc` metóduson (vagy indexen őszintén nem tudom, borzalmas ez a könyvtár) keresztül érhető el."
   ]
  },
  {
   "cell_type": "code",
   "execution_count": 39,
   "metadata": {
    "collapsed": true,
    "ExecuteTime": {
     "end_time": "2023-11-17T20:25:31.248191300Z",
     "start_time": "2023-11-17T20:25:31.233096800Z"
    }
   },
   "outputs": [
    {
     "name": "stdout",
     "output_type": "stream",
     "text": [
      "Ping reached minimum on 2016-11-24 at 15:26:20\n",
      "Ping reached maximum on 2016-11-24 at 17:30:06\n",
      "Download reached minimum on 2016-11-24 at 14:57:55\n",
      "Download reached maximum on 2016-11-24 at 17:02:49\n",
      "Upload reached minimum on 2016-11-24 at 17:31:47\n",
      "Upload reached maximum on 2016-11-24 at 18:02:15\n"
     ]
    }
   ],
   "source": [
    "print(f'Ping reached minimum on {df.iloc[min_ping_idx][\"Date\"]} at {df.iloc[min_ping_idx][\"Time\"]}')\n",
    "print(f'Ping reached maximum on {df.iloc[max_ping_idx][\"Date\"]} at {df.iloc[max_ping_idx][\"Time\"]}')\n",
    "print(f'Download reached minimum on {df.iloc[min_download_idx][\"Date\"]} at {df.iloc[min_download_idx][\"Time\"]}')\n",
    "print(f'Download reached maximum on {df.iloc[max_download_idx][\"Date\"]} at {df.iloc[max_download_idx][\"Time\"]}')\n",
    "print(f'Upload reached minimum on {df.iloc[min_upload_idx][\"Date\"]} at {df.iloc[min_upload_idx][\"Time\"]}')\n",
    "print(f'Upload reached maximum on {df.iloc[max_upload_idx][\"Date\"]} at {df.iloc[max_upload_idx][\"Time\"]}')"
   ]
  },
  {
   "cell_type": "markdown",
   "metadata": {},
   "source": [
    "### Korreláció"
   ]
  },
  {
   "cell_type": "code",
   "execution_count": 41,
   "metadata": {
    "collapsed": true,
    "ExecuteTime": {
     "end_time": "2023-11-17T20:27:03.255155300Z",
     "start_time": "2023-11-17T20:27:03.211858700Z"
    }
   },
   "outputs": [
    {
     "data": {
      "text/plain": "                   Ping (ms)  Download (Mbit/s)  Upload (Mbit/s)\nPing (ms)           1.000000          -0.045626        -0.463099\nDownload (Mbit/s)  -0.045626           1.000000         0.083690\nUpload (Mbit/s)    -0.463099           0.083690         1.000000",
      "text/html": "<div>\n<style scoped>\n    .dataframe tbody tr th:only-of-type {\n        vertical-align: middle;\n    }\n\n    .dataframe tbody tr th {\n        vertical-align: top;\n    }\n\n    .dataframe thead th {\n        text-align: right;\n    }\n</style>\n<table border=\"1\" class=\"dataframe\">\n  <thead>\n    <tr style=\"text-align: right;\">\n      <th></th>\n      <th>Ping (ms)</th>\n      <th>Download (Mbit/s)</th>\n      <th>Upload (Mbit/s)</th>\n    </tr>\n  </thead>\n  <tbody>\n    <tr>\n      <th>Ping (ms)</th>\n      <td>1.000000</td>\n      <td>-0.045626</td>\n      <td>-0.463099</td>\n    </tr>\n    <tr>\n      <th>Download (Mbit/s)</th>\n      <td>-0.045626</td>\n      <td>1.000000</td>\n      <td>0.083690</td>\n    </tr>\n    <tr>\n      <th>Upload (Mbit/s)</th>\n      <td>-0.463099</td>\n      <td>0.083690</td>\n      <td>1.000000</td>\n    </tr>\n  </tbody>\n</table>\n</div>"
     },
     "execution_count": 41,
     "metadata": {},
     "output_type": "execute_result"
    }
   ],
   "source": [
    "df_corr = df.corr(numeric_only=True)\n",
    "df_corr"
   ]
  },
  {
   "cell_type": "code",
   "execution_count": 42,
   "metadata": {
    "collapsed": true,
    "ExecuteTime": {
     "end_time": "2023-11-17T20:27:11.038487100Z",
     "start_time": "2023-11-17T20:27:11.032763900Z"
    }
   },
   "outputs": [
    {
     "name": "stdout",
     "output_type": "stream",
     "text": [
      "Correlation coefficient between ping and download: -0.04562611025837897\n",
      "Correlation coefficient between ping and upload: -0.4630987138300179\n",
      "Correlation coefficient between upload and download: 0.0836899693372496\n"
     ]
    }
   ],
   "source": [
    "corr = df_corr.values\n",
    "print('Correlation coefficient between ping and download: {}'.format(corr[0, 1]))\n",
    "print('Correlation coefficient between ping and upload: {}'.format(corr[0, 2]))\n",
    "print('Correlation coefficient between upload and download: {}'.format(corr[2, 1]))"
   ]
  },
  {
   "cell_type": "markdown",
   "metadata": {},
   "source": [
    "Láthatjuk, hogy egyik korreláció sem erős."
   ]
  },
  {
   "cell_type": "markdown",
   "metadata": {},
   "source": [
    "## Vizualizácó"
   ]
  },
  {
   "cell_type": "code",
   "execution_count": 43,
   "metadata": {
    "collapsed": true,
    "ExecuteTime": {
     "end_time": "2023-11-17T20:31:42.432480100Z",
     "start_time": "2023-11-17T20:31:41.396587200Z"
    }
   },
   "outputs": [],
   "source": [
    "import matplotlib.pyplot as plt\n",
    "%matplotlib inline "
   ]
  },
  {
   "cell_type": "markdown",
   "metadata": {},
   "source": [
    "Ábrázoljuk a következő három függvényt:\n",
    "1. ping (ms) az idő függvényében,\n",
    "2. upload (Mbit/s) az idő függvényében,\n",
    "3. download (Mbit/s) as a function of time.\n",
    "\n",
    "A `legend()` metódussal hozzunk létre jelmagyarázatot."
   ]
  },
  {
   "cell_type": "code",
   "execution_count": 46,
   "metadata": {
    "collapsed": true,
    "ExecuteTime": {
     "end_time": "2023-11-17T20:38:46.242940200Z",
     "start_time": "2023-11-17T20:38:45.886060100Z"
    }
   },
   "outputs": [
    {
     "name": "stderr",
     "output_type": "stream",
     "text": [
      "C:\\Users\\bb200\\AppData\\Local\\Temp\\ipykernel_20860\\2910128741.py:3: UserWarning: Could not infer format, so each element will be parsed individually, falling back to `dateutil`. To ensure parsing is consistent and as-expected, please specify a format.\n",
      "  t = pd.to_datetime(df['Time']) # x-tengely\n"
     ]
    },
    {
     "data": {
      "text/plain": "<Figure size 1000x500 with 3 Axes>",
      "image/png": "[encoded data removed]"
     },
     "metadata": {},
     "output_type": "display_data"
    }
   ],
   "source": [
    "fig, (ax, ay, az) = plt.subplots(1, 3, figsize=(10, 5))\n",
    "\n",
    "t = pd.to_datetime(df['Time']) # x-tengely\n",
    "\n",
    "ax.plot(t, df['Ping (ms)'], label='Ping (ms)')\n",
    "ay.plot(t, df['Upload (Mbit/s)'], label='Upload (Mbit/s)')\n",
    "az.plot(t, df['Download (Mbit/s)'], label='Download (Mbit/s)')\n",
    "\n",
    "ax.legend()\n",
    "ay.legend()\n",
    "az.legend()\n",
    "plt.show()"
   ]
  },
  {
   "cell_type": "markdown",
   "metadata": {},
   "source": [
    "### Megjelenés testreszabása"
   ]
  },
  {
   "cell_type": "code",
   "execution_count": null,
   "metadata": {
    "collapsed": true
   },
   "outputs": [],
   "source": [
    "# Initialise figure\n",
    "fig, ax = plt.subplots(figsize=(10, 5))\n",
    "\n",
    "# Plot three curves. Ping data \n",
    "# is visualized using dots\n",
    "t = pd.to_datetime(df['Time'])\n",
    "\n",
    "#ax.plot(...\n",
    "#ax.plot(...\n",
    "#ax.plot(...\n",
    "\n",
    "# Insert legend"
   ]
  },
  {
   "cell_type": "markdown",
   "metadata": {},
   "source": [
    "###### d) Add axis labels."
   ]
  },
  {
   "cell_type": "markdown",
   "metadata": {},
   "source": [
    "A plot without axis labels, and perhaps a title, is difficult to understand, as one cannot know for sure which quantities are being depicted. Make the above graph compliant with standard scientific practice by adding axis labels and a title. Specify a fontsize of about 16, so that title and labels are printed nice and clear. "
   ]
  },
  {
   "cell_type": "code",
   "execution_count": null,
   "metadata": {
    "collapsed": true
   },
   "outputs": [],
   "source": [
    "# Initialise figure\n",
    "fig, ax = plt.subplots(figsize=(10, 5))\n",
    "\n",
    "# Plot three curves\n",
    "t = pd.to_datetime(df['Time'])\n",
    "ax.plot(t, df['Ping (ms)'], 'o', label='Ping (ms)')\n",
    "ax.plot(t, df['Upload (Mbit/s)'], label='Upload (Mbit/s)')\n",
    "ax.plot(t, df['Download (Mbit/s)'], label='Download (Mbit/s)')\n",
    "\n",
    "# Insert legend\n",
    "ax.legend()\n",
    "\n",
    "# Add axis labels and title\n",
    "#ax.set_xlabel(...\n",
    "#ax.set_ylabel(...\n",
    "#ax.set_title(...\n",
    "\n",
    "# Change tick size\n",
    "ax.tick_params(labelsize=14)"
   ]
  },
  {
   "cell_type": "markdown",
   "metadata": {
    "collapsed": true
   },
   "source": [
    "###### e)  Change the plot theme.\n",
    "Use the `'fivethirtyeight'` [style context](http://matplotlib.org/examples/style_sheets/plot_fivethirtyeight.html) to make the previous graph more visually appealing. To do this, add the row with the `with` statement to your code, before calling the `Matplotlib` functions."
   ]
  },
  {
   "cell_type": "code",
   "execution_count": null,
   "metadata": {
    "collapsed": true
   },
   "outputs": [],
   "source": [
    "# Use a style context\n",
    "#with ...\n",
    "\n",
    "    # Initialise figure\n",
    "    #fig, ax = \n",
    "    \n",
    "    # Plot ping as a function of time\n",
    " \n",
    "    # Add axis labels and title\n",
    "    \n",
    "    # Change tick size"
   ]
  },
  {
   "cell_type": "markdown",
   "metadata": {},
   "source": [
    "###### f) Create a Histogram.\n",
    "\n",
    "A histogram is a graphical representation of the frequency of the values of numerical data. Examine the code below. An additional level of complexity is the use of subplots to display the histograms side-by-side. "
   ]
  },
  {
   "cell_type": "code",
   "execution_count": null,
   "metadata": {
    "collapsed": true
   },
   "outputs": [],
   "source": [
    "with plt.style.context('fivethirtyeight'):\n",
    "    \n",
    "    nbins = 100\n",
    "    # Initialize figure\n",
    "    fig, ax = plt.subplots(2, 2, figsize=(10, 10))\n",
    "    ax[0][0].hist(df['Ping (ms)'], nbins)\n",
    "    ax[0][0].set_xlabel('Ping (ms)', fontsize=16)\n",
    "    ax[0][0].tick_params(labelsize=14)\n",
    "    ax[0][1].hist(df['Upload (Mbit/s)'], nbins)\n",
    "    ax[0][1].set_xlabel('Upload (Mbit/s)', fontsize=16)\n",
    "    ax[0][1].tick_params(labelsize=14)\n",
    "    ax[1][0].hist(df['Download (Mbit/s)'], nbins)\n",
    "    ax[1][0].set_xlabel('Download (Mbit/s)', fontsize=16)\n",
    "    ax[1][0].tick_params(labelsize=14)\n",
    "    ax[1][1].set_visible(False)"
   ]
  }
 ],
 "metadata": {
  "kernelspec": {
   "display_name": "Python 3",
   "language": "python",
   "name": "python3"
  },
  "language_info": {
   "codemirror_mode": {
    "name": "ipython",
    "version": 3
   },
   "file_extension": ".py",
   "mimetype": "text/x-python",
   "name": "python",
   "nbconvert_exporter": "python",
   "pygments_lexer": "ipython3",
   "version": "3.6.0"
  }
 },
 "nbformat": 4,
 "nbformat_minor": 1
}
