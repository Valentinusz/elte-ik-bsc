{
 "cells": [
  {
   "cell_type": "code",
   "execution_count": 1,
   "id": "initial_id",
   "metadata": {
    "collapsed": true,
    "ExecuteTime": {
     "end_time": "2023-11-24T08:43:28.488744100Z",
     "start_time": "2023-11-24T08:43:26.490614700Z"
    }
   },
   "outputs": [],
   "source": [
    "from IPython.display import display, Math\n",
    "import scipy.stats as st"
   ]
  },
  {
   "cell_type": "markdown",
   "source": [
    "Minták:"
   ],
   "metadata": {
    "collapsed": false
   },
   "id": "25867038d7e79237"
  },
  {
   "cell_type": "code",
   "execution_count": 2,
   "outputs": [],
   "source": [
    "A = [11.9, 12.1, 12.8, 12.2, 12.5, 11.9, 12.5, 11.8, 12.4, 12.9]\n",
    "B = [12.1, 12.0, 12.9, 12.2, 12.7, 12.6, 12.6, 12.8, 12.0, 13.1]"
   ],
   "metadata": {
    "collapsed": false,
    "ExecuteTime": {
     "end_time": "2023-11-24T08:43:28.499419800Z",
     "start_time": "2023-11-24T08:43:28.491120Z"
    }
   },
   "id": "37f46c8e5d843412"
  },
  {
   "cell_type": "markdown",
   "source": [
    "Szignifikanciaszint:"
   ],
   "metadata": {
    "collapsed": false
   },
   "id": "bcfe7b8055e2f435"
  },
  {
   "cell_type": "code",
   "execution_count": 3,
   "outputs": [],
   "source": [
    "alpha = 0.05"
   ],
   "metadata": {
    "collapsed": false,
    "ExecuteTime": {
     "end_time": "2023-11-24T08:43:28.499419800Z",
     "start_time": "2023-11-24T08:43:28.493643Z"
    }
   },
   "id": "1928b0d4841af9de"
  },
  {
   "cell_type": "markdown",
   "source": [
    "Jobban dolgozott-e az A gyáregység? $H_0: m_A \\ge m_B$"
   ],
   "metadata": {
    "collapsed": false
   },
   "id": "3442c7877ca7dc31"
  },
  {
   "cell_type": "code",
   "execution_count": 4,
   "outputs": [
    {
     "name": "stdout",
     "output_type": "stream",
     "text": [
      "12.3\n",
      "12.5\n"
     ]
    }
   ],
   "source": [
    "print(st.tmean(A))\n",
    "print(st.tmean(B))"
   ],
   "metadata": {
    "collapsed": false,
    "ExecuteTime": {
     "end_time": "2023-11-24T08:43:28.513361200Z",
     "start_time": "2023-11-24T08:43:28.497418400Z"
    }
   },
   "id": "d0eb3d8b8054249b"
  },
  {
   "cell_type": "code",
   "execution_count": 6,
   "outputs": [
    {
     "data": {
      "text/plain": "<IPython.core.display.Math object>",
      "text/latex": "$\\displaystyle 0.38297084310253526^2 \\approx 0.147 = (S_1^*)^2$"
     },
     "metadata": {},
     "output_type": "display_data"
    },
    {
     "data": {
      "text/plain": "<IPython.core.display.Math object>",
      "text/latex": "$\\displaystyle 0.39721250959376625^2 \\approx 0.158 = (S_2^*)^2$"
     },
     "metadata": {},
     "output_type": "display_data"
    }
   ],
   "source": [
    "unbiased_deviation_A = st.tstd(A, ddof=1)\n",
    "unbiased_deviation_B = st.tstd(B, ddof=1)\n",
    "unbiased_variance_A = round(unbiased_deviation_A ** 2, 3)\n",
    "unbiased_variance_B = round(unbiased_deviation_B ** 2, 3)\n",
    "display(Math(rf\"{unbiased_deviation_A}^2 \\approx {unbiased_variance_A} = (S_1^*)^2\"))\n",
    "display(Math(rf\"{unbiased_deviation_B}^2 \\approx {unbiased_variance_B} = (S_2^*)^2\"))\n"
   ],
   "metadata": {
    "collapsed": false,
    "ExecuteTime": {
     "end_time": "2023-11-24T08:43:59.432607800Z",
     "start_time": "2023-11-24T08:43:59.404281400Z"
    }
   },
   "id": "b758ad2a1aa29db7"
  },
  {
   "cell_type": "markdown",
   "source": [
    "Az F-próba nullhipotézise, hogy a minták szórásai megegyeznek, azaz $H_0: \\sigma_1 = \\sigma_2$. Tegyük fel, hogy teljesül a nullhipotézis, mivel $(S_1^*)^2 < (S_2^*)^2$, ezért\n",
    "$$\n",
    "F = \\frac{(S_2^*)^2}{(S_1^*)^2} \\sim \\mathrm{F}\\left(9, 9 \\right)\n",
    "$$"
   ],
   "metadata": {
    "collapsed": false
   },
   "id": "4f2476cef9ba64db"
  },
  {
   "cell_type": "code",
   "execution_count": 28,
   "outputs": [
    {
     "data": {
      "text/plain": "<IPython.core.display.Math object>",
      "text/latex": "$\\displaystyle f = \\frac{(S_2^*)^2}{(S_1^*)^2} = 1.075$"
     },
     "metadata": {},
     "output_type": "display_data"
    }
   ],
   "source": [
    "f = round(unbiased_variance_B / unbiased_variance_A, 3)\n",
    "display(Math(r'f = \\frac{(S_2^*)^2}{(S_1^*)^2} = ' + str(f)))"
   ],
   "metadata": {
    "collapsed": false,
    "ExecuteTime": {
     "end_time": "2023-11-24T10:20:55.383107300Z",
     "start_time": "2023-11-24T10:20:55.349138Z"
    }
   },
   "id": "1aaddf6cbf33e45a"
  },
  {
   "cell_type": "code",
   "execution_count": 31,
   "outputs": [
    {
     "name": "stdout",
     "output_type": "stream",
     "text": [
      "0.24838585469445487 < 1.075 < 4.025994158282979 \t True\n"
     ]
    }
   ],
   "source": [
    "f_lower = st.f.ppf((alpha / 2), 9, 9)\n",
    "f_upper = st.f.ppf((1-alpha / 2), 9, 9)\n",
    "print(f'{f_lower} < {f} < {f_upper} \\t {f_lower < f < f_upper}')"
   ],
   "metadata": {
    "collapsed": false,
    "ExecuteTime": {
     "end_time": "2023-11-24T10:22:07.414398700Z",
     "start_time": "2023-11-24T10:22:07.386453800Z"
    }
   },
   "id": "4c146bfa3d434b5e"
  },
  {
   "cell_type": "markdown",
   "source": [
    "Mivel $f$ a konfidenciaintervallumba esik elfogadjuk az $F$-próba nullhipotézisét. Ezért egy kétmintás $t$-próbát hajtunk végre.\n",
    "\n",
    "A $t$ próbával az eredetileg felállított hipotézist fogjuk viszgálni."
   ],
   "metadata": {
    "collapsed": false
   },
   "id": "6b06944af0fff60c"
  },
  {
   "cell_type": "markdown",
   "source": [
    "A próbastatiszika:\n",
    "$$\n",
    "\\mathrm{T}(X,Y) =\n",
    "\\sqrt{ \\frac{nm}{n+m} } \\cdot\n",
    "\\frac{ \\overline{X} - \\overline{Y} }{ \\sqrt{\\frac{ (n-1) \\cdot (S_1^*)^2 + (m-1) \\cdot (S_2^*)^2 } {n-1+m-1} } }\n",
    "$$"
   ],
   "metadata": {
    "collapsed": false
   },
   "id": "ecaa5b1de6be5a6"
  },
  {
   "cell_type": "markdown",
   "source": [
    "Elvégezve a behelyettesítést a $t$ érték:"
   ],
   "metadata": {
    "collapsed": false
   },
   "id": "6f1853b299d39732"
  },
  {
   "cell_type": "code",
   "execution_count": 36,
   "outputs": [
    {
     "data": {
      "text/plain": "-1.146241079851301"
     },
     "execution_count": 36,
     "metadata": {},
     "output_type": "execute_result"
    }
   ],
   "source": [
    "t_statistic,_ = st.ttest_ind(A, B)\n",
    "t_statistic"
   ],
   "metadata": {
    "collapsed": false,
    "ExecuteTime": {
     "end_time": "2023-11-24T10:29:23.261335700Z",
     "start_time": "2023-11-24T10:29:23.256142900Z"
    }
   },
   "id": "f51b46c6ab98d525"
  },
  {
   "cell_type": "markdown",
   "source": [
    "Ha igaz a nullhipotézis $T(X,Y)$ $t$-eloszlást követ $(n+m-2)$ paraméterrel, tehát a $t_{18; 0,05}$ értéket keressük. (Azért 0,05, mivel az eredeti hipotézésünk $ \\ge $, volt ezért a túl kicsi értékeket utasítjuk el)"
   ],
   "metadata": {
    "collapsed": false
   },
   "id": "5f0b1484567336ef"
  },
  {
   "cell_type": "code",
   "execution_count": 40,
   "outputs": [
    {
     "name": "stdout",
     "output_type": "stream",
     "text": [
      "-1.734063606617536 < -1.146241079851301 < 1.734063606617536 \t True\n"
     ]
    }
   ],
   "source": [
    "bound = st.t.ppf(alpha, 18)\n",
    "print(f'{bound} < {t_statistic} < {-bound} \\t {bound < t_statistic < -bound}')"
   ],
   "metadata": {
    "collapsed": false,
    "ExecuteTime": {
     "end_time": "2023-11-24T10:46:07.148988300Z",
     "start_time": "2023-11-24T10:46:07.144416300Z"
    }
   },
   "id": "af92633381299728"
  },
  {
   "cell_type": "markdown",
   "source": [
    "Mivel ez igaz elfogadjuk az eredeti nullhipotézist."
   ],
   "metadata": {
    "collapsed": false
   },
   "id": "a148f3dc3bfabfa5"
  }
 ],
 "metadata": {
  "kernelspec": {
   "display_name": "Python 3",
   "language": "python",
   "name": "python3"
  },
  "language_info": {
   "codemirror_mode": {
    "name": "ipython",
    "version": 2
   },
   "file_extension": ".py",
   "mimetype": "text/x-python",
   "name": "python",
   "nbconvert_exporter": "python",
   "pygments_lexer": "ipython2",
   "version": "2.7.6"
  }
 },
 "nbformat": 4,
 "nbformat_minor": 5
}
