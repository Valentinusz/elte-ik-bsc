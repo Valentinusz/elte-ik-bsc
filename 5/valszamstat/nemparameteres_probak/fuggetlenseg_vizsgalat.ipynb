{
 "cells": [
  {
   "cell_type": "markdown",
   "metadata": {},
   "source": [
    "# Függetlenségvizsgálat"
   ]
  },
  {
   "cell_type": "code",
   "execution_count": 42,
   "metadata": {
    "ExecuteTime": {
     "end_time": "2023-12-01T21:57:57.933761700Z",
     "start_time": "2023-12-01T21:57:57.847577200Z"
    }
   },
   "outputs": [],
   "source": [
    "import numpy as np\n",
    "from scipy.stats import chi2, chi2_contingency\n",
    "from IPython.display import display, Math"
   ]
  },
  {
   "cell_type": "code",
   "execution_count": 43,
   "metadata": {
    "ExecuteTime": {
     "end_time": "2023-12-01T21:57:57.951369800Z",
     "start_time": "2023-12-01T21:57:57.851102300Z"
    }
   },
   "outputs": [
    {
     "data": {
      "text/plain": "100"
     },
     "execution_count": 43,
     "metadata": {},
     "output_type": "execute_result"
    }
   ],
   "source": [
    "matrix = np.matrix('15 10 5; 10 10 20; 5 20 5')\n",
    "\n",
    "n = matrix.sum()\n",
    "n"
   ]
  },
  {
   "cell_type": "code",
   "execution_count": 44,
   "metadata": {
    "ExecuteTime": {
     "end_time": "2023-12-01T21:57:57.954925500Z",
     "start_time": "2023-12-01T21:57:57.861421200Z"
    }
   },
   "outputs": [
    {
     "data": {
      "text/plain": "matrix([[30],\n        [40],\n        [30]])"
     },
     "execution_count": 44,
     "metadata": {},
     "output_type": "execute_result"
    }
   ],
   "source": [
    "i_sums = matrix.sum(axis=1)\n",
    "i_sums"
   ]
  },
  {
   "cell_type": "code",
   "execution_count": 45,
   "metadata": {
    "ExecuteTime": {
     "end_time": "2023-12-01T21:57:58.052988600Z",
     "start_time": "2023-12-01T21:57:57.866850100Z"
    }
   },
   "outputs": [
    {
     "data": {
      "text/plain": "matrix([[30, 40, 30]])"
     },
     "execution_count": 45,
     "metadata": {},
     "output_type": "execute_result"
    }
   ],
   "source": [
    "j_sums = matrix.sum(axis=0) \n",
    "j_sums"
   ]
  },
  {
   "cell_type": "code",
   "execution_count": 46,
   "outputs": [
    {
     "data": {
      "text/plain": "(3, 3)"
     },
     "execution_count": 46,
     "metadata": {},
     "output_type": "execute_result"
    }
   ],
   "source": [
    "matrix.shape"
   ],
   "metadata": {
    "collapsed": false,
    "ExecuteTime": {
     "end_time": "2023-12-01T21:57:58.054039Z",
     "start_time": "2023-12-01T21:57:57.876300700Z"
    }
   }
  },
  {
   "cell_type": "code",
   "execution_count": 47,
   "metadata": {
    "ExecuteTime": {
     "end_time": "2023-12-01T21:57:58.054550600Z",
     "start_time": "2023-12-01T21:57:57.885874300Z"
    }
   },
   "outputs": [
    {
     "data": {
      "text/plain": "<IPython.core.display.Math object>",
      "text/latex": "$\\displaystyle \\left( v_{11} - \\frac{v_{1 \\bullet} \\cdot v_{\\bullet 1} }{100} \\right)^2 \\cdot \\frac{ 100 } { v_{ 1 \\bullet } \\cdot v_{ \\bullet 1 } } +\\left( v_{12} - \\frac{v_{1 \\bullet} \\cdot v_{\\bullet 2} }{100} \\right)^2 \\cdot \\frac{ 100 } { v_{ 1 \\bullet } \\cdot v_{ \\bullet 2 } } +\\left( v_{13} - \\frac{v_{1 \\bullet} \\cdot v_{\\bullet 3} }{100} \\right)^2 \\cdot \\frac{ 100 } { v_{ 1 \\bullet } \\cdot v_{ \\bullet 3 } } +\\\\[12pt]\\left( v_{21} - \\frac{v_{2 \\bullet} \\cdot v_{\\bullet 1} }{100} \\right)^2 \\cdot \\frac{ 100 } { v_{ 2 \\bullet } \\cdot v_{ \\bullet 1 } } +\\left( v_{22} - \\frac{v_{2 \\bullet} \\cdot v_{\\bullet 2} }{100} \\right)^2 \\cdot \\frac{ 100 } { v_{ 2 \\bullet } \\cdot v_{ \\bullet 2 } } +\\left( v_{23} - \\frac{v_{2 \\bullet} \\cdot v_{\\bullet 3} }{100} \\right)^2 \\cdot \\frac{ 100 } { v_{ 2 \\bullet } \\cdot v_{ \\bullet 3 } } +\\\\[12pt]\\left( v_{31} - \\frac{v_{3 \\bullet} \\cdot v_{\\bullet 1} }{100} \\right)^2 \\cdot \\frac{ 100 } { v_{ 3 \\bullet } \\cdot v_{ \\bullet 1 } } +\\left( v_{32} - \\frac{v_{3 \\bullet} \\cdot v_{\\bullet 2} }{100} \\right)^2 \\cdot \\frac{ 100 } { v_{ 3 \\bullet } \\cdot v_{ \\bullet 2 } } +\\left( v_{33} - \\frac{v_{3 \\bullet} \\cdot v_{\\bullet 3} }{100} \\right)^2 \\cdot \\frac{ 100 } { v_{ 3 \\bullet } \\cdot v_{ \\bullet 3 } } +$"
     },
     "metadata": {},
     "output_type": "display_data"
    },
    {
     "data": {
      "text/plain": "<IPython.core.display.Math object>",
      "text/latex": "$\\displaystyle \\left( 15 - \\frac{ 30 \\cdot 30 } {100} \\right)^2 \\cdot \\frac{ 100 } { 30 \\cdot 30 } +\\left( 10 - \\frac{ 30 \\cdot 40 } {100} \\right)^2 \\cdot \\frac{ 100 } { 30 \\cdot 40 } +\\left( 5 - \\frac{ 30 \\cdot 30 } {100} \\right)^2 \\cdot \\frac{ 100 } { 30 \\cdot 30 } +\\\\[12pt]\\left( 10 - \\frac{ 40 \\cdot 30 } {100} \\right)^2 \\cdot \\frac{ 100 } { 40 \\cdot 30 } +\\left( 10 - \\frac{ 40 \\cdot 40 } {100} \\right)^2 \\cdot \\frac{ 100 } { 40 \\cdot 40 } +\\left( 20 - \\frac{ 40 \\cdot 30 } {100} \\right)^2 \\cdot \\frac{ 100 } { 40 \\cdot 30 } +\\\\[12pt]\\left( 5 - \\frac{ 30 \\cdot 30 } {100} \\right)^2 \\cdot \\frac{ 100 } { 30 \\cdot 30 } +\\left( 20 - \\frac{ 30 \\cdot 40 } {100} \\right)^2 \\cdot \\frac{ 100 } { 30 \\cdot 40 } +\\left( 5 - \\frac{ 30 \\cdot 30 } {100} \\right)^2 \\cdot \\frac{ 100 } { 30 \\cdot 30 }  =  22.916666666666664$"
     },
     "metadata": {},
     "output_type": "display_data"
    }
   ],
   "source": [
    "eq = rf''\n",
    "eq2 = rf''\n",
    "res = 0\n",
    "\n",
    "r, s = matrix.shape\n",
    "for i in range(r):\n",
    "    for j in range(s):\n",
    "        eq += rf\"\\left( v_{{{i+1}{j+1}}} - \\frac{{v_{{{i+1} \\bullet}} \\cdot v_{{\\bullet {j+1}}} }}{{{n}}} \\right)^2 \\cdot \\frac{{ {n} }} {{ v_{{ {i+1} \\bullet }} \\cdot v_{{ \\bullet {j+1} }} }} +\"\n",
    "        eq2 += rf\"\\left( {matrix[i,j]} - \\frac{{ {i_sums.item(i)} \\cdot {j_sums.item(j)} }} {{{n}}} \\right)^2 \\cdot \\frac{{ {n} }} {{ {i_sums.item(i)} \\cdot {j_sums.item(j)} }} +\"\n",
    "        res += (matrix[i,j] - i_sums.item(i) * j_sums.item(j) / n )**2 * (n / (i_sums.item(i) * j_sums.item(j)))\n",
    "    if i != r - 1:\n",
    "        eq += rf'\\\\[12pt]'\n",
    "        eq2 += rf'\\\\[12pt]'\n",
    "\n",
    "eq2 = eq2.strip('+')\n",
    "eq2 += rf' =  {res}'\n",
    "\n",
    "\n",
    "display(Math(eq))\n",
    "display(Math(eq2))"
   ]
  },
  {
   "cell_type": "markdown",
   "metadata": {},
   "source": [
    "A próbastatisztika $\\chi^2$ eloszlást követ $(r-1) \\cdot (s-1)$"
   ]
  },
  {
   "cell_type": "code",
   "execution_count": 48,
   "metadata": {
    "ExecuteTime": {
     "end_time": "2023-12-01T21:57:58.057565800Z",
     "start_time": "2023-12-01T21:57:57.894151900Z"
    }
   },
   "outputs": [
    {
     "data": {
      "text/plain": "4"
     },
     "execution_count": 48,
     "metadata": {},
     "output_type": "execute_result"
    }
   ],
   "source": [
    "param = (r-1) * (s-1)\n",
    "param"
   ]
  },
  {
   "cell_type": "code",
   "execution_count": 49,
   "metadata": {
    "ExecuteTime": {
     "end_time": "2023-12-01T21:57:58.071647600Z",
     "start_time": "2023-12-01T21:57:57.902966600Z"
    }
   },
   "outputs": [],
   "source": [
    "chi_distribution = chi2(df=param)"
   ]
  },
  {
   "cell_type": "markdown",
   "metadata": {},
   "source": [
    "A szifnifikanciaszint:"
   ]
  },
  {
   "cell_type": "code",
   "execution_count": 50,
   "metadata": {
    "ExecuteTime": {
     "end_time": "2023-12-01T21:57:58.072154500Z",
     "start_time": "2023-12-01T21:57:57.907496200Z"
    }
   },
   "outputs": [],
   "source": [
    "alpha = 0.05"
   ]
  },
  {
   "cell_type": "markdown",
   "metadata": {},
   "source": [
    "Így a kritikus tartomány kezdete:"
   ]
  },
  {
   "cell_type": "code",
   "execution_count": 51,
   "metadata": {
    "ExecuteTime": {
     "end_time": "2023-12-01T21:57:58.073946600Z",
     "start_time": "2023-12-01T21:57:57.912468900Z"
    }
   },
   "outputs": [
    {
     "data": {
      "text/plain": "9.487729036781154"
     },
     "execution_count": 51,
     "metadata": {},
     "output_type": "execute_result"
    }
   ],
   "source": [
    "critical_start = chi_distribution.ppf(1 - alpha)\n",
    "critical_start"
   ]
  },
  {
   "cell_type": "code",
   "execution_count": 52,
   "metadata": {
    "ExecuteTime": {
     "end_time": "2023-12-01T21:57:58.116158800Z",
     "start_time": "2023-12-01T21:57:57.919691200Z"
    }
   },
   "outputs": [
    {
     "data": {
      "text/plain": "<matplotlib.legend.Legend at 0x1e2ab34f3d0>"
     },
     "execution_count": 52,
     "metadata": {},
     "output_type": "execute_result"
    },
    {
     "data": {
      "text/plain": "<Figure size 640x480 with 1 Axes>",
      "image/png": "[encoded data removed]"
     },
     "metadata": {},
     "output_type": "display_data"
    }
   ],
   "source": [
    "import matplotlib.pyplot as plt\n",
    "\n",
    "x = np.linspace(0, 25, 1000)\n",
    "x2 = np.linspace(critical_start, 25, 1000)\n",
    "plt.plot(x, chi_distribution.pdf(x), 'g', lw=2, label='khí négyzet eloszlás')\n",
    "plt.plot(res, chi_distribution.pdf(res), 'ro')\n",
    "plt.fill_between(x2, y1=0, y2=chi_distribution.pdf(x2), color='r', alpha=0.5, label='kritikus tartomány')\n",
    "plt.legend()"
   ]
  },
  {
   "cell_type": "markdown",
   "metadata": {},
   "source": [
    "Így elutasítjuk a nullhipotézist."
   ]
  },
  {
   "cell_type": "markdown",
   "metadata": {},
   "source": [
    "## SciPy ellenőrzés"
   ]
  },
  {
   "cell_type": "code",
   "execution_count": 53,
   "metadata": {
    "ExecuteTime": {
     "end_time": "2023-12-01T21:57:58.118155900Z",
     "start_time": "2023-12-01T21:57:58.057565800Z"
    }
   },
   "outputs": [
    {
     "data": {
      "text/plain": "Chi2ContingencyResult(statistic=22.916666666666664, pvalue=0.0001315736758929451, dof=4, expected_freq=array([[ 9., 12.,  9.],\n       [12., 16., 12.],\n       [ 9., 12.,  9.]]))"
     },
     "execution_count": 53,
     "metadata": {},
     "output_type": "execute_result"
    }
   ],
   "source": [
    "result = chi2_contingency(matrix)\n",
    "result"
   ]
  },
  {
   "cell_type": "code",
   "execution_count": 54,
   "metadata": {
    "ExecuteTime": {
     "end_time": "2023-12-01T21:57:58.118155900Z",
     "start_time": "2023-12-01T21:57:58.068105100Z"
    }
   },
   "outputs": [
    {
     "data": {
      "text/plain": "False"
     },
     "execution_count": 54,
     "metadata": {},
     "output_type": "execute_result"
    }
   ],
   "source": [
    "alpha < result.pvalue"
   ]
  }
 ],
 "metadata": {
  "kernelspec": {
   "display_name": "Python 3",
   "language": "python",
   "name": "python3"
  },
  "language_info": {
   "codemirror_mode": {
    "name": "ipython",
    "version": 3
   },
   "file_extension": ".py",
   "mimetype": "text/x-python",
   "name": "python",
   "nbconvert_exporter": "python",
   "pygments_lexer": "ipython3",
   "version": "3.11.6"
  }
 },
 "nbformat": 4,
 "nbformat_minor": 2
}
