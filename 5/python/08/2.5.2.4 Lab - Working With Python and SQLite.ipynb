{
 "cells": [
  {
   "cell_type": "markdown",
   "metadata": {},
   "source": [
    "## Lab - Working with Python and SQLite\n"
   ]
  },
  {
   "cell_type": "markdown",
   "metadata": {},
   "source": [
    "### Objectives\n",
    "<b>\n",
    "* Part 1: Create the Database\n",
    "* Part 2: Enter Data and Query the Database\n",
    "* Part 3: Automate the Process with Python\n",
    "</b>"
   ]
  },
  {
   "cell_type": "markdown",
   "metadata": {},
   "source": [
    "### Scenario/Background\n",
    "In this lab you will learn how to connect to a relational database, place queries, and retrieve the data through a Jupyter notebook. You will also learn how to transfer the data from a Microsoft Excel spreadsheet to a SQLite database. \n",
    "\n",
    "The data you are provided contains various measurements for ping, upload, and download speed made in different Local Authorities around England. At the moment, the data is stored in a .csv file, but you will create a database and populate it with the measurement."
   ]
  },
  {
   "cell_type": "markdown",
   "metadata": {},
   "source": [
    "### Required Resources\n",
    "* 1 PC with Internet access\n",
    "* Raspberry Pi version 2 or higher\n",
    "* Python libraries: sqlite3 and csvkit\n",
    "\n",
    "### SQL refresh\n",
    "* Very brief introduction to relational databases (temporary): http://searchsqlserver.techtarget.com/definition/relational-database</li>\n",
    "* More videos on relational databases: https://www.youtube.com/watch?v=jyju2P-7hPA&list=PLAwxTw4SYaPm4R6j_wzVOCV9fJaiQDYx4</li>\n",
    "* Introduction to SQL: http://www.w3schools.com/sql/sql_intro.asp</li>\n",
    "* Working with SQLite via the command-line: https://www.sqlite.org/cli.html"
   ]
  },
  {
   "cell_type": "markdown",
   "metadata": {},
   "source": [
    "### Part 1: Create the Database"
   ]
  },
  {
   "cell_type": "markdown",
   "metadata": {},
   "source": [
    "We are going to use SQLite to connect to the database. SQLite is a library that implements a self-contained transactional SQL database engine that eliminates the need for an SQL server. A simple SQLite utility called `sqlite3` can be installed in the Raspberry Pi. SQLite greatly simplifies the SQL database process.\n",
    "We are also going to use `csvkit`, a suite of tools designed to convert various databases to the .csv (comma separated values) format."
   ]
  },
  {
   "cell_type": "markdown",
   "metadata": {},
   "source": [
    "##### Step 1: Set up the working environment.\n",
    "We will need `sqlite3` and `csvkit` to complete this lab. The commands below can be entered and executed directly on a Raspberry Pi terminal. You can get access to the terminal by clicking <b>New > Terminal</b> in the Home Tab in your web browser. The Home Tab is the tab that contains the list of labs you used to launch this lab.\n",
    "\n",
    "<b>Note:</b> It is recommended to place the terminal tab side-by-side with this tab. This allows you to easily switch from the lab to the terminal window. \n",
    "\n",
    "###### a) Install SQLite.\n",
    "Below, the first command updates and synchronizes the Pi's package list with the repository server. This is to ensure the latest versions of packages are used. After the package list is up to date, the second command installs `sqlite3`, an SQLite package for the Pi that contains the `sqlite3` utility.\n",
    "\n",
    "<b>Note:</b> Since the Raspberry Pi has to contact the package respository servers to download and install the packages, these commands may take a while to finish executing.\n",
    "\n",
    "Run the cell by either clicking the play icon to the left of the code cell or by selecting the cell pressing <SHIFT+ENTER>. Running a code cell executes the contained commands in your Raspberry Pi.\n",
    "\n",
    "<b>Note:</b> In a Jupyter notebook, lines starting with an exclamation mark (```!```) are commands that will be executed by the Raspberry Pi's terminal."
   ]
  },
  {
   "cell_type": "markdown",
   "metadata": {},
   "source": [
    "`# apt-get update`<br>\n",
    "`# apt-get -y install sqlite3`"
   ]
  },
  {
   "cell_type": "markdown",
   "metadata": {},
   "source": [
    "After the installation process finishes, install `csvkit` by running the code cell below:<br>\n",
    "<b>Note:</b> The installation may take a while."
   ]
  },
  {
   "cell_type": "markdown",
   "metadata": {},
   "source": [
    "`# pip install csvkit`"
   ]
  },
  {
   "cell_type": "markdown",
   "metadata": {},
   "source": [
    "Now your Raspberry Pi has `sqlite3` and `csvkit` installed and ready to be used."
   ]
  },
  {
   "cell_type": "markdown",
   "metadata": {},
   "source": [
    "##### Step 2: Work with SQLite.\n",
    "Now that `sqlite3` and `csvkit` are installed, we can start using them to create a database and its tables.\n",
    "A table is a set of information presented in a matrix of rows and columns. A database is a collection of tables.\n",
    "Consider the table below:\n",
    "<table>\n",
    "<tr><td>ID</td><td>Name</td><td>Gender</td><td>Race</td><td>Force Sensitive</td></tr>\n",
    "<tr><td>001</td><td>Han</td><td>Male</td><td>Human</td><td>No</td></tr>\n",
    "<tr><td>002</td><td>Leia</td><td>Female</td><td>Human</td><td>Yes</td></tr>\n",
    "<tr><td>003</td><td>Luke</td><td>Male</td><td>Human</td><td>Yes</td></tr>\n",
    "<tr><td>004</td><td>Obi-Wan</td><td>Male</td><td>Human</td><td>Yes</td></tr>\n",
    "<tr><td>005</td><td>Anakin</td><td>Male</td><td>Human</td><td>Yes</td></tr>\n",
    "<tr><td>006</td><td>Jabba</td><td>Male</td><td>Hutt</td><td>No</td></tr>\n",
    "<tr><td>007</td><td>Greedo</td><td>Male</td><td>Rodian</td><td>No</td></tr>\n",
    "<tr><td>008</td><td>R2D2</td><td>N/A</td><td>Droid</td><td>No</td></tr>\n",
    "<tr><td>009</td><td>C3PO</td><td>N/A</td><td>Droid</td><td>No</td></tr>\n",
    "</table><br>\n",
    "\n",
    "The table above contains information about eight individuals, presented in a row and column fashion.\n",
    "\n",
    "<b>Note:</b> To ensure consistency in the file locations, consider working from the <b>/home/pi/notebooks/myfiles</b> directory. To change to that directory, use the `cd` command, shown below:<br><br>\n",
    "`# cd /home/pi/notebooks/myfiles`<br><br>\n",
    "\n",
    "Before we can start working with a database, use `sqlite3` to create a new SQLite database named `phonebook.db`. To create the new database, execute the command below in the terminal window:<br><br>\n",
    "`# sqlite3 phonebook.db`<br>\n",
    "`SQLite version 3.8.7.1 2016-02-06 13:59:56\n",
    "Enter \".help\" for usage hints.\n",
    "sqlite>`"
   ]
  },
  {
   "cell_type": "markdown",
   "metadata": {},
   "source": [
    "The `sqlite3` utility displays some version information and presents its propmpt, <b>sqlite> </b>. This prompt indicates that the database `phonebook.db` was successfully created and `sqlite3` is ready to execute SQL commands against it.\n",
    "\n",
    "Create a table in the database. From the `sqlite3` prompt, issue the command below to create a table named <b>coworkers</b>. The <b>coworkers</b> table has 3 columns (or fields): workid, name and title. Notice that the command also specifies the type and amount of data each field can accomodate. The <b>workid</b> field supports integer values. The <b>name</b> field supports 20 varchar characters. The <b>title</b> field accepts 20 varchar characters. The <b>number</b> field is also an integer."
   ]
  },
  {
   "cell_type": "markdown",
   "metadata": {},
   "source": [
    "`sqlite> create table coworkers(workid integer,name varchar(20),title varchar(20),number integer);`"
   ]
  },
  {
   "cell_type": "markdown",
   "metadata": {},
   "source": [
    "The same database can contain multiple tables. From the `sqlite3` prompt, use the first command below to create a second table in the `phonebook.db` database. The command creates a table named departments. Created similarly to the coworkers table, the departments table contains three fields: <b>deptid</b>, <b>name</b> and <b>number</b>.\n",
    "\n",
    "The second command leaves the `sqlite3` prompt and drops back to the Terminal."
   ]
  },
  {
   "cell_type": "markdown",
   "metadata": {},
   "source": [
    "`sqlite> create table department(deptid integer,name varchar(20),number integer);`<br>\n",
    "`sqlite> .quit`"
   ]
  },
  {
   "cell_type": "markdown",
   "metadata": {},
   "source": [
    "Notice the dot \".\" before the `quit` command in the cell above. Usually, `sqlite3` passes lines entered by the user on to the SQLite library for execution. However, input lines that begin with a dot are intercepted and interpreted by the sqlite3 utility itself. Also known as <i>dot commands</i>, these commands are often used to change the output format of queries, or to execute certain prepackaged query statements.<br>\n",
    "\n",
    "SQLite databases are useful because the database and all its tables are contained in one single .db file and stored on disk. From the Pi's terminal, use the `ls` command to list the file containing the `phonebook.db` database and its tables. Use the `-l` switch to show the long listing format to display permissions, ownership, size, and date and time of the file.<br>\n",
    "\n",
    "`# ls -l phonebook.db`<br>\n",
    "`-rw-r--r-- 1 root root 3072 Feb  7 01:29 phonebook.db`"
   ]
  },
  {
   "cell_type": "markdown",
   "metadata": {},
   "source": [
    "### Part 2: Enter Data and Query the Database"
   ]
  },
  {
   "cell_type": "markdown",
   "metadata": {},
   "source": [
    "##### Step 1: Enter data into the database.\n",
    "\n",
    "Enter the `sqlite3` prompt again, while selecting the phonebook.db database. <br>\n",
    "\n",
    "`# sqlite3 phonebook.db`<br><br>\n",
    "`SQLite version 3.8.7.1 2016-02-06 13:59:56\n",
    "Enter \".help\" for usage hints.\n",
    "sqlite>`"
   ]
  },
  {
   "cell_type": "markdown",
   "metadata": {},
   "source": [
    "Use the command below to add one entry to the coworkers table:<br><br>\n",
    "\n",
    "`sqlite> insert into coworkers values(101,'Han Solo','Bounty Hunter',5556667578);`<br>\n",
    "\n",
    "The command above inserts a row of four values in the <b>coworkers</b> table as follows:<br>\n",
    "<li><b>101</b>  in the <b>workid</b> column</li>\n",
    "<li><b>Han Solo</b> in the <b>name</b> column</li>\n",
    "<li><b>Bounty Hunter</b> in the <b>title</b> column</li>\n",
    "<li><b>5556667578</b> in the <b>number</b> column</li>\n"
   ]
  },
  {
   "cell_type": "markdown",
   "metadata": {},
   "source": [
    "While the command above is fairly simple, it doesn't scale well. Another option is to import a .csv file directly into the database. The table structure is created based on the structure of the .csv file.<br>\n",
    "\n",
    "The steps below create the .csv file to be imported into the database. In a production environemnt, .csv files will likely already exist.<br>\n",
    "\n",
    "a) Select and copy the text shown below to the clipboard. Once the text is selected, right-click the selected text and choose Copy to copy the text to the clipboard.<br>\n",
    "\n",
    "workid,name,title,number<br>\n",
    "101,Han Solo,Bounty Hunter,5556667578<br>\n",
    "102,Leia Skywalker,Princess,5556542398<br>\n",
    "103,Luke Skywalker,Jedi,5558963267<br>\n",
    "104,Obi-Wan Kenobi,Jedi,5558963276<br>\n",
    "105,Anakin Skywalker,Sith Lord,5553477621<br>\n",
    "106,Jabba The Hutt,Gangster,5556613456<br>\n",
    "107,Greedo,Debt Collector,5552360918<br>\n",
    "108,R2D2,Astro Droid,5555210125<br>\n",
    "109,C3PO,Protocol Droid,5556633345<br>\n",
    "\n",
    "b) From the Pi's terminal, start <b>nano</b>. Nano is a command line text editor and is very easy to use. Use the command below to start nano and create a new text file called coworkers.csv<br>\n",
    "\n",
    "`# nano coworkers.csv`\n",
    "\n",
    "c) Paste the copied text into the nano window. Make sure to remove any empty lines from the file.\n",
    "\n",
    "d) When the text has been pasted to the coworkers.csv file and the empty lines have been cleared out, press CONTROL+X to exit nano. \n",
    "\n",
    "e) Press 'Y' (Yes) when Nano asks if you want to save the file.\n",
    "\n",
    "f) To check the contents of your newly created CSV file, use the `cat` command, as shown below:\n",
    "\n",
    "`# cat coworkers.csv`\n"
   ]
  },
  {
   "cell_type": "markdown",
   "metadata": {},
   "source": [
    "Alternatively, you can create the same CSV file automatically through this Jupyter notebook. To create the CSV file automatically using the Jupyter notebook, run the code cell below:"
   ]
  },
  {
   "cell_type": "code",
   "execution_count": null,
   "metadata": {
    "collapsed": true
   },
   "outputs": [],
   "source": [
    "# Code Cell 1\n",
    "!test -e coworkers.csv && rm coworkers.csv\n",
    "!echo \"workid,name,title,number\" >> /home/pi/notebooks/myfiles/coworkers.csv\n",
    "!echo \"101,Han Solo,Bounty Hunter,5556667578\" >> /home/pi/notebooks/myfiles/coworkers.csv\n",
    "!echo \"102,Leia Skywalker,Princess,5556542398\" >> /home/pi/notebooks/myfiles/coworkers.csv\n",
    "!echo \"103,Luke Skywalker,Jedi,5558963267\" >> /home/pi/notebooks/myfiles/coworkers.csv\n",
    "!echo \"104,Obi-Wan Kenobi,Jedi,5558963276\" >> /home/pi/notebooks/myfiles/coworkers.csv\n",
    "!echo \"105,Anakin Skywalker,Sith Lord,5553477621\" >> /home/pi/notebooks/myfiles/coworkers.csv\n",
    "!echo \"106,Jabba The Hutt,Gangster,5556613456\" >> /home/pi/notebooks/myfiles/coworkers.csv\n",
    "!echo \"107,Greedo,Debt Collector,5552360918\" >> /home/pi/notebooks/myfiles/coworkers.csv\n",
    "!echo \"108,R2D2,Astro Droid,5555210125\" >> /home/pi/notebooks/myfiles/coworkers.csv\n",
    "!echo \"109,C3PO,Protocol Droid,5556633345\" >> /home/pi/notebooks/myfiles/coworkers.csv"
   ]
  },
  {
   "cell_type": "markdown",
   "metadata": {},
   "source": [
    "Once again, use the `cat` command to verify the file creation and its contents.\n",
    "\n",
    "`# cat coworkers.csv`"
   ]
  },
  {
   "cell_type": "markdown",
   "metadata": {},
   "source": [
    "###### Step 2: Import the data into the database.\n",
    "First, delete the coworkers table from the phonebook database. Because the table structure will be defined by the structure of the .csv file and we only have one entry in the table, it's easier to delete the table altogether.<br>\n",
    "\n",
    "From the terminal, enter the sqlite3 prompt while selecting the phonebook.db database:<br>\n",
    "`# sqlite3 phonebook.db\n",
    "SQLite version 3.8.7.1 2016-02-06 13:59:56\n",
    "Enter \".help\" for usage hints.\n",
    "sqlite>`\n",
    "\n",
    "Use the `.tables` command to list all tables currently in the database:<br>\n",
    "`sqlite>.tables`<br>\n",
    "`coworkers department`<br>\n",
    "\n",
    "Two tables, <b>coworkers</b> and <b>department</b> are currently present in the database.<br>\n",
    "\n",
    "Use the `drop` SQL command to delete the <b>coworkers</b> table:<br>\n",
    "`sqlite> drop table coworkers;`<br>\n",
    "\n",
    "Issue the `.tables` command again to list all tables currently present in the database:<br>\n",
    "`sqlite>.tables`<br>\n",
    "`department`<br>\n",
    "\n",
    "Notice that the coworkers table has been removed from the database.<br>\n",
    "Leave the `sqlite3` prompt and return to the terminal:<br>\n",
    "`sqlite>.quit`<br>\n",
    "\n",
    "From the terminal, use the `csvsql` utility to create a new table in the phonebook database and retrieve the data contained in the coworkers.csv file. `csvsql` is part of the `csvkit` package, installed earlier in this lab.<br>\n",
    "\n",
    "`# csvsql --db sqlite:////home/pi/notebooks/myfiles/phonebook.db --insert /home/pi/notebooks/myfiles/coworkers.csv`<br>\n",
    " \n",
    "Enter the sqlite3 prompt while selecting the phonebook database and issue the `.tables` command to list all tables in the database:<br>\n",
    "`# sqlite3 phonebook.db\n",
    "SQLite version 3.8.7.1 2016-02-06 13:59:56\n",
    "Enter \".help\" for usage hints.\n",
    "sqlite>`<br>\n",
    "`sqlite>.tables`<br>\n",
    "`coworkers department`<br>\n",
    "\n",
    "The coworkers table is once again in the database.<br>"
   ]
  },
  {
   "cell_type": "markdown",
   "metadata": {},
   "source": [
    "###### Step 3: Query the database.\n",
    "\n",
    "From the terminal, enter the sqlite3 prompt while selecting the phonebook.db database:<br>\n",
    "`# sqlite3 phonebook.db\n",
    "SQLite version 3.8.7.1 2016-02-06 13:59:56\n",
    "Enter \".help\" for usage hints.\n",
    "sqlite>`\n",
    "\n",
    "List all the contents of the <b>coworkers</b> table:<br><br>\n",
    "`sqlite> select * from coworkers;\n",
    "101|Han Solo|Bounty Hunter|5556667578\n",
    "102|Leia Skywalker|Princess|5556542398\n",
    "103|Luke Skywalker|Jedi|5558963267\n",
    "104|Obi-Wan Kenobi|Jedi|5558963276\n",
    "105|Anakin Skywalker|Sith Lord|5553477621\n",
    "106|Jabba The Hutt|Gangster|5556613456\n",
    "107|Greedo|Debt Collector|5552360918\n",
    "108|R2D2|Astro Droid|5555210125\n",
    "109|C3PO|Protocol Droid|5556633345\n",
    "sqlite>`\n",
    "\n",
    "In the `select` SQL command show above, the star character (\\*) selects all fields in the <b>coworkers</b> table. To display names of the entries with the Jedi job title, use the following command:<br><br>\n",
    "`sqlite> select name from coworkers where title='Jedi';\n",
    "Luke Skywalker\n",
    "Obi-Wan Kenobi\n",
    "sqlite>\n",
    "`\n",
    "\n",
    "Can you build a query to display the names of the bounty hunters in the coworkers table?"
   ]
  },
  {
   "cell_type": "markdown",
   "metadata": {},
   "source": []
  },
  {
   "cell_type": "markdown",
   "metadata": {},
   "source": [
    "### Part 3: Automate the Process with Python"
   ]
  },
  {
   "cell_type": "markdown",
   "metadata": {},
   "source": [
    "Use Python to connect to the database and run some queries to see what this data looks like.\n",
    "\n",
    "##### Step 1: Import the modules.\n",
    "For this step, we will need the following modules:<br><br>\n",
    "`sqlite3`<br>\n",
    "`pandas`<br>\n",
    "`pyplot`<br><br>\n",
    "Below are the lines of code to import the required Python modules:<br><br>\n",
    "\n",
    "`# this is the library to talk to the database`<br>\n",
    "`import sqlite3`<br>\n",
    "`import pandas as pd`<br>\n",
    "`# this is a library for data visualization`<br>\n",
    "`from matplotlib import pyplot as plt`<br>\n",
    "`# this is to say that we want our plots to be part of this page, and not opened in a new window`<br>\n",
    "`%matplotlib inline`<br><br>"
   ]
  },
  {
   "cell_type": "markdown",
   "metadata": {},
   "source": [
    "##### Step 2: Connect to the database.\n",
    "Before queries can be placed to the database through Python, a database connection must be established. The Python <b>sqlite3</b> object has a <b>connect()</b> method that facilitates the connection to the database.<br>\n",
    "\n",
    "<b>Note:</b> While the Python object and the command-line utility used so far in this lab share the same name, <b>sqlite3</b>, their scope of usage is different. The latter must be called from Python while the former requires a Linux terminal to execute.<br>\n",
    "\n",
    "To use the <b>sqlite3</b> Python object to open a connection, call the method `connect` of the object `sqlite3`. This method takes a string containing the name of the database for which the connection is needed.<br>\n",
    "\n",
    "In this case, the command will be:\n",
    "\n",
    "`sqlite3.connect('/home/pi/notebooks/myfiles/phonebook.db')`\n",
    "\n",
    "This function returns the connection, which will be stored in a variable called `conn`. Storing the details of the connection in a variable makes it easy to refer back to that same connection when needed. The line of code containing the variable assigment and the connection establishement is as follows:\n",
    "\n",
    "`conn = sqlite3.connect('/home/pi/notebooks/myfiles/phonebook.db')`\n",
    "\n",
    "Now that the connection to the database is established and its details are stored and accessible via `conn`variable, we need a way to navigate through the database. In this case, we will use another method of the `sqlite3` object called `cursor()`. Acticng as a moveable pointer inside the database, a cursor is a control structure that will enable us to navigate through tables and records. The cursor is important because it specifies what cell (table, column, and row) is to be read from or written to. To create the cursor, call the method `cursor()` in an established database connection. Since we stored the details of the connection to the phonebook database in the `conn` variable, use that variable to create a cursor, as follows:<br>\n",
    "\n",
    "`conn.cursor()`\n",
    "\n",
    "Use another variable to store the details of the newly created cursor object. The line of code below stores the details of the cursor in the `cur` variable:\n",
    " \n",
    "`cur = conn.cursor()`\n",
    "\n",
    "Below is the full Python program so far:<br>\n"
   ]
  },
  {
   "cell_type": "code",
   "execution_count": null,
   "metadata": {
    "collapsed": true
   },
   "outputs": [],
   "source": [
    "# Code Cell 2\n",
    "# this is the library to talk to the database\n",
    "import sqlite3\n",
    "import pandas as pd\n",
    "# this is a library for data visualisation\n",
    "from matplotlib import pyplot as plt\n",
    "# this is to say that we want our plots to be part of this page, and not opened in a new window\n",
    "%matplotlib inline\n",
    "\n",
    "# establishing the connection to the database and storing the details in conn...\n",
    "conn = sqlite3.connect('/home/pi/notebooks/myfiles/phonebook.db')\n",
    "\n",
    "# creating a cursor and storing its details in cur...\n",
    "cur = conn.cursor()"
   ]
  },
  {
   "cell_type": "markdown",
   "metadata": {},
   "source": [
    "##### Step 3: Execute a query.\n",
    "\n",
    "To execute queries against the database, use the `execute()` method. Written as a method of the <b>cursor</b> object, this method takes, as input, a string containing the query we are interested in. To make the program a little cleaner, we will store the query in a variable named `query`. The execute method call is as follows:<br><br>\n",
    "\n",
    "`query = \"SELECT name FROM coworkers;\"`<br>\n",
    "`cur.execute(query)`<br>\n",
    "\n",
    "Run the cell below to place a query and store the results in <b>cur</b>."
   ]
  },
  {
   "cell_type": "code",
   "execution_count": null,
   "metadata": {
    "collapsed": true
   },
   "outputs": [],
   "source": [
    "# Code Cell 3\n",
    "query = \"SELECT * FROM coworkers;\"\n",
    "cur.execute(query)"
   ]
  },
  {
   "cell_type": "markdown",
   "metadata": {},
   "source": [
    "The results of the query are stored in the <b>cur</b> object. To visualize the results, we must iterate through the <b>cur</b> object, printing out each row.\n",
    "\n",
    "Run the cell below to iterate through <b>cur</b> and print its contents:"
   ]
  },
  {
   "cell_type": "code",
   "execution_count": null,
   "metadata": {
    "collapsed": true
   },
   "outputs": [],
   "source": [
    "# Code Cell 4\n",
    "for row in cur:\n",
    "    print(row)"
   ]
  },
  {
   "cell_type": "markdown",
   "metadata": {},
   "source": [
    "##### Challenge\n",
    "\n",
    "1) Provide the code to query the names of all the princesses."
   ]
  },
  {
   "cell_type": "markdown",
   "metadata": {},
   "source": []
  },
  {
   "cell_type": "markdown",
   "metadata": {},
   "source": [
    "2) Provide the code to query the names of all the princesses and the debt collectors."
   ]
  },
  {
   "cell_type": "markdown",
   "metadata": {},
   "source": []
  },
  {
   "cell_type": "markdown",
   "metadata": {},
   "source": [
    "3) Provide the code to query the names and numbers of all the Jedi?"
   ]
  },
  {
   "cell_type": "markdown",
   "metadata": {},
   "source": []
  },
  {
   "cell_type": "markdown",
   "metadata": {},
   "source": [
    "4) Provide the code to query the names of the droids?"
   ]
  },
  {
   "cell_type": "markdown",
   "metadata": {},
   "source": []
  },
  {
   "cell_type": "markdown",
   "metadata": {
    "collapsed": true
   },
   "source": [
    "<font size='0.5'>&copy; 2017 Cisco and/or its affiliates. All rights reserved. This document is Cisco Public.<font>"
   ]
  }
 ],
 "metadata": {
  "anaconda-cloud": {},
  "kernelspec": {
   "display_name": "Python 3",
   "language": "python",
   "name": "python3"
  },
  "language_info": {
   "codemirror_mode": {
    "name": "ipython",
    "version": 3
   },
   "file_extension": ".py",
   "mimetype": "text/x-python",
   "name": "python",
   "nbconvert_exporter": "python",
   "pygments_lexer": "ipython3",
   "version": "3.6.0"
  }
 },
 "nbformat": 4,
 "nbformat_minor": 1
}
