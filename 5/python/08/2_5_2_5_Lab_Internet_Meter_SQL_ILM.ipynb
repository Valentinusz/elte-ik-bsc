{
  "cells": [
    {
      "cell_type": "markdown",
      "metadata": {
        "id": "-lOyerkw47-p"
      },
      "source": [
        "![Title](Images/cisco.png)"
      ]
    },
    {
      "cell_type": "markdown",
      "metadata": {
        "id": "jjCxKn_j47-r"
      },
      "source": [
        "# Lab - Internet Meter SQL</font>"
      ]
    },
    {
      "cell_type": "markdown",
      "metadata": {
        "id": "iJTKkBg147-s"
      },
      "source": [
        "### Objectives\n",
        "\n",
        "<b>\n",
        "* Part 1: Set up your Database\n",
        "* Part 2: Connect to the Database\n",
        "* Part 3: Manipulate the Data with Pandas\n",
        "* Part 4: Join Tables with Pandas\n",
        "</b>"
      ]
    },
    {
      "cell_type": "markdown",
      "metadata": {
        "id": "qoVnScmy47-t"
      },
      "source": [
        "### Scenario/Background\n",
        "In this lab you will learn how to connect to a relational database, retrieve and manipulate the data through a Jupyter notebook. The data you are provided contain various measurements for ping, upload and download speed made in different Local Authorities around England. At the moment the data is stored in a csv file, but you will create a database and populate it with the measurement.\n",
        "\n",
        "You will:\n",
        "* Work with a relational database\n",
        "* Set up SQLite\n",
        "* Create a new database\n",
        "* Use csvsql to create a new table and retrieve data directly from a big csv file\n",
        "* Connect to a database with the sqlite3 Python library\n",
        "* Perform basic SQL queries through Python\n",
        "* Explore the interaction between Pandas and an SQL database\n",
        "* Merge two tables"
      ]
    },
    {
      "cell_type": "markdown",
      "metadata": {
        "id": "Jat6yEHa47-u"
      },
      "source": [
        "### Required Resources\n",
        "* 1 PC with Internet access\n",
        "* Raspberry Pi version 2 or higher\n",
        "* Python libraries: sqlite3, pandas, matplotlib\n",
        "* Additional libraries: csvkit\n",
        "* Datafiles: LA_wifi_speed_UK.csv, LA_population.csv\n",
        "\n",
        "### SQL refresh\n",
        "* Very brief introduction to relational databases (temporary): http://searchsqlserver.techtarget.com/definition/relational-database</li>\n",
        "* More videos on relational databases: https://www.youtube.com/watch?v=jyju2P-7hPA&list=PLAwxTw4SYaPm4R6j_wzVOCV9fJaiQDYx4</li>\n",
        "* Introduction to SQL http://www.w3schools.com/sql/sql_intro.asp</li>"
      ]
    },
    {
      "cell_type": "markdown",
      "metadata": {
        "id": "-OUQyZkD47-u"
      },
      "source": [
        "## Part 1: Set up your Database"
      ]
    },
    {
      "cell_type": "markdown",
      "metadata": {
        "id": "qxm3g8k947-v"
      },
      "source": [
        "In this part, you will use SQLite, an in-process library that implements a self-contained, serverless, zero-configuration, transactional SQL database engine to set up the environment."
      ]
    },
    {
      "cell_type": "markdown",
      "metadata": {
        "id": "5UY31c7U47-v"
      },
      "source": [
        "#### Step 1: Set up the working environment.\n",
        "We will need `sqlite3` and `csvkit` to complete this notebook.\n",
        "\n",
        "###### a) Install SQLite.\n",
        "In a Jupyter notebook, it is possible to run the same commands that would be used in the terminal. To do so, start the line with an exclamation mark (```!```)."
      ]
    },
    {
      "cell_type": "code",
      "execution_count": 1,
      "metadata": {
        "colab": {
          "base_uri": "https://localhost:8080/"
        },
        "id": "Vxqnn8vf47-v",
        "outputId": "531b54dc-9325-4efa-e86e-26df394a435d"
      },
      "outputs": [
        {
          "name": "stdout",
          "output_type": "stream",
          "text": [
            "\r0% [Working]\r            \rGet:1 https://cloud.r-project.org/bin/linux/ubuntu jammy-cran40/ InRelease [3,626 B]\n",
            "\r0% [Waiting for headers] [Connecting to security.ubuntu.com (185.125.190.36)] [1 InRelease 3,626 B/3\r0% [Waiting for headers] [Connecting to security.ubuntu.com (185.125.190.36)] [Connecting to ppa.lau\r                                                                                                    \rHit:2 https://developer.download.nvidia.com/compute/cuda/repos/ubuntu2204/x86_64  InRelease\n",
            "Get:3 http://security.ubuntu.com/ubuntu jammy-security InRelease [110 kB]\n",
            "Get:4 https://cloud.r-project.org/bin/linux/ubuntu jammy-cran40/ Packages [46.6 kB]\n",
            "Hit:5 http://archive.ubuntu.com/ubuntu jammy InRelease\n",
            "Get:6 http://archive.ubuntu.com/ubuntu jammy-updates InRelease [119 kB]\n",
            "Get:7 https://ppa.launchpadcontent.net/c2d4u.team/c2d4u4.0+/ubuntu jammy InRelease [18.1 kB]\n",
            "Get:8 http://archive.ubuntu.com/ubuntu jammy-backports InRelease [109 kB]\n",
            "Get:9 http://archive.ubuntu.com/ubuntu jammy-updates/restricted amd64 Packages [1,419 kB]\n",
            "Get:10 http://archive.ubuntu.com/ubuntu jammy-updates/main amd64 Packages [1,455 kB]\n",
            "Get:11 http://archive.ubuntu.com/ubuntu jammy-updates/universe amd64 Packages [1,279 kB]\n",
            "Get:12 http://archive.ubuntu.com/ubuntu jammy-updates/multiverse amd64 Packages [49.8 kB]\n",
            "Hit:13 https://ppa.launchpadcontent.net/deadsnakes/ppa/ubuntu jammy InRelease\n",
            "Hit:14 https://ppa.launchpadcontent.net/graphics-drivers/ppa/ubuntu jammy InRelease\n",
            "Get:15 http://security.ubuntu.com/ubuntu jammy-security/main amd64 Packages [1,186 kB]\n",
            "Hit:16 https://ppa.launchpadcontent.net/ubuntugis/ppa/ubuntu jammy InRelease\n",
            "Get:17 http://security.ubuntu.com/ubuntu jammy-security/universe amd64 Packages [1,013 kB]\n",
            "Get:18 https://ppa.launchpadcontent.net/c2d4u.team/c2d4u4.0+/ubuntu jammy/main Sources [2,231 kB]\n",
            "Get:19 https://ppa.launchpadcontent.net/c2d4u.team/c2d4u4.0+/ubuntu jammy/main amd64 Packages [1,145 kB]\n",
            "Fetched 10.2 MB in 3s (2,924 kB/s)\n",
            "Reading package lists... Done\n",
            "Reading package lists... Done\n",
            "Building dependency tree... Done\n",
            "Reading state information... Done\n",
            "Suggested packages:\n",
            "  sqlite3-doc\n",
            "The following NEW packages will be installed:\n",
            "  sqlite3\n",
            "0 upgraded, 1 newly installed, 0 to remove and 34 not upgraded.\n",
            "Need to get 768 kB of archives.\n",
            "After this operation, 1,873 kB of additional disk space will be used.\n",
            "Get:1 http://archive.ubuntu.com/ubuntu jammy-updates/main amd64 sqlite3 amd64 3.37.2-2ubuntu0.1 [768 kB]\n",
            "Fetched 768 kB in 0s (5,682 kB/s)\n",
            "Selecting previously unselected package sqlite3.\n",
            "(Reading database ... 120874 files and directories currently installed.)\n",
            "Preparing to unpack .../sqlite3_3.37.2-2ubuntu0.1_amd64.deb ...\n",
            "Unpacking sqlite3 (3.37.2-2ubuntu0.1) ...\n",
            "Setting up sqlite3 (3.37.2-2ubuntu0.1) ...\n",
            "Processing triggers for man-db (2.10.2-1) ...\n"
          ]
        }
      ],
      "source": [
        "# Code Cell 1\n",
        "!apt-get update\n",
        "!apt-get -y install sqlite3"
      ]
    },
    {
      "cell_type": "markdown",
      "metadata": {
        "id": "z86BkcLw47-x"
      },
      "source": [
        "After the installation process finishes, create a database:\n",
        "\n",
        "    !sqlite3 <name of your database> \".databases\"\n",
        "\n",
        "*name of the database* is the name you want to give to your database, for example InternetSpeed:\n",
        "\n",
        "    !sqlite3 InternetSpeed.db \".databases\"\n",
        "    \n",
        "This code creates the database in a terminal window. If you are using the terminal, be sure to navigate to the same directory in which this lab resides."
      ]
    },
    {
      "cell_type": "code",
      "execution_count": 5,
      "metadata": {
        "colab": {
          "base_uri": "https://localhost:8080/"
        },
        "id": "cpVlXsFM47-x",
        "outputId": "e783813f-257a-4b0c-8c58-26425cdf3f2f"
      },
      "outputs": [
        {
          "name": "stdout",
          "output_type": "stream",
          "text": [
            "main: /content/InternetSpeed1.db r/w\n"
          ]
        }
      ],
      "source": [
        "# Code Cell 2\n",
        "#Create the InternetSpeed database\n",
        "!sqlite3 /content/InternetSpeed1.db \".databases\""
      ]
    },
    {
      "cell_type": "markdown",
      "metadata": {
        "id": "BHJMX52F47-y"
      },
      "source": [
        "At this point, on your local machine, you have a new, empty database called InternetSpeed.\n",
        "Usually, if you want to create a table, you need to provide a schema specifying the name of the table, the name of the columns, and the type of data that goes in every column (int, str, decimal, etc.).\n",
        "<p>For the purpose of this course, A **synthetic** dataset with wifi speed measurements recorded in 300 locations in the United Kingdom is used for the purpose of this course. The file is structured in a way that each column contains the measurements for a location of one of the three statistics (ping, download, and upload). This means that the table we need has 300\\*3 columns (plus the datetime, and an index column). Writing the schema for such a table by hand is unfeasible. Fortunately, there are ways to overcome this, and one of those is using the **csvkit** package, which contains the function **csvsql** that can be used to create a table and import the data in one command.</p>\n",
        "\n",
        "###### b) Install csvkit.\n",
        "Install csvkit at the terminal:\n",
        "\n",
        "    $pip install csvkit\n",
        "    \n",
        "You can also stay in the notebook environment, as you have done previously, adding the exclamation mark at the beginning of the line.\n",
        "\n",
        "The file used in this part of the lab is called LA_wifi_speed_UK.csv."
      ]
    },
    {
      "cell_type": "code",
      "execution_count": 7,
      "metadata": {
        "colab": {
          "base_uri": "https://localhost:8080/"
        },
        "id": "08igjio847-y",
        "outputId": "3f129851-0143-4e11-a893-686b59130d96"
      },
      "outputs": [
        {
          "name": "stdout",
          "output_type": "stream",
          "text": [
            "Requirement already satisfied: csvkit in /usr/local/lib/python3.10/dist-packages (1.3.0)\n",
            "Requirement already satisfied: agate>=1.6.1 in /usr/local/lib/python3.10/dist-packages (from csvkit) (1.9.0)\n",
            "Requirement already satisfied: agate-excel>=0.2.2 in /usr/local/lib/python3.10/dist-packages (from csvkit) (0.3.0)\n",
            "Requirement already satisfied: agate-dbf>=0.2.2 in /usr/local/lib/python3.10/dist-packages (from csvkit) (0.2.2)\n",
            "Requirement already satisfied: agate-sql>=0.5.3 in /usr/local/lib/python3.10/dist-packages (from csvkit) (0.7.0)\n",
            "Requirement already satisfied: openpyxl in /usr/local/lib/python3.10/dist-packages (from csvkit) (3.1.2)\n",
            "Requirement already satisfied: sqlalchemy in /usr/local/lib/python3.10/dist-packages (from csvkit) (2.0.22)\n",
            "Requirement already satisfied: xlrd in /usr/local/lib/python3.10/dist-packages (from csvkit) (2.0.1)\n",
            "Requirement already satisfied: Babel>=2.0 in /usr/local/lib/python3.10/dist-packages (from agate>=1.6.1->csvkit) (2.13.1)\n",
            "Requirement already satisfied: isodate>=0.5.4 in /usr/local/lib/python3.10/dist-packages (from agate>=1.6.1->csvkit) (0.6.1)\n",
            "Requirement already satisfied: leather>=0.3.2 in /usr/local/lib/python3.10/dist-packages (from agate>=1.6.1->csvkit) (0.3.4)\n",
            "Requirement already satisfied: parsedatetime!=2.5,>=2.1 in /usr/local/lib/python3.10/dist-packages (from agate>=1.6.1->csvkit) (2.6)\n",
            "Requirement already satisfied: python-slugify>=1.2.1 in /usr/local/lib/python3.10/dist-packages (from agate>=1.6.1->csvkit) (8.0.1)\n",
            "Requirement already satisfied: pytimeparse>=1.1.5 in /usr/local/lib/python3.10/dist-packages (from agate>=1.6.1->csvkit) (1.1.8)\n",
            "Requirement already satisfied: dbfread>=2.0.5 in /usr/local/lib/python3.10/dist-packages (from agate-dbf>=0.2.2->csvkit) (2.0.7)\n",
            "Requirement already satisfied: olefile in /usr/local/lib/python3.10/dist-packages (from agate-excel>=0.2.2->csvkit) (0.46)\n",
            "Requirement already satisfied: et-xmlfile in /usr/local/lib/python3.10/dist-packages (from openpyxl->csvkit) (1.1.0)\n",
            "Requirement already satisfied: typing-extensions>=4.2.0 in /usr/local/lib/python3.10/dist-packages (from sqlalchemy->csvkit) (4.5.0)\n",
            "Requirement already satisfied: greenlet!=0.4.17 in /usr/local/lib/python3.10/dist-packages (from sqlalchemy->csvkit) (3.0.0)\n",
            "Requirement already satisfied: six in /usr/local/lib/python3.10/dist-packages (from isodate>=0.5.4->agate>=1.6.1->csvkit) (1.16.0)\n",
            "Requirement already satisfied: text-unidecode>=1.3 in /usr/local/lib/python3.10/dist-packages (from python-slugify>=1.2.1->agate>=1.6.1->csvkit) (1.3)\n"
          ]
        }
      ],
      "source": [
        "# Code Cell 3\n",
        "#Installing csvkit\n",
        "!pip install csvkit"
      ]
    },
    {
      "cell_type": "markdown",
      "metadata": {
        "id": "oguIib7w47-y"
      },
      "source": [
        "###### c) Import the data into the database.\n",
        "Use csvsql to create a new table in the database InternetSpeed and retrieve the data contained in the csv file. First, make sure that there is not another database with the same name. If one exists, remove it:\n",
        "    \n",
        "    $test -e InternetSpeed.db && rm InternetSpeed.db\n",
        "\n",
        "Use csvkit to populate the database from the csv file:\n",
        "\n",
        "    $csvsql --db sqlite:///InternetSpeed.db --insert ./Data/LA_wifi_speed_UK.csv\n",
        "    \n",
        "You can do this through the terminal or remain in the notebook environment."
      ]
    },
    {
      "cell_type": "code",
      "execution_count": 8,
      "metadata": {
        "collapsed": true,
        "id": "a0bAr6Ih47-y"
      },
      "outputs": [],
      "source": [
        "# Code Cell 4\n",
        "# Removing database if already existing\n",
        "!test -e InternetSpeed.db && rm InternetSpeed.db\n",
        "# Importing the LA_wifi_speed_UK.csv file into a sql database file InternetSpeed.db\n",
        "!csvsql --db sqlite:///InternetSpeed.db --insert /content/LA_wifi_speed_UK.csv\n",
        "# This will take a while"
      ]
    },
    {
      "cell_type": "markdown",
      "metadata": {
        "id": "ZjE8Jsms47-z"
      },
      "source": [
        "## Part 2: Connect to the Database"
      ]
    },
    {
      "cell_type": "markdown",
      "metadata": {
        "id": "Hi3IXuWW47-z"
      },
      "source": [
        "Python is used to connect to the database and run some queries to see what this data looks like.\n",
        "\n",
        "Import the libraries:\n"
      ]
    },
    {
      "cell_type": "code",
      "execution_count": 9,
      "metadata": {
        "collapsed": true,
        "id": "rtJpU8sU47-z"
      },
      "outputs": [],
      "source": [
        "# Code Cell 5\n",
        "# this is the library to talk to the database\n",
        "import sqlite3\n",
        "import pandas as pd\n",
        "# this is a library for data visualization\n",
        "from matplotlib import pyplot as plt\n",
        "# this is to say that we want our plots to be part of this page, and not opened in a new window\n",
        "%matplotlib inline"
      ]
    },
    {
      "cell_type": "markdown",
      "metadata": {
        "id": "r8K0iHcy47-z"
      },
      "source": [
        "You can find sqlite3 for Python documentation here: https://docs.python.org/2/library/sqlite3.html\n",
        "\n",
        "#### Step 1: Connect and execute a query.\n",
        "An open connection and a cursor is needed to communicate with the database. The cursor is a control structure that will enable us to navigate through tables and records.\n",
        "\n",
        "To open a connection, call the method `connect` of the library `sqlite3`. This function takes a string containing the name of the database for which the connection is needed.\n",
        "\n",
        "In this case, the command will be:\n",
        "\n",
        "    sqlite3.connect('InternetSpeed.db')\n",
        "\n",
        "This function returns the connection that will be stored as a variable, called `conn`. To create the cursor, call the method `cursor()` in the following way:\n",
        "\n",
        "    conn.cursor()\n",
        "\n",
        "Save it in a variable called `cur`.\n",
        "\n",
        "\n",
        "###### a) Connect to the database you just created, and then create a cursor pointing to the database.\n"
      ]
    },
    {
      "cell_type": "code",
      "execution_count": 10,
      "metadata": {
        "collapsed": true,
        "id": "URLmJw7247-z"
      },
      "outputs": [],
      "source": [
        "# Code Cell 6\n",
        "# what is the name of the database you want to connect to?\n",
        "# conn = sqlite3.connect(??)\n",
        "#SOLUTION:\n",
        "conn = sqlite3.connect('InternetSpeed.db')\n",
        "cur = conn.cursor()"
      ]
    },
    {
      "cell_type": "markdown",
      "metadata": {
        "id": "M3a6rDv647-0"
      },
      "source": [
        "In order to execute a query on the database, we will need to use the cursor we just created and the method `execute()`. This method takes as input a string containing the query we are interested in. We can store the string in a variable, let's call it `query`. Call the method in this way:\n",
        "\n",
        "    cur.execute(query)\n",
        "\n",
        "The table we want to query is not very good for visualization, so we are going to SELECT only the column DateTime, that contains date and time of the measurements. We will LIMIT the number of rows retrieved by the query to 10.\n",
        "\n",
        "###### b) Execute a query.\n",
        "Select the first 10 rows from the DateTime column.\n",
        "\n",
        "Hint: if you want to check the name of the tables in your database, go back to the interactive command line and use this code:\n",
        "    \n",
        "    .tables"
      ]
    },
    {
      "cell_type": "code",
      "execution_count": 11,
      "metadata": {
        "colab": {
          "base_uri": "https://localhost:8080/"
        },
        "id": "oFYVFmYZ47-0",
        "outputId": "405f9c5f-39c2-41c5-d089-e902addfd4af"
      },
      "outputs": [
        {
          "data": {
            "text/plain": [
              "<sqlite3.Cursor at 0x796a53a69d40>"
            ]
          },
          "execution_count": 11,
          "metadata": {},
          "output_type": "execute_result"
        }
      ],
      "source": [
        "# Code Cell 7\n",
        "# complete the query with the field you want to select, the table you want to select the field from,\n",
        "# and the field you want your results to be ordered by\n",
        "#query = 'SELECT ? FROM ? ORDER BY ? LIMIT ?;'\n",
        "\n",
        "# SOLUTION:\n",
        "query = 'SELECT DateTime FROM LA_wifi_speed_UK ORDER BY DateTime LIMIT 10;'\n",
        "\n",
        "cur.execute(query)"
      ]
    },
    {
      "cell_type": "markdown",
      "metadata": {
        "id": "OAiTQrTR47-0"
      },
      "source": [
        "The query result is stored in `cur`. We need to iterate over it in order to visualize the result."
      ]
    },
    {
      "cell_type": "code",
      "execution_count": 12,
      "metadata": {
        "colab": {
          "base_uri": "https://localhost:8080/"
        },
        "id": "-YyrG6kB47-0",
        "outputId": "9c9cf01d-fecc-4704-fc75-aab43785e01e"
      },
      "outputs": [
        {
          "name": "stdout",
          "output_type": "stream",
          "text": [
            "('2016-11-23 00:00:00.000000',)\n",
            "('2016-11-23 00:30:00.000000',)\n",
            "('2016-11-23 01:00:00.000000',)\n",
            "('2016-11-23 01:30:00.000000',)\n",
            "('2016-11-23 02:00:00.000000',)\n",
            "('2016-11-23 02:30:00.000000',)\n",
            "('2016-11-23 03:00:00.000000',)\n",
            "('2016-11-23 03:30:00.000000',)\n",
            "('2016-11-23 04:00:00.000000',)\n",
            "('2016-11-23 04:30:00.000000',)\n"
          ]
        }
      ],
      "source": [
        "# Code Cell 8\n",
        "for row in cur:\n",
        "    print(row)"
      ]
    },
    {
      "cell_type": "markdown",
      "metadata": {
        "id": "2jg3vHwQ47-0"
      },
      "source": [
        "**Note**: We need to sort the table containing the measurement according to the column DateTime. This is because SQL does not have an intrinsic ordering of the rows, and we are dealing with a time series, that without the correct ordering, don't make any sense. Selecting a random sample of rows would remove the temporal component:\n"
      ]
    },
    {
      "cell_type": "code",
      "execution_count": null,
      "metadata": {
        "id": "2qVMUW8w47-1",
        "outputId": "d46a42e6-381e-4f79-fa42-f9fffc0058e2"
      },
      "outputs": [
        {
          "name": "stdout",
          "output_type": "stream",
          "text": [
            "('2016-11-25 03:00:00.000000',)\n",
            "('2016-12-03 17:00:00.000000',)\n",
            "('2016-11-26 01:00:00.000000',)\n",
            "('2016-11-24 19:00:00.000000',)\n",
            "('2016-12-09 10:00:00.000000',)\n",
            "('2016-11-26 11:00:00.000000',)\n",
            "('2016-11-23 10:30:00.000000',)\n",
            "('2016-12-08 17:00:00.000000',)\n",
            "('2016-12-04 04:00:00.000000',)\n",
            "('2016-12-04 21:30:00.000000',)\n"
          ]
        }
      ],
      "source": [
        "# Code Cell 9\n",
        "query = 'SELECT DateTime FROM LA_wifi_speed_UK ORDER BY RANDOM() LIMIT 10'\n",
        "cur.execute(query)\n",
        "\n",
        "for row in cur:\n",
        "    print(row)"
      ]
    },
    {
      "cell_type": "markdown",
      "metadata": {
        "id": "D21ioG5147-1"
      },
      "source": [
        "#### Step 2: Focus on a portion of the data.\n",
        "\n",
        "What are the names of the 900+ columns? It is possible to automatically retrieve them and store them in a list. It will come in handy for different things later.\n",
        "\n",
        "First of all, we need to execute a query over all the columns. In this case, it is not important the number of rows the query returns, so we will limit it to 1."
      ]
    },
    {
      "cell_type": "code",
      "execution_count": 13,
      "metadata": {
        "colab": {
          "base_uri": "https://localhost:8080/"
        },
        "id": "QNrY2KOh47-1",
        "outputId": "63093ba4-3d69-4d58-ad7e-565b46c8792c"
      },
      "outputs": [
        {
          "data": {
            "text/plain": [
              "<sqlite3.Cursor at 0x796a53a69d40>"
            ]
          },
          "execution_count": 13,
          "metadata": {},
          "output_type": "execute_result"
        }
      ],
      "source": [
        "# Code Cell 10\n",
        "# we need to have a cursor pointing to a table for this operation\n",
        "query = 'SELECT * FROM LA_wifi_speed_UK LIMIT 1'\n",
        "cur.execute(query)"
      ]
    },
    {
      "cell_type": "markdown",
      "metadata": {
        "id": "pFJcQBHC47-1"
      },
      "source": [
        "The name of the columns of the table are stored in the field `description` of the cursor."
      ]
    },
    {
      "cell_type": "code",
      "execution_count": 14,
      "metadata": {
        "colab": {
          "base_uri": "https://localhost:8080/"
        },
        "id": "CMS4BuwY47-2",
        "outputId": "a51e78a0-7c22-4ad2-ccd5-1543732c63f4"
      },
      "outputs": [
        {
          "data": {
            "text/plain": [
              "(('E07000223_p', None, None, None, None, None, None),\n",
              " ('E07000026_p', None, None, None, None, None, None),\n",
              " ('E07000032_p', None, None, None, None, None, None),\n",
              " ('E07000224_p', None, None, None, None, None, None),\n",
              " ('E07000170_p', None, None, None, None, None, None),\n",
              " ('E07000105_p', None, None, None, None, None, None),\n",
              " ('E07000004_p', None, None, None, None, None, None),\n",
              " ('E07000200_p', None, None, None, None, None, None),\n",
              " ('E09000002_p', None, None, None, None, None, None),\n",
              " ('E09000003_p', None, None, None, None, None, None))"
            ]
          },
          "execution_count": 14,
          "metadata": {},
          "output_type": "execute_result"
        }
      ],
      "source": [
        "# Code Cell 11\n",
        "#visualizing the first 10 rows of the field description\n",
        "cur.description[:10]"
      ]
    },
    {
      "cell_type": "markdown",
      "metadata": {
        "id": "dZ5bUdch47-2"
      },
      "source": [
        "We can loop over the members of this field and put the names of the columns in a list (a handy data structure in this case).\n",
        "In Python, it is possible to generate lists as the output of a for loop. This concept is called list comprehension and it is just another name for a longer for loop. Each element of the output list is the operation you would do inside the for loop, while iterating over a certain set.  "
      ]
    },
    {
      "cell_type": "code",
      "execution_count": 15,
      "metadata": {
        "collapsed": true,
        "id": "Vu2hnNX647-2"
      },
      "outputs": [],
      "source": [
        "# Code Cell 12\n",
        "# loop over the header and store them in a list\n",
        "columns = [member[0] for member in cur.description]\n",
        "\n",
        "# ignore index column\n",
        "columns = columns[1:]"
      ]
    },
    {
      "cell_type": "markdown",
      "metadata": {
        "id": "732EDAQO47-2"
      },
      "source": [
        "The columns contain the measurements of the three speeds for each geographical area. They are in this form:\n",
        "\n",
        "`<area name>_<suffix>`,\n",
        "\n",
        "Suffix is `p` for ping, `u` for upload and `d` for download.\n",
        "\n",
        "We need to get rid of the suffixes, since we are interested in the names of the area, and at the moment each name is repeated three times. We will use the name of the areas to visualize the various measurements and to generate a new table later in the lab.\n",
        "\n",
        "We can replace the final part of the string with an empty character. To do so, we can use the method `replace()` (see string documentation, https://docs.python.org/2/library/string.html).\n",
        "This method takes as input the part of the string to be replaced and the new piece of string to replace. For instance, to remove the characters `e` and `s` from the string `'chestnut'`, use this code:\n",
        "    \n",
        "    'chestnut'.replace('es', '')\n",
        "\n",
        "###### a) Get area names.\n",
        "Use list comprehension to loop over the list containing the names of the columns of the table and remove the suffixes \"_p\", \"_d\", and \"_u\"."
      ]
    },
    {
      "cell_type": "code",
      "execution_count": 16,
      "metadata": {
        "collapsed": true,
        "id": "aR_66GKS47-3"
      },
      "outputs": [],
      "source": [
        "# Code Cell 13\n",
        "# remove suffix '_p'\n",
        "columns = [c.replace('_p', '') for c in columns]\n",
        "# remove suffix '_d'\n",
        "columns = [c.replace('_d', '') for c in columns]\n",
        "# remove suffix '_u'\n",
        "# columns = ??\n",
        "\n",
        "# SOLUTION:\n",
        "columns = [c.replace('_u', '') for c in columns]\n",
        "\n",
        "# this operation is to remove duplicates\n",
        "columns = list(set(columns))"
      ]
    },
    {
      "cell_type": "code",
      "execution_count": 17,
      "metadata": {
        "colab": {
          "base_uri": "https://localhost:8080/"
        },
        "id": "TAV3gHN447-3",
        "outputId": "0ad57927-da4b-4dab-ad0b-5490dc894cf3"
      },
      "outputs": [
        {
          "data": {
            "text/plain": [
              "['E06000007',\n",
              " 'E08000013',\n",
              " 'E06000020',\n",
              " 'E08000001',\n",
              " 'E07000117',\n",
              " 'E06000039',\n",
              " 'E06000044',\n",
              " 'E07000165',\n",
              " 'E07000124',\n",
              " 'E08000011']"
            ]
          },
          "execution_count": 17,
          "metadata": {},
          "output_type": "execute_result"
        }
      ],
      "source": [
        "# Code Cell 14\n",
        "# visualize the first 10 areas\n",
        "columns[:10]"
      ]
    },
    {
      "cell_type": "markdown",
      "metadata": {
        "id": "5mQ36qdp47-3"
      },
      "source": [
        "The best way to understand the data in the database is to visualize a part of it. In particular, we want to select the three statistics for an area. First of all, let's pick the first area we have in the dataset:"
      ]
    },
    {
      "cell_type": "code",
      "execution_count": 18,
      "metadata": {
        "colab": {
          "base_uri": "https://localhost:8080/"
        },
        "id": "ZeJNO6PK47-4",
        "outputId": "d4341f61-f79f-4e7b-8dac-be0b707374f3"
      },
      "outputs": [
        {
          "name": "stdout",
          "output_type": "stream",
          "text": [
            "E06000007\n"
          ]
        }
      ],
      "source": [
        "# Code Cell 15\n",
        "area = columns[0]\n",
        "print(area)"
      ]
    },
    {
      "cell_type": "markdown",
      "metadata": {
        "id": "LMYB80X947-4"
      },
      "source": [
        "Now we want to visualize the data relative to the area `E07000101`. We need to select the columns containing the three measurements for this area. To do so, we need to manipulate strings again.\n",
        "\n",
        "One way to format a string is:\n",
        "\n",
        "    'We are considering {} area and {} statistics'.format(1, 3)\n",
        "    \n",
        "    We are considering 1 area and 3 statistics\n",
        "\n",
        "We need to add the suffixes back in to get the correct column names. The first thing to do is to build a dictionary that associates the complete name of the measurement to the suffix. This is also going to be helpful to write a meaningful legend in the plot."
      ]
    },
    {
      "cell_type": "code",
      "execution_count": 20,
      "metadata": {
        "colab": {
          "base_uri": "https://localhost:8080/"
        },
        "id": "SzsfgMAY47_I",
        "outputId": "f298c3c7-ccd3-4a0f-d780-16946cfffb13"
      },
      "outputs": [
        {
          "name": "stdout",
          "output_type": "stream",
          "text": [
            "dict_keys(['_p', '_d', '_u'])\n",
            "dict_values(['ping', 'download', 'upload'])\n"
          ]
        }
      ],
      "source": [
        "# Code Cell 16\n",
        "suffix = {'_p':'ping', '_d':'download', '_u':'upload'}\n",
        "# we have the suffixes as the keys of the dictionary\n",
        "print(suffix.keys())\n",
        "\n",
        "# we have the complete names as the values of the dictionary\n",
        "print(suffix.values())"
      ]
    },
    {
      "cell_type": "markdown",
      "metadata": {
        "id": "g-6ExCrh47_J"
      },
      "source": [
        "Now the process is to loop over the keys of the dictionary, write and execute the query to select the measurement relative to our area and, plot them using this code:\n",
        "\n",
        "    plt.plot(cur.fetchall(), label=suffix[s])\n",
        "    \n",
        "The method `fetchall()` retrieves all the rows of the query result. The field `label` will be used to produce the legend of the plot. We can also add a title to the plot, using the method `title()`.\n",
        "\n",
        "###### b) Write the query to select the relevant columns."
      ]
    },
    {
      "cell_type": "code",
      "execution_count": 21,
      "metadata": {
        "colab": {
          "base_uri": "https://localhost:8080/",
          "height": 716
        },
        "id": "bLGhiUOb47_J",
        "outputId": "7a2a9699-8ad1-4ae1-843e-d94461344e52"
      },
      "outputs": [
        {
          "data": {
            "text/plain": [
              "Text(0.5, 1.0, 'E06000007')"
            ]
          },
          "execution_count": 21,
          "metadata": {},
          "output_type": "execute_result"
        },
        {
          "data": {
            "image/png": "[encoded data removed]",
            "text/plain": [
              "<Figure size 1000x800 with 1 Axes>"
            ]
          },
          "metadata": {},
          "output_type": "display_data"
        }
      ],
      "source": [
        "# Code Cell 17\n",
        "area = columns[0]\n",
        "plt.figure(figsize=(10, 8))\n",
        "\n",
        "# Plot each variable in suffix.keys() for each area\n",
        "for s in suffix.keys():\n",
        "    # query = ??\n",
        "    # SOLUTION:\n",
        "    query = 'SELECT \"{}{}\" FROM LA_wifi_speed_UK ORDER BY DateTime'.format(area, s)\n",
        "    cur.execute(query)\n",
        "    plt.plot(cur.fetchall(), label=suffix[s])\n",
        "plt.legend()\n",
        "plt.title(area)"
      ]
    },
    {
      "cell_type": "markdown",
      "metadata": {
        "id": "T3W90aTC47_J"
      },
      "source": [
        "## Part 3: Manipulate the data with Pandas\n",
        "\n",
        "The goal now is to calculate the average wifi speed for all the areas in the dataset. Pandas can help in storing and visualizing the data easily.\n",
        "\n",
        "#### Step 1: Convert all measurements to averages.\n",
        "For each Local Authority. we want to know what the average internet speed for ping, upload, and download was in the period of time over which our data was collected. Pandas dataframes are handy for this kind of operations.\n",
        "\n",
        "###### a) Create an empty dataframe with specific columns.\n",
        "\n",
        "     ['Area', 'Average_p', 'Average_d', 'Average_u']\n",
        "\n",
        "Note: the order of the new specific columns is aligned with the order of keys in the output of `suffix.keys()`, that is `['_p', '_d', '_u']`."
      ]
    },
    {
      "cell_type": "code",
      "execution_count": 22,
      "metadata": {
        "collapsed": true,
        "id": "vFzceNi547_J"
      },
      "outputs": [],
      "source": [
        "# Code Cell 18\n",
        "#new_columns = ?\n",
        "#df = pd.DataFrame(columns = ?)\n",
        "\n",
        "# SOLUTION:\n",
        "new_columns = ['Area', 'Average_p', 'Average_d', 'Average_u']\n",
        "df = pd.DataFrame(columns = new_columns)"
      ]
    },
    {
      "cell_type": "markdown",
      "metadata": {
        "id": "55k1cm-b47_K"
      },
      "source": [
        "An interesting metric is the average speed of ping, upload, and download for every area. To compute it, we need to loop over the columns, and for each area, for each statistic, we want to compute the average. We will then insert it in the empty dataframe we have just created.\n",
        "\n",
        "To do so, we will create a temporary list and populate it with the three metrics for each area. This is going to be the row we are going to insert in the dataframe.\n",
        "\n",
        "To refresh the commands:\n",
        "\n",
        "* Loop over the list containing the name of the areas.\n",
        "* Loop over the three suffixes (keys of dictionary `suffix`).\n",
        "* Write the query to select the average of the metric for an area, using string formatters.\n",
        "* Execute the query and fetch the result (method `fetchone()`).\n",
        "* Append the average to the temporary list (method `append()`).\n",
        "* At the end of the internal loop, insert the temporary list in the dataframe (method `append()`, parameter `ignore_index=True`).\n",
        "\n",
        "###### b) Compute the averages.\n",
        "Write the SQL query that computes the average of a column and store it in a temporary list. The list will be the new row appended to the dataframe. This will take about 1 minute on the RaPi."
      ]
    },
    {
      "cell_type": "code",
      "execution_count": 23,
      "metadata": {
        "colab": {
          "base_uri": "https://localhost:8080/",
          "height": 1000
        },
        "id": "XKboiYMl47_K",
        "outputId": "1b78beb2-15d2-46f9-a7fe-e7af4f88860d"
      },
      "outputs": [
        {
          "name": "stderr",
          "output_type": "stream",
          "text": [
            "<ipython-input-23-00cc6b3bd79e>:16: FutureWarning: The frame.append method is deprecated and will be removed from pandas in a future version. Use pandas.concat instead.\n",
            "  df = df.append(pd.Series(tmp_list, index=new_columns), ignore_index=True)\n",
            "<ipython-input-23-00cc6b3bd79e>:16: FutureWarning: The frame.append method is deprecated and will be removed from pandas in a future version. Use pandas.concat instead.\n",
            "  df = df.append(pd.Series(tmp_list, index=new_columns), ignore_index=True)\n",
            "<ipython-input-23-00cc6b3bd79e>:16: FutureWarning: The frame.append method is deprecated and will be removed from pandas in a future version. Use pandas.concat instead.\n",
            "  df = df.append(pd.Series(tmp_list, index=new_columns), ignore_index=True)\n",
            "<ipython-input-23-00cc6b3bd79e>:16: FutureWarning: The frame.append method is deprecated and will be removed from pandas in a future version. Use pandas.concat instead.\n",
            "  df = df.append(pd.Series(tmp_list, index=new_columns), ignore_index=True)\n",
            "<ipython-input-23-00cc6b3bd79e>:16: FutureWarning: The frame.append method is deprecated and will be removed from pandas in a future version. Use pandas.concat instead.\n",
            "  df = df.append(pd.Series(tmp_list, index=new_columns), ignore_index=True)\n",
            "<ipython-input-23-00cc6b3bd79e>:16: FutureWarning: The frame.append method is deprecated and will be removed from pandas in a future version. Use pandas.concat instead.\n",
            "  df = df.append(pd.Series(tmp_list, index=new_columns), ignore_index=True)\n",
            "<ipython-input-23-00cc6b3bd79e>:16: FutureWarning: The frame.append method is deprecated and will be removed from pandas in a future version. Use pandas.concat instead.\n",
            "  df = df.append(pd.Series(tmp_list, index=new_columns), ignore_index=True)\n",
            "<ipython-input-23-00cc6b3bd79e>:16: FutureWarning: The frame.append method is deprecated and will be removed from pandas in a future version. Use pandas.concat instead.\n",
            "  df = df.append(pd.Series(tmp_list, index=new_columns), ignore_index=True)\n",
            "<ipython-input-23-00cc6b3bd79e>:16: FutureWarning: The frame.append method is deprecated and will be removed from pandas in a future version. Use pandas.concat instead.\n",
            "  df = df.append(pd.Series(tmp_list, index=new_columns), ignore_index=True)\n",
            "<ipython-input-23-00cc6b3bd79e>:16: FutureWarning: The frame.append method is deprecated and will be removed from pandas in a future version. Use pandas.concat instead.\n",
            "  df = df.append(pd.Series(tmp_list, index=new_columns), ignore_index=True)\n",
            "<ipython-input-23-00cc6b3bd79e>:16: FutureWarning: The frame.append method is deprecated and will be removed from pandas in a future version. Use pandas.concat instead.\n",
            "  df = df.append(pd.Series(tmp_list, index=new_columns), ignore_index=True)\n",
            "<ipython-input-23-00cc6b3bd79e>:16: FutureWarning: The frame.append method is deprecated and will be removed from pandas in a future version. Use pandas.concat instead.\n",
            "  df = df.append(pd.Series(tmp_list, index=new_columns), ignore_index=True)\n",
            "<ipython-input-23-00cc6b3bd79e>:16: FutureWarning: The frame.append method is deprecated and will be removed from pandas in a future version. Use pandas.concat instead.\n",
            "  df = df.append(pd.Series(tmp_list, index=new_columns), ignore_index=True)\n",
            "<ipython-input-23-00cc6b3bd79e>:16: FutureWarning: The frame.append method is deprecated and will be removed from pandas in a future version. Use pandas.concat instead.\n",
            "  df = df.append(pd.Series(tmp_list, index=new_columns), ignore_index=True)\n",
            "<ipython-input-23-00cc6b3bd79e>:16: FutureWarning: The frame.append method is deprecated and will be removed from pandas in a future version. Use pandas.concat instead.\n",
            "  df = df.append(pd.Series(tmp_list, index=new_columns), ignore_index=True)\n",
            "<ipython-input-23-00cc6b3bd79e>:16: FutureWarning: The frame.append method is deprecated and will be removed from pandas in a future version. Use pandas.concat instead.\n",
            "  df = df.append(pd.Series(tmp_list, index=new_columns), ignore_index=True)\n",
            "<ipython-input-23-00cc6b3bd79e>:16: FutureWarning: The frame.append method is deprecated and will be removed from pandas in a future version. Use pandas.concat instead.\n",
            "  df = df.append(pd.Series(tmp_list, index=new_columns), ignore_index=True)\n",
            "<ipython-input-23-00cc6b3bd79e>:16: FutureWarning: The frame.append method is deprecated and will be removed from pandas in a future version. Use pandas.concat instead.\n",
            "  df = df.append(pd.Series(tmp_list, index=new_columns), ignore_index=True)\n",
            "<ipython-input-23-00cc6b3bd79e>:16: FutureWarning: The frame.append method is deprecated and will be removed from pandas in a future version. Use pandas.concat instead.\n",
            "  df = df.append(pd.Series(tmp_list, index=new_columns), ignore_index=True)\n",
            "<ipython-input-23-00cc6b3bd79e>:16: FutureWarning: The frame.append method is deprecated and will be removed from pandas in a future version. Use pandas.concat instead.\n",
            "  df = df.append(pd.Series(tmp_list, index=new_columns), ignore_index=True)\n",
            "<ipython-input-23-00cc6b3bd79e>:16: FutureWarning: The frame.append method is deprecated and will be removed from pandas in a future version. Use pandas.concat instead.\n",
            "  df = df.append(pd.Series(tmp_list, index=new_columns), ignore_index=True)\n",
            "<ipython-input-23-00cc6b3bd79e>:16: FutureWarning: The frame.append method is deprecated and will be removed from pandas in a future version. Use pandas.concat instead.\n",
            "  df = df.append(pd.Series(tmp_list, index=new_columns), ignore_index=True)\n",
            "<ipython-input-23-00cc6b3bd79e>:16: FutureWarning: The frame.append method is deprecated and will be removed from pandas in a future version. Use pandas.concat instead.\n",
            "  df = df.append(pd.Series(tmp_list, index=new_columns), ignore_index=True)\n",
            "<ipython-input-23-00cc6b3bd79e>:16: FutureWarning: The frame.append method is deprecated and will be removed from pandas in a future version. Use pandas.concat instead.\n",
            "  df = df.append(pd.Series(tmp_list, index=new_columns), ignore_index=True)\n",
            "<ipython-input-23-00cc6b3bd79e>:16: FutureWarning: The frame.append method is deprecated and will be removed from pandas in a future version. Use pandas.concat instead.\n",
            "  df = df.append(pd.Series(tmp_list, index=new_columns), ignore_index=True)\n",
            "<ipython-input-23-00cc6b3bd79e>:16: FutureWarning: The frame.append method is deprecated and will be removed from pandas in a future version. Use pandas.concat instead.\n",
            "  df = df.append(pd.Series(tmp_list, index=new_columns), ignore_index=True)\n",
            "<ipython-input-23-00cc6b3bd79e>:16: FutureWarning: The frame.append method is deprecated and will be removed from pandas in a future version. Use pandas.concat instead.\n",
            "  df = df.append(pd.Series(tmp_list, index=new_columns), ignore_index=True)\n",
            "<ipython-input-23-00cc6b3bd79e>:16: FutureWarning: The frame.append method is deprecated and will be removed from pandas in a future version. Use pandas.concat instead.\n",
            "  df = df.append(pd.Series(tmp_list, index=new_columns), ignore_index=True)\n",
            "<ipython-input-23-00cc6b3bd79e>:16: FutureWarning: The frame.append method is deprecated and will be removed from pandas in a future version. Use pandas.concat instead.\n",
            "  df = df.append(pd.Series(tmp_list, index=new_columns), ignore_index=True)\n",
            "<ipython-input-23-00cc6b3bd79e>:16: FutureWarning: The frame.append method is deprecated and will be removed from pandas in a future version. Use pandas.concat instead.\n",
            "  df = df.append(pd.Series(tmp_list, index=new_columns), ignore_index=True)\n",
            "<ipython-input-23-00cc6b3bd79e>:16: FutureWarning: The frame.append method is deprecated and will be removed from pandas in a future version. Use pandas.concat instead.\n",
            "  df = df.append(pd.Series(tmp_list, index=new_columns), ignore_index=True)\n",
            "<ipython-input-23-00cc6b3bd79e>:16: FutureWarning: The frame.append method is deprecated and will be removed from pandas in a future version. Use pandas.concat instead.\n",
            "  df = df.append(pd.Series(tmp_list, index=new_columns), ignore_index=True)\n",
            "<ipython-input-23-00cc6b3bd79e>:16: FutureWarning: The frame.append method is deprecated and will be removed from pandas in a future version. Use pandas.concat instead.\n",
            "  df = df.append(pd.Series(tmp_list, index=new_columns), ignore_index=True)\n",
            "<ipython-input-23-00cc6b3bd79e>:16: FutureWarning: The frame.append method is deprecated and will be removed from pandas in a future version. Use pandas.concat instead.\n",
            "  df = df.append(pd.Series(tmp_list, index=new_columns), ignore_index=True)\n",
            "<ipython-input-23-00cc6b3bd79e>:16: FutureWarning: The frame.append method is deprecated and will be removed from pandas in a future version. Use pandas.concat instead.\n",
            "  df = df.append(pd.Series(tmp_list, index=new_columns), ignore_index=True)\n",
            "<ipython-input-23-00cc6b3bd79e>:16: FutureWarning: The frame.append method is deprecated and will be removed from pandas in a future version. Use pandas.concat instead.\n",
            "  df = df.append(pd.Series(tmp_list, index=new_columns), ignore_index=True)\n",
            "<ipython-input-23-00cc6b3bd79e>:16: FutureWarning: The frame.append method is deprecated and will be removed from pandas in a future version. Use pandas.concat instead.\n",
            "  df = df.append(pd.Series(tmp_list, index=new_columns), ignore_index=True)\n",
            "<ipython-input-23-00cc6b3bd79e>:16: FutureWarning: The frame.append method is deprecated and will be removed from pandas in a future version. Use pandas.concat instead.\n",
            "  df = df.append(pd.Series(tmp_list, index=new_columns), ignore_index=True)\n",
            "<ipython-input-23-00cc6b3bd79e>:16: FutureWarning: The frame.append method is deprecated and will be removed from pandas in a future version. Use pandas.concat instead.\n",
            "  df = df.append(pd.Series(tmp_list, index=new_columns), ignore_index=True)\n",
            "<ipython-input-23-00cc6b3bd79e>:16: FutureWarning: The frame.append method is deprecated and will be removed from pandas in a future version. Use pandas.concat instead.\n",
            "  df = df.append(pd.Series(tmp_list, index=new_columns), ignore_index=True)\n",
            "<ipython-input-23-00cc6b3bd79e>:16: FutureWarning: The frame.append method is deprecated and will be removed from pandas in a future version. Use pandas.concat instead.\n",
            "  df = df.append(pd.Series(tmp_list, index=new_columns), ignore_index=True)\n",
            "<ipython-input-23-00cc6b3bd79e>:16: FutureWarning: The frame.append method is deprecated and will be removed from pandas in a future version. Use pandas.concat instead.\n",
            "  df = df.append(pd.Series(tmp_list, index=new_columns), ignore_index=True)\n",
            "<ipython-input-23-00cc6b3bd79e>:16: FutureWarning: The frame.append method is deprecated and will be removed from pandas in a future version. Use pandas.concat instead.\n",
            "  df = df.append(pd.Series(tmp_list, index=new_columns), ignore_index=True)\n",
            "<ipython-input-23-00cc6b3bd79e>:16: FutureWarning: The frame.append method is deprecated and will be removed from pandas in a future version. Use pandas.concat instead.\n",
            "  df = df.append(pd.Series(tmp_list, index=new_columns), ignore_index=True)\n",
            "<ipython-input-23-00cc6b3bd79e>:16: FutureWarning: The frame.append method is deprecated and will be removed from pandas in a future version. Use pandas.concat instead.\n",
            "  df = df.append(pd.Series(tmp_list, index=new_columns), ignore_index=True)\n",
            "<ipython-input-23-00cc6b3bd79e>:16: FutureWarning: The frame.append method is deprecated and will be removed from pandas in a future version. Use pandas.concat instead.\n",
            "  df = df.append(pd.Series(tmp_list, index=new_columns), ignore_index=True)\n",
            "<ipython-input-23-00cc6b3bd79e>:16: FutureWarning: The frame.append method is deprecated and will be removed from pandas in a future version. Use pandas.concat instead.\n",
            "  df = df.append(pd.Series(tmp_list, index=new_columns), ignore_index=True)\n",
            "<ipython-input-23-00cc6b3bd79e>:16: FutureWarning: The frame.append method is deprecated and will be removed from pandas in a future version. Use pandas.concat instead.\n",
            "  df = df.append(pd.Series(tmp_list, index=new_columns), ignore_index=True)\n",
            "<ipython-input-23-00cc6b3bd79e>:16: FutureWarning: The frame.append method is deprecated and will be removed from pandas in a future version. Use pandas.concat instead.\n",
            "  df = df.append(pd.Series(tmp_list, index=new_columns), ignore_index=True)\n",
            "<ipython-input-23-00cc6b3bd79e>:16: FutureWarning: The frame.append method is deprecated and will be removed from pandas in a future version. Use pandas.concat instead.\n",
            "  df = df.append(pd.Series(tmp_list, index=new_columns), ignore_index=True)\n",
            "<ipython-input-23-00cc6b3bd79e>:16: FutureWarning: The frame.append method is deprecated and will be removed from pandas in a future version. Use pandas.concat instead.\n",
            "  df = df.append(pd.Series(tmp_list, index=new_columns), ignore_index=True)\n",
            "<ipython-input-23-00cc6b3bd79e>:16: FutureWarning: The frame.append method is deprecated and will be removed from pandas in a future version. Use pandas.concat instead.\n",
            "  df = df.append(pd.Series(tmp_list, index=new_columns), ignore_index=True)\n",
            "<ipython-input-23-00cc6b3bd79e>:16: FutureWarning: The frame.append method is deprecated and will be removed from pandas in a future version. Use pandas.concat instead.\n",
            "  df = df.append(pd.Series(tmp_list, index=new_columns), ignore_index=True)\n",
            "<ipython-input-23-00cc6b3bd79e>:16: FutureWarning: The frame.append method is deprecated and will be removed from pandas in a future version. Use pandas.concat instead.\n",
            "  df = df.append(pd.Series(tmp_list, index=new_columns), ignore_index=True)\n",
            "<ipython-input-23-00cc6b3bd79e>:16: FutureWarning: The frame.append method is deprecated and will be removed from pandas in a future version. Use pandas.concat instead.\n",
            "  df = df.append(pd.Series(tmp_list, index=new_columns), ignore_index=True)\n",
            "<ipython-input-23-00cc6b3bd79e>:16: FutureWarning: The frame.append method is deprecated and will be removed from pandas in a future version. Use pandas.concat instead.\n",
            "  df = df.append(pd.Series(tmp_list, index=new_columns), ignore_index=True)\n",
            "<ipython-input-23-00cc6b3bd79e>:16: FutureWarning: The frame.append method is deprecated and will be removed from pandas in a future version. Use pandas.concat instead.\n",
            "  df = df.append(pd.Series(tmp_list, index=new_columns), ignore_index=True)\n",
            "<ipython-input-23-00cc6b3bd79e>:16: FutureWarning: The frame.append method is deprecated and will be removed from pandas in a future version. Use pandas.concat instead.\n",
            "  df = df.append(pd.Series(tmp_list, index=new_columns), ignore_index=True)\n",
            "<ipython-input-23-00cc6b3bd79e>:16: FutureWarning: The frame.append method is deprecated and will be removed from pandas in a future version. Use pandas.concat instead.\n",
            "  df = df.append(pd.Series(tmp_list, index=new_columns), ignore_index=True)\n",
            "<ipython-input-23-00cc6b3bd79e>:16: FutureWarning: The frame.append method is deprecated and will be removed from pandas in a future version. Use pandas.concat instead.\n",
            "  df = df.append(pd.Series(tmp_list, index=new_columns), ignore_index=True)\n",
            "<ipython-input-23-00cc6b3bd79e>:16: FutureWarning: The frame.append method is deprecated and will be removed from pandas in a future version. Use pandas.concat instead.\n",
            "  df = df.append(pd.Series(tmp_list, index=new_columns), ignore_index=True)\n",
            "<ipython-input-23-00cc6b3bd79e>:16: FutureWarning: The frame.append method is deprecated and will be removed from pandas in a future version. Use pandas.concat instead.\n",
            "  df = df.append(pd.Series(tmp_list, index=new_columns), ignore_index=True)\n",
            "<ipython-input-23-00cc6b3bd79e>:16: FutureWarning: The frame.append method is deprecated and will be removed from pandas in a future version. Use pandas.concat instead.\n",
            "  df = df.append(pd.Series(tmp_list, index=new_columns), ignore_index=True)\n",
            "<ipython-input-23-00cc6b3bd79e>:16: FutureWarning: The frame.append method is deprecated and will be removed from pandas in a future version. Use pandas.concat instead.\n",
            "  df = df.append(pd.Series(tmp_list, index=new_columns), ignore_index=True)\n",
            "<ipython-input-23-00cc6b3bd79e>:16: FutureWarning: The frame.append method is deprecated and will be removed from pandas in a future version. Use pandas.concat instead.\n",
            "  df = df.append(pd.Series(tmp_list, index=new_columns), ignore_index=True)\n",
            "<ipython-input-23-00cc6b3bd79e>:16: FutureWarning: The frame.append method is deprecated and will be removed from pandas in a future version. Use pandas.concat instead.\n",
            "  df = df.append(pd.Series(tmp_list, index=new_columns), ignore_index=True)\n",
            "<ipython-input-23-00cc6b3bd79e>:16: FutureWarning: The frame.append method is deprecated and will be removed from pandas in a future version. Use pandas.concat instead.\n",
            "  df = df.append(pd.Series(tmp_list, index=new_columns), ignore_index=True)\n",
            "<ipython-input-23-00cc6b3bd79e>:16: FutureWarning: The frame.append method is deprecated and will be removed from pandas in a future version. Use pandas.concat instead.\n",
            "  df = df.append(pd.Series(tmp_list, index=new_columns), ignore_index=True)\n",
            "<ipython-input-23-00cc6b3bd79e>:16: FutureWarning: The frame.append method is deprecated and will be removed from pandas in a future version. Use pandas.concat instead.\n",
            "  df = df.append(pd.Series(tmp_list, index=new_columns), ignore_index=True)\n",
            "<ipython-input-23-00cc6b3bd79e>:16: FutureWarning: The frame.append method is deprecated and will be removed from pandas in a future version. Use pandas.concat instead.\n",
            "  df = df.append(pd.Series(tmp_list, index=new_columns), ignore_index=True)\n",
            "<ipython-input-23-00cc6b3bd79e>:16: FutureWarning: The frame.append method is deprecated and will be removed from pandas in a future version. Use pandas.concat instead.\n",
            "  df = df.append(pd.Series(tmp_list, index=new_columns), ignore_index=True)\n",
            "<ipython-input-23-00cc6b3bd79e>:16: FutureWarning: The frame.append method is deprecated and will be removed from pandas in a future version. Use pandas.concat instead.\n",
            "  df = df.append(pd.Series(tmp_list, index=new_columns), ignore_index=True)\n",
            "<ipython-input-23-00cc6b3bd79e>:16: FutureWarning: The frame.append method is deprecated and will be removed from pandas in a future version. Use pandas.concat instead.\n",
            "  df = df.append(pd.Series(tmp_list, index=new_columns), ignore_index=True)\n",
            "<ipython-input-23-00cc6b3bd79e>:16: FutureWarning: The frame.append method is deprecated and will be removed from pandas in a future version. Use pandas.concat instead.\n",
            "  df = df.append(pd.Series(tmp_list, index=new_columns), ignore_index=True)\n",
            "<ipython-input-23-00cc6b3bd79e>:16: FutureWarning: The frame.append method is deprecated and will be removed from pandas in a future version. Use pandas.concat instead.\n",
            "  df = df.append(pd.Series(tmp_list, index=new_columns), ignore_index=True)\n",
            "<ipython-input-23-00cc6b3bd79e>:16: FutureWarning: The frame.append method is deprecated and will be removed from pandas in a future version. Use pandas.concat instead.\n",
            "  df = df.append(pd.Series(tmp_list, index=new_columns), ignore_index=True)\n",
            "<ipython-input-23-00cc6b3bd79e>:16: FutureWarning: The frame.append method is deprecated and will be removed from pandas in a future version. Use pandas.concat instead.\n",
            "  df = df.append(pd.Series(tmp_list, index=new_columns), ignore_index=True)\n",
            "<ipython-input-23-00cc6b3bd79e>:16: FutureWarning: The frame.append method is deprecated and will be removed from pandas in a future version. Use pandas.concat instead.\n",
            "  df = df.append(pd.Series(tmp_list, index=new_columns), ignore_index=True)\n",
            "<ipython-input-23-00cc6b3bd79e>:16: FutureWarning: The frame.append method is deprecated and will be removed from pandas in a future version. Use pandas.concat instead.\n",
            "  df = df.append(pd.Series(tmp_list, index=new_columns), ignore_index=True)\n",
            "<ipython-input-23-00cc6b3bd79e>:16: FutureWarning: The frame.append method is deprecated and will be removed from pandas in a future version. Use pandas.concat instead.\n",
            "  df = df.append(pd.Series(tmp_list, index=new_columns), ignore_index=True)\n",
            "<ipython-input-23-00cc6b3bd79e>:16: FutureWarning: The frame.append method is deprecated and will be removed from pandas in a future version. Use pandas.concat instead.\n",
            "  df = df.append(pd.Series(tmp_list, index=new_columns), ignore_index=True)\n",
            "<ipython-input-23-00cc6b3bd79e>:16: FutureWarning: The frame.append method is deprecated and will be removed from pandas in a future version. Use pandas.concat instead.\n",
            "  df = df.append(pd.Series(tmp_list, index=new_columns), ignore_index=True)\n",
            "<ipython-input-23-00cc6b3bd79e>:16: FutureWarning: The frame.append method is deprecated and will be removed from pandas in a future version. Use pandas.concat instead.\n",
            "  df = df.append(pd.Series(tmp_list, index=new_columns), ignore_index=True)\n",
            "<ipython-input-23-00cc6b3bd79e>:16: FutureWarning: The frame.append method is deprecated and will be removed from pandas in a future version. Use pandas.concat instead.\n",
            "  df = df.append(pd.Series(tmp_list, index=new_columns), ignore_index=True)\n",
            "<ipython-input-23-00cc6b3bd79e>:16: FutureWarning: The frame.append method is deprecated and will be removed from pandas in a future version. Use pandas.concat instead.\n",
            "  df = df.append(pd.Series(tmp_list, index=new_columns), ignore_index=True)\n",
            "<ipython-input-23-00cc6b3bd79e>:16: FutureWarning: The frame.append method is deprecated and will be removed from pandas in a future version. Use pandas.concat instead.\n",
            "  df = df.append(pd.Series(tmp_list, index=new_columns), ignore_index=True)\n",
            "<ipython-input-23-00cc6b3bd79e>:16: FutureWarning: The frame.append method is deprecated and will be removed from pandas in a future version. Use pandas.concat instead.\n",
            "  df = df.append(pd.Series(tmp_list, index=new_columns), ignore_index=True)\n",
            "<ipython-input-23-00cc6b3bd79e>:16: FutureWarning: The frame.append method is deprecated and will be removed from pandas in a future version. Use pandas.concat instead.\n",
            "  df = df.append(pd.Series(tmp_list, index=new_columns), ignore_index=True)\n",
            "<ipython-input-23-00cc6b3bd79e>:16: FutureWarning: The frame.append method is deprecated and will be removed from pandas in a future version. Use pandas.concat instead.\n",
            "  df = df.append(pd.Series(tmp_list, index=new_columns), ignore_index=True)\n",
            "<ipython-input-23-00cc6b3bd79e>:16: FutureWarning: The frame.append method is deprecated and will be removed from pandas in a future version. Use pandas.concat instead.\n",
            "  df = df.append(pd.Series(tmp_list, index=new_columns), ignore_index=True)\n",
            "<ipython-input-23-00cc6b3bd79e>:16: FutureWarning: The frame.append method is deprecated and will be removed from pandas in a future version. Use pandas.concat instead.\n",
            "  df = df.append(pd.Series(tmp_list, index=new_columns), ignore_index=True)\n",
            "<ipython-input-23-00cc6b3bd79e>:16: FutureWarning: The frame.append method is deprecated and will be removed from pandas in a future version. Use pandas.concat instead.\n",
            "  df = df.append(pd.Series(tmp_list, index=new_columns), ignore_index=True)\n",
            "<ipython-input-23-00cc6b3bd79e>:16: FutureWarning: The frame.append method is deprecated and will be removed from pandas in a future version. Use pandas.concat instead.\n",
            "  df = df.append(pd.Series(tmp_list, index=new_columns), ignore_index=True)\n",
            "<ipython-input-23-00cc6b3bd79e>:16: FutureWarning: The frame.append method is deprecated and will be removed from pandas in a future version. Use pandas.concat instead.\n",
            "  df = df.append(pd.Series(tmp_list, index=new_columns), ignore_index=True)\n",
            "<ipython-input-23-00cc6b3bd79e>:16: FutureWarning: The frame.append method is deprecated and will be removed from pandas in a future version. Use pandas.concat instead.\n",
            "  df = df.append(pd.Series(tmp_list, index=new_columns), ignore_index=True)\n",
            "<ipython-input-23-00cc6b3bd79e>:16: FutureWarning: The frame.append method is deprecated and will be removed from pandas in a future version. Use pandas.concat instead.\n",
            "  df = df.append(pd.Series(tmp_list, index=new_columns), ignore_index=True)\n",
            "<ipython-input-23-00cc6b3bd79e>:16: FutureWarning: The frame.append method is deprecated and will be removed from pandas in a future version. Use pandas.concat instead.\n",
            "  df = df.append(pd.Series(tmp_list, index=new_columns), ignore_index=True)\n",
            "<ipython-input-23-00cc6b3bd79e>:16: FutureWarning: The frame.append method is deprecated and will be removed from pandas in a future version. Use pandas.concat instead.\n",
            "  df = df.append(pd.Series(tmp_list, index=new_columns), ignore_index=True)\n",
            "<ipython-input-23-00cc6b3bd79e>:16: FutureWarning: The frame.append method is deprecated and will be removed from pandas in a future version. Use pandas.concat instead.\n",
            "  df = df.append(pd.Series(tmp_list, index=new_columns), ignore_index=True)\n",
            "<ipython-input-23-00cc6b3bd79e>:16: FutureWarning: The frame.append method is deprecated and will be removed from pandas in a future version. Use pandas.concat instead.\n",
            "  df = df.append(pd.Series(tmp_list, index=new_columns), ignore_index=True)\n",
            "<ipython-input-23-00cc6b3bd79e>:16: FutureWarning: The frame.append method is deprecated and will be removed from pandas in a future version. Use pandas.concat instead.\n",
            "  df = df.append(pd.Series(tmp_list, index=new_columns), ignore_index=True)\n",
            "<ipython-input-23-00cc6b3bd79e>:16: FutureWarning: The frame.append method is deprecated and will be removed from pandas in a future version. Use pandas.concat instead.\n",
            "  df = df.append(pd.Series(tmp_list, index=new_columns), ignore_index=True)\n",
            "<ipython-input-23-00cc6b3bd79e>:16: FutureWarning: The frame.append method is deprecated and will be removed from pandas in a future version. Use pandas.concat instead.\n",
            "  df = df.append(pd.Series(tmp_list, index=new_columns), ignore_index=True)\n",
            "<ipython-input-23-00cc6b3bd79e>:16: FutureWarning: The frame.append method is deprecated and will be removed from pandas in a future version. Use pandas.concat instead.\n",
            "  df = df.append(pd.Series(tmp_list, index=new_columns), ignore_index=True)\n",
            "<ipython-input-23-00cc6b3bd79e>:16: FutureWarning: The frame.append method is deprecated and will be removed from pandas in a future version. Use pandas.concat instead.\n",
            "  df = df.append(pd.Series(tmp_list, index=new_columns), ignore_index=True)\n",
            "<ipython-input-23-00cc6b3bd79e>:16: FutureWarning: The frame.append method is deprecated and will be removed from pandas in a future version. Use pandas.concat instead.\n",
            "  df = df.append(pd.Series(tmp_list, index=new_columns), ignore_index=True)\n",
            "<ipython-input-23-00cc6b3bd79e>:16: FutureWarning: The frame.append method is deprecated and will be removed from pandas in a future version. Use pandas.concat instead.\n",
            "  df = df.append(pd.Series(tmp_list, index=new_columns), ignore_index=True)\n",
            "<ipython-input-23-00cc6b3bd79e>:16: FutureWarning: The frame.append method is deprecated and will be removed from pandas in a future version. Use pandas.concat instead.\n",
            "  df = df.append(pd.Series(tmp_list, index=new_columns), ignore_index=True)\n",
            "<ipython-input-23-00cc6b3bd79e>:16: FutureWarning: The frame.append method is deprecated and will be removed from pandas in a future version. Use pandas.concat instead.\n",
            "  df = df.append(pd.Series(tmp_list, index=new_columns), ignore_index=True)\n",
            "<ipython-input-23-00cc6b3bd79e>:16: FutureWarning: The frame.append method is deprecated and will be removed from pandas in a future version. Use pandas.concat instead.\n",
            "  df = df.append(pd.Series(tmp_list, index=new_columns), ignore_index=True)\n",
            "<ipython-input-23-00cc6b3bd79e>:16: FutureWarning: The frame.append method is deprecated and will be removed from pandas in a future version. Use pandas.concat instead.\n",
            "  df = df.append(pd.Series(tmp_list, index=new_columns), ignore_index=True)\n",
            "<ipython-input-23-00cc6b3bd79e>:16: FutureWarning: The frame.append method is deprecated and will be removed from pandas in a future version. Use pandas.concat instead.\n",
            "  df = df.append(pd.Series(tmp_list, index=new_columns), ignore_index=True)\n",
            "<ipython-input-23-00cc6b3bd79e>:16: FutureWarning: The frame.append method is deprecated and will be removed from pandas in a future version. Use pandas.concat instead.\n",
            "  df = df.append(pd.Series(tmp_list, index=new_columns), ignore_index=True)\n",
            "<ipython-input-23-00cc6b3bd79e>:16: FutureWarning: The frame.append method is deprecated and will be removed from pandas in a future version. Use pandas.concat instead.\n",
            "  df = df.append(pd.Series(tmp_list, index=new_columns), ignore_index=True)\n",
            "<ipython-input-23-00cc6b3bd79e>:16: FutureWarning: The frame.append method is deprecated and will be removed from pandas in a future version. Use pandas.concat instead.\n",
            "  df = df.append(pd.Series(tmp_list, index=new_columns), ignore_index=True)\n",
            "<ipython-input-23-00cc6b3bd79e>:16: FutureWarning: The frame.append method is deprecated and will be removed from pandas in a future version. Use pandas.concat instead.\n",
            "  df = df.append(pd.Series(tmp_list, index=new_columns), ignore_index=True)\n",
            "<ipython-input-23-00cc6b3bd79e>:16: FutureWarning: The frame.append method is deprecated and will be removed from pandas in a future version. Use pandas.concat instead.\n",
            "  df = df.append(pd.Series(tmp_list, index=new_columns), ignore_index=True)\n",
            "<ipython-input-23-00cc6b3bd79e>:16: FutureWarning: The frame.append method is deprecated and will be removed from pandas in a future version. Use pandas.concat instead.\n",
            "  df = df.append(pd.Series(tmp_list, index=new_columns), ignore_index=True)\n",
            "<ipython-input-23-00cc6b3bd79e>:16: FutureWarning: The frame.append method is deprecated and will be removed from pandas in a future version. Use pandas.concat instead.\n",
            "  df = df.append(pd.Series(tmp_list, index=new_columns), ignore_index=True)\n",
            "<ipython-input-23-00cc6b3bd79e>:16: FutureWarning: The frame.append method is deprecated and will be removed from pandas in a future version. Use pandas.concat instead.\n",
            "  df = df.append(pd.Series(tmp_list, index=new_columns), ignore_index=True)\n",
            "<ipython-input-23-00cc6b3bd79e>:16: FutureWarning: The frame.append method is deprecated and will be removed from pandas in a future version. Use pandas.concat instead.\n",
            "  df = df.append(pd.Series(tmp_list, index=new_columns), ignore_index=True)\n",
            "<ipython-input-23-00cc6b3bd79e>:16: FutureWarning: The frame.append method is deprecated and will be removed from pandas in a future version. Use pandas.concat instead.\n",
            "  df = df.append(pd.Series(tmp_list, index=new_columns), ignore_index=True)\n",
            "<ipython-input-23-00cc6b3bd79e>:16: FutureWarning: The frame.append method is deprecated and will be removed from pandas in a future version. Use pandas.concat instead.\n",
            "  df = df.append(pd.Series(tmp_list, index=new_columns), ignore_index=True)\n",
            "<ipython-input-23-00cc6b3bd79e>:16: FutureWarning: The frame.append method is deprecated and will be removed from pandas in a future version. Use pandas.concat instead.\n",
            "  df = df.append(pd.Series(tmp_list, index=new_columns), ignore_index=True)\n",
            "<ipython-input-23-00cc6b3bd79e>:16: FutureWarning: The frame.append method is deprecated and will be removed from pandas in a future version. Use pandas.concat instead.\n",
            "  df = df.append(pd.Series(tmp_list, index=new_columns), ignore_index=True)\n",
            "<ipython-input-23-00cc6b3bd79e>:16: FutureWarning: The frame.append method is deprecated and will be removed from pandas in a future version. Use pandas.concat instead.\n",
            "  df = df.append(pd.Series(tmp_list, index=new_columns), ignore_index=True)\n",
            "<ipython-input-23-00cc6b3bd79e>:16: FutureWarning: The frame.append method is deprecated and will be removed from pandas in a future version. Use pandas.concat instead.\n",
            "  df = df.append(pd.Series(tmp_list, index=new_columns), ignore_index=True)\n",
            "<ipython-input-23-00cc6b3bd79e>:16: FutureWarning: The frame.append method is deprecated and will be removed from pandas in a future version. Use pandas.concat instead.\n",
            "  df = df.append(pd.Series(tmp_list, index=new_columns), ignore_index=True)\n",
            "<ipython-input-23-00cc6b3bd79e>:16: FutureWarning: The frame.append method is deprecated and will be removed from pandas in a future version. Use pandas.concat instead.\n",
            "  df = df.append(pd.Series(tmp_list, index=new_columns), ignore_index=True)\n",
            "<ipython-input-23-00cc6b3bd79e>:16: FutureWarning: The frame.append method is deprecated and will be removed from pandas in a future version. Use pandas.concat instead.\n",
            "  df = df.append(pd.Series(tmp_list, index=new_columns), ignore_index=True)\n",
            "<ipython-input-23-00cc6b3bd79e>:16: FutureWarning: The frame.append method is deprecated and will be removed from pandas in a future version. Use pandas.concat instead.\n",
            "  df = df.append(pd.Series(tmp_list, index=new_columns), ignore_index=True)\n",
            "<ipython-input-23-00cc6b3bd79e>:16: FutureWarning: The frame.append method is deprecated and will be removed from pandas in a future version. Use pandas.concat instead.\n",
            "  df = df.append(pd.Series(tmp_list, index=new_columns), ignore_index=True)\n",
            "<ipython-input-23-00cc6b3bd79e>:16: FutureWarning: The frame.append method is deprecated and will be removed from pandas in a future version. Use pandas.concat instead.\n",
            "  df = df.append(pd.Series(tmp_list, index=new_columns), ignore_index=True)\n",
            "<ipython-input-23-00cc6b3bd79e>:16: FutureWarning: The frame.append method is deprecated and will be removed from pandas in a future version. Use pandas.concat instead.\n",
            "  df = df.append(pd.Series(tmp_list, index=new_columns), ignore_index=True)\n",
            "<ipython-input-23-00cc6b3bd79e>:16: FutureWarning: The frame.append method is deprecated and will be removed from pandas in a future version. Use pandas.concat instead.\n",
            "  df = df.append(pd.Series(tmp_list, index=new_columns), ignore_index=True)\n",
            "<ipython-input-23-00cc6b3bd79e>:16: FutureWarning: The frame.append method is deprecated and will be removed from pandas in a future version. Use pandas.concat instead.\n",
            "  df = df.append(pd.Series(tmp_list, index=new_columns), ignore_index=True)\n",
            "<ipython-input-23-00cc6b3bd79e>:16: FutureWarning: The frame.append method is deprecated and will be removed from pandas in a future version. Use pandas.concat instead.\n",
            "  df = df.append(pd.Series(tmp_list, index=new_columns), ignore_index=True)\n",
            "<ipython-input-23-00cc6b3bd79e>:16: FutureWarning: The frame.append method is deprecated and will be removed from pandas in a future version. Use pandas.concat instead.\n",
            "  df = df.append(pd.Series(tmp_list, index=new_columns), ignore_index=True)\n",
            "<ipython-input-23-00cc6b3bd79e>:16: FutureWarning: The frame.append method is deprecated and will be removed from pandas in a future version. Use pandas.concat instead.\n",
            "  df = df.append(pd.Series(tmp_list, index=new_columns), ignore_index=True)\n",
            "<ipython-input-23-00cc6b3bd79e>:16: FutureWarning: The frame.append method is deprecated and will be removed from pandas in a future version. Use pandas.concat instead.\n",
            "  df = df.append(pd.Series(tmp_list, index=new_columns), ignore_index=True)\n",
            "<ipython-input-23-00cc6b3bd79e>:16: FutureWarning: The frame.append method is deprecated and will be removed from pandas in a future version. Use pandas.concat instead.\n",
            "  df = df.append(pd.Series(tmp_list, index=new_columns), ignore_index=True)\n",
            "<ipython-input-23-00cc6b3bd79e>:16: FutureWarning: The frame.append method is deprecated and will be removed from pandas in a future version. Use pandas.concat instead.\n",
            "  df = df.append(pd.Series(tmp_list, index=new_columns), ignore_index=True)\n",
            "<ipython-input-23-00cc6b3bd79e>:16: FutureWarning: The frame.append method is deprecated and will be removed from pandas in a future version. Use pandas.concat instead.\n",
            "  df = df.append(pd.Series(tmp_list, index=new_columns), ignore_index=True)\n",
            "<ipython-input-23-00cc6b3bd79e>:16: FutureWarning: The frame.append method is deprecated and will be removed from pandas in a future version. Use pandas.concat instead.\n",
            "  df = df.append(pd.Series(tmp_list, index=new_columns), ignore_index=True)\n",
            "<ipython-input-23-00cc6b3bd79e>:16: FutureWarning: The frame.append method is deprecated and will be removed from pandas in a future version. Use pandas.concat instead.\n",
            "  df = df.append(pd.Series(tmp_list, index=new_columns), ignore_index=True)\n",
            "<ipython-input-23-00cc6b3bd79e>:16: FutureWarning: The frame.append method is deprecated and will be removed from pandas in a future version. Use pandas.concat instead.\n",
            "  df = df.append(pd.Series(tmp_list, index=new_columns), ignore_index=True)\n",
            "<ipython-input-23-00cc6b3bd79e>:16: FutureWarning: The frame.append method is deprecated and will be removed from pandas in a future version. Use pandas.concat instead.\n",
            "  df = df.append(pd.Series(tmp_list, index=new_columns), ignore_index=True)\n",
            "<ipython-input-23-00cc6b3bd79e>:16: FutureWarning: The frame.append method is deprecated and will be removed from pandas in a future version. Use pandas.concat instead.\n",
            "  df = df.append(pd.Series(tmp_list, index=new_columns), ignore_index=True)\n",
            "<ipython-input-23-00cc6b3bd79e>:16: FutureWarning: The frame.append method is deprecated and will be removed from pandas in a future version. Use pandas.concat instead.\n",
            "  df = df.append(pd.Series(tmp_list, index=new_columns), ignore_index=True)\n",
            "<ipython-input-23-00cc6b3bd79e>:16: FutureWarning: The frame.append method is deprecated and will be removed from pandas in a future version. Use pandas.concat instead.\n",
            "  df = df.append(pd.Series(tmp_list, index=new_columns), ignore_index=True)\n",
            "<ipython-input-23-00cc6b3bd79e>:16: FutureWarning: The frame.append method is deprecated and will be removed from pandas in a future version. Use pandas.concat instead.\n",
            "  df = df.append(pd.Series(tmp_list, index=new_columns), ignore_index=True)\n",
            "<ipython-input-23-00cc6b3bd79e>:16: FutureWarning: The frame.append method is deprecated and will be removed from pandas in a future version. Use pandas.concat instead.\n",
            "  df = df.append(pd.Series(tmp_list, index=new_columns), ignore_index=True)\n",
            "<ipython-input-23-00cc6b3bd79e>:16: FutureWarning: The frame.append method is deprecated and will be removed from pandas in a future version. Use pandas.concat instead.\n",
            "  df = df.append(pd.Series(tmp_list, index=new_columns), ignore_index=True)\n",
            "<ipython-input-23-00cc6b3bd79e>:16: FutureWarning: The frame.append method is deprecated and will be removed from pandas in a future version. Use pandas.concat instead.\n",
            "  df = df.append(pd.Series(tmp_list, index=new_columns), ignore_index=True)\n",
            "<ipython-input-23-00cc6b3bd79e>:16: FutureWarning: The frame.append method is deprecated and will be removed from pandas in a future version. Use pandas.concat instead.\n",
            "  df = df.append(pd.Series(tmp_list, index=new_columns), ignore_index=True)\n",
            "<ipython-input-23-00cc6b3bd79e>:16: FutureWarning: The frame.append method is deprecated and will be removed from pandas in a future version. Use pandas.concat instead.\n",
            "  df = df.append(pd.Series(tmp_list, index=new_columns), ignore_index=True)\n",
            "<ipython-input-23-00cc6b3bd79e>:16: FutureWarning: The frame.append method is deprecated and will be removed from pandas in a future version. Use pandas.concat instead.\n",
            "  df = df.append(pd.Series(tmp_list, index=new_columns), ignore_index=True)\n",
            "<ipython-input-23-00cc6b3bd79e>:16: FutureWarning: The frame.append method is deprecated and will be removed from pandas in a future version. Use pandas.concat instead.\n",
            "  df = df.append(pd.Series(tmp_list, index=new_columns), ignore_index=True)\n",
            "<ipython-input-23-00cc6b3bd79e>:16: FutureWarning: The frame.append method is deprecated and will be removed from pandas in a future version. Use pandas.concat instead.\n",
            "  df = df.append(pd.Series(tmp_list, index=new_columns), ignore_index=True)\n",
            "<ipython-input-23-00cc6b3bd79e>:16: FutureWarning: The frame.append method is deprecated and will be removed from pandas in a future version. Use pandas.concat instead.\n",
            "  df = df.append(pd.Series(tmp_list, index=new_columns), ignore_index=True)\n",
            "<ipython-input-23-00cc6b3bd79e>:16: FutureWarning: The frame.append method is deprecated and will be removed from pandas in a future version. Use pandas.concat instead.\n",
            "  df = df.append(pd.Series(tmp_list, index=new_columns), ignore_index=True)\n",
            "<ipython-input-23-00cc6b3bd79e>:16: FutureWarning: The frame.append method is deprecated and will be removed from pandas in a future version. Use pandas.concat instead.\n",
            "  df = df.append(pd.Series(tmp_list, index=new_columns), ignore_index=True)\n",
            "<ipython-input-23-00cc6b3bd79e>:16: FutureWarning: The frame.append method is deprecated and will be removed from pandas in a future version. Use pandas.concat instead.\n",
            "  df = df.append(pd.Series(tmp_list, index=new_columns), ignore_index=True)\n",
            "<ipython-input-23-00cc6b3bd79e>:16: FutureWarning: The frame.append method is deprecated and will be removed from pandas in a future version. Use pandas.concat instead.\n",
            "  df = df.append(pd.Series(tmp_list, index=new_columns), ignore_index=True)\n",
            "<ipython-input-23-00cc6b3bd79e>:16: FutureWarning: The frame.append method is deprecated and will be removed from pandas in a future version. Use pandas.concat instead.\n",
            "  df = df.append(pd.Series(tmp_list, index=new_columns), ignore_index=True)\n",
            "<ipython-input-23-00cc6b3bd79e>:16: FutureWarning: The frame.append method is deprecated and will be removed from pandas in a future version. Use pandas.concat instead.\n",
            "  df = df.append(pd.Series(tmp_list, index=new_columns), ignore_index=True)\n",
            "<ipython-input-23-00cc6b3bd79e>:16: FutureWarning: The frame.append method is deprecated and will be removed from pandas in a future version. Use pandas.concat instead.\n",
            "  df = df.append(pd.Series(tmp_list, index=new_columns), ignore_index=True)\n",
            "<ipython-input-23-00cc6b3bd79e>:16: FutureWarning: The frame.append method is deprecated and will be removed from pandas in a future version. Use pandas.concat instead.\n",
            "  df = df.append(pd.Series(tmp_list, index=new_columns), ignore_index=True)\n",
            "<ipython-input-23-00cc6b3bd79e>:16: FutureWarning: The frame.append method is deprecated and will be removed from pandas in a future version. Use pandas.concat instead.\n",
            "  df = df.append(pd.Series(tmp_list, index=new_columns), ignore_index=True)\n",
            "<ipython-input-23-00cc6b3bd79e>:16: FutureWarning: The frame.append method is deprecated and will be removed from pandas in a future version. Use pandas.concat instead.\n",
            "  df = df.append(pd.Series(tmp_list, index=new_columns), ignore_index=True)\n",
            "<ipython-input-23-00cc6b3bd79e>:16: FutureWarning: The frame.append method is deprecated and will be removed from pandas in a future version. Use pandas.concat instead.\n",
            "  df = df.append(pd.Series(tmp_list, index=new_columns), ignore_index=True)\n",
            "<ipython-input-23-00cc6b3bd79e>:16: FutureWarning: The frame.append method is deprecated and will be removed from pandas in a future version. Use pandas.concat instead.\n",
            "  df = df.append(pd.Series(tmp_list, index=new_columns), ignore_index=True)\n",
            "<ipython-input-23-00cc6b3bd79e>:16: FutureWarning: The frame.append method is deprecated and will be removed from pandas in a future version. Use pandas.concat instead.\n",
            "  df = df.append(pd.Series(tmp_list, index=new_columns), ignore_index=True)\n",
            "<ipython-input-23-00cc6b3bd79e>:16: FutureWarning: The frame.append method is deprecated and will be removed from pandas in a future version. Use pandas.concat instead.\n",
            "  df = df.append(pd.Series(tmp_list, index=new_columns), ignore_index=True)\n",
            "<ipython-input-23-00cc6b3bd79e>:16: FutureWarning: The frame.append method is deprecated and will be removed from pandas in a future version. Use pandas.concat instead.\n",
            "  df = df.append(pd.Series(tmp_list, index=new_columns), ignore_index=True)\n",
            "<ipython-input-23-00cc6b3bd79e>:16: FutureWarning: The frame.append method is deprecated and will be removed from pandas in a future version. Use pandas.concat instead.\n",
            "  df = df.append(pd.Series(tmp_list, index=new_columns), ignore_index=True)\n",
            "<ipython-input-23-00cc6b3bd79e>:16: FutureWarning: The frame.append method is deprecated and will be removed from pandas in a future version. Use pandas.concat instead.\n",
            "  df = df.append(pd.Series(tmp_list, index=new_columns), ignore_index=True)\n",
            "<ipython-input-23-00cc6b3bd79e>:16: FutureWarning: The frame.append method is deprecated and will be removed from pandas in a future version. Use pandas.concat instead.\n",
            "  df = df.append(pd.Series(tmp_list, index=new_columns), ignore_index=True)\n",
            "<ipython-input-23-00cc6b3bd79e>:16: FutureWarning: The frame.append method is deprecated and will be removed from pandas in a future version. Use pandas.concat instead.\n",
            "  df = df.append(pd.Series(tmp_list, index=new_columns), ignore_index=True)\n",
            "<ipython-input-23-00cc6b3bd79e>:16: FutureWarning: The frame.append method is deprecated and will be removed from pandas in a future version. Use pandas.concat instead.\n",
            "  df = df.append(pd.Series(tmp_list, index=new_columns), ignore_index=True)\n",
            "<ipython-input-23-00cc6b3bd79e>:16: FutureWarning: The frame.append method is deprecated and will be removed from pandas in a future version. Use pandas.concat instead.\n",
            "  df = df.append(pd.Series(tmp_list, index=new_columns), ignore_index=True)\n",
            "<ipython-input-23-00cc6b3bd79e>:16: FutureWarning: The frame.append method is deprecated and will be removed from pandas in a future version. Use pandas.concat instead.\n",
            "  df = df.append(pd.Series(tmp_list, index=new_columns), ignore_index=True)\n",
            "<ipython-input-23-00cc6b3bd79e>:16: FutureWarning: The frame.append method is deprecated and will be removed from pandas in a future version. Use pandas.concat instead.\n",
            "  df = df.append(pd.Series(tmp_list, index=new_columns), ignore_index=True)\n",
            "<ipython-input-23-00cc6b3bd79e>:16: FutureWarning: The frame.append method is deprecated and will be removed from pandas in a future version. Use pandas.concat instead.\n",
            "  df = df.append(pd.Series(tmp_list, index=new_columns), ignore_index=True)\n",
            "<ipython-input-23-00cc6b3bd79e>:16: FutureWarning: The frame.append method is deprecated and will be removed from pandas in a future version. Use pandas.concat instead.\n",
            "  df = df.append(pd.Series(tmp_list, index=new_columns), ignore_index=True)\n",
            "<ipython-input-23-00cc6b3bd79e>:16: FutureWarning: The frame.append method is deprecated and will be removed from pandas in a future version. Use pandas.concat instead.\n",
            "  df = df.append(pd.Series(tmp_list, index=new_columns), ignore_index=True)\n",
            "<ipython-input-23-00cc6b3bd79e>:16: FutureWarning: The frame.append method is deprecated and will be removed from pandas in a future version. Use pandas.concat instead.\n",
            "  df = df.append(pd.Series(tmp_list, index=new_columns), ignore_index=True)\n",
            "<ipython-input-23-00cc6b3bd79e>:16: FutureWarning: The frame.append method is deprecated and will be removed from pandas in a future version. Use pandas.concat instead.\n",
            "  df = df.append(pd.Series(tmp_list, index=new_columns), ignore_index=True)\n",
            "<ipython-input-23-00cc6b3bd79e>:16: FutureWarning: The frame.append method is deprecated and will be removed from pandas in a future version. Use pandas.concat instead.\n",
            "  df = df.append(pd.Series(tmp_list, index=new_columns), ignore_index=True)\n",
            "<ipython-input-23-00cc6b3bd79e>:16: FutureWarning: The frame.append method is deprecated and will be removed from pandas in a future version. Use pandas.concat instead.\n",
            "  df = df.append(pd.Series(tmp_list, index=new_columns), ignore_index=True)\n",
            "<ipython-input-23-00cc6b3bd79e>:16: FutureWarning: The frame.append method is deprecated and will be removed from pandas in a future version. Use pandas.concat instead.\n",
            "  df = df.append(pd.Series(tmp_list, index=new_columns), ignore_index=True)\n",
            "<ipython-input-23-00cc6b3bd79e>:16: FutureWarning: The frame.append method is deprecated and will be removed from pandas in a future version. Use pandas.concat instead.\n",
            "  df = df.append(pd.Series(tmp_list, index=new_columns), ignore_index=True)\n",
            "<ipython-input-23-00cc6b3bd79e>:16: FutureWarning: The frame.append method is deprecated and will be removed from pandas in a future version. Use pandas.concat instead.\n",
            "  df = df.append(pd.Series(tmp_list, index=new_columns), ignore_index=True)\n",
            "<ipython-input-23-00cc6b3bd79e>:16: FutureWarning: The frame.append method is deprecated and will be removed from pandas in a future version. Use pandas.concat instead.\n",
            "  df = df.append(pd.Series(tmp_list, index=new_columns), ignore_index=True)\n",
            "<ipython-input-23-00cc6b3bd79e>:16: FutureWarning: The frame.append method is deprecated and will be removed from pandas in a future version. Use pandas.concat instead.\n",
            "  df = df.append(pd.Series(tmp_list, index=new_columns), ignore_index=True)\n",
            "<ipython-input-23-00cc6b3bd79e>:16: FutureWarning: The frame.append method is deprecated and will be removed from pandas in a future version. Use pandas.concat instead.\n",
            "  df = df.append(pd.Series(tmp_list, index=new_columns), ignore_index=True)\n",
            "<ipython-input-23-00cc6b3bd79e>:16: FutureWarning: The frame.append method is deprecated and will be removed from pandas in a future version. Use pandas.concat instead.\n",
            "  df = df.append(pd.Series(tmp_list, index=new_columns), ignore_index=True)\n",
            "<ipython-input-23-00cc6b3bd79e>:16: FutureWarning: The frame.append method is deprecated and will be removed from pandas in a future version. Use pandas.concat instead.\n",
            "  df = df.append(pd.Series(tmp_list, index=new_columns), ignore_index=True)\n",
            "<ipython-input-23-00cc6b3bd79e>:16: FutureWarning: The frame.append method is deprecated and will be removed from pandas in a future version. Use pandas.concat instead.\n",
            "  df = df.append(pd.Series(tmp_list, index=new_columns), ignore_index=True)\n",
            "<ipython-input-23-00cc6b3bd79e>:16: FutureWarning: The frame.append method is deprecated and will be removed from pandas in a future version. Use pandas.concat instead.\n",
            "  df = df.append(pd.Series(tmp_list, index=new_columns), ignore_index=True)\n",
            "<ipython-input-23-00cc6b3bd79e>:16: FutureWarning: The frame.append method is deprecated and will be removed from pandas in a future version. Use pandas.concat instead.\n",
            "  df = df.append(pd.Series(tmp_list, index=new_columns), ignore_index=True)\n",
            "<ipython-input-23-00cc6b3bd79e>:16: FutureWarning: The frame.append method is deprecated and will be removed from pandas in a future version. Use pandas.concat instead.\n",
            "  df = df.append(pd.Series(tmp_list, index=new_columns), ignore_index=True)\n",
            "<ipython-input-23-00cc6b3bd79e>:16: FutureWarning: The frame.append method is deprecated and will be removed from pandas in a future version. Use pandas.concat instead.\n",
            "  df = df.append(pd.Series(tmp_list, index=new_columns), ignore_index=True)\n",
            "<ipython-input-23-00cc6b3bd79e>:16: FutureWarning: The frame.append method is deprecated and will be removed from pandas in a future version. Use pandas.concat instead.\n",
            "  df = df.append(pd.Series(tmp_list, index=new_columns), ignore_index=True)\n",
            "<ipython-input-23-00cc6b3bd79e>:16: FutureWarning: The frame.append method is deprecated and will be removed from pandas in a future version. Use pandas.concat instead.\n",
            "  df = df.append(pd.Series(tmp_list, index=new_columns), ignore_index=True)\n",
            "<ipython-input-23-00cc6b3bd79e>:16: FutureWarning: The frame.append method is deprecated and will be removed from pandas in a future version. Use pandas.concat instead.\n",
            "  df = df.append(pd.Series(tmp_list, index=new_columns), ignore_index=True)\n",
            "<ipython-input-23-00cc6b3bd79e>:16: FutureWarning: The frame.append method is deprecated and will be removed from pandas in a future version. Use pandas.concat instead.\n",
            "  df = df.append(pd.Series(tmp_list, index=new_columns), ignore_index=True)\n",
            "<ipython-input-23-00cc6b3bd79e>:16: FutureWarning: The frame.append method is deprecated and will be removed from pandas in a future version. Use pandas.concat instead.\n",
            "  df = df.append(pd.Series(tmp_list, index=new_columns), ignore_index=True)\n",
            "<ipython-input-23-00cc6b3bd79e>:16: FutureWarning: The frame.append method is deprecated and will be removed from pandas in a future version. Use pandas.concat instead.\n",
            "  df = df.append(pd.Series(tmp_list, index=new_columns), ignore_index=True)\n",
            "<ipython-input-23-00cc6b3bd79e>:16: FutureWarning: The frame.append method is deprecated and will be removed from pandas in a future version. Use pandas.concat instead.\n",
            "  df = df.append(pd.Series(tmp_list, index=new_columns), ignore_index=True)\n",
            "<ipython-input-23-00cc6b3bd79e>:16: FutureWarning: The frame.append method is deprecated and will be removed from pandas in a future version. Use pandas.concat instead.\n",
            "  df = df.append(pd.Series(tmp_list, index=new_columns), ignore_index=True)\n",
            "<ipython-input-23-00cc6b3bd79e>:16: FutureWarning: The frame.append method is deprecated and will be removed from pandas in a future version. Use pandas.concat instead.\n",
            "  df = df.append(pd.Series(tmp_list, index=new_columns), ignore_index=True)\n",
            "<ipython-input-23-00cc6b3bd79e>:16: FutureWarning: The frame.append method is deprecated and will be removed from pandas in a future version. Use pandas.concat instead.\n",
            "  df = df.append(pd.Series(tmp_list, index=new_columns), ignore_index=True)\n",
            "<ipython-input-23-00cc6b3bd79e>:16: FutureWarning: The frame.append method is deprecated and will be removed from pandas in a future version. Use pandas.concat instead.\n",
            "  df = df.append(pd.Series(tmp_list, index=new_columns), ignore_index=True)\n",
            "<ipython-input-23-00cc6b3bd79e>:16: FutureWarning: The frame.append method is deprecated and will be removed from pandas in a future version. Use pandas.concat instead.\n",
            "  df = df.append(pd.Series(tmp_list, index=new_columns), ignore_index=True)\n",
            "<ipython-input-23-00cc6b3bd79e>:16: FutureWarning: The frame.append method is deprecated and will be removed from pandas in a future version. Use pandas.concat instead.\n",
            "  df = df.append(pd.Series(tmp_list, index=new_columns), ignore_index=True)\n",
            "<ipython-input-23-00cc6b3bd79e>:16: FutureWarning: The frame.append method is deprecated and will be removed from pandas in a future version. Use pandas.concat instead.\n",
            "  df = df.append(pd.Series(tmp_list, index=new_columns), ignore_index=True)\n",
            "<ipython-input-23-00cc6b3bd79e>:16: FutureWarning: The frame.append method is deprecated and will be removed from pandas in a future version. Use pandas.concat instead.\n",
            "  df = df.append(pd.Series(tmp_list, index=new_columns), ignore_index=True)\n",
            "<ipython-input-23-00cc6b3bd79e>:16: FutureWarning: The frame.append method is deprecated and will be removed from pandas in a future version. Use pandas.concat instead.\n",
            "  df = df.append(pd.Series(tmp_list, index=new_columns), ignore_index=True)\n",
            "<ipython-input-23-00cc6b3bd79e>:16: FutureWarning: The frame.append method is deprecated and will be removed from pandas in a future version. Use pandas.concat instead.\n",
            "  df = df.append(pd.Series(tmp_list, index=new_columns), ignore_index=True)\n",
            "<ipython-input-23-00cc6b3bd79e>:16: FutureWarning: The frame.append method is deprecated and will be removed from pandas in a future version. Use pandas.concat instead.\n",
            "  df = df.append(pd.Series(tmp_list, index=new_columns), ignore_index=True)\n",
            "<ipython-input-23-00cc6b3bd79e>:16: FutureWarning: The frame.append method is deprecated and will be removed from pandas in a future version. Use pandas.concat instead.\n",
            "  df = df.append(pd.Series(tmp_list, index=new_columns), ignore_index=True)\n",
            "<ipython-input-23-00cc6b3bd79e>:16: FutureWarning: The frame.append method is deprecated and will be removed from pandas in a future version. Use pandas.concat instead.\n",
            "  df = df.append(pd.Series(tmp_list, index=new_columns), ignore_index=True)\n",
            "<ipython-input-23-00cc6b3bd79e>:16: FutureWarning: The frame.append method is deprecated and will be removed from pandas in a future version. Use pandas.concat instead.\n",
            "  df = df.append(pd.Series(tmp_list, index=new_columns), ignore_index=True)\n",
            "<ipython-input-23-00cc6b3bd79e>:16: FutureWarning: The frame.append method is deprecated and will be removed from pandas in a future version. Use pandas.concat instead.\n",
            "  df = df.append(pd.Series(tmp_list, index=new_columns), ignore_index=True)\n",
            "<ipython-input-23-00cc6b3bd79e>:16: FutureWarning: The frame.append method is deprecated and will be removed from pandas in a future version. Use pandas.concat instead.\n",
            "  df = df.append(pd.Series(tmp_list, index=new_columns), ignore_index=True)\n",
            "<ipython-input-23-00cc6b3bd79e>:16: FutureWarning: The frame.append method is deprecated and will be removed from pandas in a future version. Use pandas.concat instead.\n",
            "  df = df.append(pd.Series(tmp_list, index=new_columns), ignore_index=True)\n",
            "<ipython-input-23-00cc6b3bd79e>:16: FutureWarning: The frame.append method is deprecated and will be removed from pandas in a future version. Use pandas.concat instead.\n",
            "  df = df.append(pd.Series(tmp_list, index=new_columns), ignore_index=True)\n",
            "<ipython-input-23-00cc6b3bd79e>:16: FutureWarning: The frame.append method is deprecated and will be removed from pandas in a future version. Use pandas.concat instead.\n",
            "  df = df.append(pd.Series(tmp_list, index=new_columns), ignore_index=True)\n",
            "<ipython-input-23-00cc6b3bd79e>:16: FutureWarning: The frame.append method is deprecated and will be removed from pandas in a future version. Use pandas.concat instead.\n",
            "  df = df.append(pd.Series(tmp_list, index=new_columns), ignore_index=True)\n",
            "<ipython-input-23-00cc6b3bd79e>:16: FutureWarning: The frame.append method is deprecated and will be removed from pandas in a future version. Use pandas.concat instead.\n",
            "  df = df.append(pd.Series(tmp_list, index=new_columns), ignore_index=True)\n",
            "<ipython-input-23-00cc6b3bd79e>:16: FutureWarning: The frame.append method is deprecated and will be removed from pandas in a future version. Use pandas.concat instead.\n",
            "  df = df.append(pd.Series(tmp_list, index=new_columns), ignore_index=True)\n",
            "<ipython-input-23-00cc6b3bd79e>:16: FutureWarning: The frame.append method is deprecated and will be removed from pandas in a future version. Use pandas.concat instead.\n",
            "  df = df.append(pd.Series(tmp_list, index=new_columns), ignore_index=True)\n",
            "<ipython-input-23-00cc6b3bd79e>:16: FutureWarning: The frame.append method is deprecated and will be removed from pandas in a future version. Use pandas.concat instead.\n",
            "  df = df.append(pd.Series(tmp_list, index=new_columns), ignore_index=True)\n",
            "<ipython-input-23-00cc6b3bd79e>:16: FutureWarning: The frame.append method is deprecated and will be removed from pandas in a future version. Use pandas.concat instead.\n",
            "  df = df.append(pd.Series(tmp_list, index=new_columns), ignore_index=True)\n",
            "<ipython-input-23-00cc6b3bd79e>:16: FutureWarning: The frame.append method is deprecated and will be removed from pandas in a future version. Use pandas.concat instead.\n",
            "  df = df.append(pd.Series(tmp_list, index=new_columns), ignore_index=True)\n",
            "<ipython-input-23-00cc6b3bd79e>:16: FutureWarning: The frame.append method is deprecated and will be removed from pandas in a future version. Use pandas.concat instead.\n",
            "  df = df.append(pd.Series(tmp_list, index=new_columns), ignore_index=True)\n",
            "<ipython-input-23-00cc6b3bd79e>:16: FutureWarning: The frame.append method is deprecated and will be removed from pandas in a future version. Use pandas.concat instead.\n",
            "  df = df.append(pd.Series(tmp_list, index=new_columns), ignore_index=True)\n",
            "<ipython-input-23-00cc6b3bd79e>:16: FutureWarning: The frame.append method is deprecated and will be removed from pandas in a future version. Use pandas.concat instead.\n",
            "  df = df.append(pd.Series(tmp_list, index=new_columns), ignore_index=True)\n",
            "<ipython-input-23-00cc6b3bd79e>:16: FutureWarning: The frame.append method is deprecated and will be removed from pandas in a future version. Use pandas.concat instead.\n",
            "  df = df.append(pd.Series(tmp_list, index=new_columns), ignore_index=True)\n",
            "<ipython-input-23-00cc6b3bd79e>:16: FutureWarning: The frame.append method is deprecated and will be removed from pandas in a future version. Use pandas.concat instead.\n",
            "  df = df.append(pd.Series(tmp_list, index=new_columns), ignore_index=True)\n",
            "<ipython-input-23-00cc6b3bd79e>:16: FutureWarning: The frame.append method is deprecated and will be removed from pandas in a future version. Use pandas.concat instead.\n",
            "  df = df.append(pd.Series(tmp_list, index=new_columns), ignore_index=True)\n",
            "<ipython-input-23-00cc6b3bd79e>:16: FutureWarning: The frame.append method is deprecated and will be removed from pandas in a future version. Use pandas.concat instead.\n",
            "  df = df.append(pd.Series(tmp_list, index=new_columns), ignore_index=True)\n",
            "<ipython-input-23-00cc6b3bd79e>:16: FutureWarning: The frame.append method is deprecated and will be removed from pandas in a future version. Use pandas.concat instead.\n",
            "  df = df.append(pd.Series(tmp_list, index=new_columns), ignore_index=True)\n",
            "<ipython-input-23-00cc6b3bd79e>:16: FutureWarning: The frame.append method is deprecated and will be removed from pandas in a future version. Use pandas.concat instead.\n",
            "  df = df.append(pd.Series(tmp_list, index=new_columns), ignore_index=True)\n",
            "<ipython-input-23-00cc6b3bd79e>:16: FutureWarning: The frame.append method is deprecated and will be removed from pandas in a future version. Use pandas.concat instead.\n",
            "  df = df.append(pd.Series(tmp_list, index=new_columns), ignore_index=True)\n",
            "<ipython-input-23-00cc6b3bd79e>:16: FutureWarning: The frame.append method is deprecated and will be removed from pandas in a future version. Use pandas.concat instead.\n",
            "  df = df.append(pd.Series(tmp_list, index=new_columns), ignore_index=True)\n",
            "<ipython-input-23-00cc6b3bd79e>:16: FutureWarning: The frame.append method is deprecated and will be removed from pandas in a future version. Use pandas.concat instead.\n",
            "  df = df.append(pd.Series(tmp_list, index=new_columns), ignore_index=True)\n",
            "<ipython-input-23-00cc6b3bd79e>:16: FutureWarning: The frame.append method is deprecated and will be removed from pandas in a future version. Use pandas.concat instead.\n",
            "  df = df.append(pd.Series(tmp_list, index=new_columns), ignore_index=True)\n",
            "<ipython-input-23-00cc6b3bd79e>:16: FutureWarning: The frame.append method is deprecated and will be removed from pandas in a future version. Use pandas.concat instead.\n",
            "  df = df.append(pd.Series(tmp_list, index=new_columns), ignore_index=True)\n",
            "<ipython-input-23-00cc6b3bd79e>:16: FutureWarning: The frame.append method is deprecated and will be removed from pandas in a future version. Use pandas.concat instead.\n",
            "  df = df.append(pd.Series(tmp_list, index=new_columns), ignore_index=True)\n",
            "<ipython-input-23-00cc6b3bd79e>:16: FutureWarning: The frame.append method is deprecated and will be removed from pandas in a future version. Use pandas.concat instead.\n",
            "  df = df.append(pd.Series(tmp_list, index=new_columns), ignore_index=True)\n",
            "<ipython-input-23-00cc6b3bd79e>:16: FutureWarning: The frame.append method is deprecated and will be removed from pandas in a future version. Use pandas.concat instead.\n",
            "  df = df.append(pd.Series(tmp_list, index=new_columns), ignore_index=True)\n",
            "<ipython-input-23-00cc6b3bd79e>:16: FutureWarning: The frame.append method is deprecated and will be removed from pandas in a future version. Use pandas.concat instead.\n",
            "  df = df.append(pd.Series(tmp_list, index=new_columns), ignore_index=True)\n",
            "<ipython-input-23-00cc6b3bd79e>:16: FutureWarning: The frame.append method is deprecated and will be removed from pandas in a future version. Use pandas.concat instead.\n",
            "  df = df.append(pd.Series(tmp_list, index=new_columns), ignore_index=True)\n",
            "<ipython-input-23-00cc6b3bd79e>:16: FutureWarning: The frame.append method is deprecated and will be removed from pandas in a future version. Use pandas.concat instead.\n",
            "  df = df.append(pd.Series(tmp_list, index=new_columns), ignore_index=True)\n",
            "<ipython-input-23-00cc6b3bd79e>:16: FutureWarning: The frame.append method is deprecated and will be removed from pandas in a future version. Use pandas.concat instead.\n",
            "  df = df.append(pd.Series(tmp_list, index=new_columns), ignore_index=True)\n",
            "<ipython-input-23-00cc6b3bd79e>:16: FutureWarning: The frame.append method is deprecated and will be removed from pandas in a future version. Use pandas.concat instead.\n",
            "  df = df.append(pd.Series(tmp_list, index=new_columns), ignore_index=True)\n",
            "<ipython-input-23-00cc6b3bd79e>:16: FutureWarning: The frame.append method is deprecated and will be removed from pandas in a future version. Use pandas.concat instead.\n",
            "  df = df.append(pd.Series(tmp_list, index=new_columns), ignore_index=True)\n",
            "<ipython-input-23-00cc6b3bd79e>:16: FutureWarning: The frame.append method is deprecated and will be removed from pandas in a future version. Use pandas.concat instead.\n",
            "  df = df.append(pd.Series(tmp_list, index=new_columns), ignore_index=True)\n",
            "<ipython-input-23-00cc6b3bd79e>:16: FutureWarning: The frame.append method is deprecated and will be removed from pandas in a future version. Use pandas.concat instead.\n",
            "  df = df.append(pd.Series(tmp_list, index=new_columns), ignore_index=True)\n",
            "<ipython-input-23-00cc6b3bd79e>:16: FutureWarning: The frame.append method is deprecated and will be removed from pandas in a future version. Use pandas.concat instead.\n",
            "  df = df.append(pd.Series(tmp_list, index=new_columns), ignore_index=True)\n",
            "<ipython-input-23-00cc6b3bd79e>:16: FutureWarning: The frame.append method is deprecated and will be removed from pandas in a future version. Use pandas.concat instead.\n",
            "  df = df.append(pd.Series(tmp_list, index=new_columns), ignore_index=True)\n",
            "<ipython-input-23-00cc6b3bd79e>:16: FutureWarning: The frame.append method is deprecated and will be removed from pandas in a future version. Use pandas.concat instead.\n",
            "  df = df.append(pd.Series(tmp_list, index=new_columns), ignore_index=True)\n",
            "<ipython-input-23-00cc6b3bd79e>:16: FutureWarning: The frame.append method is deprecated and will be removed from pandas in a future version. Use pandas.concat instead.\n",
            "  df = df.append(pd.Series(tmp_list, index=new_columns), ignore_index=True)\n",
            "<ipython-input-23-00cc6b3bd79e>:16: FutureWarning: The frame.append method is deprecated and will be removed from pandas in a future version. Use pandas.concat instead.\n",
            "  df = df.append(pd.Series(tmp_list, index=new_columns), ignore_index=True)\n",
            "<ipython-input-23-00cc6b3bd79e>:16: FutureWarning: The frame.append method is deprecated and will be removed from pandas in a future version. Use pandas.concat instead.\n",
            "  df = df.append(pd.Series(tmp_list, index=new_columns), ignore_index=True)\n",
            "<ipython-input-23-00cc6b3bd79e>:16: FutureWarning: The frame.append method is deprecated and will be removed from pandas in a future version. Use pandas.concat instead.\n",
            "  df = df.append(pd.Series(tmp_list, index=new_columns), ignore_index=True)\n",
            "<ipython-input-23-00cc6b3bd79e>:16: FutureWarning: The frame.append method is deprecated and will be removed from pandas in a future version. Use pandas.concat instead.\n",
            "  df = df.append(pd.Series(tmp_list, index=new_columns), ignore_index=True)\n",
            "<ipython-input-23-00cc6b3bd79e>:16: FutureWarning: The frame.append method is deprecated and will be removed from pandas in a future version. Use pandas.concat instead.\n",
            "  df = df.append(pd.Series(tmp_list, index=new_columns), ignore_index=True)\n",
            "<ipython-input-23-00cc6b3bd79e>:16: FutureWarning: The frame.append method is deprecated and will be removed from pandas in a future version. Use pandas.concat instead.\n",
            "  df = df.append(pd.Series(tmp_list, index=new_columns), ignore_index=True)\n",
            "<ipython-input-23-00cc6b3bd79e>:16: FutureWarning: The frame.append method is deprecated and will be removed from pandas in a future version. Use pandas.concat instead.\n",
            "  df = df.append(pd.Series(tmp_list, index=new_columns), ignore_index=True)\n",
            "<ipython-input-23-00cc6b3bd79e>:16: FutureWarning: The frame.append method is deprecated and will be removed from pandas in a future version. Use pandas.concat instead.\n",
            "  df = df.append(pd.Series(tmp_list, index=new_columns), ignore_index=True)\n",
            "<ipython-input-23-00cc6b3bd79e>:16: FutureWarning: The frame.append method is deprecated and will be removed from pandas in a future version. Use pandas.concat instead.\n",
            "  df = df.append(pd.Series(tmp_list, index=new_columns), ignore_index=True)\n",
            "<ipython-input-23-00cc6b3bd79e>:16: FutureWarning: The frame.append method is deprecated and will be removed from pandas in a future version. Use pandas.concat instead.\n",
            "  df = df.append(pd.Series(tmp_list, index=new_columns), ignore_index=True)\n",
            "<ipython-input-23-00cc6b3bd79e>:16: FutureWarning: The frame.append method is deprecated and will be removed from pandas in a future version. Use pandas.concat instead.\n",
            "  df = df.append(pd.Series(tmp_list, index=new_columns), ignore_index=True)\n",
            "<ipython-input-23-00cc6b3bd79e>:16: FutureWarning: The frame.append method is deprecated and will be removed from pandas in a future version. Use pandas.concat instead.\n",
            "  df = df.append(pd.Series(tmp_list, index=new_columns), ignore_index=True)\n",
            "<ipython-input-23-00cc6b3bd79e>:16: FutureWarning: The frame.append method is deprecated and will be removed from pandas in a future version. Use pandas.concat instead.\n",
            "  df = df.append(pd.Series(tmp_list, index=new_columns), ignore_index=True)\n",
            "<ipython-input-23-00cc6b3bd79e>:16: FutureWarning: The frame.append method is deprecated and will be removed from pandas in a future version. Use pandas.concat instead.\n",
            "  df = df.append(pd.Series(tmp_list, index=new_columns), ignore_index=True)\n",
            "<ipython-input-23-00cc6b3bd79e>:16: FutureWarning: The frame.append method is deprecated and will be removed from pandas in a future version. Use pandas.concat instead.\n",
            "  df = df.append(pd.Series(tmp_list, index=new_columns), ignore_index=True)\n",
            "<ipython-input-23-00cc6b3bd79e>:16: FutureWarning: The frame.append method is deprecated and will be removed from pandas in a future version. Use pandas.concat instead.\n",
            "  df = df.append(pd.Series(tmp_list, index=new_columns), ignore_index=True)\n",
            "<ipython-input-23-00cc6b3bd79e>:16: FutureWarning: The frame.append method is deprecated and will be removed from pandas in a future version. Use pandas.concat instead.\n",
            "  df = df.append(pd.Series(tmp_list, index=new_columns), ignore_index=True)\n",
            "<ipython-input-23-00cc6b3bd79e>:16: FutureWarning: The frame.append method is deprecated and will be removed from pandas in a future version. Use pandas.concat instead.\n",
            "  df = df.append(pd.Series(tmp_list, index=new_columns), ignore_index=True)\n",
            "<ipython-input-23-00cc6b3bd79e>:16: FutureWarning: The frame.append method is deprecated and will be removed from pandas in a future version. Use pandas.concat instead.\n",
            "  df = df.append(pd.Series(tmp_list, index=new_columns), ignore_index=True)\n",
            "<ipython-input-23-00cc6b3bd79e>:16: FutureWarning: The frame.append method is deprecated and will be removed from pandas in a future version. Use pandas.concat instead.\n",
            "  df = df.append(pd.Series(tmp_list, index=new_columns), ignore_index=True)\n",
            "<ipython-input-23-00cc6b3bd79e>:16: FutureWarning: The frame.append method is deprecated and will be removed from pandas in a future version. Use pandas.concat instead.\n",
            "  df = df.append(pd.Series(tmp_list, index=new_columns), ignore_index=True)\n",
            "<ipython-input-23-00cc6b3bd79e>:16: FutureWarning: The frame.append method is deprecated and will be removed from pandas in a future version. Use pandas.concat instead.\n",
            "  df = df.append(pd.Series(tmp_list, index=new_columns), ignore_index=True)\n",
            "<ipython-input-23-00cc6b3bd79e>:16: FutureWarning: The frame.append method is deprecated and will be removed from pandas in a future version. Use pandas.concat instead.\n",
            "  df = df.append(pd.Series(tmp_list, index=new_columns), ignore_index=True)\n",
            "<ipython-input-23-00cc6b3bd79e>:16: FutureWarning: The frame.append method is deprecated and will be removed from pandas in a future version. Use pandas.concat instead.\n",
            "  df = df.append(pd.Series(tmp_list, index=new_columns), ignore_index=True)\n",
            "<ipython-input-23-00cc6b3bd79e>:16: FutureWarning: The frame.append method is deprecated and will be removed from pandas in a future version. Use pandas.concat instead.\n",
            "  df = df.append(pd.Series(tmp_list, index=new_columns), ignore_index=True)\n",
            "<ipython-input-23-00cc6b3bd79e>:16: FutureWarning: The frame.append method is deprecated and will be removed from pandas in a future version. Use pandas.concat instead.\n",
            "  df = df.append(pd.Series(tmp_list, index=new_columns), ignore_index=True)\n",
            "<ipython-input-23-00cc6b3bd79e>:16: FutureWarning: The frame.append method is deprecated and will be removed from pandas in a future version. Use pandas.concat instead.\n",
            "  df = df.append(pd.Series(tmp_list, index=new_columns), ignore_index=True)\n",
            "<ipython-input-23-00cc6b3bd79e>:16: FutureWarning: The frame.append method is deprecated and will be removed from pandas in a future version. Use pandas.concat instead.\n",
            "  df = df.append(pd.Series(tmp_list, index=new_columns), ignore_index=True)\n",
            "<ipython-input-23-00cc6b3bd79e>:16: FutureWarning: The frame.append method is deprecated and will be removed from pandas in a future version. Use pandas.concat instead.\n",
            "  df = df.append(pd.Series(tmp_list, index=new_columns), ignore_index=True)\n",
            "<ipython-input-23-00cc6b3bd79e>:16: FutureWarning: The frame.append method is deprecated and will be removed from pandas in a future version. Use pandas.concat instead.\n",
            "  df = df.append(pd.Series(tmp_list, index=new_columns), ignore_index=True)\n",
            "<ipython-input-23-00cc6b3bd79e>:16: FutureWarning: The frame.append method is deprecated and will be removed from pandas in a future version. Use pandas.concat instead.\n",
            "  df = df.append(pd.Series(tmp_list, index=new_columns), ignore_index=True)\n",
            "<ipython-input-23-00cc6b3bd79e>:16: FutureWarning: The frame.append method is deprecated and will be removed from pandas in a future version. Use pandas.concat instead.\n",
            "  df = df.append(pd.Series(tmp_list, index=new_columns), ignore_index=True)\n",
            "<ipython-input-23-00cc6b3bd79e>:16: FutureWarning: The frame.append method is deprecated and will be removed from pandas in a future version. Use pandas.concat instead.\n",
            "  df = df.append(pd.Series(tmp_list, index=new_columns), ignore_index=True)\n",
            "<ipython-input-23-00cc6b3bd79e>:16: FutureWarning: The frame.append method is deprecated and will be removed from pandas in a future version. Use pandas.concat instead.\n",
            "  df = df.append(pd.Series(tmp_list, index=new_columns), ignore_index=True)\n",
            "<ipython-input-23-00cc6b3bd79e>:16: FutureWarning: The frame.append method is deprecated and will be removed from pandas in a future version. Use pandas.concat instead.\n",
            "  df = df.append(pd.Series(tmp_list, index=new_columns), ignore_index=True)\n",
            "<ipython-input-23-00cc6b3bd79e>:16: FutureWarning: The frame.append method is deprecated and will be removed from pandas in a future version. Use pandas.concat instead.\n",
            "  df = df.append(pd.Series(tmp_list, index=new_columns), ignore_index=True)\n",
            "<ipython-input-23-00cc6b3bd79e>:16: FutureWarning: The frame.append method is deprecated and will be removed from pandas in a future version. Use pandas.concat instead.\n",
            "  df = df.append(pd.Series(tmp_list, index=new_columns), ignore_index=True)\n",
            "<ipython-input-23-00cc6b3bd79e>:16: FutureWarning: The frame.append method is deprecated and will be removed from pandas in a future version. Use pandas.concat instead.\n",
            "  df = df.append(pd.Series(tmp_list, index=new_columns), ignore_index=True)\n",
            "<ipython-input-23-00cc6b3bd79e>:16: FutureWarning: The frame.append method is deprecated and will be removed from pandas in a future version. Use pandas.concat instead.\n",
            "  df = df.append(pd.Series(tmp_list, index=new_columns), ignore_index=True)\n",
            "<ipython-input-23-00cc6b3bd79e>:16: FutureWarning: The frame.append method is deprecated and will be removed from pandas in a future version. Use pandas.concat instead.\n",
            "  df = df.append(pd.Series(tmp_list, index=new_columns), ignore_index=True)\n",
            "<ipython-input-23-00cc6b3bd79e>:16: FutureWarning: The frame.append method is deprecated and will be removed from pandas in a future version. Use pandas.concat instead.\n",
            "  df = df.append(pd.Series(tmp_list, index=new_columns), ignore_index=True)\n",
            "<ipython-input-23-00cc6b3bd79e>:16: FutureWarning: The frame.append method is deprecated and will be removed from pandas in a future version. Use pandas.concat instead.\n",
            "  df = df.append(pd.Series(tmp_list, index=new_columns), ignore_index=True)\n",
            "<ipython-input-23-00cc6b3bd79e>:16: FutureWarning: The frame.append method is deprecated and will be removed from pandas in a future version. Use pandas.concat instead.\n",
            "  df = df.append(pd.Series(tmp_list, index=new_columns), ignore_index=True)\n",
            "<ipython-input-23-00cc6b3bd79e>:16: FutureWarning: The frame.append method is deprecated and will be removed from pandas in a future version. Use pandas.concat instead.\n",
            "  df = df.append(pd.Series(tmp_list, index=new_columns), ignore_index=True)\n",
            "<ipython-input-23-00cc6b3bd79e>:16: FutureWarning: The frame.append method is deprecated and will be removed from pandas in a future version. Use pandas.concat instead.\n",
            "  df = df.append(pd.Series(tmp_list, index=new_columns), ignore_index=True)\n",
            "<ipython-input-23-00cc6b3bd79e>:16: FutureWarning: The frame.append method is deprecated and will be removed from pandas in a future version. Use pandas.concat instead.\n",
            "  df = df.append(pd.Series(tmp_list, index=new_columns), ignore_index=True)\n",
            "<ipython-input-23-00cc6b3bd79e>:16: FutureWarning: The frame.append method is deprecated and will be removed from pandas in a future version. Use pandas.concat instead.\n",
            "  df = df.append(pd.Series(tmp_list, index=new_columns), ignore_index=True)\n",
            "<ipython-input-23-00cc6b3bd79e>:16: FutureWarning: The frame.append method is deprecated and will be removed from pandas in a future version. Use pandas.concat instead.\n",
            "  df = df.append(pd.Series(tmp_list, index=new_columns), ignore_index=True)\n",
            "<ipython-input-23-00cc6b3bd79e>:16: FutureWarning: The frame.append method is deprecated and will be removed from pandas in a future version. Use pandas.concat instead.\n",
            "  df = df.append(pd.Series(tmp_list, index=new_columns), ignore_index=True)\n",
            "<ipython-input-23-00cc6b3bd79e>:16: FutureWarning: The frame.append method is deprecated and will be removed from pandas in a future version. Use pandas.concat instead.\n",
            "  df = df.append(pd.Series(tmp_list, index=new_columns), ignore_index=True)\n",
            "<ipython-input-23-00cc6b3bd79e>:16: FutureWarning: The frame.append method is deprecated and will be removed from pandas in a future version. Use pandas.concat instead.\n",
            "  df = df.append(pd.Series(tmp_list, index=new_columns), ignore_index=True)\n",
            "<ipython-input-23-00cc6b3bd79e>:16: FutureWarning: The frame.append method is deprecated and will be removed from pandas in a future version. Use pandas.concat instead.\n",
            "  df = df.append(pd.Series(tmp_list, index=new_columns), ignore_index=True)\n",
            "<ipython-input-23-00cc6b3bd79e>:16: FutureWarning: The frame.append method is deprecated and will be removed from pandas in a future version. Use pandas.concat instead.\n",
            "  df = df.append(pd.Series(tmp_list, index=new_columns), ignore_index=True)\n",
            "<ipython-input-23-00cc6b3bd79e>:16: FutureWarning: The frame.append method is deprecated and will be removed from pandas in a future version. Use pandas.concat instead.\n",
            "  df = df.append(pd.Series(tmp_list, index=new_columns), ignore_index=True)\n",
            "<ipython-input-23-00cc6b3bd79e>:16: FutureWarning: The frame.append method is deprecated and will be removed from pandas in a future version. Use pandas.concat instead.\n",
            "  df = df.append(pd.Series(tmp_list, index=new_columns), ignore_index=True)\n",
            "<ipython-input-23-00cc6b3bd79e>:16: FutureWarning: The frame.append method is deprecated and will be removed from pandas in a future version. Use pandas.concat instead.\n",
            "  df = df.append(pd.Series(tmp_list, index=new_columns), ignore_index=True)\n",
            "<ipython-input-23-00cc6b3bd79e>:16: FutureWarning: The frame.append method is deprecated and will be removed from pandas in a future version. Use pandas.concat instead.\n",
            "  df = df.append(pd.Series(tmp_list, index=new_columns), ignore_index=True)\n",
            "<ipython-input-23-00cc6b3bd79e>:16: FutureWarning: The frame.append method is deprecated and will be removed from pandas in a future version. Use pandas.concat instead.\n",
            "  df = df.append(pd.Series(tmp_list, index=new_columns), ignore_index=True)\n",
            "<ipython-input-23-00cc6b3bd79e>:16: FutureWarning: The frame.append method is deprecated and will be removed from pandas in a future version. Use pandas.concat instead.\n",
            "  df = df.append(pd.Series(tmp_list, index=new_columns), ignore_index=True)\n",
            "<ipython-input-23-00cc6b3bd79e>:16: FutureWarning: The frame.append method is deprecated and will be removed from pandas in a future version. Use pandas.concat instead.\n",
            "  df = df.append(pd.Series(tmp_list, index=new_columns), ignore_index=True)\n",
            "<ipython-input-23-00cc6b3bd79e>:16: FutureWarning: The frame.append method is deprecated and will be removed from pandas in a future version. Use pandas.concat instead.\n",
            "  df = df.append(pd.Series(tmp_list, index=new_columns), ignore_index=True)\n"
          ]
        },
        {
          "data": {
            "text/html": [
              "\n",
              "  <div id=\"df-f1e0fbe6-287a-41bc-a291-fbc627ebd1a5\" class=\"colab-df-container\">\n",
              "    <div>\n",
              "<style scoped>\n",
              "    .dataframe tbody tr th:only-of-type {\n",
              "        vertical-align: middle;\n",
              "    }\n",
              "\n",
              "    .dataframe tbody tr th {\n",
              "        vertical-align: top;\n",
              "    }\n",
              "\n",
              "    .dataframe thead th {\n",
              "        text-align: right;\n",
              "    }\n",
              "</style>\n",
              "<table border=\"1\" class=\"dataframe\">\n",
              "  <thead>\n",
              "    <tr style=\"text-align: right;\">\n",
              "      <th></th>\n",
              "      <th>Area</th>\n",
              "      <th>Average_p</th>\n",
              "      <th>Average_d</th>\n",
              "      <th>Average_u</th>\n",
              "    </tr>\n",
              "  </thead>\n",
              "  <tbody>\n",
              "    <tr>\n",
              "      <th>0</th>\n",
              "      <td>E06000007</td>\n",
              "      <td>53.365709</td>\n",
              "      <td>22.141549</td>\n",
              "      <td>8.715658</td>\n",
              "    </tr>\n",
              "    <tr>\n",
              "      <th>1</th>\n",
              "      <td>E08000013</td>\n",
              "      <td>53.490657</td>\n",
              "      <td>21.594366</td>\n",
              "      <td>8.631623</td>\n",
              "    </tr>\n",
              "    <tr>\n",
              "      <th>2</th>\n",
              "      <td>E06000020</td>\n",
              "      <td>52.311067</td>\n",
              "      <td>21.650404</td>\n",
              "      <td>8.616171</td>\n",
              "    </tr>\n",
              "    <tr>\n",
              "      <th>3</th>\n",
              "      <td>E08000001</td>\n",
              "      <td>54.884848</td>\n",
              "      <td>22.571545</td>\n",
              "      <td>9.024592</td>\n",
              "    </tr>\n",
              "    <tr>\n",
              "      <th>4</th>\n",
              "      <td>E07000117</td>\n",
              "      <td>51.539458</td>\n",
              "      <td>20.631205</td>\n",
              "      <td>8.327936</td>\n",
              "    </tr>\n",
              "  </tbody>\n",
              "</table>\n",
              "</div>\n",
              "    <div class=\"colab-df-buttons\">\n",
              "\n",
              "  <div class=\"colab-df-container\">\n",
              "    <button class=\"colab-df-convert\" onclick=\"convertToInteractive('df-f1e0fbe6-287a-41bc-a291-fbc627ebd1a5')\"\n",
              "            title=\"Convert this dataframe to an interactive table.\"\n",
              "            style=\"display:none;\">\n",
              "\n",
              "  <svg xmlns=\"http://www.w3.org/2000/svg\" height=\"24px\" viewBox=\"0 -960 960 960\">\n",
              "    <path d=\"M120-120v-720h720v720H120Zm60-500h600v-160H180v160Zm220 220h160v-160H400v160Zm0 220h160v-160H400v160ZM180-400h160v-160H180v160Zm440 0h160v-160H620v160ZM180-180h160v-160H180v160Zm440 0h160v-160H620v160Z\"/>\n",
              "  </svg>\n",
              "    </button>\n",
              "\n",
              "  <style>\n",
              "    .colab-df-container {\n",
              "      display:flex;\n",
              "      gap: 12px;\n",
              "    }\n",
              "\n",
              "    .colab-df-convert {\n",
              "      background-color: #E8F0FE;\n",
              "      border: none;\n",
              "      border-radius: 50%;\n",
              "      cursor: pointer;\n",
              "      display: none;\n",
              "      fill: #1967D2;\n",
              "      height: 32px;\n",
              "      padding: 0 0 0 0;\n",
              "      width: 32px;\n",
              "    }\n",
              "\n",
              "    .colab-df-convert:hover {\n",
              "      background-color: #E2EBFA;\n",
              "      box-shadow: 0px 1px 2px rgba(60, 64, 67, 0.3), 0px 1px 3px 1px rgba(60, 64, 67, 0.15);\n",
              "      fill: #174EA6;\n",
              "    }\n",
              "\n",
              "    .colab-df-buttons div {\n",
              "      margin-bottom: 4px;\n",
              "    }\n",
              "\n",
              "    [theme=dark] .colab-df-convert {\n",
              "      background-color: #3B4455;\n",
              "      fill: #D2E3FC;\n",
              "    }\n",
              "\n",
              "    [theme=dark] .colab-df-convert:hover {\n",
              "      background-color: #434B5C;\n",
              "      box-shadow: 0px 1px 3px 1px rgba(0, 0, 0, 0.15);\n",
              "      filter: drop-shadow(0px 1px 2px rgba(0, 0, 0, 0.3));\n",
              "      fill: #FFFFFF;\n",
              "    }\n",
              "  </style>\n",
              "\n",
              "    <script>\n",
              "      const buttonEl =\n",
              "        document.querySelector('#df-f1e0fbe6-287a-41bc-a291-fbc627ebd1a5 button.colab-df-convert');\n",
              "      buttonEl.style.display =\n",
              "        google.colab.kernel.accessAllowed ? 'block' : 'none';\n",
              "\n",
              "      async function convertToInteractive(key) {\n",
              "        const element = document.querySelector('#df-f1e0fbe6-287a-41bc-a291-fbc627ebd1a5');\n",
              "        const dataTable =\n",
              "          await google.colab.kernel.invokeFunction('convertToInteractive',\n",
              "                                                    [key], {});\n",
              "        if (!dataTable) return;\n",
              "\n",
              "        const docLinkHtml = 'Like what you see? Visit the ' +\n",
              "          '<a target=\"_blank\" href=https://colab.research.google.com/notebooks/data_table.ipynb>data table notebook</a>'\n",
              "          + ' to learn more about interactive tables.';\n",
              "        element.innerHTML = '';\n",
              "        dataTable['output_type'] = 'display_data';\n",
              "        await google.colab.output.renderOutput(dataTable, element);\n",
              "        const docLink = document.createElement('div');\n",
              "        docLink.innerHTML = docLinkHtml;\n",
              "        element.appendChild(docLink);\n",
              "      }\n",
              "    </script>\n",
              "  </div>\n",
              "\n",
              "\n",
              "<div id=\"df-1aebe287-e5f2-45f6-8d40-a10a41c07f9c\">\n",
              "  <button class=\"colab-df-quickchart\" onclick=\"quickchart('df-1aebe287-e5f2-45f6-8d40-a10a41c07f9c')\"\n",
              "            title=\"Suggest charts.\"\n",
              "            style=\"display:none;\">\n",
              "\n",
              "<svg xmlns=\"http://www.w3.org/2000/svg\" height=\"24px\"viewBox=\"0 0 24 24\"\n",
              "     width=\"24px\">\n",
              "    <g>\n",
              "        <path d=\"M19 3H5c-1.1 0-2 .9-2 2v14c0 1.1.9 2 2 2h14c1.1 0 2-.9 2-2V5c0-1.1-.9-2-2-2zM9 17H7v-7h2v7zm4 0h-2V7h2v10zm4 0h-2v-4h2v4z\"/>\n",
              "    </g>\n",
              "</svg>\n",
              "  </button>\n",
              "\n",
              "<style>\n",
              "  .colab-df-quickchart {\n",
              "      --bg-color: #E8F0FE;\n",
              "      --fill-color: #1967D2;\n",
              "      --hover-bg-color: #E2EBFA;\n",
              "      --hover-fill-color: #174EA6;\n",
              "      --disabled-fill-color: #AAA;\n",
              "      --disabled-bg-color: #DDD;\n",
              "  }\n",
              "\n",
              "  [theme=dark] .colab-df-quickchart {\n",
              "      --bg-color: #3B4455;\n",
              "      --fill-color: #D2E3FC;\n",
              "      --hover-bg-color: #434B5C;\n",
              "      --hover-fill-color: #FFFFFF;\n",
              "      --disabled-bg-color: #3B4455;\n",
              "      --disabled-fill-color: #666;\n",
              "  }\n",
              "\n",
              "  .colab-df-quickchart {\n",
              "    background-color: var(--bg-color);\n",
              "    border: none;\n",
              "    border-radius: 50%;\n",
              "    cursor: pointer;\n",
              "    display: none;\n",
              "    fill: var(--fill-color);\n",
              "    height: 32px;\n",
              "    padding: 0;\n",
              "    width: 32px;\n",
              "  }\n",
              "\n",
              "  .colab-df-quickchart:hover {\n",
              "    background-color: var(--hover-bg-color);\n",
              "    box-shadow: 0 1px 2px rgba(60, 64, 67, 0.3), 0 1px 3px 1px rgba(60, 64, 67, 0.15);\n",
              "    fill: var(--button-hover-fill-color);\n",
              "  }\n",
              "\n",
              "  .colab-df-quickchart-complete:disabled,\n",
              "  .colab-df-quickchart-complete:disabled:hover {\n",
              "    background-color: var(--disabled-bg-color);\n",
              "    fill: var(--disabled-fill-color);\n",
              "    box-shadow: none;\n",
              "  }\n",
              "\n",
              "  .colab-df-spinner {\n",
              "    border: 2px solid var(--fill-color);\n",
              "    border-color: transparent;\n",
              "    border-bottom-color: var(--fill-color);\n",
              "    animation:\n",
              "      spin 1s steps(1) infinite;\n",
              "  }\n",
              "\n",
              "  @keyframes spin {\n",
              "    0% {\n",
              "      border-color: transparent;\n",
              "      border-bottom-color: var(--fill-color);\n",
              "      border-left-color: var(--fill-color);\n",
              "    }\n",
              "    20% {\n",
              "      border-color: transparent;\n",
              "      border-left-color: var(--fill-color);\n",
              "      border-top-color: var(--fill-color);\n",
              "    }\n",
              "    30% {\n",
              "      border-color: transparent;\n",
              "      border-left-color: var(--fill-color);\n",
              "      border-top-color: var(--fill-color);\n",
              "      border-right-color: var(--fill-color);\n",
              "    }\n",
              "    40% {\n",
              "      border-color: transparent;\n",
              "      border-right-color: var(--fill-color);\n",
              "      border-top-color: var(--fill-color);\n",
              "    }\n",
              "    60% {\n",
              "      border-color: transparent;\n",
              "      border-right-color: var(--fill-color);\n",
              "    }\n",
              "    80% {\n",
              "      border-color: transparent;\n",
              "      border-right-color: var(--fill-color);\n",
              "      border-bottom-color: var(--fill-color);\n",
              "    }\n",
              "    90% {\n",
              "      border-color: transparent;\n",
              "      border-bottom-color: var(--fill-color);\n",
              "    }\n",
              "  }\n",
              "</style>\n",
              "\n",
              "  <script>\n",
              "    async function quickchart(key) {\n",
              "      const quickchartButtonEl =\n",
              "        document.querySelector('#' + key + ' button');\n",
              "      quickchartButtonEl.disabled = true;  // To prevent multiple clicks.\n",
              "      quickchartButtonEl.classList.add('colab-df-spinner');\n",
              "      try {\n",
              "        const charts = await google.colab.kernel.invokeFunction(\n",
              "            'suggestCharts', [key], {});\n",
              "      } catch (error) {\n",
              "        console.error('Error during call to suggestCharts:', error);\n",
              "      }\n",
              "      quickchartButtonEl.classList.remove('colab-df-spinner');\n",
              "      quickchartButtonEl.classList.add('colab-df-quickchart-complete');\n",
              "    }\n",
              "    (() => {\n",
              "      let quickchartButtonEl =\n",
              "        document.querySelector('#df-1aebe287-e5f2-45f6-8d40-a10a41c07f9c button');\n",
              "      quickchartButtonEl.style.display =\n",
              "        google.colab.kernel.accessAllowed ? 'block' : 'none';\n",
              "    })();\n",
              "  </script>\n",
              "</div>\n",
              "    </div>\n",
              "  </div>\n"
            ],
            "text/plain": [
              "        Area  Average_p  Average_d  Average_u\n",
              "0  E06000007  53.365709  22.141549   8.715658\n",
              "1  E08000013  53.490657  21.594366   8.631623\n",
              "2  E06000020  52.311067  21.650404   8.616171\n",
              "3  E08000001  54.884848  22.571545   9.024592\n",
              "4  E07000117  51.539458  20.631205   8.327936"
            ]
          },
          "execution_count": 23,
          "metadata": {},
          "output_type": "execute_result"
        }
      ],
      "source": [
        "# Code Cell 19\n",
        "# this will take a while...\n",
        "for i in range(len(columns)-1): #EDL : replace xrange with range\n",
        "    tmp_list = []\n",
        "    tmp_list.append(columns[i])\n",
        "    for s in suffix.keys():\n",
        "        # query = ??\n",
        "        # SOLUTION:\n",
        "        query = 'SELECT AVG(\"{}{}\") FROM LA_wifi_speed_UK'.format(columns[i], s)\n",
        "\n",
        "        cur.execute(query)\n",
        "\n",
        "        mean = cur.fetchone()\n",
        "        tmp_list.append(mean[0])\n",
        "    #append the columns to the empty DataFrame\n",
        "    df = df.append(pd.Series(tmp_list, index=new_columns), ignore_index=True)\n",
        "# visualize the head of the dataframe here\n",
        "# SOLUTION:\n",
        "df.head()"
      ]
    },
    {
      "cell_type": "markdown",
      "metadata": {
        "id": "A1jZpYKL47_K"
      },
      "source": [
        "It is possible to visualize the averages for each area using `plot()`. This will show whether the average speed is the same throughout the different areas or not."
      ]
    },
    {
      "cell_type": "code",
      "execution_count": 24,
      "metadata": {
        "colab": {
          "base_uri": "https://localhost:8080/",
          "height": 730
        },
        "id": "fez_CiNH47_K",
        "outputId": "adc40b91-638c-40ca-ddac-0b13c6476b91"
      },
      "outputs": [
        {
          "data": {
            "text/plain": [
              "<matplotlib.legend.Legend at 0x796a82022d70>"
            ]
          },
          "execution_count": 24,
          "metadata": {},
          "output_type": "execute_result"
        },
        {
          "data": {
            "image/png": "[encoded data removed]",
            "text/plain": [
              "<Figure size 2000x1000 with 1 Axes>"
            ]
          },
          "metadata": {},
          "output_type": "display_data"
        }
      ],
      "source": [
        "# Code Cell 20\n",
        "plt.figure(figsize=(20,10))\n",
        "plt.plot(df.index, df[['Average_d','Average_u','Average_p']], 'o')\n",
        "plt.legend(['Average Download', 'Average Upload', 'Average ping'])"
      ]
    },
    {
      "cell_type": "markdown",
      "metadata": {
        "id": "B71Gwx6P47_L"
      },
      "source": [
        "Now the average speeds are stored in a Pandas dataframe. It might be useful to save them to a table in our database, and Pandas offers a method (`to_sql()`) to do so.\n",
        "We will first check whether the table already exists (this might create problems). If it exists, we want to drop it, and then create it. Otherwise we will directly create it.\n",
        "\n",
        "The construct `try... except` will capture the exception raised in case the table does not exist, and proceed to the creation of the table (for help, see Section 8.3 of https://docs.python.org/2.7/tutorial/errors.html).\n",
        "\n",
        "###### c) Save the work.\n",
        "Save the new dataframe to a table in the InternetSpeed database."
      ]
    },
    {
      "cell_type": "code",
      "execution_count": 25,
      "metadata": {
        "colab": {
          "base_uri": "https://localhost:8080/"
        },
        "collapsed": true,
        "id": "ybsSA3Kc47_L",
        "outputId": "79ff408d-1a6e-4db1-ad3b-32a3dbf58a9f"
      },
      "outputs": [
        {
          "data": {
            "text/plain": [
              "326"
            ]
          },
          "execution_count": 25,
          "metadata": {},
          "output_type": "execute_result"
        }
      ],
      "source": [
        "# Code Cell 21\n",
        "# Make sure to drop the table first if it already exists\n",
        "try:\n",
        "    cur.execute('DROP TABLE average_speed')\n",
        "except:\n",
        "    pass\n",
        "\n",
        "# what is the name of the table you want to save? To what connection?\n",
        "# Save the dataframe table into a SQL table\n",
        "# df.to_sql(?,?)\n",
        "\n",
        "# SOLUTION:\n",
        "df.to_sql('average_speed', conn)"
      ]
    },
    {
      "cell_type": "code",
      "execution_count": 26,
      "metadata": {
        "colab": {
          "base_uri": "https://localhost:8080/"
        },
        "id": "e3mTr5IU47_L",
        "outputId": "7e77cc54-27e5-4b24-d496-fbd3ba139b07"
      },
      "outputs": [
        {
          "name": "stdout",
          "output_type": "stream",
          "text": [
            "(0, 'E06000007', 53.36570899018156, 22.141549089258717, 8.71565819697993)\n",
            "(1, 'E08000013', 53.49065740151429, 21.594365770886878, 8.631623487674833)\n"
          ]
        }
      ],
      "source": [
        "# Code Cell 22\n",
        "# just checking everything worked fine: select everything from the table we just created\n",
        "# and then print the first two rows of the result\n",
        "\n",
        "query_2 = 'SELECT * FROM average_speed'\n",
        "cur.execute(query_2)\n",
        "\n",
        "# print the first fetched record\n",
        "print(cur.fetchone())\n",
        "# print the next fetched record\n",
        "print(cur.fetchone())"
      ]
    },
    {
      "cell_type": "markdown",
      "metadata": {
        "id": "yVsNl8v347_L"
      },
      "source": [
        "## Part 4: Join Tables\n",
        "\n",
        "To understand why and how the average Internet speed changes around the areas, we need more information about them. In particular, we are interested in how populated they are, to see if a crowded area has better or worse Internet service.\n",
        "\n",
        "#### Step 1: Get relevant information.\n",
        "This information can be found in this file:\n",
        "\n",
        "    ./Data/LA_population.csv\n",
        "    \n",
        "Here, LA stands for Local Authority, rather than Los Angeles.\n",
        "We want to join the information contained in this file with the average speed computed earlier.\n",
        "First, create a new table and store this data in the InternetSpeed database.\n",
        "\n",
        "###### a) Create the population table.\n",
        "Using csvsql, import the file LA_population.csv into the InternetSpeed database. Repeat the steps done to create the other tables in the database."
      ]
    },
    {
      "cell_type": "code",
      "execution_count": 27,
      "metadata": {
        "collapsed": true,
        "id": "-1ZxDjzg47_L"
      },
      "outputs": [],
      "source": [
        "# Code Cell 23\n",
        "#first close the database file, otherwise the external csvsql command cannot use\n",
        "conn.close()"
      ]
    },
    {
      "cell_type": "code",
      "execution_count": 28,
      "metadata": {
        "collapsed": true,
        "id": "6rccWrts47_M"
      },
      "outputs": [],
      "source": [
        "# Code Cell 24\n",
        "# use the external csvsql command to add to the DB file data from the CSV file\n",
        "#!csvsql --db sqlite:///...\n",
        "\n",
        "#SOLUTION:\n",
        "!csvsql --db sqlite:///InternetSpeed.db --insert /content/LA_population.csv"
      ]
    },
    {
      "cell_type": "code",
      "execution_count": 29,
      "metadata": {
        "collapsed": true,
        "id": "_8D_aqTd47_M"
      },
      "outputs": [],
      "source": [
        "# Code Cell 25\n",
        "#reopen the DB file\n",
        "#conn = sqlite3.connect(...)\n",
        "\n",
        "# SOLUTION:\n",
        "conn = sqlite3.connect('InternetSpeed.db')\n",
        "cur = conn.cursor()"
      ]
    },
    {
      "cell_type": "markdown",
      "metadata": {
        "id": "KQZLZ65u47_M"
      },
      "source": [
        "###### b) Test that everything worked.\n",
        "To test that everything worked and to have an idea of what is inside this new table, select the first 10 rows and print them."
      ]
    },
    {
      "cell_type": "code",
      "execution_count": 30,
      "metadata": {
        "colab": {
          "base_uri": "https://localhost:8080/"
        },
        "id": "uVyLEF8347_M",
        "outputId": "9679c49c-d99c-44da-c7ed-5b6739fbdd6d"
      },
      "outputs": [
        {
          "name": "stdout",
          "output_type": "stream",
          "text": [
            "('Aberdeen City', 'S12000033', 222793.0)\n",
            "('Aberdeenshire', 'S12000034', 252973.0)\n",
            "('Adur', 'E07000223', 61182.0)\n",
            "('Allerdale', 'E07000026', 96422.0)\n",
            "('Amber Valley', 'E07000032', 122309.0)\n",
            "('Angus', 'S12000041', 115978.0)\n",
            "('Antrim and Newtownabbey', 'N09000001', 138567.0)\n",
            "('Ards and North Down', 'N09000011', 156672.0)\n",
            "('Argyll and Bute', 'S12000035', 88166.0)\n",
            "('Armagh City, Banbridge and Craigavon', 'N09000002', 199693.0)\n"
          ]
        }
      ],
      "source": [
        "# Code Cell 26\n",
        "#query = ?\n",
        "# SOLUTION:\n",
        "query = 'SELECT * FROM LA_population LIMIT 10'\n",
        "\n",
        "#cur.execute(?)\n",
        "# SOLUTION:\n",
        "cur.execute(query)\n",
        "\n",
        "for row in cur:\n",
        "    # print the first fetched record\n",
        "    # SOLUTION:\n",
        "    print(row)"
      ]
    },
    {
      "cell_type": "markdown",
      "metadata": {
        "id": "nB1DLzqJ47_N"
      },
      "source": [
        "We can join the two tables in order to have all the information needed. The idea is that the two tables have a field in common, the area name. This is the key on which we want to join. It means that we want a new table that has a row for each area name that contains both the average speed information and the geographical information. The way SQL does this is comparing row by row, and merging together the rows with the same value for the key (i.e., the same area name).\n",
        "\n",
        "###### c) Execute the JOIN query and print the first 10 rows of the result."
      ]
    },
    {
      "cell_type": "code",
      "execution_count": 31,
      "metadata": {
        "colab": {
          "base_uri": "https://localhost:8080/"
        },
        "id": "BPPVSBdb47_N",
        "outputId": "aa90a41e-8722-4c2c-cc89-faf6000003c9"
      },
      "outputs": [
        {
          "name": "stdout",
          "output_type": "stream",
          "text": [
            "(0, 'E06000007', 53.36570899018156, 22.141549089258717, 8.71565819697993, 'Warrington', 'E06000007', 202228.0)\n",
            "(1, 'E08000013', 53.49065740151429, 21.594365770886878, 8.631623487674833, 'St. Helens', 'E08000013', 175308.0)\n",
            "(2, 'E06000020', 52.311067204712764, 21.65040411893273, 8.616170714102104, 'Telford and Wrekin', 'E06000020', 166641.0)\n",
            "(3, 'E08000001', 54.88484781537253, 22.571544634325228, 9.024591950275786, 'Bolton', 'E08000001', 276786.0)\n",
            "(4, 'E07000117', 51.53945800742985, 20.631205214910192, 8.327936066197628, 'Burnley', 'E07000117', 87059.0)\n",
            "(5, 'E06000039', 52.431695010853765, 21.251761070814247, 8.520327608707184, 'Slough', 'E06000039', 140205.0)\n",
            "(6, 'E06000044', 53.770884595419766, 21.984499003450406, 8.750949333189466, 'Portsmouth', 'E06000044', 205056.0)\n",
            "(7, 'E07000165', 52.708799108572606, 21.5561080787063, 8.610279192529896, 'Harrogate', 'E07000165', 157869.0)\n",
            "(8, 'E07000124', 50.22105700696352, 20.759189346942872, 8.181407344034819, 'Ribble Valley', 'E07000124', 57132.0)\n",
            "(9, 'E08000011', 52.90357622207187, 21.141395629318918, 8.562147205618873, 'Knowsley', 'E08000011', 145893.0)\n",
            "(10, 'E07000028', 52.27647171098131, 20.98744092285397, 8.375227420926299, 'Carlisle', 'E07000028', 107524.0)\n"
          ]
        }
      ],
      "source": [
        "# Code Cell 27\n",
        "query = 'SELECT * FROM average_speed JOIN LA_population ON LA_population.\"LA_code\"=average_speed.Area'\n",
        "\n",
        "cur.execute(query)\n",
        "k = 0\n",
        "for row in cur:\n",
        "    if k>10:\n",
        "        break\n",
        "    #print ?\n",
        "\n",
        "    # SOLUTION:\n",
        "    print(row)\n",
        "\n",
        "    k+=1"
      ]
    },
    {
      "cell_type": "markdown",
      "metadata": {
        "collapsed": true,
        "id": "8BFBCDki47_N"
      },
      "source": [
        "<font size='0.5'>&copy; 2017 Cisco and/or its affiliates. All rights reserved. This document is Cisco Public.<font>"
      ]
    }
  ],
  "metadata": {
    "anaconda-cloud": {},
    "colab": {
      "provenance": []
    },
    "kernelspec": {
      "display_name": "Python 3",
      "language": "python",
      "name": "python3"
    },
    "language_info": {
      "codemirror_mode": {
        "name": "ipython",
        "version": 3
      },
      "file_extension": ".py",
      "mimetype": "text/x-python",
      "name": "python",
      "nbconvert_exporter": "python",
      "pygments_lexer": "ipython3",
      "version": "3.11.0"
    }
  },
  "nbformat": 4,
  "nbformat_minor": 0
}
