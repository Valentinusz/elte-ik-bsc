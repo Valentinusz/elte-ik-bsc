{
 "cells": [
  {
   "cell_type": "markdown",
   "source": [
    "# PySpark SQL\n",
    "\n",
    "A dataframe-ek az SQL nyelv szintaktikájával rendelkező utasításokon kersztül is manipulálhatók."
   ],
   "metadata": {
    "collapsed": false
   },
   "id": "44fd7816c1200da9"
  },
  {
   "cell_type": "code",
   "execution_count": 1,
   "outputs": [],
   "source": [
    "from pyspark.sql import  *\n",
    "from pyspark.sql.functions import *\n",
    "\n",
    "spark = SparkSession.builder.getOrCreate()\n",
    "\n",
    "df = spark.read.option('header', True).csv('dolgozo.csv')"
   ],
   "metadata": {
    "collapsed": false,
    "ExecuteTime": {
     "end_time": "2023-11-04T20:31:47.472023800Z",
     "start_time": "2023-11-04T20:31:38.483335200Z"
    }
   },
   "id": "482fb665ba9c892"
  },
  {
   "cell_type": "markdown",
   "source": [
    "Ehhez egy nézetet kell létrehozni:"
   ],
   "metadata": {
    "collapsed": false
   },
   "id": "3f8db66e312cb837"
  },
  {
   "cell_type": "code",
   "execution_count": 2,
   "outputs": [],
   "source": [
    "df.createOrReplaceTempView('dolgozo')"
   ],
   "metadata": {
    "collapsed": false,
    "ExecuteTime": {
     "end_time": "2023-11-04T20:32:26.847335800Z",
     "start_time": "2023-11-04T20:32:26.788259500Z"
    }
   },
   "id": "7d00b4d23f05bb17"
  },
  {
   "cell_type": "markdown",
   "source": [
    "Ezt követően a `context` objektum ismeri az adatforrást tudunk rajta lekérdezéseket végezni."
   ],
   "metadata": {
    "collapsed": false
   },
   "id": "9cc7b7d28953c263"
  },
  {
   "cell_type": "code",
   "execution_count": 3,
   "outputs": [
    {
     "name": "stdout",
     "output_type": "stream",
     "text": [
      "+----+-----+-----------+------+---------+-------+-------+-----+\n",
      "|DKOD| DNEV|FOGLALKOZAS|FONOKE|  BELEPES|FIZETES|JUTALEK|OAZON|\n",
      "+----+-----+-----------+------+---------+-------+-------+-----+\n",
      "|7839| KING|  PRESIDENT|  0000|81-NOV-17|   5000|      0|   10|\n",
      "|7698|BLAKE|    MANAGER|  7839|81-MAY-01|   2850|      0|   30|\n",
      "|7782|CLARK|    MANAGER|  7839|81-JUN-09|   2450|      0|   10|\n",
      "+----+-----+-----------+------+---------+-------+-------+-----+\n"
     ]
    }
   ],
   "source": [
    "spark.sql('SELECT * FROM dolgozo').show(3)"
   ],
   "metadata": {
    "collapsed": false,
    "ExecuteTime": {
     "end_time": "2023-11-04T20:32:29.214110500Z",
     "start_time": "2023-11-04T20:32:28.804610400Z"
    }
   },
   "id": "a00a4bfda0c7929"
  },
  {
   "cell_type": "markdown",
   "source": [
    "A lekérdezések tagolásához használhatunk többsoros stringeket."
   ],
   "metadata": {
    "collapsed": false
   },
   "id": "c81d2fbfe07b3cd3"
  },
  {
   "cell_type": "code",
   "execution_count": 5,
   "outputs": [
    {
     "name": "stdout",
     "output_type": "stream",
     "text": [
      "+-----+--------+\n",
      "|OAZON|count(1)|\n",
      "+-----+--------+\n",
      "|   30|       6|\n",
      "|   20|       6|\n",
      "|   10|       4|\n",
      "+-----+--------+\n"
     ]
    }
   ],
   "source": [
    "spark.sql(\n",
    "    '''\n",
    "    SELECT OAZON, COUNT(*)\n",
    "    FROM dolgozo\n",
    "    GROUP BY OAZON\n",
    "    '''\n",
    ").show()"
   ],
   "metadata": {
    "collapsed": false,
    "ExecuteTime": {
     "end_time": "2023-11-04T20:34:30.678287500Z",
     "start_time": "2023-11-04T20:34:29.788810Z"
    }
   },
   "id": "59b2f4e74e50a461"
  },
  {
   "cell_type": "markdown",
   "source": [
    "A programozott és az sql megoldás általában ekvivalens."
   ],
   "metadata": {
    "collapsed": false
   },
   "id": "f6186fcd9c2d3fec"
  },
  {
   "cell_type": "code",
   "execution_count": 6,
   "outputs": [
    {
     "data": {
      "text/plain": "True"
     },
     "execution_count": 6,
     "metadata": {},
     "output_type": "execute_result"
    }
   ],
   "source": [
    "df.groupBy(df.OAZON).agg(count('*')).sameSemantics(spark.sql('SELECT OAZON, COUNT(*) FROM dolgozo GROUP BY OAZON'))"
   ],
   "metadata": {
    "collapsed": false,
    "ExecuteTime": {
     "end_time": "2023-11-04T20:35:52.753295700Z",
     "start_time": "2023-11-04T20:35:52.672108Z"
    }
   },
   "id": "533079b00c414f16"
  },
  {
   "cell_type": "markdown",
   "source": [
    "## Feladatok"
   ],
   "metadata": {
    "collapsed": false
   },
   "id": "dc2b76f96a3db121"
  },
  {
   "cell_type": "code",
   "execution_count": 11,
   "outputs": [
    {
     "name": "stdout",
     "output_type": "stream",
     "text": [
      "+---------+---------+--------------------+--------+---------------+---------+----------+--------------+\n",
      "|InvoiceNo|StockCode|         Description|Quantity|    InvoiceDate|UnitPrice|CustomerID|       Country|\n",
      "+---------+---------+--------------------+--------+---------------+---------+----------+--------------+\n",
      "|   536365|   85123A|WHITE HANGING HEA...|       6|01/12/2010 8:26|     2.55|     17850|United Kingdom|\n",
      "|   536365|    71053| WHITE METAL LANTERN|       6|01/12/2010 8:26|     3.39|     17850|United Kingdom|\n",
      "|   536365|   84406B|CREAM CUPID HEART...|       8|01/12/2010 8:26|     2.75|     17850|United Kingdom|\n",
      "|   536365|   84029G|KNITTED UNION FLA...|       6|01/12/2010 8:26|     3.39|     17850|United Kingdom|\n",
      "|   536365|   84029E|RED WOOLLY HOTTIE...|       6|01/12/2010 8:26|     3.39|     17850|United Kingdom|\n",
      "+---------+---------+--------------------+--------+---------------+---------+----------+--------------+\n"
     ]
    }
   ],
   "source": [
    "rdf = spark.read.option('header', True).option('inferSchema', True).csv('online_retail_data.csv')\n",
    "\n",
    "rdf.createOrReplaceTempView('retail')\n",
    "\n",
    "spark.sql('SELECT * FROM retail LIMIT 5').show()"
   ],
   "metadata": {
    "collapsed": false,
    "ExecuteTime": {
     "end_time": "2023-11-04T20:57:10.278193700Z",
     "start_time": "2023-11-04T20:57:09.853557500Z"
    }
   },
   "id": "6a0c052cd95e01bc"
  },
  {
   "cell_type": "markdown",
   "source": [
    "Melyik országban él a legtöbb vásárló?"
   ],
   "metadata": {
    "collapsed": false
   },
   "id": "e2c34f321ea18fd6"
  },
  {
   "cell_type": "code",
   "execution_count": 14,
   "outputs": [
    {
     "name": "stdout",
     "output_type": "stream",
     "text": [
      "+--------------+----+\n",
      "|       Country|   c|\n",
      "+--------------+----+\n",
      "|United Kingdom|3950|\n",
      "+--------------+----+\n"
     ]
    }
   ],
   "source": [
    "spark.sql(\n",
    "    \"\"\"\n",
    "    SELECT Country, COUNT(DISTINCT CustomerID) as c\n",
    "    FROM retail\n",
    "    GROUP BY Country\n",
    "    ORDER BY c DESC\n",
    "    LIMIT 1\n",
    "    \"\"\"\n",
    ").show()"
   ],
   "metadata": {
    "collapsed": false,
    "ExecuteTime": {
     "end_time": "2023-11-04T21:00:32.290487400Z",
     "start_time": "2023-11-04T21:00:30.801462300Z"
    }
   },
   "id": "3d434a1d505ea023"
  },
  {
   "cell_type": "markdown",
   "source": [
    "Adjuk meg azt az 5 országot, amelyekből a legtöbb bevétel származik!"
   ],
   "metadata": {
    "collapsed": false
   },
   "id": "a1a1f8a1dd08a8f4"
  },
  {
   "cell_type": "code",
   "execution_count": 15,
   "outputs": [
    {
     "name": "stdout",
     "output_type": "stream",
     "text": [
      "+--------------+------------------+\n",
      "|       Country|                 p|\n",
      "+--------------+------------------+\n",
      "|United Kingdom| 8208343.204000185|\n",
      "|   Netherlands|284661.54000000004|\n",
      "|          EIRE|263276.82000000024|\n",
      "|       Germany| 221698.2099999999|\n",
      "|        France| 197463.5900000001|\n",
      "+--------------+------------------+\n"
     ]
    }
   ],
   "source": [
    "spark.sql(\n",
    "    \"\"\"\n",
    "    SELECT Country, SUM(Quantity * UnitPrice) as p\n",
    "    FROM retail\n",
    "    GROUP BY Country\n",
    "    ORDER BY p DESC\n",
    "    LIMIT 5\n",
    "    \"\"\"\n",
    ").show()"
   ],
   "metadata": {
    "collapsed": false,
    "ExecuteTime": {
     "end_time": "2023-11-04T21:06:04.543488900Z",
     "start_time": "2023-11-04T21:06:03.757968100Z"
    }
   },
   "id": "5c5b914d9a4971e4"
  },
  {
   "cell_type": "markdown",
   "source": [
    "Melyik termék termelte a legnagyobb bevételt?"
   ],
   "metadata": {
    "collapsed": false
   },
   "id": "702faf340d2f4782"
  },
  {
   "cell_type": "code",
   "execution_count": 21,
   "outputs": [
    {
     "name": "stdout",
     "output_type": "stream",
     "text": [
      "+---------+--------------+------------------+\n",
      "|StockCode|   Description|                 p|\n",
      "+---------+--------------+------------------+\n",
      "|      DOT|DOTCOM POSTAGE|206245.47999999998|\n",
      "+---------+--------------+------------------+\n"
     ]
    }
   ],
   "source": [
    "spark.sql(\n",
    "    \"\"\"\n",
    "    SELECT StockCode, Description, SUM(Quantity * UnitPrice) AS p\n",
    "    FROM retail\n",
    "    GROUP BY StockCode, Description\n",
    "    ORDER BY p DESC LIMIT 1\n",
    "    \"\"\"\n",
    ").show()"
   ],
   "metadata": {
    "collapsed": false,
    "ExecuteTime": {
     "end_time": "2023-11-04T21:14:29.166357500Z",
     "start_time": "2023-11-04T21:14:27.872995800Z"
    }
   },
   "id": "63ecb9a8d8897838"
  },
  {
   "cell_type": "markdown",
   "source": [
    "Melyik a legnépszerűbb termék"
   ],
   "metadata": {
    "collapsed": false
   },
   "id": "829afb2ceae8f1fb"
  },
  {
   "cell_type": "code",
   "execution_count": 25,
   "outputs": [
    {
     "name": "stdout",
     "output_type": "stream",
     "text": [
      "+---------+--------------------+-----+\n",
      "|StockCode|         Description|    c|\n",
      "+---------+--------------------+-----+\n",
      "|    84077|WORLD WAR 2 GLIDE...|53847|\n",
      "+---------+--------------------+-----+\n"
     ]
    }
   ],
   "source": [
    "spark.sql(\n",
    "    \"\"\"\n",
    "    SELECT StockCode, Description, SUM(Quantity) AS c\n",
    "    FROM retail\n",
    "    GROUP BY StockCode, Description\n",
    "    ORDER BY c DESC LIMIT 1\n",
    "    \"\"\"\n",
    ").show()"
   ],
   "metadata": {
    "collapsed": false,
    "ExecuteTime": {
     "end_time": "2023-11-04T21:16:47.342716700Z",
     "start_time": "2023-11-04T21:16:46.101245600Z"
    }
   },
   "id": "97ee0668606b8d2b"
  },
  {
   "cell_type": "markdown",
   "source": [
    "Átlagosan hány különböző terméket vesz egy vásárló egy vásárlás során?"
   ],
   "metadata": {
    "collapsed": false
   },
   "id": "7c000cfe750d195e"
  },
  {
   "cell_type": "code",
   "execution_count": 33,
   "outputs": [
    {
     "name": "stdout",
     "output_type": "stream",
     "text": [
      "+----------------+\n",
      "|round(avg(c), 2)|\n",
      "+----------------+\n",
      "|           20.51|\n",
      "+----------------+\n"
     ]
    }
   ],
   "source": [
    "spark.sql(\n",
    "    \"\"\"\n",
    "    SELECT round(avg(c),2) \n",
    "    FROM (\n",
    "    SELECT InvoiceNo, COUNT(DISTINCT StockCode) AS c\n",
    "    FROM retail\n",
    "    GROUP BY InvoiceNo)\n",
    "    \"\"\"\n",
    ").show()"
   ],
   "metadata": {
    "collapsed": false,
    "ExecuteTime": {
     "end_time": "2023-11-04T21:21:33.208864200Z",
     "start_time": "2023-11-04T21:21:30.279977900Z"
    }
   },
   "id": "d069358a558ab77b"
  },
  {
   "cell_type": "markdown",
   "source": [
    "Melyik tranzakció során vásárolták a legtöbb különböző terméket és hányat?"
   ],
   "metadata": {
    "collapsed": false
   },
   "id": "1ccba2f6086de621"
  },
  {
   "cell_type": "code",
   "execution_count": 37,
   "outputs": [
    {
     "name": "stdout",
     "output_type": "stream",
     "text": [
      "+---------+----+\n",
      "|InvoiceNo|   c|\n",
      "+---------+----+\n",
      "|   573585|1110|\n",
      "+---------+----+\n"
     ]
    }
   ],
   "source": [
    "spark.sql(\n",
    "    \"\"\"\n",
    "    SELECT InvoiceNo, COUNT(DISTINCT StockCode) AS c\n",
    "    FROM retail\n",
    "    GROUP BY InvoiceNo\n",
    "    ORDER BY c DESC \n",
    "    LIMIT 1\n",
    "    \"\"\"\n",
    ").show()"
   ],
   "metadata": {
    "collapsed": false,
    "ExecuteTime": {
     "end_time": "2023-11-04T21:27:53.105405800Z",
     "start_time": "2023-11-04T21:27:51.356895500Z"
    }
   },
   "id": "abb9b9bcb83fbce8"
  },
  {
   "cell_type": "code",
   "execution_count": null,
   "outputs": [],
   "source": [],
   "metadata": {
    "collapsed": false
   },
   "id": "aff070fff61f9350"
  }
 ],
 "metadata": {
  "kernelspec": {
   "display_name": "Python 3",
   "language": "python",
   "name": "python3"
  },
  "language_info": {
   "codemirror_mode": {
    "name": "ipython",
    "version": 2
   },
   "file_extension": ".py",
   "mimetype": "text/x-python",
   "name": "python",
   "nbconvert_exporter": "python",
   "pygments_lexer": "ipython2",
   "version": "2.7.6"
  }
 },
 "nbformat": 4,
 "nbformat_minor": 5
}
