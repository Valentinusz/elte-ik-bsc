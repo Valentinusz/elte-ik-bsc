{
 "cells": [
  {
   "cell_type": "markdown",
   "id": "e2bcfa063cbbc00e",
   "metadata": {
    "collapsed": false
   },
   "source": [
    "# Dataframe feladatok"
   ]
  },
  {
   "cell_type": "code",
   "execution_count": 1,
   "id": "initial_id",
   "metadata": {
    "ExecuteTime": {
     "end_time": "2023-11-16T17:56:06.790784700Z",
     "start_time": "2023-11-16T17:56:02.910770100Z"
    }
   },
   "outputs": [],
   "source": [
    "from pyspark.sql import  *\n",
    "from pyspark.sql.functions import *\n",
    "\n",
    "spark = SparkSession.builder.getOrCreate()"
   ]
  },
  {
   "cell_type": "markdown",
   "id": "d783c42254609bd4",
   "metadata": {
    "collapsed": false
   },
   "source": [
    "## 3. feladat"
   ]
  },
  {
   "cell_type": "code",
   "execution_count": 2,
   "id": "f212747f9b353ae0",
   "metadata": {
    "collapsed": false,
    "ExecuteTime": {
     "end_time": "2023-11-16T17:56:11.310702700Z",
     "start_time": "2023-11-16T17:56:06.792786100Z"
    }
   },
   "outputs": [
    {
     "name": "stdout",
     "output_type": "stream",
     "text": [
      "root\n",
      " |-- rowID: string (nullable = true)\n",
      " |-- itemID: string (nullable = true)\n",
      " |-- title: string (nullable = true)\n",
      " |-- author: string (nullable = true)\n",
      " |-- publisher: string (nullable = true)\n"
     ]
    }
   ],
   "source": [
    "book_df = spark.read.option('header', True).option('inferSchema', True).csv('books.csv')\n",
    "book_df.printSchema()"
   ]
  },
  {
   "cell_type": "code",
   "execution_count": 3,
   "id": "c3a2633ddeec93e",
   "metadata": {
    "collapsed": false,
    "ExecuteTime": {
     "end_time": "2023-11-16T17:56:11.442240700Z",
     "start_time": "2023-11-16T17:56:11.315776600Z"
    }
   },
   "outputs": [],
   "source": [
    "book_df.createOrReplaceTempView('BOOKS')"
   ]
  },
  {
   "cell_type": "code",
   "execution_count": 4,
   "id": "1918ac446e287597",
   "metadata": {
    "collapsed": false,
    "ExecuteTime": {
     "end_time": "2023-11-16T17:56:14.441456Z",
     "start_time": "2023-11-16T17:56:11.446247100Z"
    }
   },
   "outputs": [
    {
     "name": "stdout",
     "output_type": "stream",
     "text": [
      "+--------------------+----+\n",
      "|              author| cnt|\n",
      "+--------------------+----+\n",
      "|     Garcia Santiago|1479|\n",
      "|Shelley Admont, K...| 228|\n",
      "|       James Manning| 180|\n",
      "+--------------------+----+\n"
     ]
    }
   ],
   "source": [
    "spark.sql(\n",
    "    \"\"\"\n",
    "    SELECT author, COUNT(DISTINCT itemID) as cnt\n",
    "    FROM BOOKS\n",
    "    WHERE author IS NOT NULL\n",
    "    GROUP BY author\n",
    "    ORDER BY cnt DESC\n",
    "    LIMIT 3\n",
    "    \"\"\"\n",
    ").show()"
   ]
  },
  {
   "cell_type": "markdown",
   "id": "8e8ed8341ff4afb8",
   "metadata": {
    "collapsed": false
   },
   "source": [
    "## 4. feladat"
   ]
  },
  {
   "cell_type": "code",
   "execution_count": 5,
   "id": "7e28258ea562696c",
   "metadata": {
    "collapsed": false,
    "ExecuteTime": {
     "end_time": "2023-11-16T17:56:16.053906300Z",
     "start_time": "2023-11-16T17:56:14.446177200Z"
    }
   },
   "outputs": [
    {
     "name": "stdout",
     "output_type": "stream",
     "text": [
      "+--------------------+---+\n",
      "|              author|cnt|\n",
      "+--------------------+---+\n",
      "|       Lewis Carroll| 43|\n",
      "|         Jules Verne| 37|\n",
      "|         H. G. Wells| 52|\n",
      "|Frances Hodgson B...| 38|\n",
      "+--------------------+---+\n"
     ]
    }
   ],
   "source": [
    "spark.sql(\n",
    "    \"\"\"\n",
    "    SELECT author, count(distinct publisher) cnt\n",
    "    FROM BOOKS\n",
    "    WHERE author IS NOT NULL\n",
    "    GROUP BY author\n",
    "    HAVING cnt > 35\n",
    "    \"\"\"\n",
    ").show()"
   ]
  },
  {
   "cell_type": "markdown",
   "id": "1e9f4ec5650974a0",
   "metadata": {
    "collapsed": false
   },
   "source": [
    "## 5. feladat"
   ]
  },
  {
   "cell_type": "code",
   "execution_count": 6,
   "id": "df86ff829a23abf1",
   "metadata": {
    "collapsed": false,
    "ExecuteTime": {
     "end_time": "2023-11-16T17:56:16.717142200Z",
     "start_time": "2023-11-16T17:56:16.053906300Z"
    }
   },
   "outputs": [
    {
     "name": "stdout",
     "output_type": "stream",
     "text": [
      "root\n",
      " |-- rowID: integer (nullable = true)\n",
      " |-- sessionID: integer (nullable = true)\n",
      " |-- itemID: integer (nullable = true)\n",
      " |-- click: integer (nullable = true)\n",
      " |-- basket: integer (nullable = true)\n",
      " |-- order: integer (nullable = true)\n"
     ]
    }
   ],
   "source": [
    "order_df = spark.read.option('header', True).option('inferSchema', True).csv('orders.csv')\n",
    "order_df.printSchema()"
   ]
  },
  {
   "cell_type": "code",
   "execution_count": 7,
   "id": "bef98eb171c0aeb5",
   "metadata": {
    "collapsed": false,
    "ExecuteTime": {
     "end_time": "2023-11-16T17:56:16.728204700Z",
     "start_time": "2023-11-16T17:56:16.717142200Z"
    }
   },
   "outputs": [],
   "source": [
    "order_df.createOrReplaceTempView('ORDERS')"
   ]
  },
  {
   "cell_type": "code",
   "execution_count": 8,
   "id": "f45668517bd488f2",
   "metadata": {
    "collapsed": false,
    "ExecuteTime": {
     "end_time": "2023-11-16T17:56:18.147888900Z",
     "start_time": "2023-11-16T17:56:16.728204700Z"
    }
   },
   "outputs": [
    {
     "name": "stdout",
     "output_type": "stream",
     "text": [
      "+-----------------+\n",
      "|avg(sessionClick)|\n",
      "+-----------------+\n",
      "|1.655570384913763|\n",
      "+-----------------+\n"
     ]
    }
   ],
   "source": [
    "spark.sql(\n",
    "    \"\"\"\n",
    "    SELECT AVG(sessionClick)\n",
    "    FROM (\n",
    "    SELECT sum(click) as sessionClick\n",
    "    FROM ORDERS\n",
    "    GROUP BY sessionID)\n",
    "    \"\"\"\n",
    ").show()"
   ]
  },
  {
   "cell_type": "markdown",
   "id": "75a58148a7ee794d",
   "metadata": {
    "collapsed": false
   },
   "source": [
    "## 6. feladat"
   ]
  },
  {
   "cell_type": "code",
   "execution_count": 12,
   "id": "b53c39deeb18584d",
   "metadata": {
    "collapsed": false,
    "ExecuteTime": {
     "end_time": "2023-11-16T18:02:21.378775600Z",
     "start_time": "2023-11-16T18:02:20.399482500Z"
    }
   },
   "outputs": [
    {
     "name": "stdout",
     "output_type": "stream",
     "text": [
      "+------------------+--------------------+---+\n",
      "|            author|               title|cnt|\n",
      "+------------------+--------------------+---+\n",
      "|Andreas Steinhöfel|Rico, Oskar und d...|170|\n",
      "+------------------+--------------------+---+\n"
     ]
    }
   ],
   "source": [
    "spark.sql(\n",
    "    \"\"\"\n",
    "    SELECT  author, title, sum(ORDERS.ORDER) as cnt\n",
    "    FROM (ORDERS JOIN BOOKS ON ORDERS.itemID = BOOKS.itemID)\n",
    "    GROUP BY title, author\n",
    "    ORDER BY cnt DESC\n",
    "    LIMIT 1\n",
    "    \"\"\"\n",
    ").show()"
   ]
  }
 ],
 "metadata": {
  "kernelspec": {
   "display_name": "Python 3 (ipykernel)",
   "language": "python",
   "name": "python3"
  },
  "language_info": {
   "codemirror_mode": {
    "name": "ipython",
    "version": 3
   },
   "file_extension": ".py",
   "mimetype": "text/x-python",
   "name": "python",
   "nbconvert_exporter": "python",
   "pygments_lexer": "ipython3",
   "version": "3.11.6"
  }
 },
 "nbformat": 4,
 "nbformat_minor": 5
}
