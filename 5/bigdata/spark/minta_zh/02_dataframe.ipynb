{
 "cells": [
  {
   "cell_type": "markdown",
   "source": [
    "# Dataframe feladatok"
   ],
   "metadata": {
    "collapsed": false
   },
   "id": "91db181c8ca714d"
  },
  {
   "cell_type": "code",
   "execution_count": 1,
   "outputs": [],
   "source": [
    "from pyspark.sql import  *\n",
    "from pyspark.sql.functions import *\n",
    "\n",
    "spark = SparkSession.builder.getOrCreate()"
   ],
   "metadata": {
    "collapsed": false,
    "ExecuteTime": {
     "end_time": "2023-11-15T14:18:10.399891700Z",
     "start_time": "2023-11-15T14:18:06.797770800Z"
    }
   },
   "id": "ac711bb49917c0fa"
  },
  {
   "cell_type": "code",
   "execution_count": 4,
   "outputs": [
    {
     "name": "stdout",
     "output_type": "stream",
     "text": [
      "+--------+--------------------+------------+--------+-----------------+---------+-------------------------+-------------+-----------------------------+---------+-----------+---------------------------+------+----------------------+-------------+-----------------------------+-------------+-----------------------------+------+-------+-------------------------+-------------------------+-----------------------+--------------------+\n",
      "|Category|                Item|Serving Size|Calories|Calories from Fat|Total Fat|Total Fat (% Daily Value)|Saturated Fat|Saturated Fat (% Daily Value)|Trans Fat|Cholesterol|Cholesterol (% Daily Value)|Sodium|Sodium (% Daily Value)|Carbohydrates|Carbohydrates (% Daily Value)|Dietary Fiber|Dietary Fiber (% Daily Value)|Sugars|Protein|Vitamin A (% Daily Value)|Vitamin C (% Daily Value)|Calcium (% Daily Value)|Iron (% Daily Value)|\n",
      "+--------+--------------------+------------+--------+-----------------+---------+-------------------------+-------------+-----------------------------+---------+-----------+---------------------------+------+----------------------+-------------+-----------------------------+-------------+-----------------------------+------+-------+-------------------------+-------------------------+-----------------------+--------------------+\n",
      "|       1|        Egg McMuffin|         136|     300|              120|     13.0|                       20|          5.0|                           25|      0.0|        260|                         87|   750|                    31|           31|                           10|            4|                           17|     3|     17|                       10|                        0|                     25|                  15|\n",
      "|       1|   Egg White Delight|         135|     250|               70|      8.0|                       12|          3.0|                           15|      0.0|         25|                          8|   770|                    32|           30|                           10|            4|                           17|     3|     18|                        6|                        0|                     25|                   8|\n",
      "|       1|    Sausage McMuffin|         111|     370|              200|     23.0|                       35|          8.0|                           42|      0.0|         45|                         15|   780|                    33|           29|                           10|            4|                           17|     2|     14|                        8|                        0|                     25|                  10|\n",
      "|       1|Sausage McMuffin ...|         161|     450|              250|     28.0|                       43|         10.0|                           52|      0.0|        285|                         95|   860|                    36|           30|                           10|            4|                           17|     2|     21|                       15|                        0|                     30|                  15|\n",
      "|       1|Sausage McMuffin ...|         161|     400|              210|     23.0|                       35|          8.0|                           42|      0.0|         50|                         16|   880|                    37|           30|                           10|            4|                           17|     2|     21|                        6|                        0|                     25|                  10|\n",
      "+--------+--------------------+------------+--------+-----------------+---------+-------------------------+-------------+-----------------------------+---------+-----------+---------------------------+------+----------------------+-------------+-----------------------------+-------------+-----------------------------+------+-------+-------------------------+-------------------------+-----------------------+--------------------+\n"
     ]
    }
   ],
   "source": [
    "menu_df = spark.read.option('header', True).option('inferschema', True).csv('menu.csv')\n",
    "menu_df.show(5)"
   ],
   "metadata": {
    "collapsed": false,
    "ExecuteTime": {
     "end_time": "2023-11-15T14:20:09.189588800Z",
     "start_time": "2023-11-15T14:20:08.673528500Z"
    }
   },
   "id": "e1772dc5a661c9ba"
  },
  {
   "cell_type": "code",
   "execution_count": 5,
   "outputs": [
    {
     "data": {
      "text/plain": "StructType([StructField('Category', IntegerType(), True), StructField('Item', StringType(), True), StructField('Serving Size', StringType(), True), StructField('Calories', IntegerType(), True), StructField('Calories from Fat', IntegerType(), True), StructField('Total Fat', DoubleType(), True), StructField('Total Fat (% Daily Value)', IntegerType(), True), StructField('Saturated Fat', DoubleType(), True), StructField('Saturated Fat (% Daily Value)', IntegerType(), True), StructField('Trans Fat', DoubleType(), True), StructField('Cholesterol', IntegerType(), True), StructField('Cholesterol (% Daily Value)', IntegerType(), True), StructField('Sodium', IntegerType(), True), StructField('Sodium (% Daily Value)', IntegerType(), True), StructField('Carbohydrates', IntegerType(), True), StructField('Carbohydrates (% Daily Value)', IntegerType(), True), StructField('Dietary Fiber', IntegerType(), True), StructField('Dietary Fiber (% Daily Value)', IntegerType(), True), StructField('Sugars', IntegerType(), True), StructField('Protein', IntegerType(), True), StructField('Vitamin A (% Daily Value)', IntegerType(), True), StructField('Vitamin C (% Daily Value)', IntegerType(), True), StructField('Calcium (% Daily Value)', IntegerType(), True), StructField('Iron (% Daily Value)', IntegerType(), True)])"
     },
     "execution_count": 5,
     "metadata": {},
     "output_type": "execute_result"
    }
   ],
   "source": [
    "menu_df.schema"
   ],
   "metadata": {
    "collapsed": false,
    "ExecuteTime": {
     "end_time": "2023-11-15T14:20:10.031888200Z",
     "start_time": "2023-11-15T14:20:09.999370900Z"
    }
   },
   "id": "4a20aacfceb4dd24"
  },
  {
   "cell_type": "code",
   "execution_count": 10,
   "outputs": [],
   "source": [
    "menu_df.createTempView('menu')"
   ],
   "metadata": {
    "collapsed": false,
    "ExecuteTime": {
     "end_time": "2023-11-15T14:26:52.592258700Z",
     "start_time": "2023-11-15T14:26:52.561259600Z"
    }
   },
   "id": "3ca6a3fd4fcf167d"
  },
  {
   "cell_type": "markdown",
   "source": [
    "# 3. feladat\n",
    "Melyek azok az ételek, amelyek meghaladják az ajánlott napi zsír bevitelt? (`Total Fat (% Daily Value)`)\n",
    "\n",
    "Elvárt oszlopok: `[Item]`"
   ],
   "metadata": {
    "collapsed": false
   },
   "id": "ff306a52a01f0c72"
  },
  {
   "cell_type": "code",
   "execution_count": 36,
   "outputs": [
    {
     "name": "stdout",
     "output_type": "stream",
     "text": [
      "+--------------------+\n",
      "|                Item|\n",
      "+--------------------+\n",
      "|Chicken McNuggets...|\n",
      "+--------------------+\n"
     ]
    }
   ],
   "source": [
    "d3 = menu_df\\\n",
    "    .where(menu_df['Total Fat (% Daily Value)'] > 100)\\\n",
    "    .select(menu_df['Item'])\n",
    "      \n",
    "d3.show(5)"
   ],
   "metadata": {
    "collapsed": false,
    "ExecuteTime": {
     "end_time": "2023-11-15T14:43:03.707387200Z",
     "start_time": "2023-11-15T14:43:03.630372200Z"
    }
   },
   "id": "8f33a86b8d72a241"
  },
  {
   "cell_type": "code",
   "execution_count": 32,
   "outputs": [
    {
     "name": "stdout",
     "output_type": "stream",
     "text": [
      "+--------------------+\n",
      "|                Item|\n",
      "+--------------------+\n",
      "|Chicken McNuggets...|\n",
      "+--------------------+\n"
     ]
    }
   ],
   "source": [
    "s3 = spark.sql(\n",
    "    \"\"\"\n",
    "    SELECT Item\n",
    "    FROM menu\n",
    "    WHERE `Total Fat (% Daily Value)` > 100\n",
    "    \"\"\"\n",
    ")\n",
    "      \n",
    "s3.show(5)"
   ],
   "metadata": {
    "collapsed": false,
    "ExecuteTime": {
     "end_time": "2023-11-15T14:42:21.301107900Z",
     "start_time": "2023-11-15T14:42:21.237865Z"
    }
   },
   "id": "cce1ad68d77ef12b"
  },
  {
   "cell_type": "code",
   "execution_count": 37,
   "outputs": [
    {
     "data": {
      "text/plain": "True"
     },
     "execution_count": 37,
     "metadata": {},
     "output_type": "execute_result"
    }
   ],
   "source": [
    "d3.sameSemantics(s3)"
   ],
   "metadata": {
    "collapsed": false,
    "ExecuteTime": {
     "end_time": "2023-11-15T14:43:08.753753600Z",
     "start_time": "2023-11-15T14:43:08.745082900Z"
    }
   },
   "id": "870025445ddc0713"
  },
  {
   "cell_type": "markdown",
   "source": [
    "# 4. feladat\n",
    "Melyik ételnek van a maximális `Sugars` értéke?\n",
    "Elvárt oszlopok: `[Item, Sugars]`"
   ],
   "metadata": {
    "collapsed": false
   },
   "id": "cd49da55eb88f9bd"
  },
  {
   "cell_type": "code",
   "execution_count": 21,
   "outputs": [
    {
     "name": "stdout",
     "output_type": "stream",
     "text": [
      "+--------------------+------+\n",
      "|                Item|Sugars|\n",
      "+--------------------+------+\n",
      "|McFlurry with M&M...|   128|\n",
      "+--------------------+------+\n"
     ]
    }
   ],
   "source": [
    "d4 = menu_df\\\n",
    "    .select(['Item', 'Sugars'])\\\n",
    "    .orderBy(desc('Sugars'))\\\n",
    "    .limit(1)\n",
    "\n",
    "d4.show()"
   ],
   "metadata": {
    "collapsed": false,
    "ExecuteTime": {
     "end_time": "2023-11-15T14:34:05.857943500Z",
     "start_time": "2023-11-15T14:34:05.790073900Z"
    }
   },
   "id": "c22062ae06f88b22"
  },
  {
   "cell_type": "code",
   "execution_count": 24,
   "outputs": [
    {
     "name": "stdout",
     "output_type": "stream",
     "text": [
      "+--------------------+------+\n",
      "|                Item|Sugars|\n",
      "+--------------------+------+\n",
      "|McFlurry with M&M...|   128|\n",
      "+--------------------+------+\n"
     ]
    }
   ],
   "source": [
    "s4 = spark.sql(\n",
    "    \"\"\"\n",
    "    SELECT Item, Sugars\n",
    "    FROM menu\n",
    "    ORDER BY Sugars\n",
    "    DESC LIMIT 1\n",
    "    \"\"\"\n",
    ")\n",
    "\n",
    "s4.show()"
   ],
   "metadata": {
    "collapsed": false,
    "ExecuteTime": {
     "end_time": "2023-11-15T14:34:27.770321800Z",
     "start_time": "2023-11-15T14:34:27.680511700Z"
    }
   },
   "id": "518095ded02b2775"
  },
  {
   "cell_type": "code",
   "execution_count": 25,
   "outputs": [
    {
     "data": {
      "text/plain": "True"
     },
     "execution_count": 25,
     "metadata": {},
     "output_type": "execute_result"
    }
   ],
   "source": [
    "s4.sameSemantics(d4)"
   ],
   "metadata": {
    "collapsed": false,
    "ExecuteTime": {
     "end_time": "2023-11-15T14:34:29.997012300Z",
     "start_time": "2023-11-15T14:34:29.991299200Z"
    }
   },
   "id": "ed1da163adf32472"
  },
  {
   "cell_type": "markdown",
   "source": [
    "## 5. feladat\n",
    "Hány elem van kategóriánként? Rendezzük csökkenő sorrendbe és adjuk meg a kategóriák nevét is.\n",
    "\n",
    "Elvárt oszlopok: `[Name, Cnt]`"
   ],
   "metadata": {
    "collapsed": false
   },
   "id": "78d1f41316f0f99b"
  },
  {
   "cell_type": "code",
   "execution_count": 40,
   "outputs": [
    {
     "data": {
      "text/plain": "StructType([StructField('Id', IntegerType(), True), StructField('Name', StringType(), True)])"
     },
     "execution_count": 40,
     "metadata": {},
     "output_type": "execute_result"
    }
   ],
   "source": [
    "category_df = spark.read\\\n",
    "    .option('header', True)\\\n",
    "    .option('inferschema', True)\\\n",
    "    .csv('menuCategory.csv')\n",
    "\n",
    "category_df.schema"
   ],
   "metadata": {
    "collapsed": false,
    "ExecuteTime": {
     "end_time": "2023-11-15T14:49:05.232590500Z",
     "start_time": "2023-11-15T14:49:05.103695700Z"
    }
   },
   "id": "30cb59c7c7cefd72"
  },
  {
   "cell_type": "code",
   "execution_count": 42,
   "outputs": [],
   "source": [
    "category_df.createTempView('category')"
   ],
   "metadata": {
    "collapsed": false,
    "ExecuteTime": {
     "end_time": "2023-11-15T14:50:08.722345500Z",
     "start_time": "2023-11-15T14:50:08.689962900Z"
    }
   },
   "id": "3b3c33d5db7b058a"
  },
  {
   "cell_type": "code",
   "execution_count": 62,
   "outputs": [
    {
     "name": "stdout",
     "output_type": "stream",
     "text": [
      "+------------------+-----+\n",
      "|              Name|count|\n",
      "+------------------+-----+\n",
      "|         Breakfast|   42|\n",
      "|          Desserts|    7|\n",
      "|    Chicken & Fish|   27|\n",
      "|    Snacks & Sides|   13|\n",
      "|Smoothies & Shakes|   28|\n",
      "|            Salads|    6|\n",
      "|      Coffee & Tea|   95|\n",
      "|         Beverages|   27|\n",
      "|       Beef & Pork|   15|\n",
      "+------------------+-----+\n"
     ]
    }
   ],
   "source": [
    "s5 = spark.sql(\n",
    "    \"\"\"\n",
    "    SELECT Name, count\n",
    "    FROM ((SELECT Category, COUNT(*) as count FROM menu GROUP BY Category) JOIN category ON Category = Id)\n",
    "    \"\"\"\n",
    ")\n",
    "\n",
    "s5.show()"
   ],
   "metadata": {
    "collapsed": false,
    "ExecuteTime": {
     "end_time": "2023-11-15T14:59:54.257061400Z",
     "start_time": "2023-11-15T14:59:54.137056100Z"
    }
   },
   "id": "370b07a3ce99fb10"
  },
  {
   "cell_type": "code",
   "execution_count": 63,
   "outputs": [
    {
     "name": "stdout",
     "output_type": "stream",
     "text": [
      "+------------------+-----+\n",
      "|              Name|count|\n",
      "+------------------+-----+\n",
      "|         Breakfast|   42|\n",
      "|          Desserts|    7|\n",
      "|    Chicken & Fish|   27|\n",
      "|    Snacks & Sides|   13|\n",
      "|Smoothies & Shakes|   28|\n",
      "|            Salads|    6|\n",
      "|      Coffee & Tea|   95|\n",
      "|         Beverages|   27|\n",
      "|       Beef & Pork|   15|\n",
      "+------------------+-----+\n"
     ]
    }
   ],
   "source": [
    "d5 = menu_df\\\n",
    "    .groupBy('Category')\\\n",
    "    .count()\\\n",
    "    .join(category_df, col('Category') == category_df['Id'])\\\n",
    "    .select(['Name', 'count'])\n",
    "\n",
    "d5.show()"
   ],
   "metadata": {
    "collapsed": false,
    "ExecuteTime": {
     "end_time": "2023-11-15T14:59:56.185752600Z",
     "start_time": "2023-11-15T14:59:56.003060200Z"
    }
   },
   "id": "930bd3d11fe8b7b7"
  },
  {
   "cell_type": "code",
   "execution_count": 64,
   "outputs": [
    {
     "data": {
      "text/plain": "True"
     },
     "execution_count": 64,
     "metadata": {},
     "output_type": "execute_result"
    }
   ],
   "source": [
    "d5.sameSemantics(s5)"
   ],
   "metadata": {
    "collapsed": false,
    "ExecuteTime": {
     "end_time": "2023-11-15T14:59:58.078152300Z",
     "start_time": "2023-11-15T14:59:58.071079900Z"
    }
   },
   "id": "9007377dace21082"
  },
  {
   "cell_type": "markdown",
   "source": [
    "## 6. feladat\n",
    "Átlagosan mennyi kalóriát tartalmaznak az egyes kategóriák? Adjuk meg a kategória nevét és rendezzük átlag alapján csökkenő sorrendbe. A `Coffee and Tea` és a \n",
    "`Beverages` kategóriákat ne vegyük figyelembe.\n",
    "\n",
    "Elvárt oszlopok: `[Name, AvgCal]`"
   ],
   "metadata": {
    "collapsed": false
   },
   "id": "a18c912087493e40"
  },
  {
   "cell_type": "code",
   "execution_count": 81,
   "outputs": [
    {
     "name": "stdout",
     "output_type": "stream",
     "text": [
      "+------------------+------------------+\n",
      "|              NAME|               avg|\n",
      "+------------------+------------------+\n",
      "|         Breakfast| 526.6666666666666|\n",
      "|          Desserts|222.14285714285714|\n",
      "|    Chicken & Fish| 552.9629629629629|\n",
      "|    Snacks & Sides|245.76923076923077|\n",
      "|Smoothies & Shakes| 531.4285714285714|\n",
      "|            Salads|             270.0|\n",
      "|       Beef & Pork|             494.0|\n",
      "+------------------+------------------+\n"
     ]
    }
   ],
   "source": [
    "s6 = spark.sql(\n",
    "    \"\"\"\n",
    "    SELECT NAME, avg FROM\n",
    "    (\n",
    "    SELECT Category, AVG(Calories) as avg\n",
    "    FROM menu\n",
    "    GROUP BY CATEGORY\n",
    "    )\n",
    "    JOIN\n",
    "    (\n",
    "    SELECT id, name\n",
    "    FROM CATEGORY\n",
    "    WHERE (name != 'Coffee & Tea' AND name != 'Beverages')\n",
    "    )\n",
    "    ON category = id\n",
    "    \"\"\"\n",
    ")\n",
    "\n",
    "s6.show()"
   ],
   "metadata": {
    "collapsed": false,
    "ExecuteTime": {
     "end_time": "2023-11-15T15:15:54.020588700Z",
     "start_time": "2023-11-15T15:15:53.907589100Z"
    }
   },
   "id": "66b503b0d201070d"
  },
  {
   "cell_type": "code",
   "execution_count": 94,
   "outputs": [
    {
     "name": "stdout",
     "output_type": "stream",
     "text": [
      "+------------------+------------------+\n",
      "|              Name|               avg|\n",
      "+------------------+------------------+\n",
      "|         Breakfast| 526.6666666666666|\n",
      "|          Desserts|222.14285714285714|\n",
      "|    Chicken & Fish| 552.9629629629629|\n",
      "|    Snacks & Sides|245.76923076923077|\n",
      "|Smoothies & Shakes| 531.4285714285714|\n",
      "|            Salads|             270.0|\n",
      "|       Beef & Pork|             494.0|\n",
      "+------------------+------------------+\n"
     ]
    }
   ],
   "source": [
    "d6 = menu_df.groupBy('Category')\\\n",
    "    .agg(avg('Calories').alias('avg'))\\\n",
    "    .join(category_df.where((col('Name') != 'Beverages') & (col('Name') != 'Coffee & Tea')), col('Category') == col('Id')).select('Name', 'avg')\n",
    "\n",
    "d6.show()"
   ],
   "metadata": {
    "collapsed": false,
    "ExecuteTime": {
     "end_time": "2023-11-15T15:25:26.577103900Z",
     "start_time": "2023-11-15T15:25:26.445195500Z"
    }
   },
   "id": "b4a5b3d400b35501"
  },
  {
   "cell_type": "code",
   "execution_count": 95,
   "outputs": [
    {
     "data": {
      "text/plain": "False"
     },
     "execution_count": 95,
     "metadata": {},
     "output_type": "execute_result"
    }
   ],
   "source": [
    "d6.sameSemantics(s6) # ezt meg se próbálom inkább azonos fizikai tervre kihozni"
   ],
   "metadata": {
    "collapsed": false,
    "ExecuteTime": {
     "end_time": "2023-11-15T15:25:27.792212700Z",
     "start_time": "2023-11-15T15:25:27.788172100Z"
    }
   },
   "id": "759010a921b698d7"
  }
 ],
 "metadata": {
  "kernelspec": {
   "display_name": "Python 3",
   "language": "python",
   "name": "python3"
  },
  "language_info": {
   "codemirror_mode": {
    "name": "ipython",
    "version": 2
   },
   "file_extension": ".py",
   "mimetype": "text/x-python",
   "name": "python",
   "nbconvert_exporter": "python",
   "pygments_lexer": "ipython2",
   "version": "2.7.6"
  }
 },
 "nbformat": 4,
 "nbformat_minor": 5
}
