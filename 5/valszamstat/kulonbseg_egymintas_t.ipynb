{
 "cells": [
  {
   "cell_type": "markdown",
   "source": [
    "# Kétmintás próba nem függetlenek halmazok esetén"
   ],
   "metadata": {
    "collapsed": false
   },
   "id": "6eb582f44f516a2c"
  },
  {
   "cell_type": "code",
   "execution_count": 2,
   "outputs": [],
   "source": [
    "import numpy as np"
   ],
   "metadata": {
    "collapsed": false,
    "ExecuteTime": {
     "end_time": "2023-11-24T12:08:23.379269800Z",
     "start_time": "2023-11-24T12:08:23.220296Z"
    }
   },
   "id": "55c968492e0bbe4c"
  },
  {
   "cell_type": "code",
   "execution_count": 8,
   "id": "initial_id",
   "metadata": {
    "collapsed": true,
    "ExecuteTime": {
     "end_time": "2023-11-24T12:30:25.162158Z",
     "start_time": "2023-11-24T12:30:25.123708700Z"
    }
   },
   "outputs": [
    {
     "name": "stdout",
     "output_type": "stream",
     "text": [
      "[ 0.5 -0.4  0.6  0.4 -0.2  1.   0.2 -0.1  0.3  0.7]\n"
     ]
    }
   ],
   "source": [
    "nov15 = [20.9, 17.1, 15.8, 18.8, 20.1, 15.6, 14.8, 24.1, 18.9, 12.5]\n",
    "nov29 = [21.4, 16.7, 16.4, 19.2, 19.9, 16.6, 15.0, 24.0, 19.2, 13.2]\n",
    "S = np.subtract(nov29, nov15)\n",
    "print(S)"
   ]
  },
  {
   "cell_type": "code",
   "execution_count": 9,
   "outputs": [
    {
     "data": {
      "text/plain": "0.2999999999999991"
     },
     "execution_count": 9,
     "metadata": {},
     "output_type": "execute_result"
    }
   ],
   "source": [
    "np.mean(S)"
   ],
   "metadata": {
    "collapsed": false,
    "ExecuteTime": {
     "end_time": "2023-11-24T12:30:29.460379Z",
     "start_time": "2023-11-24T12:30:29.456829100Z"
    }
   },
   "id": "21f1b2f8e818974f"
  },
  {
   "cell_type": "code",
   "execution_count": null,
   "outputs": [],
   "source": [],
   "metadata": {
    "collapsed": false
   },
   "id": "cb2ff101a4523752"
  }
 ],
 "metadata": {
  "kernelspec": {
   "display_name": "Python 3",
   "language": "python",
   "name": "python3"
  },
  "language_info": {
   "codemirror_mode": {
    "name": "ipython",
    "version": 2
   },
   "file_extension": ".py",
   "mimetype": "text/x-python",
   "name": "python",
   "nbconvert_exporter": "python",
   "pygments_lexer": "ipython2",
   "version": "2.7.6"
  }
 },
 "nbformat": 4,
 "nbformat_minor": 5
}
