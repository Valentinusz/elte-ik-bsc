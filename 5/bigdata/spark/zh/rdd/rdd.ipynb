{
 "cells": [
  {
   "cell_type": "markdown",
   "source": [
    "# RDD feladatok"
   ],
   "metadata": {
    "collapsed": false
   },
   "id": "68bfc33614988a6"
  },
  {
   "cell_type": "code",
   "execution_count": 1,
   "id": "initial_id",
   "metadata": {
    "collapsed": true,
    "ExecuteTime": {
     "end_time": "2023-11-16T17:43:39.687985Z",
     "start_time": "2023-11-16T17:43:36.115484300Z"
    }
   },
   "outputs": [],
   "source": [
    "from pyspark import SparkConf, SparkContext\n",
    "\n",
    "conf = SparkConf()\n",
    "sc = SparkContext(conf=conf)"
   ]
  },
  {
   "cell_type": "markdown",
   "source": [
    "## 1. feladat"
   ],
   "metadata": {
    "collapsed": false
   },
   "id": "361f5286164254c6"
  },
  {
   "cell_type": "code",
   "execution_count": 2,
   "outputs": [
    {
     "data": {
      "text/plain": "18"
     },
     "execution_count": 2,
     "metadata": {},
     "output_type": "execute_result"
    }
   ],
   "source": [
    "def make_kmer_list(line):\n",
    "    result = []\n",
    "    \n",
    "    for i in range(len(line) - 2):\n",
    "        kmer = line[i:i+3]\n",
    "        if 'T' in kmer:\n",
    "            result.append((kmer, 1))\n",
    "    \n",
    "    return result\n",
    "\n",
    "from operator import add\n",
    "\n",
    "sc.textFile('kmerInput.txt')\\\n",
    "    .flatMap(make_kmer_list)\\\n",
    "    .reduceByKey(add)\\\n",
    "    .filter(lambda kmer: kmer[1] > 100)\\\n",
    "    .count()"
   ],
   "metadata": {
    "collapsed": false,
    "ExecuteTime": {
     "end_time": "2023-11-16T17:43:43.385098100Z",
     "start_time": "2023-11-16T17:43:39.688987400Z"
    }
   },
   "id": "e7aec03ae6458e56"
  },
  {
   "cell_type": "markdown",
   "source": [
    "## 2. feladat"
   ],
   "metadata": {
    "collapsed": false
   },
   "id": "fe52d9847ebf40b5"
  },
  {
   "cell_type": "code",
   "execution_count": 3,
   "outputs": [
    {
     "data": {
      "text/plain": "('elte.hu', 397, 6)"
     },
     "execution_count": 3,
     "metadata": {},
     "output_type": "execute_result"
    }
   ],
   "source": [
    "sc.textFile('weboldalak.txt')\\\n",
    "    .map(lambda line: line.lower().split(' ', 1))\\\n",
    "    .filter(lambda website: len(website[1].split(' ')) > 10)\\\n",
    "    .map(lambda website: (website[0], len(website[1]), website[1].count('elte')))\\\n",
    "    .max(lambda website: website[2])"
   ],
   "metadata": {
    "collapsed": false,
    "ExecuteTime": {
     "end_time": "2023-11-16T17:43:44.775144800Z",
     "start_time": "2023-11-16T17:43:43.375752600Z"
    }
   },
   "id": "508eb6ee2a2485f6"
  }
 ],
 "metadata": {
  "kernelspec": {
   "display_name": "Python 3",
   "language": "python",
   "name": "python3"
  },
  "language_info": {
   "codemirror_mode": {
    "name": "ipython",
    "version": 2
   },
   "file_extension": ".py",
   "mimetype": "text/x-python",
   "name": "python",
   "nbconvert_exporter": "python",
   "pygments_lexer": "ipython2",
   "version": "2.7.6"
  }
 },
 "nbformat": 4,
 "nbformat_minor": 5
}
