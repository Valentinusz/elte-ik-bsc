{
 "cells": [
  {
   "cell_type": "markdown",
   "source": [
    "# DataFrame API\n",
    "\n",
    "Inicializcáió kicsit megváltozik:"
   ],
   "metadata": {
    "collapsed": false
   },
   "id": "8d7bcace688ddc10"
  },
  {
   "cell_type": "code",
   "execution_count": 1,
   "outputs": [],
   "source": [
    "from pyspark.sql import  *\n",
    "from pyspark.sql.functions import *\n",
    "\n",
    "spark = SparkSession.builder.getOrCreate()"
   ],
   "metadata": {
    "collapsed": false,
    "ExecuteTime": {
     "end_time": "2023-11-04T19:25:46.052278200Z",
     "start_time": "2023-11-04T19:25:40.970783Z"
    }
   },
   "id": "f756bc5b06485069"
  },
  {
   "cell_type": "markdown",
   "source": [
    "Több fájlformátumból is létrehozható DataFrame."
   ],
   "metadata": {
    "collapsed": false
   },
   "id": "c654bc163b9ea61f"
  },
  {
   "cell_type": "code",
   "execution_count": 2,
   "outputs": [
    {
     "data": {
      "text/plain": "DataFrame[_c0: string, _c1: string, _c2: string, _c3: string, _c4: string, _c5: string, _c6: string, _c7: string]"
     },
     "execution_count": 2,
     "metadata": {},
     "output_type": "execute_result"
    }
   ],
   "source": [
    "df = spark.read.format('csv').load('dolgozo.csv')\n",
    "# vagy spark.read.csv('dolgozo.csv')\n",
    "df"
   ],
   "metadata": {
    "collapsed": false,
    "ExecuteTime": {
     "end_time": "2023-11-04T19:26:00.258775900Z",
     "start_time": "2023-11-04T19:25:55.345710600Z"
    }
   },
   "id": "93b0dd63e754fff2"
  },
  {
   "cell_type": "markdown",
   "source": [
    "A DataFrame táblázatosan kiiratható a `show()` metódussal."
   ],
   "metadata": {
    "collapsed": false
   },
   "id": "6c80c0b789e97987"
  },
  {
   "cell_type": "code",
   "execution_count": 3,
   "outputs": [
    {
     "name": "stdout",
     "output_type": "stream",
     "text": [
      "+----+------+-----------+------+---------+-------+-------+-----+\n",
      "| _c0|   _c1|        _c2|   _c3|      _c4|    _c5|    _c6|  _c7|\n",
      "+----+------+-----------+------+---------+-------+-------+-----+\n",
      "|DKOD|  DNEV|FOGLALKOZAS|FONOKE|  BELEPES|FIZETES|JUTALEK|OAZON|\n",
      "|7839|  KING|  PRESIDENT|  0000|81-NOV-17|   5000|      0|   10|\n",
      "|7698| BLAKE|    MANAGER| 783d9|81-MAY-01|   2850|      0|   30|\n",
      "|7782| CLARK|    MANAGER|  7839|81-JUN-09|   2450|      0|   10|\n",
      "|7566| JONES|    MANAGER|  7839|81-APR-02|   2975|      0|   20|\n",
      "|7654|MARTIN|   SALESMAN|  7698|81-SEP-28|   1250|   1400|   30|\n",
      "|7499| ALLEN|   SALESMAN|  7698|81-FEB-20|   1600|    300|   30|\n",
      "|7844|TURNER|   SALESMAN|  7698|81-SEP-08|   1500|      0|   30|\n",
      "|7900| JAMES|      CLERK|  7698|81-DEC-03|    950|      0|   30|\n",
      "|7521|  WARD|   SALESMAN|  7698|81-FEB-22|   1250|    500|   30|\n",
      "|7902|  FORD|    ANALYST|  7566|81-DEC-03|   3000|      0|   20|\n",
      "|7369| SMITH|      CLERK|  7902|80-DEC-17|    800|      0|   20|\n",
      "|7788| SCOTT|    ANALYST|  7566|82-DEC-09|   3000|      0|   20|\n",
      "|7876| ADAMS|      CLERK|  7788|83-JAN-12|   1100|      0|   20|\n",
      "|7934|MILLER|      CLERK|  7782|82-JAN-23|   1300|      0|   10|\n",
      "|7877|  LOLA|      CLERK|  7902|81-JAN-12|    800|      0|   10|\n",
      "|7878| BLACK|       NULL|  7902|87-MAY-01|   1800|    300|   20|\n",
      "+----+------+-----------+------+---------+-------+-------+-----+\n"
     ]
    }
   ],
   "source": [
    "df.show()"
   ],
   "metadata": {
    "collapsed": false,
    "ExecuteTime": {
     "end_time": "2023-11-04T19:26:02.363592200Z",
     "start_time": "2023-11-04T19:26:02.083353200Z"
    }
   },
   "id": "6f97bf841739313c"
  },
  {
   "cell_type": "markdown",
   "source": [
    "CSV fájlok esetén meg kell adni, van-e fejléc sor. Ezt az option metódus meghívásával tudjuk megtenni."
   ],
   "metadata": {
    "collapsed": false
   },
   "id": "9fbff5bd0d5290c0"
  },
  {
   "cell_type": "code",
   "execution_count": 4,
   "outputs": [],
   "source": [
    "df = spark.read.option('header', True).csv('dolgozo.csv')"
   ],
   "metadata": {
    "collapsed": false,
    "ExecuteTime": {
     "end_time": "2023-11-04T19:26:07.710925Z",
     "start_time": "2023-11-04T19:26:07.516281800Z"
    }
   },
   "id": "4a46016512b3240e"
  },
  {
   "cell_type": "code",
   "execution_count": 5,
   "outputs": [
    {
     "name": "stdout",
     "output_type": "stream",
     "text": [
      "+----+------+-----------+------+---------+-------+-------+-----+\n",
      "|DKOD|  DNEV|FOGLALKOZAS|FONOKE|  BELEPES|FIZETES|JUTALEK|OAZON|\n",
      "+----+------+-----------+------+---------+-------+-------+-----+\n",
      "|7839|  KING|  PRESIDENT|  0000|81-NOV-17|   5000|      0|   10|\n",
      "|7698| BLAKE|    MANAGER| 783d9|81-MAY-01|   2850|      0|   30|\n",
      "|7782| CLARK|    MANAGER|  7839|81-JUN-09|   2450|      0|   10|\n",
      "|7566| JONES|    MANAGER|  7839|81-APR-02|   2975|      0|   20|\n",
      "|7654|MARTIN|   SALESMAN|  7698|81-SEP-28|   1250|   1400|   30|\n",
      "|7499| ALLEN|   SALESMAN|  7698|81-FEB-20|   1600|    300|   30|\n",
      "|7844|TURNER|   SALESMAN|  7698|81-SEP-08|   1500|      0|   30|\n",
      "|7900| JAMES|      CLERK|  7698|81-DEC-03|    950|      0|   30|\n",
      "|7521|  WARD|   SALESMAN|  7698|81-FEB-22|   1250|    500|   30|\n",
      "|7902|  FORD|    ANALYST|  7566|81-DEC-03|   3000|      0|   20|\n",
      "|7369| SMITH|      CLERK|  7902|80-DEC-17|    800|      0|   20|\n",
      "|7788| SCOTT|    ANALYST|  7566|82-DEC-09|   3000|      0|   20|\n",
      "|7876| ADAMS|      CLERK|  7788|83-JAN-12|   1100|      0|   20|\n",
      "|7934|MILLER|      CLERK|  7782|82-JAN-23|   1300|      0|   10|\n",
      "|7877|  LOLA|      CLERK|  7902|81-JAN-12|    800|      0|   10|\n",
      "|7878| BLACK|       NULL|  7902|87-MAY-01|   1800|    300|   20|\n",
      "+----+------+-----------+------+---------+-------+-------+-----+\n"
     ]
    }
   ],
   "source": [
    "df.show()"
   ],
   "metadata": {
    "collapsed": false,
    "ExecuteTime": {
     "end_time": "2023-11-04T19:26:08.697857800Z",
     "start_time": "2023-11-04T19:26:08.578353100Z"
    }
   },
   "id": "e7edbb2a16db6497"
  },
  {
   "cell_type": "markdown",
   "source": [
    "A DataFrame oszlopokból áll ezek neveit, típusait és az egyes oszlopokra vonatkozó korlátozásokat sémának nevezzük. A séma kiírható a következő módon:"
   ],
   "metadata": {
    "collapsed": false
   },
   "id": "b745ced31121ad39"
  },
  {
   "cell_type": "code",
   "execution_count": 13,
   "outputs": [
    {
     "name": "stdout",
     "output_type": "stream",
     "text": [
      "root\n",
      " |-- DKOD: string (nullable = true)\n",
      " |-- DNEV: string (nullable = true)\n",
      " |-- FOGLALKOZAS: string (nullable = true)\n",
      " |-- FONOKE: string (nullable = true)\n",
      " |-- BELEPES: string (nullable = true)\n",
      " |-- FIZETES: string (nullable = true)\n",
      " |-- JUTALEK: string (nullable = true)\n",
      " |-- OAZON: string (nullable = true)\n"
     ]
    }
   ],
   "source": [
    "df.printSchema()"
   ],
   "metadata": {
    "collapsed": false,
    "ExecuteTime": {
     "end_time": "2023-10-26T15:59:40.680360100Z",
     "start_time": "2023-10-26T15:59:40.641324400Z"
    }
   },
   "id": "875a620bc6d351c4"
  },
  {
   "cell_type": "markdown",
   "source": [
    "## Sémakikövetkezetetés\n",
    "\n",
    "A sémakikövetkezés az inferSchema opció True paraméteres megadásával bekapcsolható. Ennek hatására a Spark az egyes értékek parse-olhatósága alapján állítja be a típusokat."
   ],
   "metadata": {
    "collapsed": false
   },
   "id": "ae70a71a20ebefa2"
  },
  {
   "cell_type": "code",
   "execution_count": 6,
   "outputs": [],
   "source": [
    "df = spark.read.format('csv')\\\n",
    "    .option('header', True)\\\n",
    "    .option('inferSchema', True)\\\n",
    "    .load('dolgozo.csv')"
   ],
   "metadata": {
    "collapsed": false,
    "ExecuteTime": {
     "end_time": "2023-11-04T19:28:17.839888Z",
     "start_time": "2023-11-04T19:28:17.509119600Z"
    }
   },
   "id": "b0af5dce9c7acc0f"
  },
  {
   "cell_type": "code",
   "execution_count": 8,
   "outputs": [
    {
     "name": "stdout",
     "output_type": "stream",
     "text": [
      "root\n",
      " |-- DKOD: integer (nullable = true)\n",
      " |-- DNEV: string (nullable = true)\n",
      " |-- FOGLALKOZAS: string (nullable = true)\n",
      " |-- FONOKE: string (nullable = true)\n",
      " |-- BELEPES: string (nullable = true)\n",
      " |-- FIZETES: integer (nullable = true)\n",
      " |-- JUTALEK: integer (nullable = true)\n",
      " |-- OAZON: integer (nullable = true)\n"
     ]
    }
   ],
   "source": [
    "df.printSchema()"
   ],
   "metadata": {
    "collapsed": false,
    "ExecuteTime": {
     "end_time": "2023-11-04T19:29:32.839555700Z",
     "start_time": "2023-11-04T19:29:32.830138700Z"
    }
   },
   "id": "16bd78fe0f78bc4e"
  },
  {
   "cell_type": "markdown",
   "source": [
    "## Manuális sémamegadás\n",
    "`pyspark.sql.types` csomagban található objektumok segítségével történik."
   ],
   "metadata": {
    "collapsed": false
   },
   "id": "bd2b564b8a816827"
  },
  {
   "cell_type": "code",
   "execution_count": 9,
   "outputs": [],
   "source": [
    "from pyspark.sql.types import StringType,StructType, StructField, IntegerType\n",
    "\n",
    "dolgozoSchema = StructType([\n",
    "    StructField('DKOD', IntegerType()),\n",
    "    StructField('DNEV', StringType()),\n",
    "    StructField('FOGLALKOZAS', StringType()),\n",
    "    StructField('FONOKE', IntegerType()),\n",
    "    StructField('BELEPES', StringType()),\n",
    "    StructField('FIZETES', IntegerType()),\n",
    "    StructField('JUTALEK', IntegerType()),\n",
    "    StructField('OAZON', IntegerType()),\n",
    "])"
   ],
   "metadata": {
    "collapsed": false,
    "ExecuteTime": {
     "end_time": "2023-11-04T19:30:21.503388600Z",
     "start_time": "2023-11-04T19:30:21.464927Z"
    }
   },
   "id": "1aa94f80b009b40"
  },
  {
   "cell_type": "code",
   "execution_count": 10,
   "outputs": [
    {
     "name": "stdout",
     "output_type": "stream",
     "text": [
      "root\n",
      " |-- DKOD: integer (nullable = true)\n",
      " |-- DNEV: string (nullable = true)\n",
      " |-- FOGLALKOZAS: string (nullable = true)\n",
      " |-- FONOKE: integer (nullable = true)\n",
      " |-- BELEPES: string (nullable = true)\n",
      " |-- FIZETES: integer (nullable = true)\n",
      " |-- JUTALEK: integer (nullable = true)\n",
      " |-- OAZON: integer (nullable = true)\n"
     ]
    }
   ],
   "source": [
    "df = spark.read.schema(dolgozoSchema).option('header', True).csv('dolgozo.csv')\n",
    "df.printSchema()"
   ],
   "metadata": {
    "collapsed": false,
    "ExecuteTime": {
     "end_time": "2023-11-04T19:30:22.333267900Z",
     "start_time": "2023-11-04T19:30:22.243946Z"
    }
   },
   "id": "9230660d47574053"
  },
  {
   "cell_type": "markdown",
   "source": [
    "## Műveletek\n",
    "A műveletek többnyire az SQL-ből ismert műveletek.\n",
    "\n",
    "Az oszlopokra több módon is tudunk hivatkozni. Sok műveleten esetén elég az oszlop nevét stringgként megadni. Lehetőségünk van a dataframe adattagjaként is elérni őket. Ugyan erre a célre szolgál a `col()` függvény is (ennek akkor van értelme ha pusztán az oszlopnevet tartalmazó literálból kontextusából nem következtethető ki, hogy oszlopra akarunk referálni)."
   ],
   "metadata": {
    "collapsed": false
   },
   "id": "e0ce2741b1618e20"
  },
  {
   "cell_type": "code",
   "execution_count": 12,
   "outputs": [
    {
     "name": "stdout",
     "output_type": "stream",
     "text": [
      "+------+-------+-----------+-----+\n",
      "|  DNEV|FIZETES|FOGLALKOZAS|OAZON|\n",
      "+------+-------+-----------+-----+\n",
      "|  KING|   5000|  PRESIDENT|   10|\n",
      "| BLAKE|   2850|    MANAGER|   30|\n",
      "| CLARK|   2450|    MANAGER|   10|\n",
      "| JONES|   2975|    MANAGER|   20|\n",
      "|MARTIN|   1250|   SALESMAN|   30|\n",
      "| ALLEN|   1600|   SALESMAN|   30|\n",
      "|TURNER|   1500|   SALESMAN|   30|\n",
      "| JAMES|    950|      CLERK|   30|\n",
      "|  WARD|   1250|   SALESMAN|   30|\n",
      "|  FORD|   3000|    ANALYST|   20|\n",
      "| SMITH|    800|      CLERK|   20|\n",
      "| SCOTT|   3000|    ANALYST|   20|\n",
      "| ADAMS|   1100|      CLERK|   20|\n",
      "|MILLER|   1300|      CLERK|   10|\n",
      "|  LOLA|    800|      CLERK|   10|\n",
      "| BLACK|   1800|       NULL|   20|\n",
      "+------+-------+-----------+-----+\n"
     ]
    }
   ],
   "source": [
    "df.select('DNEV', df.FIZETES, df['FOGLALKOZAS'], col('OAZON')).show()"
   ],
   "metadata": {
    "collapsed": false,
    "ExecuteTime": {
     "end_time": "2023-11-04T19:35:21.047549900Z",
     "start_time": "2023-11-04T19:35:20.831112700Z"
    }
   },
   "id": "25585f984fb52bd3"
  },
  {
   "cell_type": "markdown",
   "source": [
    "A vetítés során tudunk új oszlopokat is bevezetni. (megjegyzés: itt nem tudunk az oszlopnevekre csak mint string literál hivatkozni)"
   ],
   "metadata": {
    "collapsed": false
   },
   "id": "203a46abb47977d9"
  },
  {
   "cell_type": "code",
   "execution_count": 13,
   "outputs": [
    {
     "name": "stdout",
     "output_type": "stream",
     "text": [
      "+------+-------+\n",
      "|  DNEV|KERESET|\n",
      "+------+-------+\n",
      "|  KING|  60000|\n",
      "| BLAKE|  34200|\n",
      "| CLARK|  29400|\n",
      "| JONES|  35700|\n",
      "|MARTIN|  31800|\n",
      "| ALLEN|  22800|\n",
      "|TURNER|  18000|\n",
      "| JAMES|  11400|\n",
      "|  WARD|  21000|\n",
      "|  FORD|  36000|\n",
      "| SMITH|   9600|\n",
      "| SCOTT|  36000|\n",
      "| ADAMS|  13200|\n",
      "|MILLER|  15600|\n",
      "|  LOLA|   9600|\n",
      "| BLACK|  25200|\n",
      "+------+-------+\n"
     ]
    }
   ],
   "source": [
    "df.select(df.DNEV, (12 * df.FIZETES + 12 * df.JUTALEK).alias('KERESET')).show()"
   ],
   "metadata": {
    "collapsed": false,
    "ExecuteTime": {
     "end_time": "2023-11-04T19:39:25.731455600Z",
     "start_time": "2023-11-04T19:39:25.593918800Z"
    }
   },
   "id": "1f395a8bf786fabe"
  },
  {
   "cell_type": "markdown",
   "source": [
    "Mint SQL-ben a `*` minden oszlopot kiválaszt."
   ],
   "metadata": {
    "collapsed": false
   },
   "id": "12f225f5381a355b"
  },
  {
   "cell_type": "code",
   "execution_count": 14,
   "outputs": [
    {
     "name": "stdout",
     "output_type": "stream",
     "text": [
      "+----+------+-----------+------+---------+-------+-------+-----+\n",
      "|DKOD|  DNEV|FOGLALKOZAS|FONOKE|  BELEPES|FIZETES|JUTALEK|OAZON|\n",
      "+----+------+-----------+------+---------+-------+-------+-----+\n",
      "|7839|  KING|  PRESIDENT|     0|81-NOV-17|   5000|      0|   10|\n",
      "|7698| BLAKE|    MANAGER|  NULL|81-MAY-01|   2850|      0|   30|\n",
      "|7782| CLARK|    MANAGER|  7839|81-JUN-09|   2450|      0|   10|\n",
      "|7566| JONES|    MANAGER|  7839|81-APR-02|   2975|      0|   20|\n",
      "|7654|MARTIN|   SALESMAN|  7698|81-SEP-28|   1250|   1400|   30|\n",
      "+----+------+-----------+------+---------+-------+-------+-----+\n"
     ]
    }
   ],
   "source": [
    "df.select('*').show(5)"
   ],
   "metadata": {
    "collapsed": false,
    "ExecuteTime": {
     "end_time": "2023-11-04T19:40:31.523042800Z",
     "start_time": "2023-11-04T19:40:31.392885600Z"
    }
   },
   "id": "7bb84825d259b679"
  },
  {
   "cell_type": "markdown",
   "source": [
    "Tudunk SQL kifejezés alapján is vetíteni, erről bővebben az `SQL.ipyn` fájlban van szó."
   ],
   "metadata": {
    "collapsed": false
   },
   "id": "969d54a9cf25ee80"
  },
  {
   "cell_type": "code",
   "execution_count": 15,
   "outputs": [
    {
     "name": "stdout",
     "output_type": "stream",
     "text": [
      "+----+------+-----------+------+---------+-------+-------+-----+-------+\n",
      "|DKOD|  DNEV|FOGLALKOZAS|FONOKE|  BELEPES|FIZETES|JUTALEK|OAZON|KERESET|\n",
      "+----+------+-----------+------+---------+-------+-------+-----+-------+\n",
      "|7839|  KING|  PRESIDENT|     0|81-NOV-17|   5000|      0|   10|   5000|\n",
      "|7698| BLAKE|    MANAGER|  NULL|81-MAY-01|   2850|      0|   30|   2850|\n",
      "|7782| CLARK|    MANAGER|  7839|81-JUN-09|   2450|      0|   10|   2450|\n",
      "|7566| JONES|    MANAGER|  7839|81-APR-02|   2975|      0|   20|   2975|\n",
      "|7654|MARTIN|   SALESMAN|  7698|81-SEP-28|   1250|   1400|   30|   2650|\n",
      "+----+------+-----------+------+---------+-------+-------+-----+-------+\n"
     ]
    }
   ],
   "source": [
    "df.selectExpr('*', '(FIZETES + JUTALEK) as KERESET').show(5)"
   ],
   "metadata": {
    "collapsed": false,
    "ExecuteTime": {
     "end_time": "2023-11-04T19:41:20.246398900Z",
     "start_time": "2023-11-04T19:41:20.065740500Z"
    }
   },
   "id": "b954566d35a0f635"
  },
  {
   "cell_type": "code",
   "execution_count": 16,
   "outputs": [
    {
     "name": "stdout",
     "output_type": "stream",
     "text": [
      "+------------+---------------------------+\n",
      "|avg(FIZETES)|count(DISTINCT FOGLALKOZAS)|\n",
      "+------------+---------------------------+\n",
      "|   1976.5625|                          5|\n",
      "+------------+---------------------------+\n"
     ]
    }
   ],
   "source": [
    "df.selectExpr('avg(FIZETES)', 'count(distinct FOGLALKOZAS)').show()"
   ],
   "metadata": {
    "collapsed": false,
    "ExecuteTime": {
     "end_time": "2023-11-04T19:41:26.678895600Z",
     "start_time": "2023-11-04T19:41:25.747420100Z"
    }
   },
   "id": "9a4ff33bd7a8918a"
  },
  {
   "cell_type": "markdown",
   "source": [
    "Ha jobban kedveljük a programozott megoldást, akkor ugyan úgy elérhető művelet minden SQL DQL utasításra.\n",
    "\n",
    "Ez például egy másik mód az új oszlop felvételére. Az `expr()` függvény paramétereként megadott utasítás SQL-ként fog értelmezésre kerülni."
   ],
   "metadata": {
    "collapsed": false
   },
   "id": "498f90af502ed823"
  },
  {
   "cell_type": "code",
   "execution_count": 17,
   "outputs": [
    {
     "name": "stdout",
     "output_type": "stream",
     "text": [
      "+----+-----+-----------+------+---------+-------+-------+-----+-------+\n",
      "|DKOD| DNEV|FOGLALKOZAS|FONOKE|  BELEPES|FIZETES|JUTALEK|OAZON|KERESET|\n",
      "+----+-----+-----------+------+---------+-------+-------+-----+-------+\n",
      "|7839| KING|  PRESIDENT|     0|81-NOV-17|   5000|      0|   10|   5000|\n",
      "|7698|BLAKE|    MANAGER|  NULL|81-MAY-01|   2850|      0|   30|   2850|\n",
      "|7782|CLARK|    MANAGER|  7839|81-JUN-09|   2450|      0|   10|   2450|\n",
      "|7566|JONES|    MANAGER|  7839|81-APR-02|   2975|      0|   20|   2975|\n",
      "+----+-----+-----------+------+---------+-------+-------+-----+-------+\n"
     ]
    }
   ],
   "source": [
    "df.withColumn('KERESET', expr('FIZETES + JUTALEK')).show(4)"
   ],
   "metadata": {
    "collapsed": false,
    "ExecuteTime": {
     "end_time": "2023-11-04T19:43:29.435875200Z",
     "start_time": "2023-11-04T19:43:29.314599Z"
    }
   },
   "id": "20adf9f2f8be594e"
  },
  {
   "cell_type": "markdown",
   "source": [
    "Ezek a megoldások szinte mindig ekvivalens végrehajtási terveket eredményeznek. Két DataFrame lekérdezés ekvivalens ha a végrehajtási terveik megegyeznek, amit a `sameSemantics(dataframe)` metódussal tudunk ellenőrizni."
   ],
   "metadata": {
    "collapsed": false
   },
   "id": "27e069d6a46cd3a4"
  },
  {
   "cell_type": "code",
   "execution_count": 18,
   "outputs": [
    {
     "data": {
      "text/plain": "True"
     },
     "execution_count": 18,
     "metadata": {},
     "output_type": "execute_result"
    }
   ],
   "source": [
    "df.withColumn('KERESET', df.FIZETES + df.JUTALEK).sameSemantics(df.withColumn('KERESET', expr('FIZETES + JUTALEK')))"
   ],
   "metadata": {
    "collapsed": false,
    "ExecuteTime": {
     "end_time": "2023-11-04T19:44:52.064305400Z",
     "start_time": "2023-11-04T19:44:52.004395200Z"
    }
   },
   "id": "fdd18638ebfcdb62"
  },
  {
   "cell_type": "markdown",
   "source": [
    "Magát a lekérdezési tervet is le tudjuk kérni:"
   ],
   "metadata": {
    "collapsed": false
   },
   "id": "34c62f6864d67bf6"
  },
  {
   "cell_type": "code",
   "execution_count": 19,
   "outputs": [
    {
     "name": "stdout",
     "output_type": "stream",
     "text": [
      "== Physical Plan ==\n",
      "*(1) Project [DKOD#183, DNEV#184, FOGLALKOZAS#185, FONOKE#186, BELEPES#187, FIZETES#188, JUTALEK#189, OAZON#190, (FIZETES#188 + JUTALEK#189) AS KERESET#459]\n",
      "+- FileScan csv [DKOD#183,DNEV#184,FOGLALKOZAS#185,FONOKE#186,BELEPES#187,FIZETES#188,JUTALEK#189,OAZON#190] Batched: false, DataFilters: [], Format: CSV, Location: InMemoryFileIndex(1 paths)[file:/C:/Users/bb200/Documents/elte-ik-bsc/5/bigdata/spark/07/dolgozo...., PartitionFilters: [], PushedFilters: [], ReadSchema: struct<DKOD:int,DNEV:string,FOGLALKOZAS:string,FONOKE:int,BELEPES:string,FIZETES:int,JUTALEK:int,...\n"
     ]
    }
   ],
   "source": [
    "df.withColumn('KERESET', df.FIZETES + df.JUTALEK).explain()"
   ],
   "metadata": {
    "collapsed": false,
    "ExecuteTime": {
     "end_time": "2023-11-04T19:50:43.496812Z",
     "start_time": "2023-11-04T19:50:43.440237Z"
    }
   },
   "id": "6f38c81003b205ce"
  },
  {
   "cell_type": "markdown",
   "source": [
    "Oszlopátnevezés:"
   ],
   "metadata": {
    "collapsed": false
   },
   "id": "7c4621935d795b98"
  },
  {
   "cell_type": "code",
   "execution_count": 20,
   "outputs": [
    {
     "name": "stdout",
     "output_type": "stream",
     "text": [
      "+----+------+-----------+------+---------+------------+-------+-----+\n",
      "|DKOD|  DNEV|FOGLALKOZAS|FONOKE|  BELEPES|HAVI_FIZETES|JUTALEK|OAZON|\n",
      "+----+------+-----------+------+---------+------------+-------+-----+\n",
      "|7839|  KING|  PRESIDENT|     0|81-NOV-17|        5000|      0|   10|\n",
      "|7698| BLAKE|    MANAGER|  NULL|81-MAY-01|        2850|      0|   30|\n",
      "|7782| CLARK|    MANAGER|  7839|81-JUN-09|        2450|      0|   10|\n",
      "|7566| JONES|    MANAGER|  7839|81-APR-02|        2975|      0|   20|\n",
      "|7654|MARTIN|   SALESMAN|  7698|81-SEP-28|        1250|   1400|   30|\n",
      "+----+------+-----------+------+---------+------------+-------+-----+\n"
     ]
    }
   ],
   "source": [
    "df.withColumnRenamed('FIZETES', 'HAVI_FIZETES').show(5)"
   ],
   "metadata": {
    "collapsed": false,
    "ExecuteTime": {
     "end_time": "2023-11-04T19:57:13.619267500Z",
     "start_time": "2023-11-04T19:57:13.511806Z"
    }
   },
   "id": "fb03e2e155a5a508"
  },
  {
   "cell_type": "markdown",
   "source": [
    "A `drop()` metódussal lehetőségünk van oszlopokat elhagyni."
   ],
   "metadata": {
    "collapsed": false
   },
   "id": "b397bf05bfc87020"
  },
  {
   "cell_type": "code",
   "execution_count": 21,
   "outputs": [
    {
     "name": "stdout",
     "output_type": "stream",
     "text": [
      "+----+-----+-----------+------+---------+-------+-------+\n",
      "|DKOD| DNEV|FOGLALKOZAS|FONOKE|  BELEPES|FIZETES|JUTALEK|\n",
      "+----+-----+-----------+------+---------+-------+-------+\n",
      "|7839| KING|  PRESIDENT|     0|81-NOV-17|   5000|      0|\n",
      "|7698|BLAKE|    MANAGER|  7839|81-MAY-01|   2850|      0|\n",
      "|7782|CLARK|    MANAGER|  7839|81-JUN-09|   2450|      0|\n",
      "|7566|JONES|    MANAGER|  7839|81-APR-02|   2975|      0|\n",
      "+----+-----+-----------+------+---------+-------+-------+\n"
     ]
    }
   ],
   "source": [
    "df.drop(df.OAZON).show(4)"
   ],
   "metadata": {
    "collapsed": false,
    "ExecuteTime": {
     "end_time": "2023-11-04T19:58:20.735027100Z",
     "start_time": "2023-11-04T19:58:20.587943100Z"
    }
   },
   "id": "715c792a186890db"
  },
  {
   "cell_type": "markdown",
   "source": [
    "Természetesen rendelkezésre áll a szűrés művelete is:"
   ],
   "metadata": {
    "collapsed": false
   },
   "id": "2b86217548df4fa7"
  },
  {
   "cell_type": "code",
   "execution_count": 22,
   "outputs": [
    {
     "name": "stdout",
     "output_type": "stream",
     "text": [
      "+----+\n",
      "|DNEV|\n",
      "+----+\n",
      "|KING|\n",
      "+----+\n"
     ]
    }
   ],
   "source": [
    "df.where(df.FIZETES > 3000).select(df.DNEV).show(5)"
   ],
   "metadata": {
    "collapsed": false,
    "ExecuteTime": {
     "end_time": "2023-11-04T19:59:34.352766900Z",
     "start_time": "2023-11-04T19:59:34.201008500Z"
    }
   },
   "id": "ff8f9c447cb12fd2"
  },
  {
   "cell_type": "markdown",
   "source": [
    "A `where()` valójában a `filter()`-t hívja meg. Feltételeket az `&` (és), `|` (vagy), `~` (nem) logikai műveletekkel tudjuk összekapcsolni."
   ],
   "metadata": {
    "collapsed": false
   },
   "id": "e1137e01eb245b3c"
  },
  {
   "cell_type": "code",
   "execution_count": 27,
   "outputs": [
    {
     "name": "stdout",
     "output_type": "stream",
     "text": [
      "+----+-----+-----------+------+---------+-------+-------+-----+\n",
      "|DKOD| DNEV|FOGLALKOZAS|FONOKE|  BELEPES|FIZETES|JUTALEK|OAZON|\n",
      "+----+-----+-----------+------+---------+-------+-------+-----+\n",
      "|7839| KING|  PRESIDENT|     0|81-NOV-17|   5000|      0|   10|\n",
      "|7698|BLAKE|    MANAGER|  7839|81-MAY-01|   2850|      0|   30|\n",
      "|7782|CLARK|    MANAGER|  7839|81-JUN-09|   2450|      0|   10|\n",
      "+----+-----+-----------+------+---------+-------+-------+-----+\n"
     ]
    }
   ],
   "source": [
    "df.filter((df.FIZETES > 2000) & ~(df.OAZON == 20)).show(4)"
   ],
   "metadata": {
    "collapsed": false,
    "ExecuteTime": {
     "end_time": "2023-11-04T20:12:04.914474400Z",
     "start_time": "2023-11-04T20:12:04.827360600Z"
    }
   },
   "id": "4faca7bc711d7c66"
  },
  {
   "cell_type": "markdown",
   "source": [
    "Ha indokolt ajánlott a logikai összekötést használni, mert a `where()` láncolás más végrehasjtási tervet eredményez."
   ],
   "metadata": {
    "collapsed": false
   },
   "id": "3242ce130985a620"
  },
  {
   "cell_type": "code",
   "execution_count": 30,
   "outputs": [
    {
     "data": {
      "text/plain": "False"
     },
     "execution_count": 30,
     "metadata": {},
     "output_type": "execute_result"
    }
   ],
   "source": [
    "df.where(df.FIZETES > 2000).where(df.OAZON != 20).sameSemantics(df.filter((df.FIZETES > 2000) & ~(df.OAZON == 20)))"
   ],
   "metadata": {
    "collapsed": false,
    "ExecuteTime": {
     "end_time": "2023-11-04T20:14:58.841070800Z",
     "start_time": "2023-11-04T20:14:58.799994800Z"
    }
   },
   "id": "12df8014a0fe4bd0"
  },
  {
   "cell_type": "markdown",
   "source": [
    "A dataframe ismétlődéseit `distinct()` metódussal tudjuk megszüntetni. A `count()`-al pedig le tudjuk kérni a dataframe sorainak számát."
   ],
   "metadata": {
    "collapsed": false
   },
   "id": "ee54a97a6530acf2"
  },
  {
   "cell_type": "code",
   "execution_count": 31,
   "outputs": [
    {
     "data": {
      "text/plain": "6"
     },
     "execution_count": 31,
     "metadata": {},
     "output_type": "execute_result"
    }
   ],
   "source": [
    "df.select(df.FOGLALKOZAS).distinct().count()"
   ],
   "metadata": {
    "collapsed": false,
    "ExecuteTime": {
     "end_time": "2023-11-04T20:19:50.353620500Z",
     "start_time": "2023-11-04T20:19:50.085473800Z"
    }
   },
   "id": "dd0fa683eee6e865"
  },
  {
   "cell_type": "markdown",
   "source": [
    "A dataframe rendezhető. Ez, hogy az adott oszlop szerint növekvő vagy csökkenő sorrend legyen az `asc()` és `desc()` hívásokkal specifikálható. A `limit()` metódussal eldobhatók a dataframe első `n` soron kívüli sorai.\n",
    "\n",
    "A `limit` és a `take`/`show` nem ekvivalensek, mivel egyedül a limit ad vissza új dataframe-et. "
   ],
   "metadata": {
    "collapsed": false
   },
   "id": "451db70a6a7441f1"
  },
  {
   "cell_type": "code",
   "execution_count": 33,
   "outputs": [
    {
     "name": "stdout",
     "output_type": "stream",
     "text": [
      "+----+------+-----------+------+---------+-------+-------+-----+\n",
      "|DKOD|  DNEV|FOGLALKOZAS|FONOKE|  BELEPES|FIZETES|JUTALEK|OAZON|\n",
      "+----+------+-----------+------+---------+-------+-------+-----+\n",
      "|7839|  KING|  PRESIDENT|     0|81-NOV-17|   5000|      0|   10|\n",
      "|7782| CLARK|    MANAGER|  7839|81-JUN-09|   2450|      0|   10|\n",
      "|7934|MILLER|      CLERK|  7782|82-JAN-23|   1300|      0|   10|\n",
      "|7877|  LOLA|      CLERK|  7902|81-JAN-12|    800|      0|   10|\n",
      "|7788| SCOTT|    ANALYST|  7566|82-DEC-09|   3000|      0|   20|\n",
      "+----+------+-----------+------+---------+-------+-------+-----+\n"
     ]
    }
   ],
   "source": [
    "df.orderBy(df.OAZON.asc(), df.FIZETES.desc()).limit(5).show()"
   ],
   "metadata": {
    "collapsed": false,
    "ExecuteTime": {
     "end_time": "2023-11-04T20:20:01.480024800Z",
     "start_time": "2023-11-04T20:20:01.349574Z"
    }
   },
   "id": "52d9835a16956993"
  },
  {
   "cell_type": "markdown",
   "source": [
    "Csoportosításra is lehetőségünk van."
   ],
   "metadata": {
    "collapsed": false
   },
   "id": "952f70289321bae4"
  },
  {
   "cell_type": "code",
   "execution_count": 44,
   "outputs": [
    {
     "name": "stdout",
     "output_type": "stream",
     "text": [
      "+-----+-----------+-----+\n",
      "|OAZON|FOGLALKOZAS|count|\n",
      "+-----+-----------+-----+\n",
      "|   20|    ANALYST|    2|\n",
      "|   20|       NULL|    1|\n",
      "|   20|    MANAGER|    1|\n",
      "|   30|    MANAGER|    1|\n",
      "|   30|   SALESMAN|    4|\n",
      "|   30|      CLERK|    1|\n",
      "|   10|  PRESIDENT|    1|\n",
      "|   20|      CLERK|    2|\n",
      "|   10|      CLERK|    2|\n",
      "|   10|    MANAGER|    1|\n",
      "+-----+-----------+-----+\n"
     ]
    }
   ],
   "source": [
    "df.groupBy(df.OAZON, df.FOGLALKOZAS).count().show()"
   ],
   "metadata": {
    "collapsed": false,
    "ExecuteTime": {
     "end_time": "2023-10-26T16:23:31.275200900Z",
     "start_time": "2023-10-26T16:23:30.993589600Z"
    }
   },
   "id": "8c997319330cee05"
  },
  {
   "cell_type": "markdown",
   "source": [
    "A csoportokat összegezhetjük is. Ehhez az SQL-ben megismert összegző függvények is adottak (`avg`, `max`, `min`, `sum`, `count`)."
   ],
   "metadata": {
    "collapsed": false
   },
   "id": "846bbb84402cc18b"
  },
  {
   "cell_type": "code",
   "execution_count": 34,
   "outputs": [
    {
     "name": "stdout",
     "output_type": "stream",
     "text": [
      "+-----+------------+\n",
      "|OAZON|sum(FIZETES)|\n",
      "+-----+------------+\n",
      "|   20|       12675|\n",
      "|   10|        9550|\n",
      "|   30|        9400|\n",
      "+-----+------------+\n"
     ]
    }
   ],
   "source": [
    "df.groupBy(df.OAZON).agg(sum(df.FIZETES)).alias('OSSZ').show()"
   ],
   "metadata": {
    "collapsed": false,
    "ExecuteTime": {
     "end_time": "2023-11-04T20:22:50.173133800Z",
     "start_time": "2023-11-04T20:22:49.942820400Z"
    }
   },
   "id": "440625929f243621"
  },
  {
   "cell_type": "markdown",
   "source": [
    "Illetve lehetőségünk van összekapcsolni dataframe-eket."
   ],
   "metadata": {
    "collapsed": false
   },
   "id": "134c1af1f57f9f26"
  },
  {
   "cell_type": "code",
   "execution_count": 35,
   "outputs": [],
   "source": [
    "osztaly_df = spark.read.option('header', True).option('inferSchema', True).csv('osztaly.csv')"
   ],
   "metadata": {
    "collapsed": false,
    "ExecuteTime": {
     "end_time": "2023-11-04T20:23:38.237484400Z",
     "start_time": "2023-11-04T20:23:37.992605400Z"
    }
   },
   "id": "a80bd3e9b0c3232c"
  },
  {
   "cell_type": "code",
   "execution_count": 36,
   "outputs": [
    {
     "name": "stdout",
     "output_type": "stream",
     "text": [
      "+-----+----------+---------+\n",
      "|OAZON|       NEV|TELEPHELY|\n",
      "+-----+----------+---------+\n",
      "|   10|ACCOUNTING| NEW YORK|\n",
      "|   20|  RESEARCH|   DALLAS|\n",
      "|   30|     SALES|  CHICAGO|\n",
      "|   40|OPERATIONS|   BOSTON|\n",
      "+-----+----------+---------+\n"
     ]
    }
   ],
   "source": [
    "osztaly_df.show()"
   ],
   "metadata": {
    "collapsed": false,
    "ExecuteTime": {
     "end_time": "2023-11-04T20:23:39.330625200Z",
     "start_time": "2023-11-04T20:23:39.175516500Z"
    }
   },
   "id": "e6f01bdbc4bc5e9e"
  },
  {
   "cell_type": "markdown",
   "source": [
    "Az összekapcsolási feltétel a második paraméterként feltételek tömbjeként adandó meg. Egy feltétel esetén a tömb elhagyható.\n",
    "Harmadik paraméter az összekapcsolás típusa."
   ],
   "metadata": {
    "collapsed": false
   },
   "id": "db187de5cf1df68"
  },
  {
   "cell_type": "code",
   "execution_count": 37,
   "outputs": [
    {
     "name": "stdout",
     "output_type": "stream",
     "text": [
      "+----+------+-----------+------+---------+-------+-------+-----+-----+----------+---------+\n",
      "|DKOD|  DNEV|FOGLALKOZAS|FONOKE|  BELEPES|FIZETES|JUTALEK|OAZON|OAZON|       NEV|TELEPHELY|\n",
      "+----+------+-----------+------+---------+-------+-------+-----+-----+----------+---------+\n",
      "|7839|  KING|  PRESIDENT|     0|81-NOV-17|   5000|      0|   10|   10|ACCOUNTING| NEW YORK|\n",
      "|7698| BLAKE|    MANAGER|  7839|81-MAY-01|   2850|      0|   30|   30|     SALES|  CHICAGO|\n",
      "|7782| CLARK|    MANAGER|  7839|81-JUN-09|   2450|      0|   10|   10|ACCOUNTING| NEW YORK|\n",
      "|7566| JONES|    MANAGER|  7839|81-APR-02|   2975|      0|   20|   20|  RESEARCH|   DALLAS|\n",
      "|7654|MARTIN|   SALESMAN|  7698|81-SEP-28|   1250|   1400|   30|   30|     SALES|  CHICAGO|\n",
      "|7499| ALLEN|   SALESMAN|  7698|81-FEB-20|   1600|    300|   30|   30|     SALES|  CHICAGO|\n",
      "|7844|TURNER|   SALESMAN|  7698|81-SEP-08|   1500|      0|   30|   30|     SALES|  CHICAGO|\n",
      "|7900| JAMES|      CLERK|  7698|81-DEC-03|    950|      0|   30|   30|     SALES|  CHICAGO|\n",
      "|7521|  WARD|   SALESMAN|  7698|81-FEB-22|   1250|    500|   30|   30|     SALES|  CHICAGO|\n",
      "|7902|  FORD|    ANALYST|  7566|81-DEC-03|   3000|      0|   20|   20|  RESEARCH|   DALLAS|\n",
      "|7369| SMITH|      CLERK|  7902|80-DEC-17|    800|      0|   20|   20|  RESEARCH|   DALLAS|\n",
      "|7788| SCOTT|    ANALYST|  7566|82-DEC-09|   3000|      0|   20|   20|  RESEARCH|   DALLAS|\n",
      "|7876| ADAMS|      CLERK|  7788|83-JAN-12|   1100|      0|   20|   20|  RESEARCH|   DALLAS|\n",
      "|7934|MILLER|      CLERK|  7782|82-JAN-23|   1300|      0|   10|   10|ACCOUNTING| NEW YORK|\n",
      "|7877|  LOLA|      CLERK|  7902|81-JAN-12|    800|      0|   10|   10|ACCOUNTING| NEW YORK|\n",
      "|7878| BLACK|       NULL|  7902|87-MAY-01|   1800|    300|   20|   20|  RESEARCH|   DALLAS|\n",
      "+----+------+-----------+------+---------+-------+-------+-----+-----+----------+---------+\n"
     ]
    }
   ],
   "source": [
    "df.join(osztaly_df, df.OAZON == osztaly_df.OAZON, 'inner').show()"
   ],
   "metadata": {
    "collapsed": false,
    "ExecuteTime": {
     "end_time": "2023-11-04T20:26:02.008369300Z",
     "start_time": "2023-11-04T20:26:01.689174Z"
    }
   },
   "id": "6d6f16c25bd38ba4"
  },
  {
   "cell_type": "markdown",
   "source": [
    "A természetes összekapcsoláshoz elég csak az oszlop nevét megadni."
   ],
   "metadata": {
    "collapsed": false
   },
   "id": "937a67ff963ad6e4"
  },
  {
   "cell_type": "code",
   "execution_count": 38,
   "outputs": [
    {
     "name": "stdout",
     "output_type": "stream",
     "text": [
      "+-----+----+------+-----------+------+---------+-------+-------+----------+---------+\n",
      "|OAZON|DKOD|  DNEV|FOGLALKOZAS|FONOKE|  BELEPES|FIZETES|JUTALEK|       NEV|TELEPHELY|\n",
      "+-----+----+------+-----------+------+---------+-------+-------+----------+---------+\n",
      "|   10|7839|  KING|  PRESIDENT|     0|81-NOV-17|   5000|      0|ACCOUNTING| NEW YORK|\n",
      "|   30|7698| BLAKE|    MANAGER|  7839|81-MAY-01|   2850|      0|     SALES|  CHICAGO|\n",
      "|   10|7782| CLARK|    MANAGER|  7839|81-JUN-09|   2450|      0|ACCOUNTING| NEW YORK|\n",
      "|   20|7566| JONES|    MANAGER|  7839|81-APR-02|   2975|      0|  RESEARCH|   DALLAS|\n",
      "|   30|7654|MARTIN|   SALESMAN|  7698|81-SEP-28|   1250|   1400|     SALES|  CHICAGO|\n",
      "|   30|7499| ALLEN|   SALESMAN|  7698|81-FEB-20|   1600|    300|     SALES|  CHICAGO|\n",
      "|   30|7844|TURNER|   SALESMAN|  7698|81-SEP-08|   1500|      0|     SALES|  CHICAGO|\n",
      "|   30|7900| JAMES|      CLERK|  7698|81-DEC-03|    950|      0|     SALES|  CHICAGO|\n",
      "|   30|7521|  WARD|   SALESMAN|  7698|81-FEB-22|   1250|    500|     SALES|  CHICAGO|\n",
      "|   20|7902|  FORD|    ANALYST|  7566|81-DEC-03|   3000|      0|  RESEARCH|   DALLAS|\n",
      "|   20|7369| SMITH|      CLERK|  7902|80-DEC-17|    800|      0|  RESEARCH|   DALLAS|\n",
      "|   20|7788| SCOTT|    ANALYST|  7566|82-DEC-09|   3000|      0|  RESEARCH|   DALLAS|\n",
      "|   20|7876| ADAMS|      CLERK|  7788|83-JAN-12|   1100|      0|  RESEARCH|   DALLAS|\n",
      "|   10|7934|MILLER|      CLERK|  7782|82-JAN-23|   1300|      0|ACCOUNTING| NEW YORK|\n",
      "|   10|7877|  LOLA|      CLERK|  7902|81-JAN-12|    800|      0|ACCOUNTING| NEW YORK|\n",
      "|   20|7878| BLACK|       NULL|  7902|87-MAY-01|   1800|    300|  RESEARCH|   DALLAS|\n",
      "+-----+----+------+-----------+------+---------+-------+-------+----------+---------+\n"
     ]
    }
   ],
   "source": [
    "df.join(osztaly_df, 'OAZON').show()"
   ],
   "metadata": {
    "collapsed": false,
    "ExecuteTime": {
     "end_time": "2023-11-04T20:27:33.779564500Z",
     "start_time": "2023-11-04T20:27:33.619368100Z"
    }
   },
   "id": "4593a8327d6a6537"
  },
  {
   "cell_type": "code",
   "execution_count": 60,
   "outputs": [
    {
     "name": "stdout",
     "output_type": "stream",
     "text": [
      "+---------+---------+--------------------+--------+---------------+---------+----------+--------------+\n",
      "|InvoiceNo|StockCode|         Description|Quantity|    InvoiceDate|UnitPrice|CustomerID|       Country|\n",
      "+---------+---------+--------------------+--------+---------------+---------+----------+--------------+\n",
      "|   536365|   85123A|WHITE HANGING HEA...|       6|01/12/2010 8:26|     2.55|     17850|United Kingdom|\n",
      "|   536365|    71053| WHITE METAL LANTERN|       6|01/12/2010 8:26|     3.39|     17850|United Kingdom|\n",
      "|   536365|   84406B|CREAM CUPID HEART...|       8|01/12/2010 8:26|     2.75|     17850|United Kingdom|\n",
      "|   536365|   84029G|KNITTED UNION FLA...|       6|01/12/2010 8:26|     3.39|     17850|United Kingdom|\n",
      "|   536365|   84029E|RED WOOLLY HOTTIE...|       6|01/12/2010 8:26|     3.39|     17850|United Kingdom|\n",
      "+---------+---------+--------------------+--------+---------------+---------+----------+--------------+\n"
     ]
    }
   ],
   "source": [
    "retail_data = spark.read.option('header', True).option('inferschema', True).csv('online_retail_data.csv')\n",
    "retail_data.show(5)"
   ],
   "metadata": {
    "collapsed": false,
    "ExecuteTime": {
     "end_time": "2023-10-26T16:41:12.785690900Z",
     "start_time": "2023-10-26T16:41:11.889504900Z"
    }
   },
   "id": "bf04d8ecf3beb3d7"
  },
  {
   "cell_type": "code",
   "execution_count": 61,
   "outputs": [
    {
     "name": "stdout",
     "output_type": "stream",
     "text": [
      "+-------+-----------------+------------------+\n",
      "|summary|        UnitPrice|          Quantity|\n",
      "+-------+-----------------+------------------+\n",
      "|  count|           542014|            542014|\n",
      "|   mean|4.611339197881223| 9.555284549845576|\n",
      "| stddev|96.75097958042586|218.06048544770547|\n",
      "|    min|        -11062.06|            -80995|\n",
      "|    25%|             1.25|                 1|\n",
      "|    50%|             2.08|                 3|\n",
      "|    75%|             4.13|                10|\n",
      "|    max|          38970.0|             80995|\n",
      "+-------+-----------------+------------------+\n"
     ]
    }
   ],
   "source": [
    "retail_data.select('UnitPrice', 'Quantity').summary().show() # statisztika készítése"
   ],
   "metadata": {
    "collapsed": false,
    "ExecuteTime": {
     "end_time": "2023-10-26T16:41:46.553622Z",
     "start_time": "2023-10-26T16:41:44.619103700Z"
    }
   },
   "id": "2c5735a0f295f805"
  },
  {
   "cell_type": "markdown",
   "source": [
    "Melyik országban él a legtöbb vásárló?"
   ],
   "metadata": {
    "collapsed": false
   },
   "id": "205c03cb47d15628"
  },
  {
   "cell_type": "code",
   "execution_count": 63,
   "outputs": [
    {
     "name": "stdout",
     "output_type": "stream",
     "text": [
      "+--------------+--------------+\n",
      "|       Country|vasarlok_szama|\n",
      "+--------------+--------------+\n",
      "|United Kingdom|          3950|\n",
      "+--------------+--------------+\n"
     ]
    }
   ],
   "source": [
    "retail_data.groupBy('Country').agg(countDistinct('CustomerID').alias('vasarlok_szama')).orderBy(col('vasarlok_szama').desc()).limit(1).show()"
   ],
   "metadata": {
    "collapsed": false,
    "ExecuteTime": {
     "end_time": "2023-10-26T16:45:08.268123100Z",
     "start_time": "2023-10-26T16:45:06.611553200Z"
    }
   },
   "id": "5885e5cdd4835fe0"
  },
  {
   "cell_type": "code",
   "execution_count": 66,
   "outputs": [],
   "source": [
    "retail_data.createOrReplaceTempView('retailTable')"
   ],
   "metadata": {
    "collapsed": false,
    "ExecuteTime": {
     "end_time": "2023-10-26T16:47:23.207132700Z",
     "start_time": "2023-10-26T16:47:23.153468800Z"
    }
   },
   "id": "54f74d22161bc49f"
  },
  {
   "cell_type": "code",
   "execution_count": 70,
   "outputs": [
    {
     "name": "stdout",
     "output_type": "stream",
     "text": [
      "+--------------+----+\n",
      "|       Country|szam|\n",
      "+--------------+----+\n",
      "|United Kingdom|3950|\n",
      "+--------------+----+\n"
     ]
    }
   ],
   "source": [
    "spark.sql('''\n",
    "SELECT Country, count(DISTINCT CUSTOMERID) as szam FROM retailTable GROUP BY Country ORDER BY szam DESC LIMIT 1\n",
    "''').show()"
   ],
   "metadata": {
    "collapsed": false,
    "ExecuteTime": {
     "end_time": "2023-10-26T16:47:56.594394400Z",
     "start_time": "2023-10-26T16:47:55.490604700Z"
    }
   },
   "id": "d95b40c152f9bdee"
  },
  {
   "cell_type": "markdown",
   "source": [
    "Adjuk meg azt az 5 országot, amelyekből a legtöbb bevétel származik!"
   ],
   "metadata": {
    "collapsed": false
   },
   "id": "7d9228a687247782"
  },
  {
   "cell_type": "markdown",
   "source": [],
   "metadata": {
    "collapsed": false
   },
   "id": "e9fe473d98964eb7"
  },
  {
   "cell_type": "code",
   "execution_count": 73,
   "outputs": [
    {
     "name": "stdout",
     "output_type": "stream",
     "text": [
      "+--------------+------------------+\n",
      "|       Country|               bev|\n",
      "+--------------+------------------+\n",
      "|United Kingdom| 8208343.204000185|\n",
      "|   Netherlands|284661.54000000004|\n",
      "|          EIRE|263276.82000000024|\n",
      "|       Germany| 221698.2099999999|\n",
      "|        France| 197463.5900000001|\n",
      "+--------------+------------------+\n"
     ]
    }
   ],
   "source": [
    "spark.sql('''\n",
    "SELECT Country, sum(QUANTITY * UNITPRICE) as bev FROM retailTable GROUP BY Country ORDER BY bev DESC LIMIT 5\n",
    "''').show()"
   ],
   "metadata": {
    "collapsed": false,
    "ExecuteTime": {
     "end_time": "2023-10-26T16:50:24.226496800Z",
     "start_time": "2023-10-26T16:50:23.628180500Z"
    }
   },
   "id": "cfb62d2d53eb55ec"
  },
  {
   "cell_type": "markdown",
   "source": [
    "Melyik termék termelte a legnagyobb bevételt?"
   ],
   "metadata": {
    "collapsed": false
   },
   "id": "a4354e52f746d449"
  },
  {
   "cell_type": "code",
   "execution_count": 76,
   "outputs": [
    {
     "name": "stdout",
     "output_type": "stream",
     "text": [
      "+---------+--------------+------------------+\n",
      "|STOCKCODE|   DESCRIPTION|               bev|\n",
      "+---------+--------------+------------------+\n",
      "|      DOT|DOTCOM POSTAGE|206245.47999999998|\n",
      "+---------+--------------+------------------+\n"
     ]
    }
   ],
   "source": [
    "spark.sql('''\n",
    "SELECT STOCKCODE, DESCRIPTION, sum(QUANTITY * UNITPRICE) as bev FROM retailTable GROUP BY STOCKCODE, DESCRIPTION ORDER BY bev DESC LIMIT 1\n",
    "''').show()"
   ],
   "metadata": {
    "collapsed": false,
    "ExecuteTime": {
     "end_time": "2023-10-26T16:54:34.687153500Z",
     "start_time": "2023-10-26T16:54:33.456123Z"
    }
   },
   "id": "1b05914a23d1b3fc"
  },
  {
   "cell_type": "markdown",
   "source": [
    "Melyik a legnépszerűbb termék?"
   ],
   "metadata": {
    "collapsed": false
   },
   "id": "1162bfc8d72dc982"
  },
  {
   "cell_type": "code",
   "execution_count": 77,
   "outputs": [
    {
     "name": "stdout",
     "output_type": "stream",
     "text": [
      "+---------+--------------------+-----+\n",
      "|STOCKCODE|         DESCRIPTION|darab|\n",
      "+---------+--------------------+-----+\n",
      "|    84077|WORLD WAR 2 GLIDE...|53847|\n",
      "+---------+--------------------+-----+\n"
     ]
    }
   ],
   "source": [
    "spark.sql('''\n",
    "SELECT STOCKCODE, DESCRIPTION, sum(QUANTITY) as darab FROM retailTable GROUP BY STOCKCODE, DESCRIPTION ORDER BY darab DESC LIMIT 1\n",
    "''').show()"
   ],
   "metadata": {
    "collapsed": false,
    "ExecuteTime": {
     "end_time": "2023-10-26T16:55:29.547127300Z",
     "start_time": "2023-10-26T16:55:28.092083400Z"
    }
   },
   "id": "2c923e234b84f3c7"
  },
  {
   "cell_type": "markdown",
   "source": [
    "Átlagosan hány különböző terméket vesz egy vásárló egy vásárlás során?"
   ],
   "metadata": {
    "collapsed": false
   },
   "id": "a06fbc12423029b4"
  },
  {
   "cell_type": "code",
   "execution_count": 84,
   "outputs": [
    {
     "name": "stdout",
     "output_type": "stream",
     "text": [
      "+------------------+\n",
      "|        avg(darab)|\n",
      "+------------------+\n",
      "|20.514131274131273|\n",
      "+------------------+\n"
     ]
    }
   ],
   "source": [
    "spark.sql('''\n",
    "SELECT AVG(darab) FROM (SELECT CUSTOMERID, COUNT(DISTINCT STOCKCODE) darab FROM retailTable GROUP BY CUSTOMERID, INVOICENO)\n",
    "''').show()"
   ],
   "metadata": {
    "collapsed": false,
    "ExecuteTime": {
     "end_time": "2023-10-26T16:59:12.317464400Z",
     "start_time": "2023-10-26T16:59:10.484539600Z"
    }
   },
   "id": "54c3557917d55e11"
  },
  {
   "cell_type": "markdown",
   "source": [
    "Melyik tranzakció során vásárolták a legtöbb különböző terméket és hányat?"
   ],
   "metadata": {
    "collapsed": false
   },
   "id": "f4e660ecbd6c0010"
  },
  {
   "cell_type": "markdown",
   "source": [],
   "metadata": {
    "collapsed": false
   },
   "id": "111772a80a05d010"
  },
  {
   "cell_type": "code",
   "execution_count": 87,
   "outputs": [
    {
     "name": "stdout",
     "output_type": "stream",
     "text": [
      "+---------+-----+\n",
      "|INVOICENO|darab|\n",
      "+---------+-----+\n",
      "|   573585| 1110|\n",
      "+---------+-----+\n"
     ]
    }
   ],
   "source": [
    "spark.sql('''\n",
    "SELECT INVOICENO, COUNT(DISTINCT STOCKCODE) darab FROM retailTable GROUP BY INVOICENO ORDER BY darab DESC LIMIT 1\n",
    "''').show()"
   ],
   "metadata": {
    "collapsed": false,
    "ExecuteTime": {
     "end_time": "2023-10-26T17:01:26.629739Z",
     "start_time": "2023-10-26T17:01:25.033127Z"
    }
   },
   "id": "6ab67d51ca66d9f3"
  }
 ],
 "metadata": {
  "kernelspec": {
   "display_name": "Python 3",
   "language": "python",
   "name": "python3"
  },
  "language_info": {
   "codemirror_mode": {
    "name": "ipython",
    "version": 2
   },
   "file_extension": ".py",
   "mimetype": "text/x-python",
   "name": "python",
   "nbconvert_exporter": "python",
   "pygments_lexer": "ipython2",
   "version": "2.7.6"
  }
 },
 "nbformat": 4,
 "nbformat_minor": 5
}
