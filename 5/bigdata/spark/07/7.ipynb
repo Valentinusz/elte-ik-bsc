{
 "cells": [
  {
   "cell_type": "markdown",
   "id": "8d7bcace688ddc10",
   "metadata": {
    "collapsed": false
   },
   "source": [
    "# DataFrame API\n",
    "\n",
    "Inicializcáió kicsit megváltozik:"
   ]
  },
  {
   "cell_type": "code",
   "execution_count": 1,
   "id": "f756bc5b06485069",
   "metadata": {
    "ExecuteTime": {
     "end_time": "2023-11-04T19:25:46.052278200Z",
     "start_time": "2023-11-04T19:25:40.970783Z"
    },
    "collapsed": false
   },
   "outputs": [],
   "source": [
    "from pyspark.sql import  *\n",
    "from pyspark.sql.functions import *\n",
    "\n",
    "spark = SparkSession.builder.getOrCreate()"
   ]
  },
  {
   "cell_type": "markdown",
   "id": "c654bc163b9ea61f",
   "metadata": {
    "collapsed": false
   },
   "source": [
    "Több fájlformátumból is létrehozható DataFrame."
   ]
  },
  {
   "cell_type": "code",
   "execution_count": 2,
   "id": "93b0dd63e754fff2",
   "metadata": {
    "ExecuteTime": {
     "end_time": "2023-11-04T19:26:00.258775900Z",
     "start_time": "2023-11-04T19:25:55.345710600Z"
    },
    "collapsed": false
   },
   "outputs": [
    {
     "data": {
      "text/plain": [
       "DataFrame[_c0: string, _c1: string, _c2: string, _c3: string, _c4: string, _c5: string, _c6: string, _c7: string]"
      ]
     },
     "execution_count": 2,
     "metadata": {},
     "output_type": "execute_result"
    }
   ],
   "source": [
    "df = spark.read.format('csv').load('dolgozo.csv')\n",
    "# vagy spark.read.csv('dolgozo.csv')\n",
    "df"
   ]
  },
  {
   "cell_type": "markdown",
   "id": "6c80c0b789e97987",
   "metadata": {
    "collapsed": false
   },
   "source": [
    "A DataFrame táblázatosan kiiratható a `show()` metódussal."
   ]
  },
  {
   "cell_type": "code",
   "execution_count": 3,
   "id": "6f97bf841739313c",
   "metadata": {
    "ExecuteTime": {
     "end_time": "2023-11-04T19:26:02.363592200Z",
     "start_time": "2023-11-04T19:26:02.083353200Z"
    },
    "collapsed": false
   },
   "outputs": [
    {
     "name": "stdout",
     "output_type": "stream",
     "text": [
      "+----+------+-----------+------+---------+-------+-------+-----+\n",
      "| _c0|   _c1|        _c2|   _c3|      _c4|    _c5|    _c6|  _c7|\n",
      "+----+------+-----------+------+---------+-------+-------+-----+\n",
      "|DKOD|  DNEV|FOGLALKOZAS|FONOKE|  BELEPES|FIZETES|JUTALEK|OAZON|\n",
      "|7839|  KING|  PRESIDENT|  0000|81-NOV-17|   5000|      0|   10|\n",
      "|7698| BLAKE|    MANAGER| 783d9|81-MAY-01|   2850|      0|   30|\n",
      "|7782| CLARK|    MANAGER|  7839|81-JUN-09|   2450|      0|   10|\n",
      "|7566| JONES|    MANAGER|  7839|81-APR-02|   2975|      0|   20|\n",
      "|7654|MARTIN|   SALESMAN|  7698|81-SEP-28|   1250|   1400|   30|\n",
      "|7499| ALLEN|   SALESMAN|  7698|81-FEB-20|   1600|    300|   30|\n",
      "|7844|TURNER|   SALESMAN|  7698|81-SEP-08|   1500|      0|   30|\n",
      "|7900| JAMES|      CLERK|  7698|81-DEC-03|    950|      0|   30|\n",
      "|7521|  WARD|   SALESMAN|  7698|81-FEB-22|   1250|    500|   30|\n",
      "|7902|  FORD|    ANALYST|  7566|81-DEC-03|   3000|      0|   20|\n",
      "|7369| SMITH|      CLERK|  7902|80-DEC-17|    800|      0|   20|\n",
      "|7788| SCOTT|    ANALYST|  7566|82-DEC-09|   3000|      0|   20|\n",
      "|7876| ADAMS|      CLERK|  7788|83-JAN-12|   1100|      0|   20|\n",
      "|7934|MILLER|      CLERK|  7782|82-JAN-23|   1300|      0|   10|\n",
      "|7877|  LOLA|      CLERK|  7902|81-JAN-12|    800|      0|   10|\n",
      "|7878| BLACK|       NULL|  7902|87-MAY-01|   1800|    300|   20|\n",
      "+----+------+-----------+------+---------+-------+-------+-----+\n"
     ]
    }
   ],
   "source": [
    "df.show()"
   ]
  },
  {
   "cell_type": "markdown",
   "id": "9fbff5bd0d5290c0",
   "metadata": {
    "collapsed": false
   },
   "source": [
    "CSV fájlok esetén meg kell adni, van-e fejléc sor. Ezt az option metódus meghívásával tudjuk megtenni."
   ]
  },
  {
   "cell_type": "code",
   "execution_count": 4,
   "id": "4a46016512b3240e",
   "metadata": {
    "ExecuteTime": {
     "end_time": "2023-11-04T19:26:07.710925Z",
     "start_time": "2023-11-04T19:26:07.516281800Z"
    },
    "collapsed": false
   },
   "outputs": [],
   "source": [
    "df = spark.read.option('header', True).csv('dolgozo.csv')"
   ]
  },
  {
   "cell_type": "code",
   "execution_count": 5,
   "id": "e7edbb2a16db6497",
   "metadata": {
    "ExecuteTime": {
     "end_time": "2023-11-04T19:26:08.697857800Z",
     "start_time": "2023-11-04T19:26:08.578353100Z"
    },
    "collapsed": false
   },
   "outputs": [
    {
     "name": "stdout",
     "output_type": "stream",
     "text": [
      "+----+------+-----------+------+---------+-------+-------+-----+\n",
      "|DKOD|  DNEV|FOGLALKOZAS|FONOKE|  BELEPES|FIZETES|JUTALEK|OAZON|\n",
      "+----+------+-----------+------+---------+-------+-------+-----+\n",
      "|7839|  KING|  PRESIDENT|  0000|81-NOV-17|   5000|      0|   10|\n",
      "|7698| BLAKE|    MANAGER| 783d9|81-MAY-01|   2850|      0|   30|\n",
      "|7782| CLARK|    MANAGER|  7839|81-JUN-09|   2450|      0|   10|\n",
      "|7566| JONES|    MANAGER|  7839|81-APR-02|   2975|      0|   20|\n",
      "|7654|MARTIN|   SALESMAN|  7698|81-SEP-28|   1250|   1400|   30|\n",
      "|7499| ALLEN|   SALESMAN|  7698|81-FEB-20|   1600|    300|   30|\n",
      "|7844|TURNER|   SALESMAN|  7698|81-SEP-08|   1500|      0|   30|\n",
      "|7900| JAMES|      CLERK|  7698|81-DEC-03|    950|      0|   30|\n",
      "|7521|  WARD|   SALESMAN|  7698|81-FEB-22|   1250|    500|   30|\n",
      "|7902|  FORD|    ANALYST|  7566|81-DEC-03|   3000|      0|   20|\n",
      "|7369| SMITH|      CLERK|  7902|80-DEC-17|    800|      0|   20|\n",
      "|7788| SCOTT|    ANALYST|  7566|82-DEC-09|   3000|      0|   20|\n",
      "|7876| ADAMS|      CLERK|  7788|83-JAN-12|   1100|      0|   20|\n",
      "|7934|MILLER|      CLERK|  7782|82-JAN-23|   1300|      0|   10|\n",
      "|7877|  LOLA|      CLERK|  7902|81-JAN-12|    800|      0|   10|\n",
      "|7878| BLACK|       NULL|  7902|87-MAY-01|   1800|    300|   20|\n",
      "+----+------+-----------+------+---------+-------+-------+-----+\n"
     ]
    }
   ],
   "source": [
    "df.show()"
   ]
  },
  {
   "cell_type": "markdown",
   "id": "b745ced31121ad39",
   "metadata": {
    "collapsed": false
   },
   "source": [
    "A DataFrame oszlopokból áll ezek neveit, típusait és az egyes oszlopokra vonatkozó korlátozásokat sémának nevezzük. A séma kiírható a következő módon:"
   ]
  },
  {
   "cell_type": "code",
   "execution_count": 13,
   "id": "875a620bc6d351c4",
   "metadata": {
    "ExecuteTime": {
     "end_time": "2023-10-26T15:59:40.680360100Z",
     "start_time": "2023-10-26T15:59:40.641324400Z"
    },
    "collapsed": false
   },
   "outputs": [
    {
     "name": "stdout",
     "output_type": "stream",
     "text": [
      "root\n",
      " |-- DKOD: string (nullable = true)\n",
      " |-- DNEV: string (nullable = true)\n",
      " |-- FOGLALKOZAS: string (nullable = true)\n",
      " |-- FONOKE: string (nullable = true)\n",
      " |-- BELEPES: string (nullable = true)\n",
      " |-- FIZETES: string (nullable = true)\n",
      " |-- JUTALEK: string (nullable = true)\n",
      " |-- OAZON: string (nullable = true)\n"
     ]
    }
   ],
   "source": [
    "df.printSchema()"
   ]
  },
  {
   "cell_type": "markdown",
   "id": "ae70a71a20ebefa2",
   "metadata": {
    "collapsed": false
   },
   "source": [
    "## Sémakikövetkezetetés\n",
    "\n",
    "A sémakikövetkezés az inferSchema opció True paraméteres megadásával bekapcsolható. Ennek hatására a Spark az egyes értékek parse-olhatósága alapján állítja be a típusokat."
   ]
  },
  {
   "cell_type": "code",
   "execution_count": 6,
   "id": "b0af5dce9c7acc0f",
   "metadata": {
    "ExecuteTime": {
     "end_time": "2023-11-04T19:28:17.839888Z",
     "start_time": "2023-11-04T19:28:17.509119600Z"
    },
    "collapsed": false
   },
   "outputs": [],
   "source": [
    "df = spark.read.format('csv')\\\n",
    "    .option('header', True)\\\n",
    "    .option('inferSchema', True)\\\n",
    "    .load('dolgozo.csv')"
   ]
  },
  {
   "cell_type": "code",
   "execution_count": 8,
   "id": "16bd78fe0f78bc4e",
   "metadata": {
    "ExecuteTime": {
     "end_time": "2023-11-04T19:29:32.839555700Z",
     "start_time": "2023-11-04T19:29:32.830138700Z"
    },
    "collapsed": false
   },
   "outputs": [
    {
     "name": "stdout",
     "output_type": "stream",
     "text": [
      "root\n",
      " |-- DKOD: integer (nullable = true)\n",
      " |-- DNEV: string (nullable = true)\n",
      " |-- FOGLALKOZAS: string (nullable = true)\n",
      " |-- FONOKE: string (nullable = true)\n",
      " |-- BELEPES: string (nullable = true)\n",
      " |-- FIZETES: integer (nullable = true)\n",
      " |-- JUTALEK: integer (nullable = true)\n",
      " |-- OAZON: integer (nullable = true)\n"
     ]
    }
   ],
   "source": [
    "df.printSchema()"
   ]
  },
  {
   "cell_type": "markdown",
   "id": "bd2b564b8a816827",
   "metadata": {
    "collapsed": false
   },
   "source": [
    "## Manuális sémamegadás\n",
    "`pyspark.sql.types` csomagban található objektumok segítségével történik."
   ]
  },
  {
   "cell_type": "code",
   "execution_count": 9,
   "id": "1aa94f80b009b40",
   "metadata": {
    "ExecuteTime": {
     "end_time": "2023-11-04T19:30:21.503388600Z",
     "start_time": "2023-11-04T19:30:21.464927Z"
    },
    "collapsed": false
   },
   "outputs": [],
   "source": [
    "from pyspark.sql.types import StringType,StructType, StructField, IntegerType\n",
    "\n",
    "dolgozoSchema = StructType([\n",
    "    StructField('DKOD', IntegerType()),\n",
    "    StructField('DNEV', StringType()),\n",
    "    StructField('FOGLALKOZAS', StringType()),\n",
    "    StructField('FONOKE', IntegerType()),\n",
    "    StructField('BELEPES', StringType()),\n",
    "    StructField('FIZETES', IntegerType()),\n",
    "    StructField('JUTALEK', IntegerType()),\n",
    "    StructField('OAZON', IntegerType()),\n",
    "])"
   ]
  },
  {
   "cell_type": "code",
   "execution_count": 10,
   "id": "9230660d47574053",
   "metadata": {
    "ExecuteTime": {
     "end_time": "2023-11-04T19:30:22.333267900Z",
     "start_time": "2023-11-04T19:30:22.243946Z"
    },
    "collapsed": false
   },
   "outputs": [
    {
     "name": "stdout",
     "output_type": "stream",
     "text": [
      "root\n",
      " |-- DKOD: integer (nullable = true)\n",
      " |-- DNEV: string (nullable = true)\n",
      " |-- FOGLALKOZAS: string (nullable = true)\n",
      " |-- FONOKE: integer (nullable = true)\n",
      " |-- BELEPES: string (nullable = true)\n",
      " |-- FIZETES: integer (nullable = true)\n",
      " |-- JUTALEK: integer (nullable = true)\n",
      " |-- OAZON: integer (nullable = true)\n"
     ]
    }
   ],
   "source": [
    "df = spark.read.schema(dolgozoSchema).option('header', True).csv('dolgozo.csv')\n",
    "df.printSchema()"
   ]
  },
  {
   "cell_type": "markdown",
   "id": "e0ce2741b1618e20",
   "metadata": {
    "collapsed": false
   },
   "source": [
    "## Műveletek\n",
    "A műveletek többnyire az SQL-ből ismert műveletek.\n",
    "\n",
    "Az oszlopokra több módon is tudunk hivatkozni. Sok műveleten esetén elég az oszlop nevét stringgként megadni. Lehetőségünk van a dataframe adattagjaként is elérni őket. Ugyan erre a célre szolgál a `col()` függvény is (ennek akkor van értelme ha pusztán az oszlopnevet tartalmazó literálból kontextusából nem következtethető ki, hogy oszlopra akarunk referálni)."
   ]
  },
  {
   "cell_type": "code",
   "execution_count": 12,
   "id": "25585f984fb52bd3",
   "metadata": {
    "ExecuteTime": {
     "end_time": "2023-11-04T19:35:21.047549900Z",
     "start_time": "2023-11-04T19:35:20.831112700Z"
    },
    "collapsed": false
   },
   "outputs": [
    {
     "name": "stdout",
     "output_type": "stream",
     "text": [
      "+------+-------+-----------+-----+\n",
      "|  DNEV|FIZETES|FOGLALKOZAS|OAZON|\n",
      "+------+-------+-----------+-----+\n",
      "|  KING|   5000|  PRESIDENT|   10|\n",
      "| BLAKE|   2850|    MANAGER|   30|\n",
      "| CLARK|   2450|    MANAGER|   10|\n",
      "| JONES|   2975|    MANAGER|   20|\n",
      "|MARTIN|   1250|   SALESMAN|   30|\n",
      "| ALLEN|   1600|   SALESMAN|   30|\n",
      "|TURNER|   1500|   SALESMAN|   30|\n",
      "| JAMES|    950|      CLERK|   30|\n",
      "|  WARD|   1250|   SALESMAN|   30|\n",
      "|  FORD|   3000|    ANALYST|   20|\n",
      "| SMITH|    800|      CLERK|   20|\n",
      "| SCOTT|   3000|    ANALYST|   20|\n",
      "| ADAMS|   1100|      CLERK|   20|\n",
      "|MILLER|   1300|      CLERK|   10|\n",
      "|  LOLA|    800|      CLERK|   10|\n",
      "| BLACK|   1800|       NULL|   20|\n",
      "+------+-------+-----------+-----+\n"
     ]
    }
   ],
   "source": [
    "df.select('DNEV', df.FIZETES, df['FOGLALKOZAS'], col('OAZON')).show()"
   ]
  },
  {
   "cell_type": "markdown",
   "id": "203a46abb47977d9",
   "metadata": {
    "collapsed": false
   },
   "source": [
    "A vetítés során tudunk új oszlopokat is bevezetni. (megjegyzés: itt nem tudunk az oszlopnevekre csak mint string literál hivatkozni)"
   ]
  },
  {
   "cell_type": "code",
   "execution_count": 13,
   "id": "1f395a8bf786fabe",
   "metadata": {
    "ExecuteTime": {
     "end_time": "2023-11-04T19:39:25.731455600Z",
     "start_time": "2023-11-04T19:39:25.593918800Z"
    },
    "collapsed": false
   },
   "outputs": [
    {
     "name": "stdout",
     "output_type": "stream",
     "text": [
      "+------+-------+\n",
      "|  DNEV|KERESET|\n",
      "+------+-------+\n",
      "|  KING|  60000|\n",
      "| BLAKE|  34200|\n",
      "| CLARK|  29400|\n",
      "| JONES|  35700|\n",
      "|MARTIN|  31800|\n",
      "| ALLEN|  22800|\n",
      "|TURNER|  18000|\n",
      "| JAMES|  11400|\n",
      "|  WARD|  21000|\n",
      "|  FORD|  36000|\n",
      "| SMITH|   9600|\n",
      "| SCOTT|  36000|\n",
      "| ADAMS|  13200|\n",
      "|MILLER|  15600|\n",
      "|  LOLA|   9600|\n",
      "| BLACK|  25200|\n",
      "+------+-------+\n"
     ]
    }
   ],
   "source": [
    "df.select(df.DNEV, (12 * df.FIZETES + 12 * df.JUTALEK).alias('KERESET')).show()"
   ]
  },
  {
   "cell_type": "markdown",
   "id": "12f225f5381a355b",
   "metadata": {
    "collapsed": false
   },
   "source": [
    "Mint SQL-ben a `*` minden oszlopot kiválaszt."
   ]
  },
  {
   "cell_type": "code",
   "execution_count": 14,
   "id": "7bb84825d259b679",
   "metadata": {
    "ExecuteTime": {
     "end_time": "2023-11-04T19:40:31.523042800Z",
     "start_time": "2023-11-04T19:40:31.392885600Z"
    },
    "collapsed": false
   },
   "outputs": [
    {
     "name": "stdout",
     "output_type": "stream",
     "text": [
      "+----+------+-----------+------+---------+-------+-------+-----+\n",
      "|DKOD|  DNEV|FOGLALKOZAS|FONOKE|  BELEPES|FIZETES|JUTALEK|OAZON|\n",
      "+----+------+-----------+------+---------+-------+-------+-----+\n",
      "|7839|  KING|  PRESIDENT|     0|81-NOV-17|   5000|      0|   10|\n",
      "|7698| BLAKE|    MANAGER|  NULL|81-MAY-01|   2850|      0|   30|\n",
      "|7782| CLARK|    MANAGER|  7839|81-JUN-09|   2450|      0|   10|\n",
      "|7566| JONES|    MANAGER|  7839|81-APR-02|   2975|      0|   20|\n",
      "|7654|MARTIN|   SALESMAN|  7698|81-SEP-28|   1250|   1400|   30|\n",
      "+----+------+-----------+------+---------+-------+-------+-----+\n"
     ]
    }
   ],
   "source": [
    "df.select('*').show(5)"
   ]
  },
  {
   "cell_type": "markdown",
   "id": "969d54a9cf25ee80",
   "metadata": {
    "collapsed": false
   },
   "source": [
    "Tudunk SQL kifejezés alapján is vetíteni, erről bővebben az `SQL.ipyn` fájlban van szó."
   ]
  },
  {
   "cell_type": "code",
   "execution_count": 15,
   "id": "b954566d35a0f635",
   "metadata": {
    "ExecuteTime": {
     "end_time": "2023-11-04T19:41:20.246398900Z",
     "start_time": "2023-11-04T19:41:20.065740500Z"
    },
    "collapsed": false
   },
   "outputs": [
    {
     "name": "stdout",
     "output_type": "stream",
     "text": [
      "+----+------+-----------+------+---------+-------+-------+-----+-------+\n",
      "|DKOD|  DNEV|FOGLALKOZAS|FONOKE|  BELEPES|FIZETES|JUTALEK|OAZON|KERESET|\n",
      "+----+------+-----------+------+---------+-------+-------+-----+-------+\n",
      "|7839|  KING|  PRESIDENT|     0|81-NOV-17|   5000|      0|   10|   5000|\n",
      "|7698| BLAKE|    MANAGER|  NULL|81-MAY-01|   2850|      0|   30|   2850|\n",
      "|7782| CLARK|    MANAGER|  7839|81-JUN-09|   2450|      0|   10|   2450|\n",
      "|7566| JONES|    MANAGER|  7839|81-APR-02|   2975|      0|   20|   2975|\n",
      "|7654|MARTIN|   SALESMAN|  7698|81-SEP-28|   1250|   1400|   30|   2650|\n",
      "+----+------+-----------+------+---------+-------+-------+-----+-------+\n"
     ]
    }
   ],
   "source": [
    "df.selectExpr('*', '(FIZETES + JUTALEK) as KERESET').show(5)"
   ]
  },
  {
   "cell_type": "code",
   "execution_count": 16,
   "id": "9a4ff33bd7a8918a",
   "metadata": {
    "ExecuteTime": {
     "end_time": "2023-11-04T19:41:26.678895600Z",
     "start_time": "2023-11-04T19:41:25.747420100Z"
    },
    "collapsed": false
   },
   "outputs": [
    {
     "name": "stdout",
     "output_type": "stream",
     "text": [
      "+------------+---------------------------+\n",
      "|avg(FIZETES)|count(DISTINCT FOGLALKOZAS)|\n",
      "+------------+---------------------------+\n",
      "|   1976.5625|                          5|\n",
      "+------------+---------------------------+\n"
     ]
    }
   ],
   "source": [
    "df.selectExpr('avg(FIZETES)', 'count(distinct FOGLALKOZAS)').show()"
   ]
  },
  {
   "cell_type": "markdown",
   "id": "498f90af502ed823",
   "metadata": {
    "collapsed": false
   },
   "source": [
    "Ha jobban kedveljük a programozott megoldást, akkor ugyan úgy elérhető művelet minden SQL DQL utasításra.\n",
    "\n",
    "Ez például egy másik mód az új oszlop felvételére. Az `expr()` függvény paramétereként megadott utasítás SQL-ként fog értelmezésre kerülni."
   ]
  },
  {
   "cell_type": "code",
   "execution_count": 17,
   "id": "20adf9f2f8be594e",
   "metadata": {
    "ExecuteTime": {
     "end_time": "2023-11-04T19:43:29.435875200Z",
     "start_time": "2023-11-04T19:43:29.314599Z"
    },
    "collapsed": false
   },
   "outputs": [
    {
     "name": "stdout",
     "output_type": "stream",
     "text": [
      "+----+-----+-----------+------+---------+-------+-------+-----+-------+\n",
      "|DKOD| DNEV|FOGLALKOZAS|FONOKE|  BELEPES|FIZETES|JUTALEK|OAZON|KERESET|\n",
      "+----+-----+-----------+------+---------+-------+-------+-----+-------+\n",
      "|7839| KING|  PRESIDENT|     0|81-NOV-17|   5000|      0|   10|   5000|\n",
      "|7698|BLAKE|    MANAGER|  NULL|81-MAY-01|   2850|      0|   30|   2850|\n",
      "|7782|CLARK|    MANAGER|  7839|81-JUN-09|   2450|      0|   10|   2450|\n",
      "|7566|JONES|    MANAGER|  7839|81-APR-02|   2975|      0|   20|   2975|\n",
      "+----+-----+-----------+------+---------+-------+-------+-----+-------+\n"
     ]
    }
   ],
   "source": [
    "df.withColumn('KERESET', expr('FIZETES + JUTALEK')).show(4)"
   ]
  },
  {
   "cell_type": "markdown",
   "id": "27e069d6a46cd3a4",
   "metadata": {
    "collapsed": false
   },
   "source": [
    "Ezek a megoldások szinte mindig ekvivalens végrehajtási terveket eredményeznek. Két DataFrame lekérdezés ekvivalens ha a végrehajtási terveik megegyeznek, amit a `sameSemantics(dataframe)` metódussal tudunk ellenőrizni."
   ]
  },
  {
   "cell_type": "code",
   "execution_count": 18,
   "id": "fdd18638ebfcdb62",
   "metadata": {
    "ExecuteTime": {
     "end_time": "2023-11-04T19:44:52.064305400Z",
     "start_time": "2023-11-04T19:44:52.004395200Z"
    },
    "collapsed": false
   },
   "outputs": [
    {
     "data": {
      "text/plain": [
       "True"
      ]
     },
     "execution_count": 18,
     "metadata": {},
     "output_type": "execute_result"
    }
   ],
   "source": [
    "df.withColumn('KERESET', df.FIZETES + df.JUTALEK).sameSemantics(\n",
    "    df.withColumn('KERESET', expr('FIZETES + JUTALEK'))\n",
    ")"
   ]
  },
  {
   "cell_type": "markdown",
   "id": "34c62f6864d67bf6",
   "metadata": {
    "collapsed": false
   },
   "source": [
    "Magát a lekérdezési tervet is le tudjuk kérni:"
   ]
  },
  {
   "cell_type": "code",
   "execution_count": 19,
   "id": "6f38c81003b205ce",
   "metadata": {
    "ExecuteTime": {
     "end_time": "2023-11-04T19:50:43.496812Z",
     "start_time": "2023-11-04T19:50:43.440237Z"
    },
    "collapsed": false
   },
   "outputs": [
    {
     "name": "stdout",
     "output_type": "stream",
     "text": [
      "== Physical Plan ==\n",
      "*(1) Project [DKOD#183, DNEV#184, FOGLALKOZAS#185, FONOKE#186, BELEPES#187, FIZETES#188, JUTALEK#189, OAZON#190, (FIZETES#188 + JUTALEK#189) AS KERESET#459]\n",
      "+- FileScan csv [DKOD#183,DNEV#184,FOGLALKOZAS#185,FONOKE#186,BELEPES#187,FIZETES#188,JUTALEK#189,OAZON#190] Batched: false, DataFilters: [], Format: CSV, Location: InMemoryFileIndex(1 paths)[file:/C:/Users/bb200/Documents/elte-ik-bsc/5/bigdata/spark/07/dolgozo...., PartitionFilters: [], PushedFilters: [], ReadSchema: struct<DKOD:int,DNEV:string,FOGLALKOZAS:string,FONOKE:int,BELEPES:string,FIZETES:int,JUTALEK:int,...\n"
     ]
    }
   ],
   "source": [
    "df.withColumn('KERESET', df.FIZETES + df.JUTALEK).explain()"
   ]
  },
  {
   "cell_type": "markdown",
   "id": "7c4621935d795b98",
   "metadata": {
    "collapsed": false
   },
   "source": [
    "Oszlopátnevezés:"
   ]
  },
  {
   "cell_type": "code",
   "execution_count": 20,
   "id": "fb03e2e155a5a508",
   "metadata": {
    "ExecuteTime": {
     "end_time": "2023-11-04T19:57:13.619267500Z",
     "start_time": "2023-11-04T19:57:13.511806Z"
    },
    "collapsed": false
   },
   "outputs": [
    {
     "name": "stdout",
     "output_type": "stream",
     "text": [
      "+----+------+-----------+------+---------+------------+-------+-----+\n",
      "|DKOD|  DNEV|FOGLALKOZAS|FONOKE|  BELEPES|HAVI_FIZETES|JUTALEK|OAZON|\n",
      "+----+------+-----------+------+---------+------------+-------+-----+\n",
      "|7839|  KING|  PRESIDENT|     0|81-NOV-17|        5000|      0|   10|\n",
      "|7698| BLAKE|    MANAGER|  NULL|81-MAY-01|        2850|      0|   30|\n",
      "|7782| CLARK|    MANAGER|  7839|81-JUN-09|        2450|      0|   10|\n",
      "|7566| JONES|    MANAGER|  7839|81-APR-02|        2975|      0|   20|\n",
      "|7654|MARTIN|   SALESMAN|  7698|81-SEP-28|        1250|   1400|   30|\n",
      "+----+------+-----------+------+---------+------------+-------+-----+\n"
     ]
    }
   ],
   "source": [
    "df.withColumnRenamed('FIZETES', 'HAVI_FIZETES').show(5)"
   ]
  },
  {
   "cell_type": "markdown",
   "id": "b397bf05bfc87020",
   "metadata": {
    "collapsed": false
   },
   "source": [
    "A `drop()` metódussal lehetőségünk van oszlopokat elhagyni."
   ]
  },
  {
   "cell_type": "code",
   "execution_count": 21,
   "id": "715c792a186890db",
   "metadata": {
    "ExecuteTime": {
     "end_time": "2023-11-04T19:58:20.735027100Z",
     "start_time": "2023-11-04T19:58:20.587943100Z"
    },
    "collapsed": false
   },
   "outputs": [
    {
     "name": "stdout",
     "output_type": "stream",
     "text": [
      "+----+-----+-----------+------+---------+-------+-------+\n",
      "|DKOD| DNEV|FOGLALKOZAS|FONOKE|  BELEPES|FIZETES|JUTALEK|\n",
      "+----+-----+-----------+------+---------+-------+-------+\n",
      "|7839| KING|  PRESIDENT|     0|81-NOV-17|   5000|      0|\n",
      "|7698|BLAKE|    MANAGER|  7839|81-MAY-01|   2850|      0|\n",
      "|7782|CLARK|    MANAGER|  7839|81-JUN-09|   2450|      0|\n",
      "|7566|JONES|    MANAGER|  7839|81-APR-02|   2975|      0|\n",
      "+----+-----+-----------+------+---------+-------+-------+\n"
     ]
    }
   ],
   "source": [
    "df.drop(df.OAZON).show(4)"
   ]
  },
  {
   "cell_type": "markdown",
   "id": "2b86217548df4fa7",
   "metadata": {
    "collapsed": false
   },
   "source": [
    "Természetesen rendelkezésre áll a szűrés művelete is:"
   ]
  },
  {
   "cell_type": "code",
   "execution_count": 22,
   "id": "ff8f9c447cb12fd2",
   "metadata": {
    "ExecuteTime": {
     "end_time": "2023-11-04T19:59:34.352766900Z",
     "start_time": "2023-11-04T19:59:34.201008500Z"
    },
    "collapsed": false
   },
   "outputs": [
    {
     "name": "stdout",
     "output_type": "stream",
     "text": [
      "+----+\n",
      "|DNEV|\n",
      "+----+\n",
      "|KING|\n",
      "+----+\n"
     ]
    }
   ],
   "source": [
    "df.where(df.FIZETES > 3000).select(df.DNEV).show(5)"
   ]
  },
  {
   "cell_type": "markdown",
   "id": "e1137e01eb245b3c",
   "metadata": {
    "collapsed": false
   },
   "source": [
    "A `where()` valójában a `filter()`-t hívja meg. Feltételeket az `&` (és), `|` (vagy), `~` (nem) logikai műveletekkel tudjuk összekapcsolni."
   ]
  },
  {
   "cell_type": "code",
   "execution_count": 27,
   "id": "4faca7bc711d7c66",
   "metadata": {
    "ExecuteTime": {
     "end_time": "2023-11-04T20:12:04.914474400Z",
     "start_time": "2023-11-04T20:12:04.827360600Z"
    },
    "collapsed": false
   },
   "outputs": [
    {
     "name": "stdout",
     "output_type": "stream",
     "text": [
      "+----+-----+-----------+------+---------+-------+-------+-----+\n",
      "|DKOD| DNEV|FOGLALKOZAS|FONOKE|  BELEPES|FIZETES|JUTALEK|OAZON|\n",
      "+----+-----+-----------+------+---------+-------+-------+-----+\n",
      "|7839| KING|  PRESIDENT|     0|81-NOV-17|   5000|      0|   10|\n",
      "|7698|BLAKE|    MANAGER|  7839|81-MAY-01|   2850|      0|   30|\n",
      "|7782|CLARK|    MANAGER|  7839|81-JUN-09|   2450|      0|   10|\n",
      "+----+-----+-----------+------+---------+-------+-------+-----+\n"
     ]
    }
   ],
   "source": [
    "df.filter((df.FIZETES > 2000) & df.OAZON != 20).show(4)"
   ]
  },
  {
   "cell_type": "markdown",
   "id": "3242ce130985a620",
   "metadata": {
    "collapsed": false
   },
   "source": [
    "Ha indokolt ajánlott a logikai összekötést használni, mert a `where()` láncolás más végrehasjtási tervet eredményez."
   ]
  },
  {
   "cell_type": "code",
   "execution_count": 41,
   "id": "12df8014a0fe4bd0",
   "metadata": {
    "collapsed": false,
    "ExecuteTime": {
     "end_time": "2023-11-04T22:59:43.254187400Z",
     "start_time": "2023-11-04T22:59:43.185262100Z"
    }
   },
   "outputs": [
    {
     "data": {
      "text/plain": "False"
     },
     "execution_count": 41,
     "metadata": {},
     "output_type": "execute_result"
    }
   ],
   "source": [
    "df.where(df.FIZETES > 2000).where(df.OAZON != 20).sameSemantics(df.where((df.FIZETES > 2000) & (df.OAZON != 20)))"
   ]
  },
  {
   "cell_type": "markdown",
   "id": "ee54a97a6530acf2",
   "metadata": {
    "collapsed": false
   },
   "source": [
    "A dataframe ismétlődéseit `distinct()` metódussal tudjuk megszüntetni. A `count()`-al pedig le tudjuk kérni a dataframe sorainak számát."
   ]
  },
  {
   "cell_type": "code",
   "execution_count": null,
   "outputs": [],
   "source": [],
   "metadata": {
    "collapsed": false
   },
   "id": "bbc02a5741c6362"
  },
  {
   "cell_type": "code",
   "execution_count": null,
   "outputs": [],
   "source": [
    "df.crosstab()"
   ],
   "metadata": {
    "collapsed": false
   },
   "id": "d5228ccd9a552154"
  },
  {
   "cell_type": "code",
   "execution_count": 31,
   "id": "dd0fa683eee6e865",
   "metadata": {
    "ExecuteTime": {
     "end_time": "2023-11-04T20:19:50.353620500Z",
     "start_time": "2023-11-04T20:19:50.085473800Z"
    },
    "collapsed": false
   },
   "outputs": [
    {
     "data": {
      "text/plain": [
       "6"
      ]
     },
     "execution_count": 31,
     "metadata": {},
     "output_type": "execute_result"
    }
   ],
   "source": [
    "df.select(df.FOGLALKOZAS).distinct().count()"
   ]
  },
  {
   "cell_type": "markdown",
   "id": "451db70a6a7441f1",
   "metadata": {
    "collapsed": false
   },
   "source": [
    "A dataframe rendezhető. Ez, hogy az adott oszlop szerint növekvő vagy csökkenő sorrend legyen az `asc()` és `desc()` hívásokkal specifikálható. A `limit()` metódussal eldobhatók a dataframe első `n` soron kívüli sorai.\n",
    "\n",
    "A `limit` és a `take`/`show` nem ekvivalensek, mivel egyedül a limit ad vissza új dataframe-et. "
   ]
  },
  {
   "cell_type": "code",
   "execution_count": 33,
   "id": "52d9835a16956993",
   "metadata": {
    "ExecuteTime": {
     "end_time": "2023-11-04T20:20:01.480024800Z",
     "start_time": "2023-11-04T20:20:01.349574Z"
    },
    "collapsed": false
   },
   "outputs": [
    {
     "name": "stdout",
     "output_type": "stream",
     "text": [
      "+----+------+-----------+------+---------+-------+-------+-----+\n",
      "|DKOD|  DNEV|FOGLALKOZAS|FONOKE|  BELEPES|FIZETES|JUTALEK|OAZON|\n",
      "+----+------+-----------+------+---------+-------+-------+-----+\n",
      "|7839|  KING|  PRESIDENT|     0|81-NOV-17|   5000|      0|   10|\n",
      "|7782| CLARK|    MANAGER|  7839|81-JUN-09|   2450|      0|   10|\n",
      "|7934|MILLER|      CLERK|  7782|82-JAN-23|   1300|      0|   10|\n",
      "|7877|  LOLA|      CLERK|  7902|81-JAN-12|    800|      0|   10|\n",
      "|7788| SCOTT|    ANALYST|  7566|82-DEC-09|   3000|      0|   20|\n",
      "+----+------+-----------+------+---------+-------+-------+-----+\n"
     ]
    }
   ],
   "source": [
    "df.orderBy(df.OAZON.asc(), df.FIZETES.desc()).limit(5).show()"
   ]
  },
  {
   "cell_type": "markdown",
   "id": "952f70289321bae4",
   "metadata": {
    "collapsed": false
   },
   "source": [
    "Csoportosításra is lehetőségünk van."
   ]
  },
  {
   "cell_type": "code",
   "execution_count": 44,
   "id": "8c997319330cee05",
   "metadata": {
    "ExecuteTime": {
     "end_time": "2023-10-26T16:23:31.275200900Z",
     "start_time": "2023-10-26T16:23:30.993589600Z"
    },
    "collapsed": false
   },
   "outputs": [
    {
     "name": "stdout",
     "output_type": "stream",
     "text": [
      "+-----+-----------+-----+\n",
      "|OAZON|FOGLALKOZAS|count|\n",
      "+-----+-----------+-----+\n",
      "|   20|    ANALYST|    2|\n",
      "|   20|       NULL|    1|\n",
      "|   20|    MANAGER|    1|\n",
      "|   30|    MANAGER|    1|\n",
      "|   30|   SALESMAN|    4|\n",
      "|   30|      CLERK|    1|\n",
      "|   10|  PRESIDENT|    1|\n",
      "|   20|      CLERK|    2|\n",
      "|   10|      CLERK|    2|\n",
      "|   10|    MANAGER|    1|\n",
      "+-----+-----------+-----+\n"
     ]
    }
   ],
   "source": [
    "df.groupBy(df.OAZON, df.FOGLALKOZAS).count().show()"
   ]
  },
  {
   "cell_type": "markdown",
   "id": "846bbb84402cc18b",
   "metadata": {
    "collapsed": false
   },
   "source": [
    "A csoportokat összegezhetjük is. Ehhez az SQL-ben megismert összegző függvények is adottak (`avg`, `max`, `min`, `sum`, `count`)."
   ]
  },
  {
   "cell_type": "code",
   "execution_count": 34,
   "id": "440625929f243621",
   "metadata": {
    "ExecuteTime": {
     "end_time": "2023-11-04T20:22:50.173133800Z",
     "start_time": "2023-11-04T20:22:49.942820400Z"
    },
    "collapsed": false
   },
   "outputs": [
    {
     "name": "stdout",
     "output_type": "stream",
     "text": [
      "+-----+------------+\n",
      "|OAZON|sum(FIZETES)|\n",
      "+-----+------------+\n",
      "|   20|       12675|\n",
      "|   10|        9550|\n",
      "|   30|        9400|\n",
      "+-----+------------+\n"
     ]
    }
   ],
   "source": [
    "df.groupBy(df.OAZON).agg(sum(df.FIZETES)).alias('OSSZ').show()"
   ]
  },
  {
   "cell_type": "markdown",
   "id": "134c1af1f57f9f26",
   "metadata": {
    "collapsed": false
   },
   "source": [
    "Illetve lehetőségünk van összekapcsolni dataframe-eket."
   ]
  },
  {
   "cell_type": "code",
   "execution_count": 35,
   "id": "a80bd3e9b0c3232c",
   "metadata": {
    "ExecuteTime": {
     "end_time": "2023-11-04T20:23:38.237484400Z",
     "start_time": "2023-11-04T20:23:37.992605400Z"
    },
    "collapsed": false
   },
   "outputs": [],
   "source": [
    "osztaly_df = spark.read.option('header', True).option('inferSchema', True).csv('osztaly.csv')"
   ]
  },
  {
   "cell_type": "code",
   "execution_count": 36,
   "id": "e6f01bdbc4bc5e9e",
   "metadata": {
    "ExecuteTime": {
     "end_time": "2023-11-04T20:23:39.330625200Z",
     "start_time": "2023-11-04T20:23:39.175516500Z"
    },
    "collapsed": false
   },
   "outputs": [
    {
     "name": "stdout",
     "output_type": "stream",
     "text": [
      "+-----+----------+---------+\n",
      "|OAZON|       NEV|TELEPHELY|\n",
      "+-----+----------+---------+\n",
      "|   10|ACCOUNTING| NEW YORK|\n",
      "|   20|  RESEARCH|   DALLAS|\n",
      "|   30|     SALES|  CHICAGO|\n",
      "|   40|OPERATIONS|   BOSTON|\n",
      "+-----+----------+---------+\n"
     ]
    }
   ],
   "source": [
    "osztaly_df.show()"
   ]
  },
  {
   "cell_type": "markdown",
   "id": "db187de5cf1df68",
   "metadata": {
    "collapsed": false
   },
   "source": [
    "Az összekapcsolási feltétel a második paraméterként feltételek tömbjeként adandó meg. Egy feltétel esetén a tömb elhagyható.\n",
    "Harmadik paraméter az összekapcsolás típusa."
   ]
  },
  {
   "cell_type": "code",
   "execution_count": 37,
   "id": "6d6f16c25bd38ba4",
   "metadata": {
    "ExecuteTime": {
     "end_time": "2023-11-04T20:26:02.008369300Z",
     "start_time": "2023-11-04T20:26:01.689174Z"
    },
    "collapsed": false
   },
   "outputs": [
    {
     "name": "stdout",
     "output_type": "stream",
     "text": [
      "+----+------+-----------+------+---------+-------+-------+-----+-----+----------+---------+\n",
      "|DKOD|  DNEV|FOGLALKOZAS|FONOKE|  BELEPES|FIZETES|JUTALEK|OAZON|OAZON|       NEV|TELEPHELY|\n",
      "+----+------+-----------+------+---------+-------+-------+-----+-----+----------+---------+\n",
      "|7839|  KING|  PRESIDENT|     0|81-NOV-17|   5000|      0|   10|   10|ACCOUNTING| NEW YORK|\n",
      "|7698| BLAKE|    MANAGER|  7839|81-MAY-01|   2850|      0|   30|   30|     SALES|  CHICAGO|\n",
      "|7782| CLARK|    MANAGER|  7839|81-JUN-09|   2450|      0|   10|   10|ACCOUNTING| NEW YORK|\n",
      "|7566| JONES|    MANAGER|  7839|81-APR-02|   2975|      0|   20|   20|  RESEARCH|   DALLAS|\n",
      "|7654|MARTIN|   SALESMAN|  7698|81-SEP-28|   1250|   1400|   30|   30|     SALES|  CHICAGO|\n",
      "|7499| ALLEN|   SALESMAN|  7698|81-FEB-20|   1600|    300|   30|   30|     SALES|  CHICAGO|\n",
      "|7844|TURNER|   SALESMAN|  7698|81-SEP-08|   1500|      0|   30|   30|     SALES|  CHICAGO|\n",
      "|7900| JAMES|      CLERK|  7698|81-DEC-03|    950|      0|   30|   30|     SALES|  CHICAGO|\n",
      "|7521|  WARD|   SALESMAN|  7698|81-FEB-22|   1250|    500|   30|   30|     SALES|  CHICAGO|\n",
      "|7902|  FORD|    ANALYST|  7566|81-DEC-03|   3000|      0|   20|   20|  RESEARCH|   DALLAS|\n",
      "|7369| SMITH|      CLERK|  7902|80-DEC-17|    800|      0|   20|   20|  RESEARCH|   DALLAS|\n",
      "|7788| SCOTT|    ANALYST|  7566|82-DEC-09|   3000|      0|   20|   20|  RESEARCH|   DALLAS|\n",
      "|7876| ADAMS|      CLERK|  7788|83-JAN-12|   1100|      0|   20|   20|  RESEARCH|   DALLAS|\n",
      "|7934|MILLER|      CLERK|  7782|82-JAN-23|   1300|      0|   10|   10|ACCOUNTING| NEW YORK|\n",
      "|7877|  LOLA|      CLERK|  7902|81-JAN-12|    800|      0|   10|   10|ACCOUNTING| NEW YORK|\n",
      "|7878| BLACK|       NULL|  7902|87-MAY-01|   1800|    300|   20|   20|  RESEARCH|   DALLAS|\n",
      "+----+------+-----------+------+---------+-------+-------+-----+-----+----------+---------+\n"
     ]
    }
   ],
   "source": [
    "df.join(osztaly_df, df.OAZON == osztaly_df.OAZON, 'inner').show()"
   ]
  },
  {
   "cell_type": "markdown",
   "id": "937a67ff963ad6e4",
   "metadata": {
    "collapsed": false
   },
   "source": [
    "A természetes összekapcsoláshoz elég csak az oszlop nevét megadni."
   ]
  },
  {
   "cell_type": "code",
   "execution_count": 38,
   "id": "4593a8327d6a6537",
   "metadata": {
    "ExecuteTime": {
     "end_time": "2023-11-04T20:27:33.779564500Z",
     "start_time": "2023-11-04T20:27:33.619368100Z"
    },
    "collapsed": false
   },
   "outputs": [
    {
     "name": "stdout",
     "output_type": "stream",
     "text": [
      "+-----+----+------+-----------+------+---------+-------+-------+----------+---------+\n",
      "|OAZON|DKOD|  DNEV|FOGLALKOZAS|FONOKE|  BELEPES|FIZETES|JUTALEK|       NEV|TELEPHELY|\n",
      "+-----+----+------+-----------+------+---------+-------+-------+----------+---------+\n",
      "|   10|7839|  KING|  PRESIDENT|     0|81-NOV-17|   5000|      0|ACCOUNTING| NEW YORK|\n",
      "|   30|7698| BLAKE|    MANAGER|  7839|81-MAY-01|   2850|      0|     SALES|  CHICAGO|\n",
      "|   10|7782| CLARK|    MANAGER|  7839|81-JUN-09|   2450|      0|ACCOUNTING| NEW YORK|\n",
      "|   20|7566| JONES|    MANAGER|  7839|81-APR-02|   2975|      0|  RESEARCH|   DALLAS|\n",
      "|   30|7654|MARTIN|   SALESMAN|  7698|81-SEP-28|   1250|   1400|     SALES|  CHICAGO|\n",
      "|   30|7499| ALLEN|   SALESMAN|  7698|81-FEB-20|   1600|    300|     SALES|  CHICAGO|\n",
      "|   30|7844|TURNER|   SALESMAN|  7698|81-SEP-08|   1500|      0|     SALES|  CHICAGO|\n",
      "|   30|7900| JAMES|      CLERK|  7698|81-DEC-03|    950|      0|     SALES|  CHICAGO|\n",
      "|   30|7521|  WARD|   SALESMAN|  7698|81-FEB-22|   1250|    500|     SALES|  CHICAGO|\n",
      "|   20|7902|  FORD|    ANALYST|  7566|81-DEC-03|   3000|      0|  RESEARCH|   DALLAS|\n",
      "|   20|7369| SMITH|      CLERK|  7902|80-DEC-17|    800|      0|  RESEARCH|   DALLAS|\n",
      "|   20|7788| SCOTT|    ANALYST|  7566|82-DEC-09|   3000|      0|  RESEARCH|   DALLAS|\n",
      "|   20|7876| ADAMS|      CLERK|  7788|83-JAN-12|   1100|      0|  RESEARCH|   DALLAS|\n",
      "|   10|7934|MILLER|      CLERK|  7782|82-JAN-23|   1300|      0|ACCOUNTING| NEW YORK|\n",
      "|   10|7877|  LOLA|      CLERK|  7902|81-JAN-12|    800|      0|ACCOUNTING| NEW YORK|\n",
      "|   20|7878| BLACK|       NULL|  7902|87-MAY-01|   1800|    300|  RESEARCH|   DALLAS|\n",
      "+-----+----+------+-----------+------+---------+-------+-------+----------+---------+\n"
     ]
    }
   ],
   "source": [
    "df.join(osztaly_df, 'OAZON').show()"
   ]
  }
 ],
 "metadata": {
  "kernelspec": {
   "display_name": "Python 3 (ipykernel)",
   "language": "python",
   "name": "python3"
  },
  "language_info": {
   "codemirror_mode": {
    "name": "ipython",
    "version": 3
   },
   "file_extension": ".py",
   "mimetype": "text/x-python",
   "name": "python",
   "nbconvert_exporter": "python",
   "pygments_lexer": "ipython3",
   "version": "3.11.5"
  }
 },
 "nbformat": 4,
 "nbformat_minor": 5
}
