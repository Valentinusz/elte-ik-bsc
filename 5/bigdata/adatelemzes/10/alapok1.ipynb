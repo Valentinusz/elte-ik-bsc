{
 "cells": [
  {
   "cell_type": "markdown",
   "source": [
    "# Adatelemzés\n",
    "\n",
    "Cél: információk kinyerése (statisztikai elemzés, gépi tanulás) az adatokból.\n",
    "\n",
    "Adatelemzés lépései:\n",
    "- tisztítás\n",
    "- modellezés\n",
    "- kiértékelés"
   ],
   "metadata": {
    "collapsed": false
   },
   "id": "7667cef59bb12ce3"
  },
  {
   "cell_type": "markdown",
   "source": [
    "## Numpy\n",
    "Hatékony csomag tudományos számítások végzésére."
   ],
   "metadata": {
    "collapsed": false
   },
   "id": "ac4855ddf2561c7a"
  },
  {
   "cell_type": "code",
   "execution_count": 3,
   "outputs": [],
   "source": [
    "import numpy as np"
   ],
   "metadata": {
    "collapsed": false,
    "ExecuteTime": {
     "end_time": "2023-11-23T17:05:06.938738500Z",
     "start_time": "2023-11-23T17:05:06.883773600Z"
    }
   },
   "id": "6bf2af86040bccab"
  },
  {
   "cell_type": "code",
   "execution_count": 6,
   "outputs": [
    {
     "data": {
      "text/plain": "array([ 5,  8, 11, 14, 17])"
     },
     "execution_count": 6,
     "metadata": {},
     "output_type": "execute_result"
    }
   ],
   "source": [
    "numbers =  np.arange(5, 20, 3)\n",
    "numbers"
   ],
   "metadata": {
    "collapsed": false,
    "ExecuteTime": {
     "end_time": "2023-11-23T17:06:07.344556700Z",
     "start_time": "2023-11-23T17:06:07.312973500Z"
    }
   },
   "id": "73ad2ddd3d29e561"
  },
  {
   "cell_type": "markdown",
   "source": [
    "## Pandas alapok\n",
    "\n",
    "Adatelemzésre használt csomag. Fő konstrukciója a dataframe ami nagyon hasonló a Spark dataframe-jéhez."
   ],
   "metadata": {
    "collapsed": false
   },
   "id": "46d930eb454c9647"
  },
  {
   "cell_type": "code",
   "execution_count": 1,
   "outputs": [],
   "source": [
    "import pandas as pd"
   ],
   "metadata": {
    "collapsed": false,
    "ExecuteTime": {
     "end_time": "2023-11-23T17:02:17.601379400Z",
     "start_time": "2023-11-23T17:02:16.035029Z"
    }
   },
   "id": "7182f6cf1f3b9551"
  },
  {
   "cell_type": "markdown",
   "source": [
    "### Series\n",
    "\n",
    "A dataframe egyszerű változata, ami csak egyetlen oszlopból áll. Az értékek értelemszerűen azonos típusúak."
   ],
   "metadata": {
    "collapsed": false
   },
   "id": "61800f3e845a2c72"
  },
  {
   "cell_type": "code",
   "execution_count": 10,
   "outputs": [
    {
     "data": {
      "text/plain": "0     5\n1     8\n2    11\n3    14\n4    17\ndtype: int32"
     },
     "execution_count": 10,
     "metadata": {},
     "output_type": "execute_result"
    }
   ],
   "source": [
    "s = pd.Series(numbers)\n",
    "s"
   ],
   "metadata": {
    "collapsed": false,
    "ExecuteTime": {
     "end_time": "2023-11-23T17:08:14.070332200Z",
     "start_time": "2023-11-23T17:08:14.030091Z"
    }
   },
   "id": "ff9aa0cba645265d"
  },
  {
   "cell_type": "markdown",
   "source": [
    "Elemelérés:"
   ],
   "metadata": {
    "collapsed": false
   },
   "id": "9b8236c9b71ff26b"
  },
  {
   "cell_type": "code",
   "execution_count": 11,
   "outputs": [
    {
     "data": {
      "text/plain": "5"
     },
     "execution_count": 11,
     "metadata": {},
     "output_type": "execute_result"
    }
   ],
   "source": [
    "s[0]"
   ],
   "metadata": {
    "collapsed": false,
    "ExecuteTime": {
     "end_time": "2023-11-23T17:08:18.887295400Z",
     "start_time": "2023-11-23T17:08:18.877935700Z"
    }
   },
   "id": "37c293455add4dbd"
  },
  {
   "cell_type": "code",
   "execution_count": 13,
   "outputs": [
    {
     "data": {
      "text/plain": "a     5\nb     8\nc    11\nd    14\ne    17\ndtype: int32"
     },
     "execution_count": 13,
     "metadata": {},
     "output_type": "execute_result"
    }
   ],
   "source": [
    "s2 = pd.Series(numbers, index=['a', 'b', 'c', 'd', 'e'])\n",
    "s2"
   ],
   "metadata": {
    "collapsed": false,
    "ExecuteTime": {
     "end_time": "2023-11-23T17:09:15.574050900Z",
     "start_time": "2023-11-23T17:09:15.529185700Z"
    }
   },
   "id": "dc6ec007fa0fac76"
  },
  {
   "cell_type": "code",
   "execution_count": 14,
   "outputs": [
    {
     "data": {
      "text/plain": "8"
     },
     "execution_count": 14,
     "metadata": {},
     "output_type": "execute_result"
    }
   ],
   "source": [
    "s2['b']"
   ],
   "metadata": {
    "collapsed": false,
    "ExecuteTime": {
     "end_time": "2023-11-23T17:09:24.275991700Z",
     "start_time": "2023-11-23T17:09:24.228432Z"
    }
   },
   "id": "c5d85453c6301f8f"
  },
  {
   "cell_type": "code",
   "execution_count": 15,
   "outputs": [
    {
     "data": {
      "text/plain": "c    11\nd    14\ne    17\ndtype: int32"
     },
     "execution_count": 15,
     "metadata": {},
     "output_type": "execute_result"
    }
   ],
   "source": [
    "s2[2:5] # nem mindig működik, ekkor s2.iloc[2:5]"
   ],
   "metadata": {
    "collapsed": false,
    "ExecuteTime": {
     "end_time": "2023-11-23T17:10:09.441173800Z",
     "start_time": "2023-11-23T17:10:09.397877700Z"
    }
   },
   "id": "450292e3c8173c0e"
  },
  {
   "cell_type": "code",
   "execution_count": 17,
   "outputs": [
    {
     "name": "stdout",
     "output_type": "stream",
     "text": [
      "5\n",
      "17\n",
      "11.0\n",
      "5     1\n",
      "8     1\n",
      "11    1\n",
      "14    1\n",
      "17    1\n",
      "Name: count, dtype: int64\n"
     ]
    }
   ],
   "source": [
    "print(s.min())\n",
    "print(s.max())\n",
    "print(s.mean()) # átlag\n",
    "print(s.value_counts()) # értékek előfordulásának száma"
   ],
   "metadata": {
    "collapsed": false,
    "ExecuteTime": {
     "end_time": "2023-11-23T17:11:30.622213800Z",
     "start_time": "2023-11-23T17:11:30.577338700Z"
    }
   },
   "id": "8b5ce7e632a4fea4"
  },
  {
   "cell_type": "code",
   "execution_count": 21,
   "outputs": [
    {
     "data": {
      "text/plain": "0     25\n1     64\n2    121\n3    196\n4    289\ndtype: int64"
     },
     "execution_count": 21,
     "metadata": {},
     "output_type": "execute_result"
    }
   ],
   "source": [
    "num_sq =  s.apply(lambda num: num ** 2)\n",
    "num_sq"
   ],
   "metadata": {
    "collapsed": false,
    "ExecuteTime": {
     "end_time": "2023-11-23T17:12:53.439627600Z",
     "start_time": "2023-11-23T17:12:53.435783900Z"
    }
   },
   "id": "eecb8255a801b899"
  },
  {
   "cell_type": "markdown",
   "source": [
    "### Dataframe\n",
    "\n",
    "Lényegében sorozatok egy gyűjteménye."
   ],
   "metadata": {
    "collapsed": false
   },
   "id": "4b6aa3b1c3275432"
  },
  {
   "cell_type": "code",
   "execution_count": 24,
   "outputs": [
    {
     "data": {
      "text/plain": "   szam  negyzet\n0     5       25\n1     8       64\n2    11      121\n3    14      196\n4    17      289",
      "text/html": "<div>\n<style scoped>\n    .dataframe tbody tr th:only-of-type {\n        vertical-align: middle;\n    }\n\n    .dataframe tbody tr th {\n        vertical-align: top;\n    }\n\n    .dataframe thead th {\n        text-align: right;\n    }\n</style>\n<table border=\"1\" class=\"dataframe\">\n  <thead>\n    <tr style=\"text-align: right;\">\n      <th></th>\n      <th>szam</th>\n      <th>negyzet</th>\n    </tr>\n  </thead>\n  <tbody>\n    <tr>\n      <th>0</th>\n      <td>5</td>\n      <td>25</td>\n    </tr>\n    <tr>\n      <th>1</th>\n      <td>8</td>\n      <td>64</td>\n    </tr>\n    <tr>\n      <th>2</th>\n      <td>11</td>\n      <td>121</td>\n    </tr>\n    <tr>\n      <th>3</th>\n      <td>14</td>\n      <td>196</td>\n    </tr>\n    <tr>\n      <th>4</th>\n      <td>17</td>\n      <td>289</td>\n    </tr>\n  </tbody>\n</table>\n</div>"
     },
     "execution_count": 24,
     "metadata": {},
     "output_type": "execute_result"
    }
   ],
   "source": [
    "num_df = pd.DataFrame({'szam': numbers, 'negyzet': num_sq})\n",
    "num_df"
   ],
   "metadata": {
    "collapsed": false,
    "ExecuteTime": {
     "end_time": "2023-11-23T17:15:09.263619500Z",
     "start_time": "2023-11-23T17:15:09.218502600Z"
    }
   },
   "id": "cc1833a50ec2286e"
  },
  {
   "cell_type": "code",
   "execution_count": 25,
   "outputs": [
    {
     "data": {
      "text/plain": "   szam  negyzet\n0     5       25\n1     8       64\n2    11      121\n3    14      196\n4    17      289",
      "text/html": "<div>\n<style scoped>\n    .dataframe tbody tr th:only-of-type {\n        vertical-align: middle;\n    }\n\n    .dataframe tbody tr th {\n        vertical-align: top;\n    }\n\n    .dataframe thead th {\n        text-align: right;\n    }\n</style>\n<table border=\"1\" class=\"dataframe\">\n  <thead>\n    <tr style=\"text-align: right;\">\n      <th></th>\n      <th>szam</th>\n      <th>negyzet</th>\n    </tr>\n  </thead>\n  <tbody>\n    <tr>\n      <th>0</th>\n      <td>5</td>\n      <td>25</td>\n    </tr>\n    <tr>\n      <th>1</th>\n      <td>8</td>\n      <td>64</td>\n    </tr>\n    <tr>\n      <th>2</th>\n      <td>11</td>\n      <td>121</td>\n    </tr>\n    <tr>\n      <th>3</th>\n      <td>14</td>\n      <td>196</td>\n    </tr>\n    <tr>\n      <th>4</th>\n      <td>17</td>\n      <td>289</td>\n    </tr>\n  </tbody>\n</table>\n</div>"
     },
     "execution_count": 25,
     "metadata": {},
     "output_type": "execute_result"
    }
   ],
   "source": [
    "num_df.head(5) # első n sor"
   ],
   "metadata": {
    "collapsed": false,
    "ExecuteTime": {
     "end_time": "2023-11-23T17:15:21.898138200Z",
     "start_time": "2023-11-23T17:15:21.884419200Z"
    }
   },
   "id": "ceffa2cd092ce6af"
  },
  {
   "cell_type": "code",
   "execution_count": 26,
   "outputs": [
    {
     "name": "stdout",
     "output_type": "stream",
     "text": [
      "<class 'pandas.core.frame.DataFrame'>\n",
      "RangeIndex: 5 entries, 0 to 4\n",
      "Data columns (total 2 columns):\n",
      " #   Column   Non-Null Count  Dtype\n",
      "---  ------   --------------  -----\n",
      " 0   szam     5 non-null      int32\n",
      " 1   negyzet  5 non-null      int64\n",
      "dtypes: int32(1), int64(1)\n",
      "memory usage: 192.0 bytes\n"
     ]
    }
   ],
   "source": [
    "num_df.info() # információ a dataframe-ről"
   ],
   "metadata": {
    "collapsed": false,
    "ExecuteTime": {
     "end_time": "2023-11-23T17:15:37.193332200Z",
     "start_time": "2023-11-23T17:15:37.193332200Z"
    }
   },
   "id": "73e2ee4e2966a7e3"
  },
  {
   "cell_type": "code",
   "execution_count": 27,
   "outputs": [
    {
     "data": {
      "text/plain": "            szam     negyzet\ncount   5.000000    5.000000\nmean   11.000000  139.000000\nstd     4.743416  105.704778\nmin     5.000000   25.000000\n25%     8.000000   64.000000\n50%    11.000000  121.000000\n75%    14.000000  196.000000\nmax    17.000000  289.000000",
      "text/html": "<div>\n<style scoped>\n    .dataframe tbody tr th:only-of-type {\n        vertical-align: middle;\n    }\n\n    .dataframe tbody tr th {\n        vertical-align: top;\n    }\n\n    .dataframe thead th {\n        text-align: right;\n    }\n</style>\n<table border=\"1\" class=\"dataframe\">\n  <thead>\n    <tr style=\"text-align: right;\">\n      <th></th>\n      <th>szam</th>\n      <th>negyzet</th>\n    </tr>\n  </thead>\n  <tbody>\n    <tr>\n      <th>count</th>\n      <td>5.000000</td>\n      <td>5.000000</td>\n    </tr>\n    <tr>\n      <th>mean</th>\n      <td>11.000000</td>\n      <td>139.000000</td>\n    </tr>\n    <tr>\n      <th>std</th>\n      <td>4.743416</td>\n      <td>105.704778</td>\n    </tr>\n    <tr>\n      <th>min</th>\n      <td>5.000000</td>\n      <td>25.000000</td>\n    </tr>\n    <tr>\n      <th>25%</th>\n      <td>8.000000</td>\n      <td>64.000000</td>\n    </tr>\n    <tr>\n      <th>50%</th>\n      <td>11.000000</td>\n      <td>121.000000</td>\n    </tr>\n    <tr>\n      <th>75%</th>\n      <td>14.000000</td>\n      <td>196.000000</td>\n    </tr>\n    <tr>\n      <th>max</th>\n      <td>17.000000</td>\n      <td>289.000000</td>\n    </tr>\n  </tbody>\n</table>\n</div>"
     },
     "execution_count": 27,
     "metadata": {},
     "output_type": "execute_result"
    }
   ],
   "source": [
    "num_df.describe() # statisztikák"
   ],
   "metadata": {
    "collapsed": false,
    "ExecuteTime": {
     "end_time": "2023-11-23T17:16:06.019560400Z",
     "start_time": "2023-11-23T17:16:05.998445300Z"
    }
   },
   "id": "bb38291b9bc1f961"
  },
  {
   "cell_type": "code",
   "execution_count": 28,
   "outputs": [
    {
     "data": {
      "text/plain": "(5, 2)"
     },
     "execution_count": 28,
     "metadata": {},
     "output_type": "execute_result"
    }
   ],
   "source": [
    "num_df.shape # dataframe sorainak és oszlopainak száma"
   ],
   "metadata": {
    "collapsed": false,
    "ExecuteTime": {
     "end_time": "2023-11-23T17:16:56.603218700Z",
     "start_time": "2023-11-23T17:16:56.555736900Z"
    }
   },
   "id": "480ebf2109090d1b"
  },
  {
   "cell_type": "code",
   "execution_count": 29,
   "outputs": [
    {
     "data": {
      "text/plain": "Index(['szam', 'negyzet'], dtype='object')"
     },
     "execution_count": 29,
     "metadata": {},
     "output_type": "execute_result"
    }
   ],
   "source": [
    "num_df.columns # oszlopok"
   ],
   "metadata": {
    "collapsed": false,
    "ExecuteTime": {
     "end_time": "2023-11-23T17:17:09.004296700Z",
     "start_time": "2023-11-23T17:17:08.970535Z"
    }
   },
   "id": "3ebaa0a7baa28067"
  },
  {
   "cell_type": "code",
   "execution_count": 32,
   "outputs": [
    {
     "data": {
      "text/plain": "0     125\n1     512\n2    1331\n3    2744\n4    4913\ndtype: int64"
     },
     "execution_count": 32,
     "metadata": {},
     "output_type": "execute_result"
    }
   ],
   "source": [
    "num_df.apply(lambda x: x['szam'] ** 3, axis=1) # alapból oszlopra nézi"
   ],
   "metadata": {
    "collapsed": false,
    "ExecuteTime": {
     "end_time": "2023-11-23T17:18:46.173576200Z",
     "start_time": "2023-11-23T17:18:46.159892200Z"
    }
   },
   "id": "442ad0241617e96"
  },
  {
   "cell_type": "markdown",
   "source": [
    "Új oszlop:"
   ],
   "metadata": {
    "collapsed": false
   },
   "id": "deca05376fc7c5b7"
  },
  {
   "cell_type": "code",
   "execution_count": 35,
   "outputs": [
    {
     "data": {
      "text/plain": "   szam  negyzet   kob\n0     5       25   125\n1     8       64   512\n2    11      121  1331\n3    14      196  2744\n4    17      289  4913",
      "text/html": "<div>\n<style scoped>\n    .dataframe tbody tr th:only-of-type {\n        vertical-align: middle;\n    }\n\n    .dataframe tbody tr th {\n        vertical-align: top;\n    }\n\n    .dataframe thead th {\n        text-align: right;\n    }\n</style>\n<table border=\"1\" class=\"dataframe\">\n  <thead>\n    <tr style=\"text-align: right;\">\n      <th></th>\n      <th>szam</th>\n      <th>negyzet</th>\n      <th>kob</th>\n    </tr>\n  </thead>\n  <tbody>\n    <tr>\n      <th>0</th>\n      <td>5</td>\n      <td>25</td>\n      <td>125</td>\n    </tr>\n    <tr>\n      <th>1</th>\n      <td>8</td>\n      <td>64</td>\n      <td>512</td>\n    </tr>\n    <tr>\n      <th>2</th>\n      <td>11</td>\n      <td>121</td>\n      <td>1331</td>\n    </tr>\n    <tr>\n      <th>3</th>\n      <td>14</td>\n      <td>196</td>\n      <td>2744</td>\n    </tr>\n    <tr>\n      <th>4</th>\n      <td>17</td>\n      <td>289</td>\n      <td>4913</td>\n    </tr>\n  </tbody>\n</table>\n</div>"
     },
     "execution_count": 35,
     "metadata": {},
     "output_type": "execute_result"
    }
   ],
   "source": [
    "num_df['kob'] = num_df.apply(lambda x: x['szam'] ** 3, axis=1)\n",
    "num_df"
   ],
   "metadata": {
    "collapsed": false,
    "ExecuteTime": {
     "end_time": "2023-11-23T17:19:45.448882800Z",
     "start_time": "2023-11-23T17:19:45.426491400Z"
    }
   },
   "id": "440380ecb3d6ae91"
  },
  {
   "cell_type": "code",
   "execution_count": 36,
   "outputs": [
    {
     "data": {
      "text/plain": "szam         55\nnegyzet     695\nkob        9625\ndtype: int64"
     },
     "execution_count": 36,
     "metadata": {},
     "output_type": "execute_result"
    }
   ],
   "source": [
    "num_df.apply(lambda x: x.sum(), axis=0)"
   ],
   "metadata": {
    "collapsed": false,
    "ExecuteTime": {
     "end_time": "2023-11-23T17:20:19.565253700Z",
     "start_time": "2023-11-23T17:20:19.554699900Z"
    }
   },
   "id": "aab2a8c1cc62d16d"
  },
  {
   "cell_type": "markdown",
   "source": [
    "Szűrés:"
   ],
   "metadata": {
    "collapsed": false
   },
   "id": "47a9a6ab5097208d"
  },
  {
   "cell_type": "code",
   "execution_count": 39,
   "outputs": [
    {
     "data": {
      "text/plain": "0    False\n1     True\n2    False\n3     True\n4    False\nName: kob, dtype: bool"
     },
     "execution_count": 39,
     "metadata": {},
     "output_type": "execute_result"
    }
   ],
   "source": [
    "idx = num_df['kob'] % 2 == 0 # series minden elemére végbemegy egy új series adódik vissza\n",
    "idx"
   ],
   "metadata": {
    "collapsed": false,
    "ExecuteTime": {
     "end_time": "2023-11-23T17:22:45.517727200Z",
     "start_time": "2023-11-23T17:22:45.470080200Z"
    }
   },
   "id": "35ecef4043ab680e"
  },
  {
   "cell_type": "code",
   "execution_count": 40,
   "outputs": [
    {
     "data": {
      "text/plain": "   szam  negyzet   kob\n1     8       64   512\n3    14      196  2744",
      "text/html": "<div>\n<style scoped>\n    .dataframe tbody tr th:only-of-type {\n        vertical-align: middle;\n    }\n\n    .dataframe tbody tr th {\n        vertical-align: top;\n    }\n\n    .dataframe thead th {\n        text-align: right;\n    }\n</style>\n<table border=\"1\" class=\"dataframe\">\n  <thead>\n    <tr style=\"text-align: right;\">\n      <th></th>\n      <th>szam</th>\n      <th>negyzet</th>\n      <th>kob</th>\n    </tr>\n  </thead>\n  <tbody>\n    <tr>\n      <th>1</th>\n      <td>8</td>\n      <td>64</td>\n      <td>512</td>\n    </tr>\n    <tr>\n      <th>3</th>\n      <td>14</td>\n      <td>196</td>\n      <td>2744</td>\n    </tr>\n  </tbody>\n</table>\n</div>"
     },
     "execution_count": 40,
     "metadata": {},
     "output_type": "execute_result"
    }
   ],
   "source": [
    "num_df[idx] # ha indexként adjuk meg az ilyen seriest lehet szűrni, ún logikai indexelés"
   ],
   "metadata": {
    "collapsed": false,
    "ExecuteTime": {
     "end_time": "2023-11-23T17:22:55.395770200Z",
     "start_time": "2023-11-23T17:22:55.379519500Z"
    }
   },
   "id": "294c9e0f7f634765"
  },
  {
   "cell_type": "code",
   "execution_count": 41,
   "outputs": [
    {
     "data": {
      "text/plain": "   szam  negyzet   kob\n1     8       64   512\n3    14      196  2744",
      "text/html": "<div>\n<style scoped>\n    .dataframe tbody tr th:only-of-type {\n        vertical-align: middle;\n    }\n\n    .dataframe tbody tr th {\n        vertical-align: top;\n    }\n\n    .dataframe thead th {\n        text-align: right;\n    }\n</style>\n<table border=\"1\" class=\"dataframe\">\n  <thead>\n    <tr style=\"text-align: right;\">\n      <th></th>\n      <th>szam</th>\n      <th>negyzet</th>\n      <th>kob</th>\n    </tr>\n  </thead>\n  <tbody>\n    <tr>\n      <th>1</th>\n      <td>8</td>\n      <td>64</td>\n      <td>512</td>\n    </tr>\n    <tr>\n      <th>3</th>\n      <td>14</td>\n      <td>196</td>\n      <td>2744</td>\n    </tr>\n  </tbody>\n</table>\n</div>"
     },
     "execution_count": 41,
     "metadata": {},
     "output_type": "execute_result"
    }
   ],
   "source": [
    "num_df.query('kob % 2 == 0') # expr stringként"
   ],
   "metadata": {
    "collapsed": false,
    "ExecuteTime": {
     "end_time": "2023-11-23T17:24:04.385851400Z",
     "start_time": "2023-11-23T17:24:04.354086500Z"
    }
   },
   "id": "881abe00363ed8a0"
  }
 ],
 "metadata": {
  "kernelspec": {
   "display_name": "Python 3",
   "language": "python",
   "name": "python3"
  },
  "language_info": {
   "codemirror_mode": {
    "name": "ipython",
    "version": 2
   },
   "file_extension": ".py",
   "mimetype": "text/x-python",
   "name": "python",
   "nbconvert_exporter": "python",
   "pygments_lexer": "ipython2",
   "version": "2.7.6"
  }
 },
 "nbformat": 4,
 "nbformat_minor": 5
}
