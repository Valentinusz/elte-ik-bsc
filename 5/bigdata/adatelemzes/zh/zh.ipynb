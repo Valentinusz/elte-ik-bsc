{
 "cells": [
  {
   "cell_type": "markdown",
   "id": "14e56da357eb3367",
   "metadata": {
    "collapsed": false
   },
   "source": [
    "# Big data - 2. zh"
   ]
  },
  {
   "cell_type": "markdown",
   "id": "f23e18c8a993f435",
   "metadata": {
    "collapsed": false
   },
   "source": [
    "## Beolvasás"
   ]
  },
  {
   "cell_type": "code",
   "execution_count": 1,
   "id": "4c057ea38eb0e51e",
   "metadata": {
    "ExecuteTime": {
     "end_time": "2023-12-14T18:08:20.221527800Z",
     "start_time": "2023-12-14T18:08:19.724663600Z"
    },
    "collapsed": false
   },
   "outputs": [
    {
     "data": {
      "text/html": [
       "<div>\n",
       "<style scoped>\n",
       "    .dataframe tbody tr th:only-of-type {\n",
       "        vertical-align: middle;\n",
       "    }\n",
       "\n",
       "    .dataframe tbody tr th {\n",
       "        vertical-align: top;\n",
       "    }\n",
       "\n",
       "    .dataframe thead th {\n",
       "        text-align: right;\n",
       "    }\n",
       "</style>\n",
       "<table border=\"1\" class=\"dataframe\">\n",
       "  <thead>\n",
       "    <tr style=\"text-align: right;\">\n",
       "      <th></th>\n",
       "      <th>review</th>\n",
       "      <th>sentiment</th>\n",
       "    </tr>\n",
       "  </thead>\n",
       "  <tbody>\n",
       "    <tr>\n",
       "      <th>0</th>\n",
       "      <td>One of the other reviewers has mentioned that ...</td>\n",
       "      <td>positive</td>\n",
       "    </tr>\n",
       "    <tr>\n",
       "      <th>1</th>\n",
       "      <td>A wonderful little production. &lt;br /&gt;&lt;br /&gt;The...</td>\n",
       "      <td>positive</td>\n",
       "    </tr>\n",
       "    <tr>\n",
       "      <th>2</th>\n",
       "      <td>I thought this was a wonderful way to spend ti...</td>\n",
       "      <td>positive</td>\n",
       "    </tr>\n",
       "    <tr>\n",
       "      <th>3</th>\n",
       "      <td>NaN</td>\n",
       "      <td>negative</td>\n",
       "    </tr>\n",
       "    <tr>\n",
       "      <th>4</th>\n",
       "      <td>Petter Mattei's \"Love in the Time of Money\" is...</td>\n",
       "      <td>positive</td>\n",
       "    </tr>\n",
       "  </tbody>\n",
       "</table>\n",
       "</div>"
      ],
      "text/plain": [
       "                                              review sentiment\n",
       "0  One of the other reviewers has mentioned that ...  positive\n",
       "1  A wonderful little production. <br /><br />The...  positive\n",
       "2  I thought this was a wonderful way to spend ti...  positive\n",
       "3                                                NaN  negative\n",
       "4  Petter Mattei's \"Love in the Time of Money\" is...  positive"
      ]
     },
     "execution_count": 1,
     "metadata": {},
     "output_type": "execute_result"
    }
   ],
   "source": [
    "import pandas as pd\n",
    "\n",
    "df = pd.read_csv('imdb_2k.csv')\n",
    "df.head()"
   ]
  },
  {
   "cell_type": "markdown",
   "id": "5310cef6b870c2ca",
   "metadata": {
    "collapsed": false
   },
   "source": [
    "## Tisztítás, átalakítás"
   ]
  },
  {
   "cell_type": "code",
   "execution_count": 2,
   "id": "9df05da0014193da",
   "metadata": {
    "ExecuteTime": {
     "end_time": "2023-12-14T18:08:20.226826300Z",
     "start_time": "2023-12-14T18:08:20.217137Z"
    },
    "collapsed": false
   },
   "outputs": [
    {
     "data": {
      "text/plain": [
       "review       2\n",
       "sentiment    0\n",
       "dtype: int64"
      ]
     },
     "execution_count": 2,
     "metadata": {},
     "output_type": "execute_result"
    }
   ],
   "source": [
    "df.isnull().sum()"
   ]
  },
  {
   "cell_type": "code",
   "execution_count": 3,
   "id": "fdbcf3b2d84f9208",
   "metadata": {
    "ExecuteTime": {
     "end_time": "2023-12-14T18:08:20.237430600Z",
     "start_time": "2023-12-14T18:08:20.226826300Z"
    },
    "collapsed": false
   },
   "outputs": [
    {
     "data": {
      "text/plain": [
       "review       0\n",
       "sentiment    0\n",
       "dtype: int64"
      ]
     },
     "execution_count": 3,
     "metadata": {},
     "output_type": "execute_result"
    }
   ],
   "source": [
    "df.dropna(inplace=True)\n",
    "df.isnull().sum()"
   ]
  },
  {
   "cell_type": "code",
   "execution_count": 4,
   "id": "51f3e341c6307881",
   "metadata": {
    "ExecuteTime": {
     "end_time": "2023-12-14T18:08:20.271361900Z",
     "start_time": "2023-12-14T18:08:20.237430600Z"
    },
    "collapsed": false
   },
   "outputs": [
    {
     "data": {
      "text/html": [
       "<div>\n",
       "<style scoped>\n",
       "    .dataframe tbody tr th:only-of-type {\n",
       "        vertical-align: middle;\n",
       "    }\n",
       "\n",
       "    .dataframe tbody tr th {\n",
       "        vertical-align: top;\n",
       "    }\n",
       "\n",
       "    .dataframe thead th {\n",
       "        text-align: right;\n",
       "    }\n",
       "</style>\n",
       "<table border=\"1\" class=\"dataframe\">\n",
       "  <thead>\n",
       "    <tr style=\"text-align: right;\">\n",
       "      <th></th>\n",
       "      <th>review</th>\n",
       "      <th>sentiment</th>\n",
       "      <th>text_len</th>\n",
       "    </tr>\n",
       "  </thead>\n",
       "  <tbody>\n",
       "    <tr>\n",
       "      <th>0</th>\n",
       "      <td>One of the other reviewers has mentioned that ...</td>\n",
       "      <td>positive</td>\n",
       "      <td>1761</td>\n",
       "    </tr>\n",
       "    <tr>\n",
       "      <th>1</th>\n",
       "      <td>A wonderful little production. &lt;br /&gt;&lt;br /&gt;The...</td>\n",
       "      <td>positive</td>\n",
       "      <td>998</td>\n",
       "    </tr>\n",
       "    <tr>\n",
       "      <th>2</th>\n",
       "      <td>I thought this was a wonderful way to spend ti...</td>\n",
       "      <td>positive</td>\n",
       "      <td>926</td>\n",
       "    </tr>\n",
       "    <tr>\n",
       "      <th>4</th>\n",
       "      <td>Petter Mattei's \"Love in the Time of Money\" is...</td>\n",
       "      <td>positive</td>\n",
       "      <td>1317</td>\n",
       "    </tr>\n",
       "    <tr>\n",
       "      <th>5</th>\n",
       "      <td>Probably my all-time favorite movie, a story o...</td>\n",
       "      <td>positive</td>\n",
       "      <td>656</td>\n",
       "    </tr>\n",
       "  </tbody>\n",
       "</table>\n",
       "</div>"
      ],
      "text/plain": [
       "                                              review sentiment  text_len\n",
       "0  One of the other reviewers has mentioned that ...  positive      1761\n",
       "1  A wonderful little production. <br /><br />The...  positive       998\n",
       "2  I thought this was a wonderful way to spend ti...  positive       926\n",
       "4  Petter Mattei's \"Love in the Time of Money\" is...  positive      1317\n",
       "5  Probably my all-time favorite movie, a story o...  positive       656"
      ]
     },
     "execution_count": 4,
     "metadata": {},
     "output_type": "execute_result"
    }
   ],
   "source": [
    "df['text_len'] = df.apply(lambda x: len(x['review']), axis=1)\n",
    "df.head()"
   ]
  },
  {
   "cell_type": "code",
   "execution_count": 5,
   "id": "3242e93edf6cd259",
   "metadata": {
    "ExecuteTime": {
     "end_time": "2023-12-14T18:08:20.286985600Z",
     "start_time": "2023-12-14T18:08:20.253600500Z"
    },
    "collapsed": false
   },
   "outputs": [
    {
     "data": {
      "text/plain": [
       "review       1995\n",
       "sentiment    1995\n",
       "text_len     1995\n",
       "dtype: int64"
      ]
     },
     "execution_count": 5,
     "metadata": {},
     "output_type": "execute_result"
    }
   ],
   "source": [
    "df = df[df['text_len'] > 10]\n",
    "df.count()"
   ]
  },
  {
   "cell_type": "markdown",
   "id": "d43966aa56da1ac2",
   "metadata": {
    "collapsed": false
   },
   "source": [
    "## Naive-Bayes osztályozás"
   ]
  },
  {
   "cell_type": "code",
   "execution_count": 6,
   "id": "e5f2857f0b05c073",
   "metadata": {
    "ExecuteTime": {
     "end_time": "2023-12-14T18:08:21.156388100Z",
     "start_time": "2023-12-14T18:08:20.265808700Z"
    },
    "collapsed": false
   },
   "outputs": [
    {
     "name": "stdout",
     "output_type": "stream",
     "text": [
      "1995\n",
      "1995\n",
      "sentiment\n",
      "negative    107\n",
      "positive     93\n",
      "Name: count, dtype: int64\n"
     ]
    }
   ],
   "source": [
    "from sklearn.naive_bayes import MultinomialNB\n",
    "from sklearn.pipeline import make_pipeline\n",
    "from sklearn.model_selection import train_test_split\n",
    "from sklearn.feature_extraction.text import TfidfVectorizer\n",
    "from sklearn.feature_extraction.text import CountVectorizer\n",
    "\n",
    "\n",
    "feature_data = df['review'].copy()\n",
    "label_data = df['sentiment'].copy()\n",
    "\n",
    "print(feature_data.shape[0])\n",
    "print(label_data.shape[0])\n",
    "\n",
    "test_size = 0.1\n",
    "X_train, X_test, y_train, y_test = train_test_split(feature_data, label_data, test_size=test_size, random_state=42)\n",
    "\n",
    "print(y_test.value_counts())"
   ]
  },
  {
   "cell_type": "code",
   "execution_count": 7,
   "id": "a69d5254a6bc9c77",
   "metadata": {
    "ExecuteTime": {
     "end_time": "2023-12-14T18:08:21.494544Z",
     "start_time": "2023-12-14T18:08:21.156388100Z"
    },
    "collapsed": false
   },
   "outputs": [
    {
     "data": {
      "text/plain": [
       "array(['positive', 'positive', 'negative', 'negative', 'negative'],\n",
       "      dtype='<U8')"
      ]
     },
     "execution_count": 7,
     "metadata": {},
     "output_type": "execute_result"
    }
   ],
   "source": [
    "countVectorizerModel = make_pipeline(CountVectorizer(), MultinomialNB())\n",
    "countVectorizerModel.fit(X_train, y_train)\n",
    "countVectorizerPredictedSentiments = countVectorizerModel.predict(X_test)\n",
    "countVectorizerPredictedSentiments[:5]"
   ]
  },
  {
   "cell_type": "code",
   "execution_count": 8,
   "id": "12588cb3e8c4ebda",
   "metadata": {
    "ExecuteTime": {
     "end_time": "2023-12-14T18:08:21.798476400Z",
     "start_time": "2023-12-14T18:08:21.494544Z"
    },
    "collapsed": false
   },
   "outputs": [
    {
     "data": {
      "text/plain": [
       "array(['positive', 'positive', 'negative', 'negative', 'negative'],\n",
       "      dtype='<U8')"
      ]
     },
     "execution_count": 8,
     "metadata": {},
     "output_type": "execute_result"
    }
   ],
   "source": [
    "TfidfVectorizerModel = make_pipeline(TfidfVectorizer(), MultinomialNB())\n",
    "TfidfVectorizerModel.fit(X_train, y_train)\n",
    "TfidfVectorizerPredictedSentiments = TfidfVectorizerModel.predict(X_test)\n",
    "TfidfVectorizerPredictedSentiments[:5]"
   ]
  },
  {
   "cell_type": "code",
   "execution_count": 9,
   "id": "17f67a5d3b863845",
   "metadata": {
    "ExecuteTime": {
     "end_time": "2023-12-14T18:08:21.806683Z",
     "start_time": "2023-12-14T18:08:21.798476400Z"
    },
    "collapsed": false
   },
   "outputs": [
    {
     "name": "stdout",
     "output_type": "stream",
     "text": [
      "Accuracy: 0.81\n",
      "Accuracy: 0.855\n"
     ]
    }
   ],
   "source": [
    "from sklearn.metrics import accuracy_score\n",
    "\n",
    "accuracy1 = accuracy_score(countVectorizerPredictedSentiments, y_test)\n",
    "\n",
    "print(\"Accuracy:\", accuracy1)\n",
    "\n",
    "accuracy2 = accuracy_score(TfidfVectorizerPredictedSentiments, y_test)\n",
    "\n",
    "print(\"Accuracy:\", accuracy2)"
   ]
  },
  {
   "cell_type": "markdown",
   "id": "95499627e74408d4",
   "metadata": {
    "collapsed": false
   },
   "source": [
    "A második modell valóban pontosabb."
   ]
  },
  {
   "cell_type": "markdown",
   "id": "c82d7a4e4721c99e",
   "metadata": {
    "collapsed": false
   },
   "source": [
    "## KNN osztályozás "
   ]
  },
  {
   "cell_type": "code",
   "execution_count": 10,
   "id": "76d167d5be9e2cd",
   "metadata": {
    "ExecuteTime": {
     "end_time": "2023-12-14T18:08:31.777693500Z",
     "start_time": "2023-12-14T18:08:21.806683Z"
    },
    "collapsed": false
   },
   "outputs": [
    {
     "data": {
      "text/plain": [
       "[0.68, 0.635, 0.62, 0.625, 0.65, 0.66, 0.675, 0.67, 0.645, 0.645, 0.65, 0.655]"
      ]
     },
     "execution_count": 10,
     "metadata": {},
     "output_type": "execute_result"
    }
   ],
   "source": [
    "from sklearn.neighbors import KNeighborsClassifier \n",
    "\n",
    "Ks = [i for i in range(1, 24) if i % 2 == 1]\n",
    "KNeighbourAccuracies = []\n",
    "\n",
    "bestKNeighbours = (None, 0)\n",
    "\n",
    "for i in Ks:\n",
    "    model = make_pipeline(TfidfVectorizer(), KNeighborsClassifier(i))\n",
    "    model.fit(X_train, y_train)\n",
    "    \n",
    "    accuracy_score = model.score(X_test, y_test)\n",
    "    KNeighbourAccuracies.append(accuracy_score)\n",
    "    \n",
    "    if accuracy_score > bestKNeighbours[1]:\n",
    "        bestKNeighbours = (model, accuracy_score)\n",
    "    \n",
    "KNeighbourAccuracies"
   ]
  },
  {
   "cell_type": "code",
   "execution_count": 11,
   "id": "87c8cbd9d352c338",
   "metadata": {
    "ExecuteTime": {
     "end_time": "2023-12-14T18:08:31.783006900Z",
     "start_time": "2023-12-14T18:08:31.774194400Z"
    },
    "collapsed": false
   },
   "outputs": [
    {
     "data": {
      "text/plain": [
       "(Pipeline(steps=[('tfidfvectorizer', TfidfVectorizer()),\n",
       "                 ('kneighborsclassifier', KNeighborsClassifier(n_neighbors=1))]),\n",
       " 0.68)"
      ]
     },
     "execution_count": 11,
     "metadata": {},
     "output_type": "execute_result"
    }
   ],
   "source": [
    "bestKNeighbours"
   ]
  },
  {
   "cell_type": "markdown",
   "id": "5e4a752429a2a081",
   "metadata": {
    "collapsed": false
   },
   "source": [
    "## Kiértékelés\n",
    "\n",
    "Elnézést ezért a spagetti kódért én se vagyok rá büszke."
   ]
  },
  {
   "cell_type": "code",
   "execution_count": 12,
   "id": "c3f85d63eea0357b",
   "metadata": {
    "ExecuteTime": {
     "end_time": "2023-12-14T18:08:31.857663Z",
     "start_time": "2023-12-14T18:08:31.783006900Z"
    },
    "collapsed": false
   },
   "outputs": [
    {
     "data": {
      "text/html": [
       "<style>#sk-container-id-1 {color: black;}#sk-container-id-1 pre{padding: 0;}#sk-container-id-1 div.sk-toggleable {background-color: white;}#sk-container-id-1 label.sk-toggleable__label {cursor: pointer;display: block;width: 100%;margin-bottom: 0;padding: 0.3em;box-sizing: border-box;text-align: center;}#sk-container-id-1 label.sk-toggleable__label-arrow:before {content: \"▸\";float: left;margin-right: 0.25em;color: #696969;}#sk-container-id-1 label.sk-toggleable__label-arrow:hover:before {color: black;}#sk-container-id-1 div.sk-estimator:hover label.sk-toggleable__label-arrow:before {color: black;}#sk-container-id-1 div.sk-toggleable__content {max-height: 0;max-width: 0;overflow: hidden;text-align: left;background-color: #f0f8ff;}#sk-container-id-1 div.sk-toggleable__content pre {margin: 0.2em;color: black;border-radius: 0.25em;background-color: #f0f8ff;}#sk-container-id-1 input.sk-toggleable__control:checked~div.sk-toggleable__content {max-height: 200px;max-width: 100%;overflow: auto;}#sk-container-id-1 input.sk-toggleable__control:checked~label.sk-toggleable__label-arrow:before {content: \"▾\";}#sk-container-id-1 div.sk-estimator input.sk-toggleable__control:checked~label.sk-toggleable__label {background-color: #d4ebff;}#sk-container-id-1 div.sk-label input.sk-toggleable__control:checked~label.sk-toggleable__label {background-color: #d4ebff;}#sk-container-id-1 input.sk-hidden--visually {border: 0;clip: rect(1px 1px 1px 1px);clip: rect(1px, 1px, 1px, 1px);height: 1px;margin: -1px;overflow: hidden;padding: 0;position: absolute;width: 1px;}#sk-container-id-1 div.sk-estimator {font-family: monospace;background-color: #f0f8ff;border: 1px dotted black;border-radius: 0.25em;box-sizing: border-box;margin-bottom: 0.5em;}#sk-container-id-1 div.sk-estimator:hover {background-color: #d4ebff;}#sk-container-id-1 div.sk-parallel-item::after {content: \"\";width: 100%;border-bottom: 1px solid gray;flex-grow: 1;}#sk-container-id-1 div.sk-label:hover label.sk-toggleable__label {background-color: #d4ebff;}#sk-container-id-1 div.sk-serial::before {content: \"\";position: absolute;border-left: 1px solid gray;box-sizing: border-box;top: 0;bottom: 0;left: 50%;z-index: 0;}#sk-container-id-1 div.sk-serial {display: flex;flex-direction: column;align-items: center;background-color: white;padding-right: 0.2em;padding-left: 0.2em;position: relative;}#sk-container-id-1 div.sk-item {position: relative;z-index: 1;}#sk-container-id-1 div.sk-parallel {display: flex;align-items: stretch;justify-content: center;background-color: white;position: relative;}#sk-container-id-1 div.sk-item::before, #sk-container-id-1 div.sk-parallel-item::before {content: \"\";position: absolute;border-left: 1px solid gray;box-sizing: border-box;top: 0;bottom: 0;left: 50%;z-index: -1;}#sk-container-id-1 div.sk-parallel-item {display: flex;flex-direction: column;z-index: 1;position: relative;background-color: white;}#sk-container-id-1 div.sk-parallel-item:first-child::after {align-self: flex-end;width: 50%;}#sk-container-id-1 div.sk-parallel-item:last-child::after {align-self: flex-start;width: 50%;}#sk-container-id-1 div.sk-parallel-item:only-child::after {width: 0;}#sk-container-id-1 div.sk-dashed-wrapped {border: 1px dashed gray;margin: 0 0.4em 0.5em 0.4em;box-sizing: border-box;padding-bottom: 0.4em;background-color: white;}#sk-container-id-1 div.sk-label label {font-family: monospace;font-weight: bold;display: inline-block;line-height: 1.2em;}#sk-container-id-1 div.sk-label-container {text-align: center;}#sk-container-id-1 div.sk-container {/* jupyter's `normalize.less` sets `[hidden] { display: none; }` but bootstrap.min.css set `[hidden] { display: none !important; }` so we also need the `!important` here to be able to override the default hidden behavior on the sphinx rendered scikit-learn.org. See: https://github.com/scikit-learn/scikit-learn/issues/21755 */display: inline-block !important;position: relative;}#sk-container-id-1 div.sk-text-repr-fallback {display: none;}</style><div id=\"sk-container-id-1\" class=\"sk-top-container\"><div class=\"sk-text-repr-fallback\"><pre>Pipeline(steps=[(&#x27;tfidfvectorizer&#x27;, TfidfVectorizer()),\n",
       "                (&#x27;multinomialnb&#x27;, MultinomialNB())])</pre><b>In a Jupyter environment, please rerun this cell to show the HTML representation or trust the notebook. <br />On GitHub, the HTML representation is unable to render, please try loading this page with nbviewer.org.</b></div><div class=\"sk-container\" hidden><div class=\"sk-item sk-dashed-wrapped\"><div class=\"sk-label-container\"><div class=\"sk-label sk-toggleable\"><input class=\"sk-toggleable__control sk-hidden--visually\" id=\"sk-estimator-id-1\" type=\"checkbox\" ><label for=\"sk-estimator-id-1\" class=\"sk-toggleable__label sk-toggleable__label-arrow\">Pipeline</label><div class=\"sk-toggleable__content\"><pre>Pipeline(steps=[(&#x27;tfidfvectorizer&#x27;, TfidfVectorizer()),\n",
       "                (&#x27;multinomialnb&#x27;, MultinomialNB())])</pre></div></div></div><div class=\"sk-serial\"><div class=\"sk-item\"><div class=\"sk-estimator sk-toggleable\"><input class=\"sk-toggleable__control sk-hidden--visually\" id=\"sk-estimator-id-2\" type=\"checkbox\" ><label for=\"sk-estimator-id-2\" class=\"sk-toggleable__label sk-toggleable__label-arrow\">TfidfVectorizer</label><div class=\"sk-toggleable__content\"><pre>TfidfVectorizer()</pre></div></div></div><div class=\"sk-item\"><div class=\"sk-estimator sk-toggleable\"><input class=\"sk-toggleable__control sk-hidden--visually\" id=\"sk-estimator-id-3\" type=\"checkbox\" ><label for=\"sk-estimator-id-3\" class=\"sk-toggleable__label sk-toggleable__label-arrow\">MultinomialNB</label><div class=\"sk-toggleable__content\"><pre>MultinomialNB()</pre></div></div></div></div></div></div></div>"
      ],
      "text/plain": [
       "Pipeline(steps=[('tfidfvectorizer', TfidfVectorizer()),\n",
       "                ('multinomialnb', MultinomialNB())])"
      ]
     },
     "execution_count": 12,
     "metadata": {},
     "output_type": "execute_result"
    }
   ],
   "source": [
    "better_bayes = countVectorizerModel if accuracy1 > accuracy2 else TfidfVectorizerModel\n",
    "best_model = better_bayes if accuracy1 > bestKNeighbours[1] or accuracy2 > bestKNeighbours[1] else bestKNeighbours[0]\n",
    "best_model"
   ]
  },
  {
   "cell_type": "code",
   "execution_count": 13,
   "id": "a9cea1e013b66ec9",
   "metadata": {
    "ExecuteTime": {
     "end_time": "2023-12-14T18:08:31.857663Z",
     "start_time": "2023-12-14T18:08:31.795429900Z"
    },
    "collapsed": false
   },
   "outputs": [
    {
     "data": {
      "text/plain": [
       "array(['positive'], dtype='<U8')"
      ]
     },
     "execution_count": 13,
     "metadata": {},
     "output_type": "execute_result"
    }
   ],
   "source": [
    "best_model.predict([\"Masterpiece.\"])"
   ]
  },
  {
   "cell_type": "code",
   "execution_count": 14,
   "id": "c8fc42534c6fa440",
   "metadata": {
    "ExecuteTime": {
     "end_time": "2023-12-14T18:08:31.857663Z",
     "start_time": "2023-12-14T18:08:31.801662400Z"
    },
    "collapsed": false
   },
   "outputs": [
    {
     "data": {
      "text/plain": [
       "array(['negative'], dtype='<U8')"
      ]
     },
     "execution_count": 14,
     "metadata": {},
     "output_type": "execute_result"
    }
   ],
   "source": [
    "best_model.predict([\"Very bad acting.\"])"
   ]
  },
  {
   "cell_type": "markdown",
   "id": "3fa3536476e8a13a",
   "metadata": {
    "collapsed": false
   },
   "source": [
    "## Vizualizáció"
   ]
  },
  {
   "cell_type": "code",
   "execution_count": 15,
   "id": "c8e65b910b4b70df",
   "metadata": {
    "ExecuteTime": {
     "end_time": "2023-12-14T18:08:32.427093200Z",
     "start_time": "2023-12-14T18:08:31.810781400Z"
    },
    "collapsed": false
   },
   "outputs": [
    {
     "data": {
      "text/plain": [
       "<sklearn.metrics._plot.confusion_matrix.ConfusionMatrixDisplay at 0x1a85793b9d0>"
      ]
     },
     "execution_count": 15,
     "metadata": {},
     "output_type": "execute_result"
    },
    {
     "data": {
      "image/png": "[encoded data removed]",
      "text/plain": [
       "<Figure size 800x800 with 2 Axes>"
      ]
     },
     "metadata": {},
     "output_type": "display_data"
    }
   ],
   "source": [
    "from sklearn.metrics import confusion_matrix, ConfusionMatrixDisplay\n",
    "import matplotlib.pyplot as plt\n",
    "\n",
    "mat = confusion_matrix(y_test, best_model.predict(X_test))\n",
    "disp = ConfusionMatrixDisplay(confusion_matrix=mat, display_labels=list(label_data.unique()).sort())\n",
    "fig, ax = plt.subplots(figsize=(8,8))\n",
    "disp.plot(ax=ax)"
   ]
  },
  {
   "cell_type": "code",
   "execution_count": 18,
   "id": "10f4791b2afecd79",
   "metadata": {
    "collapsed": false,
    "ExecuteTime": {
     "end_time": "2023-12-14T18:12:01.591620900Z",
     "start_time": "2023-12-14T18:12:01.387423Z"
    }
   },
   "outputs": [
    {
     "name": "stderr",
     "output_type": "stream",
     "text": [
      "C:\\Users\\bb200\\AppData\\Local\\Temp\\ipykernel_9092\\1471395388.py:3: UserWarning: set_ticklabels() should only be used with a fixed number of ticks, i.e. after set_ticks() or using a FixedLocator.\n",
      "  ax1.set_xticklabels(Ks)\n"
     ]
    },
    {
     "data": {
      "text/plain": "<BarContainer object of 12 artists>"
     },
     "execution_count": 18,
     "metadata": {},
     "output_type": "execute_result"
    },
    {
     "data": {
      "text/plain": "<Figure size 640x480 with 1 Axes>",
      "image/png": "[encoded data removed]"
     },
     "metadata": {},
     "output_type": "display_data"
    }
   ],
   "source": [
    "fig = plt.figure()\n",
    "ax1 = fig.add_subplot(111)\n",
    "ax1.set_xticklabels(Ks)\n",
    "ax1.bar(x=Ks, height=KNeighbourAccuracies, label=Ks)"
   ]
  },
  {
   "cell_type": "code",
   "execution_count": null,
   "outputs": [],
   "source": [],
   "metadata": {
    "collapsed": false
   },
   "id": "6fad00f27528a0de"
  }
 ],
 "metadata": {
  "kernelspec": {
   "display_name": "Python 3 (ipykernel)",
   "language": "python",
   "name": "python3"
  },
  "language_info": {
   "codemirror_mode": {
    "name": "ipython",
    "version": 3
   },
   "file_extension": ".py",
   "mimetype": "text/x-python",
   "name": "python",
   "nbconvert_exporter": "python",
   "pygments_lexer": "ipython3",
   "version": "3.11.6"
  }
 },
 "nbformat": 4,
 "nbformat_minor": 5
}
