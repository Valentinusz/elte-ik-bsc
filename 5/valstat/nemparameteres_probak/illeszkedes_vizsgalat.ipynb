{
 "cells": [
  {
   "cell_type": "markdown",
   "metadata": {},
   "source": [
    "# Diszkrét illeszkedésvizsgálat\n",
    "(discrate goodness of fit test)"
   ]
  },
  {
   "cell_type": "code",
   "execution_count": 1,
   "id": "634e56463d76533b",
   "metadata": {
    "ExecuteTime": {
     "end_time": "2023-11-28T21:51:57.448395100Z",
     "start_time": "2023-11-28T21:51:57.386895900Z"
    },
    "collapsed": false
   },
   "outputs": [],
   "source": [
    "import numpy as np\n",
    "from scipy.stats import chi2, binom\n",
    "import matplotlib.pyplot as plt\n",
    "from IPython.display import display, Math\n",
    "import locale"
   ]
  },
  {
   "cell_type": "code",
   "execution_count": 2,
   "metadata": {},
   "outputs": [],
   "source": [
    "locale.setlocale(locale.LC_NUMERIC, 'de_DE')\n",
    "plt.rcParams['axes.formatter.use_locale'] = True"
   ]
  },
  {
   "cell_type": "code",
   "execution_count": 3,
   "id": "initial_id",
   "metadata": {
    "ExecuteTime": {
     "end_time": "2023-11-28T21:51:57.459394700Z",
     "start_time": "2023-11-28T21:51:57.390894700Z"
    },
    "collapsed": true
   },
   "outputs": [
    {
     "data": {
      "text/plain": [
       "300"
      ]
     },
     "execution_count": 3,
     "metadata": {},
     "output_type": "execute_result"
    }
   ],
   "source": [
    "amount_of_scrap_frequencies = [80, 113, 77, 27, 3] # gyakoriságok\n",
    "r = len(amount_of_scrap_frequencies) # osztályok száma\n",
    "n = sum(amount_of_scrap_frequencies) # gyakoriságok összege\n",
    "n"
   ]
  },
  {
   "cell_type": "code",
   "execution_count": 4,
   "id": "94b402a6292902de",
   "metadata": {
    "ExecuteTime": {
     "end_time": "2023-11-28T21:51:57.459394700Z",
     "start_time": "2023-11-28T21:51:57.394535800Z"
    },
    "collapsed": false
   },
   "outputs": [
    {
     "data": {
      "text/plain": [
       "0.25"
      ]
     },
     "execution_count": 4,
     "metadata": {},
     "output_type": "execute_result"
    }
   ],
   "source": [
    "bin_n = 4 # a binomiális eloszlás n paramétere\n",
    "\n",
    "p_known = True\n",
    "\n",
    "bin_p = 0.25 # a binomiális eloszlás p paramétere\n",
    "if (not p_known):\n",
    "    # ml becslés p-re\n",
    "    bin_p = (sum([idx * item for (idx, item) in enumerate(amount_of_scrap_frequencies)]) / n) / bin_n\n",
    "\n",
    "bin_p"
   ]
  },
  {
   "cell_type": "code",
   "execution_count": 5,
   "id": "55ec2270bbefca0c",
   "metadata": {
    "ExecuteTime": {
     "end_time": "2023-11-28T22:19:02.144102300Z",
     "start_time": "2023-11-28T22:19:02.106337800Z"
    },
    "collapsed": false
   },
   "outputs": [
    {
     "data": {
      "text/plain": [
       "[0.31640625000000017,\n",
       " 0.4218750000000001,\n",
       " 0.21093750000000006,\n",
       " 0.046875000000000014,\n",
       " 0.00390625]"
      ]
     },
     "execution_count": 5,
     "metadata": {},
     "output_type": "execute_result"
    }
   ],
   "source": [
    "probabilities = [binom.pmf(i, bin_n, bin_p) for i in range(0, r)] # valószínűségek\n",
    "probabilities"
   ]
  },
  {
   "cell_type": "code",
   "execution_count": 6,
   "id": "3ea9f25e34c3ceae",
   "metadata": {
    "ExecuteTime": {
     "end_time": "2023-11-28T21:51:57.496743200Z",
     "start_time": "2023-11-28T21:51:57.404126300Z"
    },
    "collapsed": false
   },
   "outputs": [
    {
     "data": {
      "text/plain": [
       "[94.92187500000006,\n",
       " 126.56250000000003,\n",
       " 63.281250000000014,\n",
       " 14.062500000000004,\n",
       " 1.171875]"
      ]
     },
     "execution_count": 6,
     "metadata": {},
     "output_type": "execute_result"
    }
   ],
   "source": [
    "theoretical_frequencies = [probability * n for probability in probabilities] # elméleti gyakoriságok\n",
    "theoretical_frequencies"
   ]
  },
  {
   "cell_type": "markdown",
   "metadata": {},
   "source": [
    "A próbastatisztika értéke:"
   ]
  },
  {
   "cell_type": "code",
   "execution_count": 7,
   "id": "1ae2c8164a4b03ae",
   "metadata": {
    "ExecuteTime": {
     "end_time": "2023-11-28T22:22:26.127005800Z",
     "start_time": "2023-11-28T22:22:26.120291Z"
    },
    "collapsed": false
   },
   "outputs": [
    {
     "data": {
      "text/latex": [
       "$\\displaystyle \\frac{ \\left( 80 - 94.9219 \\right)^2 }{94.9219} + \\frac{ \\left( 113 - 126.5625 \\right)^2 }{126.5625} + \\frac{ \\left( 77 - 63.2813 \\right)^2 }{63.2813} + \\frac{ \\left( 27 - 14.0625 \\right)^2 }{14.0625} + \\frac{ \\left( 3 - 1.1719 \\right)^2 }{1.1719}=21.527572016460912$"
      ],
      "text/plain": [
       "<IPython.core.display.Math object>"
      ]
     },
     "metadata": {},
     "output_type": "display_data"
    }
   ],
   "source": [
    "eq = ''\n",
    "test_statistic_result = 0\n",
    "for i in range(r):\n",
    "    eq += rf'\\frac{{ \\left( {round(amount_of_scrap_frequencies[i], 4)} - {round(theoretical_frequencies[i], 4)} \\right)^2 }}{{{round(theoretical_frequencies[i], 4)}}} + '\n",
    "    test_statistic_result += (amount_of_scrap_frequencies[i] - theoretical_frequencies[i])**2 / theoretical_frequencies[i]\n",
    "    \n",
    "eq = eq.strip(' +')\n",
    "eq += f\"={test_statistic_result}\"\n",
    "\n",
    "display(Math(r'' + eq))"
   ]
  },
  {
   "cell_type": "markdown",
   "metadata": {},
   "source": [
    "Szignifikanciaszint:"
   ]
  },
  {
   "cell_type": "code",
   "execution_count": 8,
   "id": "f9779f5992af5ee6",
   "metadata": {
    "ExecuteTime": {
     "end_time": "2023-11-28T21:51:57.516741800Z",
     "start_time": "2023-11-28T21:51:57.412866700Z"
    },
    "collapsed": false
   },
   "outputs": [],
   "source": [
    "alpha = 0.05"
   ]
  },
  {
   "cell_type": "markdown",
   "metadata": {},
   "source": [
    "A próbastatisztika $\\chi^2$ eloszlást követ, melynek paramétere:"
   ]
  },
  {
   "cell_type": "code",
   "execution_count": 9,
   "metadata": {},
   "outputs": [
    {
     "data": {
      "text/plain": [
       "4"
      ]
     },
     "execution_count": 9,
     "metadata": {},
     "output_type": "execute_result"
    }
   ],
   "source": [
    "if (p_known):\n",
    "    chi_distribution_param = r-1\n",
    "else:\n",
    "    chi_distribution_param = r-2\n",
    "chi_distribution_param"
   ]
  },
  {
   "cell_type": "markdown",
   "metadata": {},
   "source": [
    "A kritikus tartomány kezdete:"
   ]
  },
  {
   "cell_type": "code",
   "execution_count": 10,
   "metadata": {},
   "outputs": [
    {
     "data": {
      "text/plain": [
       "9.487729036781154"
      ]
     },
     "execution_count": 10,
     "metadata": {},
     "output_type": "execute_result"
    }
   ],
   "source": [
    "critical_start = chi2.ppf(1 - alpha, df=chi_distribution_param)\n",
    "critical_start"
   ]
  },
  {
   "cell_type": "code",
   "execution_count": 15,
   "id": "463a4e207273f568",
   "metadata": {
    "ExecuteTime": {
     "end_time": "2023-11-28T21:51:57.557970400Z",
     "start_time": "2023-11-28T21:51:57.422394700Z"
    },
    "collapsed": false
   },
   "outputs": [
    {
     "data": {
      "text/plain": [
       "<matplotlib.legend.Legend at 0x24b71d125d0>"
      ]
     },
     "execution_count": 15,
     "metadata": {},
     "output_type": "execute_result"
    },
    {
     "data": {
      "image/png": "[encoded data removed]",
      "text/plain": [
       "<Figure size 640x480 with 1 Axes>"
      ]
     },
     "metadata": {},
     "output_type": "display_data"
    }
   ],
   "source": [
    "fig, ax = plt.subplots(1, 1)\n",
    "\n",
    "distribution = chi2(df=chi_distribution_param)\n",
    "\n",
    "x = np.linspace(0, 25, 1000)\n",
    "x2 = np.linspace(critical_start, 25, 1000)\n",
    "ax.plot(x, chi2.pdf(x, df=chi_distribution_param), 'g', lw=2, label='khí négyzet eloszlás')\n",
    "ax.plot(test_statistic_result, distribution.pdf(test_statistic_result), 'ro')\n",
    "ax.fill_between(x2, y1=0, y2=chi2.pdf(x2, df=chi_distribution_param), color='r', alpha=0.5, label='kritikus tartomány')\n",
    "ax.legend()"
   ]
  },
  {
   "cell_type": "code",
   "execution_count": 12,
   "metadata": {},
   "outputs": [
    {
     "data": {
      "text/plain": [
       "'Mivel a próbastatisztika értéke a kritikus tartományba esik a nullhipotézist elutasítjuk.'"
      ]
     },
     "metadata": {},
     "output_type": "display_data"
    }
   ],
   "source": [
    "if (test_statistic_result < critical_start):\n",
    "    display('Mivel a próbastatisztika értéke az konfidenciaintervallumba esik ezért elfogadjuk a nullhipotézist.')\n",
    "else:\n",
    "    display('Mivel a próbastatisztika értéke a kritikus tartományba esik a nullhipotézist elutasítjuk.')"
   ]
  },
  {
   "cell_type": "markdown",
   "metadata": {},
   "source": [
    "## Scipy ellenőrzés"
   ]
  },
  {
   "cell_type": "code",
   "execution_count": 13,
   "metadata": {},
   "outputs": [
    {
     "data": {
      "text/plain": [
       "Power_divergenceResult(statistic=21.527572016460912, pvalue=0.00024882513479753586)"
      ]
     },
     "execution_count": 13,
     "metadata": {},
     "output_type": "execute_result"
    }
   ],
   "source": [
    "from scipy.stats import chisquare\n",
    "\n",
    "result = chisquare(f_obs=amount_of_scrap_frequencies, f_exp=theoretical_frequencies)\n",
    "result"
   ]
  },
  {
   "cell_type": "code",
   "execution_count": 14,
   "metadata": {},
   "outputs": [
    {
     "data": {
      "text/plain": [
       "False"
      ]
     },
     "execution_count": 14,
     "metadata": {},
     "output_type": "execute_result"
    }
   ],
   "source": [
    "result.pvalue > alpha"
   ]
  },
  {
   "cell_type": "markdown",
   "metadata": {},
   "source": [
    "Ha `False` elutasítjuk."
   ]
  }
 ],
 "metadata": {
  "kernelspec": {
   "display_name": "Python 3",
   "language": "python",
   "name": "python3"
  },
  "language_info": {
   "codemirror_mode": {
    "name": "ipython",
    "version": 3
   },
   "file_extension": ".py",
   "mimetype": "text/x-python",
   "name": "python",
   "nbconvert_exporter": "python",
   "pygments_lexer": "ipython3",
   "version": "3.11.6"
  }
 },
 "nbformat": 4,
 "nbformat_minor": 5
}
