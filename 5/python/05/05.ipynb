{
 "cells": [
  {
   "cell_type": "markdown",
   "source": [
    "# Objektumelvű programozás pythonban"
   ],
   "metadata": {
    "collapsed": false
   }
  },
  {
   "cell_type": "code",
   "execution_count": 5,
   "outputs": [],
   "source": [
    "class Stack[T]:\n",
    "    # self az aktuális példányra hivatkozik (más nyelvekben this)\n",
    "    def __init__(self):\n",
    "        # privát adattag __ kezdés\n",
    "        self.__items = []\n",
    "\n",
    "    def pop(self) -> T:\n",
    "        return self.__items.pop()\n",
    "\n",
    "    def push(self, new_item : T):\n",
    "        return self.__items.append(new_item)"
   ],
   "metadata": {
    "collapsed": false,
    "ExecuteTime": {
     "end_time": "2023-10-16T20:55:36.662297100Z",
     "start_time": "2023-10-16T20:55:36.639299500Z"
    }
   }
  },
  {
   "cell_type": "code",
   "execution_count": 8,
   "outputs": [],
   "source": [
    "# öröklődés\n",
    "class CountingStack[T](Stack):\n",
    "    def __init__(self):\n",
    "        Stack.__init__(self)\n",
    "        self.__counter = 0\n",
    "        \n",
    "    def push(self, new_item : T):\n",
    "        Stack.push(self, new_item)\n",
    "        self.__counter += new_item\n",
    "    \n",
    "    def pop(self) -> T:\n",
    "        value = Stack.pop(self)\n",
    "        self.__counter -= value\n",
    "        return value\n",
    "    \n",
    "    def get_count(self):\n",
    "        return self.__counter"
   ],
   "metadata": {
    "collapsed": false,
    "ExecuteTime": {
     "end_time": "2023-10-16T20:57:07.659793700Z",
     "start_time": "2023-10-16T20:57:07.635794900Z"
    }
   }
  },
  {
   "cell_type": "code",
   "execution_count": 9,
   "outputs": [
    {
     "name": "stdout",
     "output_type": "stream",
     "text": [
      "3\n"
     ]
    }
   ],
   "source": [
    "counting_stack = CountingStack()\n",
    "counting_stack.push(1)\n",
    "counting_stack.push(2)\n",
    "\n",
    "print(counting_stack.get_count())"
   ],
   "metadata": {
    "collapsed": false,
    "ExecuteTime": {
     "end_time": "2023-10-16T20:57:09.394299300Z",
     "start_time": "2023-10-16T20:57:09.393299700Z"
    }
   }
  },
  {
   "cell_type": "code",
   "execution_count": 18,
   "outputs": [
    {
     "name": "stdout",
     "output_type": "stream",
     "text": [
      "5\n",
      "EmptyQueueException: get() called on empty queue.\n"
     ]
    }
   ],
   "source": [
    "class EmptyQueueException(Exception):\n",
    "    def __str__(self):\n",
    "        return f'EmptyQueueException: {self.__cause} called on empty queue.'\n",
    "    \n",
    "    def __init__(self, cause: str):\n",
    "        Exception.__init__(self)\n",
    "        self.__cause = cause\n",
    "\n",
    "class Queue[T]:\n",
    "    def __init__(self):\n",
    "        self.__items = []\n",
    "    \n",
    "    def put(self, item : T):\n",
    "        self.__items.append(item)\n",
    "        \n",
    "    def get(self) -> T:\n",
    "        if len(self.__items) == 0:\n",
    "            raise EmptyQueueException(\"get()\")\n",
    "        \n",
    "        return self.__items.pop(0)\n",
    "\n",
    "queue = Queue()\n",
    "queue.put(5)\n",
    "print(queue.get())\n",
    "\n",
    "try:\n",
    "    print(queue.get())\n",
    "except EmptyQueueException as exception:\n",
    "    print(exception)"
   ],
   "metadata": {
    "collapsed": false,
    "ExecuteTime": {
     "end_time": "2023-10-16T21:18:54.892955200Z",
     "start_time": "2023-10-16T21:18:54.869957600Z"
    }
   }
  },
  {
   "cell_type": "code",
   "execution_count": 21,
   "outputs": [
    {
     "name": "stdout",
     "output_type": "stream",
     "text": [
      "1.4142135623730951\n",
      "1.4142135623730951\n"
     ]
    }
   ],
   "source": [
    "import math\n",
    "\n",
    "class Point:\n",
    "    def __init__(self, x: float = 0.0, y: float = 0.0):\n",
    "        self.__x = x\n",
    "        self.__y = y\n",
    "        \n",
    "    def get_x(self) -> float:\n",
    "        return self.__x        \n",
    "        \n",
    "    def get_y(self) -> float:\n",
    "        return self.__y\n",
    "        \n",
    "    def distance_from_coordinates(self, x, y) -> float:\n",
    "        return math.sqrt((self.__x - x) ** 2 + (self.__y - y) ** 2)\n",
    "        \n",
    "    def distance_from_point(self, point) -> float:\n",
    "        return self.distance_from_coordinates(point.__x, point.__y)\n",
    "        \n",
    "point1 = Point(0, 0)\n",
    "point2 = Point(1, 1)\n",
    "print(point1.distance_from_point(point2))\n",
    "print(point2.distance_from_coordinates(2, 0))"
   ],
   "metadata": {
    "collapsed": false,
    "ExecuteTime": {
     "end_time": "2023-10-16T21:25:32.477703200Z",
     "start_time": "2023-10-16T21:25:32.451187700Z"
    }
   }
  },
  {
   "cell_type": "code",
   "execution_count": null,
   "outputs": [],
   "source": [],
   "metadata": {
    "collapsed": false
   }
  }
 ],
 "metadata": {
  "kernelspec": {
   "display_name": "Python 3",
   "language": "python",
   "name": "python3"
  },
  "language_info": {
   "codemirror_mode": {
    "name": "ipython",
    "version": 2
   },
   "file_extension": ".py",
   "mimetype": "text/x-python",
   "name": "python",
   "nbconvert_exporter": "python",
   "pygments_lexer": "ipython2",
   "version": "2.7.6"
  }
 },
 "nbformat": 4,
 "nbformat_minor": 0
}
